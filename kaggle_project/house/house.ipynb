{
 "cells": [
  {
   "cell_type": "code",
   "execution_count": 76,
   "metadata": {},
   "outputs": [
    {
     "name": "stdout",
     "output_type": "stream",
     "text": [
      "Boston housing dataset has 489 data points with 4 variables each.\n"
     ]
    }
   ],
   "source": [
    "# 패키지 import 하기\n",
    "import numpy as np\n",
    "import pandas as pd\n",
    "import matplotlib.pyplot as pl\n",
    "from sklearn.metrics import r2_score\n",
    "from sklearn.tree import DecisionTreeRegressor\n",
    "from sklearn.metrics import make_scorer, mean_squared_error\n",
    "from sklearn.model_selection import GridSearchCV\n",
    "from sklearn.model_selection import learning_curve\n",
    "from sklearn.model_selection import validation_curve\n",
    "from sklearn.model_selection import ShuffleSplit, train_test_split\n",
    "\n",
    "import seaborn as sns\n",
    "from matplotlib import pyplot as plt\n",
    "\n",
    "# 그래프를 인라인으로 표시\n",
    "%matplotlib inline\n",
    "\n",
    "# housing data 불러오기\n",
    "# 'RM', 'LSTAT', 'PTRATIO', 'MEDV'는 필수적인 특징이라고 판단했음, 나머지 관련 없는 특징은 제외됨.\n",
    "data = pd.read_csv('./data/housing.csv')\n",
    "\n",
    "# 'MEDV' 값이 50.0인 16개의 데이터 포인트는 누락되거나 검열된 값을 포함할 가능성이 높으므로 제거됨\n",
    "prices = data['MEDV']\n",
    "features = data.drop('MEDV', axis = 1)\n",
    "    \n",
    "# Success\n",
    "print(\"Boston housing dataset has {} data points with {} variables each.\".format(*data.shape))"
   ]
  },
  {
   "cell_type": "code",
   "execution_count": 77,
   "metadata": {},
   "outputs": [
    {
     "name": "stdout",
     "output_type": "stream",
     "text": [
      "<class 'pandas.core.frame.DataFrame'>\n",
      "RangeIndex: 489 entries, 0 to 488\n",
      "Data columns (total 4 columns):\n",
      " #   Column   Non-Null Count  Dtype  \n",
      "---  ------   --------------  -----  \n",
      " 0   RM       489 non-null    float64\n",
      " 1   LSTAT    489 non-null    float64\n",
      " 2   PTRATIO  489 non-null    float64\n",
      " 3   MEDV     489 non-null    float64\n",
      "dtypes: float64(4)\n",
      "memory usage: 15.4 KB\n"
     ]
    }
   ],
   "source": [
    "# data type 과 결측치 확인하기\n",
    "data.info()"
   ]
  },
  {
   "cell_type": "code",
   "execution_count": 78,
   "metadata": {},
   "outputs": [
    {
     "data": {
      "text/html": [
       "<div>\n",
       "<style scoped>\n",
       "    .dataframe tbody tr th:only-of-type {\n",
       "        vertical-align: middle;\n",
       "    }\n",
       "\n",
       "    .dataframe tbody tr th {\n",
       "        vertical-align: top;\n",
       "    }\n",
       "\n",
       "    .dataframe thead th {\n",
       "        text-align: right;\n",
       "    }\n",
       "</style>\n",
       "<table border=\"1\" class=\"dataframe\">\n",
       "  <thead>\n",
       "    <tr style=\"text-align: right;\">\n",
       "      <th></th>\n",
       "      <th>RM</th>\n",
       "      <th>LSTAT</th>\n",
       "      <th>PTRATIO</th>\n",
       "      <th>MEDV</th>\n",
       "    </tr>\n",
       "  </thead>\n",
       "  <tbody>\n",
       "    <tr>\n",
       "      <th>count</th>\n",
       "      <td>489.000000</td>\n",
       "      <td>489.000000</td>\n",
       "      <td>489.000000</td>\n",
       "      <td>4.890000e+02</td>\n",
       "    </tr>\n",
       "    <tr>\n",
       "      <th>mean</th>\n",
       "      <td>6.240288</td>\n",
       "      <td>12.939632</td>\n",
       "      <td>18.516564</td>\n",
       "      <td>4.543429e+05</td>\n",
       "    </tr>\n",
       "    <tr>\n",
       "      <th>std</th>\n",
       "      <td>0.643650</td>\n",
       "      <td>7.081990</td>\n",
       "      <td>2.111268</td>\n",
       "      <td>1.653403e+05</td>\n",
       "    </tr>\n",
       "    <tr>\n",
       "      <th>min</th>\n",
       "      <td>3.561000</td>\n",
       "      <td>1.980000</td>\n",
       "      <td>12.600000</td>\n",
       "      <td>1.050000e+05</td>\n",
       "    </tr>\n",
       "    <tr>\n",
       "      <th>25%</th>\n",
       "      <td>5.880000</td>\n",
       "      <td>7.370000</td>\n",
       "      <td>17.400000</td>\n",
       "      <td>3.507000e+05</td>\n",
       "    </tr>\n",
       "    <tr>\n",
       "      <th>50%</th>\n",
       "      <td>6.185000</td>\n",
       "      <td>11.690000</td>\n",
       "      <td>19.100000</td>\n",
       "      <td>4.389000e+05</td>\n",
       "    </tr>\n",
       "    <tr>\n",
       "      <th>75%</th>\n",
       "      <td>6.575000</td>\n",
       "      <td>17.120000</td>\n",
       "      <td>20.200000</td>\n",
       "      <td>5.187000e+05</td>\n",
       "    </tr>\n",
       "    <tr>\n",
       "      <th>max</th>\n",
       "      <td>8.398000</td>\n",
       "      <td>37.970000</td>\n",
       "      <td>22.000000</td>\n",
       "      <td>1.024800e+06</td>\n",
       "    </tr>\n",
       "  </tbody>\n",
       "</table>\n",
       "</div>"
      ],
      "text/plain": [
       "               RM       LSTAT     PTRATIO          MEDV\n",
       "count  489.000000  489.000000  489.000000  4.890000e+02\n",
       "mean     6.240288   12.939632   18.516564  4.543429e+05\n",
       "std      0.643650    7.081990    2.111268  1.653403e+05\n",
       "min      3.561000    1.980000   12.600000  1.050000e+05\n",
       "25%      5.880000    7.370000   17.400000  3.507000e+05\n",
       "50%      6.185000   11.690000   19.100000  4.389000e+05\n",
       "75%      6.575000   17.120000   20.200000  5.187000e+05\n",
       "max      8.398000   37.970000   22.000000  1.024800e+06"
      ]
     },
     "execution_count": 78,
     "metadata": {},
     "output_type": "execute_result"
    }
   ],
   "source": [
    "# data 요약하기\n",
    "data.describe()"
   ]
  },
  {
   "cell_type": "markdown",
   "metadata": {},
   "source": [
    "## 시각화 코드"
   ]
  },
  {
   "cell_type": "code",
   "execution_count": 79,
   "metadata": {},
   "outputs": [],
   "source": [
    "###########################################\n",
    "# 경고 메세지 무시 설정\n",
    "import warnings\n",
    "warnings.filterwarnings(\"ignore\", category = UserWarning, module = \"matplotlib\")\n",
    "\n",
    "# Matplotlib 차트를 Jupyter Notebook 내에 직접 표시하도록 설정\n",
    "from IPython import get_ipython\n",
    "get_ipython().run_line_magic('matplotlib', 'inline')\n",
    "###########################################\n",
    "\n",
    "# 다양한 크기의 train data 로 여러 모델의 성능을 계산하고 시각화하는 함수\n",
    "# X : train data(특징 행렬), y : 타겟 변수(레이블 벡터)\n",
    "def ModelLearning(X, y):\n",
    "\n",
    "    # ShuffleSplit 객체를 사용, 10개의 교차 검증 세트를 생성함\n",
    "    # 데이터 전체의 20% 를 test data로 설정\n",
    "    cv = ShuffleSplit(n_splits = 10, test_size = 0.2, random_state = 0)\n",
    "    cv.get_n_splits(X)\n",
    "\n",
    "    # train size 는 train data 의 크기를 50개씩 증가시키면서 생성함 - 전체 데이터의 80%\n",
    "    train_sizes = np.rint(np.linspace(1, X.shape[0]*0.8 - 1, 9)).astype(int)\n",
    "\n",
    "    # 시각화 관련 설정\n",
    "    fig = pl.figure(figsize=(10,7))\n",
    "\n",
    "    # 결정 트리 회귀 모델을 생성한다\n",
    "    for k, depth in enumerate([1,3,6,10]):\n",
    "        \n",
    "        # 최대 깊이가 1, 3, 6, 10 인 결정 트리 회귀 모델을 생성한다\n",
    "        regressor = DecisionTreeRegressor(max_depth = depth)\n",
    "\n",
    "        # learing_curve 함수를 사용 각 모델에 대해 훈련 데이터 크기별로 훈련 및 테스트 점수를 계산하게 한다.\n",
    "        sizes, train_scores, test_scores = learning_curve(regressor, X, y, \\\n",
    "            cv = cv, train_sizes = train_sizes, scoring = 'r2')\n",
    "        \n",
    "        # 각 훈련 데이터 크기에 대한 평균 성능과 변동성을 계산하여 학습 곡선을 평탄화한다.\n",
    "        # train/test 표준편차 계산 - 1차원 배열\n",
    "        train_std = np.std(train_scores, axis = 1)\n",
    "        test_std = np.std(test_scores, axis = 1)\n",
    "\n",
    "        # train/test 평균 계산 - 1차원 배열\n",
    "        train_mean = np.mean(train_scores, axis = 1)\n",
    "        test_mean = np.mean(test_scores, axis = 1)\n",
    "\n",
    "        # 서브 플롯을 생성, 각 모델별로 학습 곡선을 그린다.\n",
    "        ax = fig.add_subplot(2, 2, k+1)\n",
    "\n",
    "        # train/test 점수의 평균, 표준편차를 계산해 부드러운 곡선을 그려준다\n",
    "        ax.plot(sizes, train_mean, 'o-', color = 'r', label = 'Training Score')\n",
    "        ax.plot(sizes, test_mean, 'o-', color = 'g', label = 'Testing Score')\n",
    "\n",
    "        # 쉐도우 영역을 채워 train/test 점수의 변동성을 시각적으로 나타내준다.\n",
    "        ax.fill_between(sizes, train_mean - train_std, \\\n",
    "            train_mean + train_std, alpha = 0.15, color = 'r')\n",
    "        ax.fill_between(sizes, test_mean - test_std, \\\n",
    "            test_mean + test_std, alpha = 0.15, color = 'g')\n",
    "        \n",
    "        # 레이블 및 축 설정\n",
    "        ax.set_title('max_depth = %s'%(depth))\n",
    "        ax.set_xlabel('Number of Training Points')\n",
    "        ax.set_ylabel('Score')\n",
    "        ax.set_xlim([0, X.shape[0]*0.8])\n",
    "        ax.set_ylim([-0.05, 1.05])\n",
    "    \n",
    "    # 표로 시각화\n",
    "    ax.legend(bbox_to_anchor=(1.05, 2.05), loc='lower left', borderaxespad = 0.)\n",
    "    fig.suptitle('Decision Tree Regressor Learning Performances', fontsize = 16, y = 1.03)\n",
    "    fig.tight_layout()\n",
    "    fig.show()\n",
    "\n",
    "## ModelLearning 함수는 결정 트리 회귀 모델의 학습 곡선을 시각화하여 훈련 데이터 크기가 모델 성능에 미치는 영향을 탐색하는데 도움"
   ]
  },
  {
   "cell_type": "code",
   "execution_count": 80,
   "metadata": {},
   "outputs": [],
   "source": [
    "# 결정 트리 회귀 모델의 복잡성 (max_depth) 증가에 따른 성능 변화를 계산하고 시각화하는 함수\n",
    "def ModelComplexity(X, y):\n",
    "\n",
    "    # ShuffleSplit 객체를 사용, 10개의 교차 검증 세트를 생성함\n",
    "    # 각 세트는 데이터 전체의 20%를 테스트 데이터로 사용합니다.\n",
    "    cv = ShuffleSplit(n_splits = 10, test_size = 0.2, random_state = 0)\n",
    "    cv.get_n_splits(X)\n",
    "\n",
    "    # 결정 트리의 최대 depth 값을 1부터 10까지 변화시키는 배열 - 모델 복잡성을 단계적으로 증가시키며 성능을 측정\n",
    "    max_depth = np.arange(1,11)\n",
    "\n",
    "    # validation_curve 함수를 사용하여 각 max_depth 값에 대해 train/test 점수를 계산합니다.\n",
    "    train_scores, test_scores = validation_curve(DecisionTreeRegressor(), X, y, \\\n",
    "        param_name = \"max_depth\", param_range = max_depth, cv = cv, scoring = 'r2')\n",
    "\n",
    "    # 학습 곡선 평활화와 동일한 방식으로 train/test 점수의 평균과 표준 편차를 계산\n",
    "    # 평균 계산\n",
    "    train_mean = np.mean(train_scores, axis=1)\n",
    "    test_mean = np.mean(test_scores, axis=1)\n",
    "\n",
    "    # 표준편차 계산\n",
    "    train_std = np.std(train_scores, axis=1)\n",
    "    test_std = np.std(test_scores, axis=1)\n",
    "\n",
    "    # 복잡성 성능 곡선 그려 확인하기\n",
    "    pl.figure(figsize=(7, 5))\n",
    "    pl.title('Decision Tree Regressor Complexity Performance')\n",
    "\n",
    "    # 최대 depth 값에 따른 train/test 점수의 평균을 선으로 그립니다.\n",
    "    pl.plot(max_depth, train_mean, 'o-', color = 'r', label = 'Training Score')\n",
    "    pl.plot(max_depth, test_mean, 'o-', color = 'g', label = 'Validation Score')\n",
    "\n",
    "    # 쉐도우 영역을 채워 train/test 점수의 변동성을 시각적으로 나타냅니다.\n",
    "    pl.fill_between(max_depth, train_mean - train_std, \\\n",
    "        train_mean + train_std, alpha = 0.15, color = 'r')\n",
    "    pl.fill_between(max_depth, test_mean - test_std, \\\n",
    "        test_mean + test_std, alpha = 0.15, color = 'g')\n",
    "    \n",
    "    # 시각화 설정\n",
    "    pl.legend(loc = 'lower right')\n",
    "    pl.xlabel('Maximum Depth')\n",
    "    pl.ylabel('Score')\n",
    "    pl.ylim([-0.05,1.05])\n",
    "    pl.show()\n",
    "\n",
    "##  함수는 결정 트리 회귀 모델의 최대 depth 값을 조정하여 모델 복잡성이 성능에 미치는 영향을 시각적으로 분석하는데 도움"
   ]
  },
  {
   "cell_type": "code",
   "execution_count": 81,
   "metadata": {},
   "outputs": [],
   "source": [
    "# PredictTrials 함수는 주어진 데이터에 대한 예측을 여러 번 시행하고 결과의 변동성을 분석\n",
    "\n",
    "# X: 훈련 데이터 (특징 행렬)\n",
    "# y: 타깃 변수 (레이블 벡터)\n",
    "# fitter: 모델 fitting 함수 (여기서는 DecisionTreeRegressor)\n",
    "# data: 예측하고자 하는 데이터 (1개의 샘플)\n",
    "def PredictTrials(X, y, fitter, data):\n",
    " \n",
    "    # 예측값 저장을 위한 리스트 생성\n",
    "    prices = []\n",
    "\n",
    "    # for 문을 사용 10번을 반복한다.\n",
    "    for k in range(10):\n",
    "\n",
    "        # 각 반복마다 train_test_split 를 사용 train/test 로 데이터를 분할함\n",
    "        X_train, X_test, y_train, y_test = train_test_split(X, y, \\\n",
    "            test_size = 0.2, random_state = k)\n",
    "        \n",
    "        # 모델 fitting 을 실시 - 분할된 훈련 데이터를 이용하여 fitter 함수를 호출하여 모델을 fitting합니다.\n",
    "        reg = fitter(X_train, y_train)\n",
    "        \n",
    "        # 예측 실시\n",
    "        # 훈련된 모델 (결정 나무)을 이용하여 입력 데이터에 대한 예측 값을 계산\n",
    "        # predict 메서드를 사용하여 예측을 수행하며, 결과는 pred 변수에 저장\n",
    "\n",
    "        # 입력 데이터가 2차원 배열이므로 첫 번째 데이터만 추출, 예측을 수행하고 결과값을 반환\n",
    "        pred = reg.predict([data[0]])[0]\n",
    "\n",
    "        # 구한 값을 price에 저장한다.\n",
    "        prices.append(pred)\n",
    "        \n",
    "        # 결과를 출력 - 통화 형식으로 표기\n",
    "        print(\"Trial {}: ${:,.2f}\".format(k+1, pred))\n",
    "\n",
    "    # 리스트 prices에 저장한 후 최대값과 최소값의 차이를 계산하여 예측 값의 변동 범위를 출력\n",
    "    print(\"\\nRange in prices: ${:,.2f}\".format(max(prices) - min(prices)))\n",
    "\n",
    "\n",
    "## 함수는 랜덤 시드를 변경하여 여러 번의 예측을 수행함으로써 예측 결과의 신뢰성을 평가하는데 도움\n",
    "## 예측 값의 변동성이 크다면 모델의 일반화 성능이 떨어질 가능성이 높으므로 모델 개선이나 하이퍼파라미터 튜닝을 고려해야 할 수 있습니다."
   ]
  },
  {
   "cell_type": "markdown",
   "metadata": {},
   "source": [
    "## 가격 예측 모델링 실시 전 데이터 통계 분석 및 분포 확인\n",
    "\n",
    "* price 열의 최소, 최대, 평균, 중간, 표준 편차 값들을 구해 데이터 분포를 확인/분석한다"
   ]
  },
  {
   "cell_type": "code",
   "execution_count": 82,
   "metadata": {},
   "outputs": [
    {
     "name": "stdout",
     "output_type": "stream",
     "text": [
      "Statistics for Boston housing dataset:\n",
      "\n",
      "최소값: $105,000.00\n",
      "최대값: $1,024,800.00\n",
      "평균값: $454,342.94\n",
      "중간값 $438,900.00\n",
      "표준편차: $165,171.13\n"
     ]
    }
   ],
   "source": [
    "# housing 에서 최소 가격을 찾는다.\n",
    "minimum_price = np.min(prices)\n",
    "\n",
    "# housing 에서 최대 가격을 찾는다.\n",
    "maximum_price = np.max(prices)\n",
    "\n",
    "# housing 가격의 평균을 계산\n",
    "mean_price = np.mean(prices)\n",
    "\n",
    "# housing 가격의 중간값을 계산\n",
    "median_price = np.median(prices)\n",
    "\n",
    "# data 가격의 표준 편차를 구함\n",
    "std_price = np.std(prices)\n",
    "\n",
    "# 통계 계산 결과를 출력\n",
    "print(\"Statistics for Boston housing dataset:\\n\")\n",
    "print(\"최소값: ${:,.2f}\".format(minimum_price))\n",
    "print(\"최대값: ${:,.2f}\".format(maximum_price))\n",
    "print(\"평균값: ${:,.2f}\".format(mean_price))\n",
    "print(\"중간값 ${:,.2f}\".format(median_price))\n",
    "print(\"표준편차: ${:,.2f}\".format(std_price))"
   ]
  },
  {
   "cell_type": "code",
   "execution_count": 83,
   "metadata": {},
   "outputs": [
    {
     "name": "stdout",
     "output_type": "stream",
     "text": [
      "count       489.00\n",
      "mean     454342.94\n",
      "std      165340.28\n",
      "min      105000.00\n",
      "25%      350700.00\n",
      "50%      438900.00\n",
      "75%      518700.00\n",
      "max     1024800.00\n",
      "Name: MEDV, dtype: float64\n"
     ]
    }
   ],
   "source": [
    "# price 에 저장된 데이터들을 통계분석하고 소수 2번재까지만 값을 확인\n",
    "with pd.option_context('float_format', '{:.2f}'.format):\n",
    "    print(prices.describe())"
   ]
  },
  {
   "cell_type": "markdown",
   "metadata": {},
   "source": [
    "## 보스톤 주택 가격 데이터 분석 - feature\n",
    "\n",
    "- Data - 보스톤 주택 가격 데이터셋\n",
    "\n",
    "    - 'RM': 이웃집들의 평균 방 개수\n",
    "    - 'LSTAT': 하위 계층 (근로 가난층) 거주 비율 (%)\n",
    "    - 'PTRATIO': 학생-교사 비율 (초등학교/중등학교)\n",
    "\n",
    "\n",
    "### 기본적인 예측을 해보자. 만약 세 가지 특징 (RM, LSTAT, PTRATIO) 각각에 대해 가치가 증가할 때 주택 가격 (MEDV)의 상승을 예상하는지 하락을 예상하는지 생각해보자.\n",
    "\n",
    "- 기본적인 상황을 제시해보면\n",
    "\n",
    "- 6개의 방을 가진 집과 7개의 방을 가진 집, 어느 집이 더 비쌀까요? 7개가 더 비쌈\n",
    "- 하위 계층 비율이 15%인 지역과 20%인 지역, 어느 지역의 주택 가격이 더 높을까요? 하위계층 15% 인곳\n",
    "- 학생-교사 비율이 10인 지역과 15인 지역, 어느 지역의 주택 가격이 더 높을까요? 학생교사 비율 10인 곳\n",
    "\n",
    "\n",
    "### 왜 이런 답변을 했을까?\n",
    "\n",
    "- 1번 'RM' (평균 방 개수) : (RM vs MEDV: 양의 상관관계)\n",
    "\n",
    "    일반적으로 방 개수가 많을수록 주택 면적이 넓어진다. 주택 면적이 넓어지면 일반적으로 가격 또한 높아질 것으로 예측할 수 있다. 따라서 RM 값이 증가할수록 MEDV 도 함께 증가할 것으로 예상합니다.\n",
    "\n",
    "\n",
    "- 2번 'LSTAT' (하위 계층 비율): (LSTAT vs MEDV: 음의 상관관계)\n",
    "\n",
    "    일반적으로 고소득층이 많이 거주하는 지역은 주택 가격이 높다. 따라서 하위 계층 비율이 낮을수록 좋은 지역이거나 주택 가격이 높을 가능성이 크기 때문에 LSTAT 값이 증가할수록 MEDV 은 감소할 것으로 예상합니다.\n",
    "\n",
    "- 3번 'PTRATIO' (학생-교사 비율): (PTRATIO vs MEDV: 음의 상관관계)\n",
    "\n",
    "    학생-교사 비율은 교사 한 명당 학생 수를 의미한다. 즉 교사가 맡는 학생 수가 적어질수록 교육 질이 좋은 것으로 생각할 수 있다.(관리하는 학생이 적으면 더 많은 시간을 학생들에게 할애할 수 있기 때문). 좋은 교육 시설이 있는 지역은 주택 가격이 높은 편입니다. 따라서 PTRATIO 값이 증가할수록 MEDV 은 감소할 것으로 예상\n"
   ]
  },
  {
   "cell_type": "markdown",
   "metadata": {},
   "source": [
    "### 다른 환경 변수와 가격 간의 상관관계를 파악"
   ]
  },
  {
   "cell_type": "markdown",
   "metadata": {},
   "source": [
    "\n",
    "* **'RM'**: 이 변수는 'Neighborhood 내 주택 평균 방 개수' \n",
    "\n",
    "    이웃집들의 주택은 일반적으로 몇 개의 방을 가지고 있는지 데이터를 통해 확인할 수 있습니다.\n",
    "\n",
    "* **'LSTAT'**: 이 변수는 'Neighborhood 내 \"하위 계층\" 으로 분류되는 주택 소유주 비율'\n",
    "\n",
    "    '하위 계층'은 일반적으로 저소득층을 의미 -> 이웃집 주민의 사회경제적 수준을 간접적으로 반영하는 변수라고 이해할 수 있습니다.\n",
    "\n",
    "* **'PTRATIO'**: 이 변수는 'Neighborhood 내 초등학교 및 중학교 학생-교사 비율'을 나타냄. \n",
    "\n",
    "    이는 학교의 규모와 교사의 상대적인 부족 여부를 간접적으로 반영하는 변수\n",
    "\n",
    "    학생 대 교사 비율이 높을수록 한 교사가 더 많은 학생을 지도해야 하는 상황을 의미할 수 있습니다. \n"
   ]
  },
  {
   "cell_type": "code",
   "execution_count": 84,
   "metadata": {},
   "outputs": [
    {
     "data": {
      "image/png": "[encoded data removed]",
      "text/plain": [
       "<Figure size 1800x400 with 3 Axes>"
      ]
     },
     "metadata": {},
     "output_type": "display_data"
    }
   ],
   "source": [
    "fig, axs = plt.subplots(ncols=3, figsize=(18,4))\n",
    "\n",
    "for i in range(len(axs)):\n",
    "    axs[i].set_ylim([0, 1200000])\n",
    "# RM vs Price\n",
    "_ = sns.regplot(x=features['RM'], y=prices, ax=axs[0])\n",
    "# LSSAT vs Price\n",
    "_ = sns.regplot(x=features['LSTAT'], y=prices, ax=axs[1])\n",
    "# PTRATIO vs Price\n",
    "_ = sns.regplot(x=features['PTRATIO'], y=prices, ax=axs[2])\n",
    "\n",
    "plt.show()"
   ]
  },
  {
   "cell_type": "markdown",
   "metadata": {},
   "source": [
    "## 모델 개발 및 생성"
   ]
  },
  {
   "cell_type": "markdown",
   "metadata": {},
   "source": [
    "### 모델 성능 평가 지표\n",
    "\n",
    "- 모델의 성능을 평하기 위해서는 train/test 데이터셋에서의 모델 성능을 정량화하는 지표가 필요하다.\n",
    "- 이러한 지표는 일반적으로 오류 계산, 적합도, 다른 측정값 등을 통해 계산된다.\n",
    "- 현재 이 프로젝트에서는 모델 성능 정량화를 위해 R2(결정 계수)를 계산할 것이다.\n",
    "- R2 는 회귀 분석에서 모델 예측의 정확도를 나타내는 유요한 지표이다.\n",
    "\n",
    "#### R2\n",
    "\n",
    "- R2 값의 범위는 0에서 1 사이이며, 예측 값과 실제 값 사이의 제곱 상관 계수의 비율을 나타낸다.\n",
    "- 즉 R2 값이 1인 모델은 완벽하게 타깃 변수를 예측하는 모델이라고 할 수 있다.\n",
    "- 모델은 또한 음의 R2 값을 가질 수도 있습니다. 이는 모델이 항상 타깃 변수의 평균값을 예측하는 것보다 더 나쁜 성능을 가진다는 것을 의미합니다."
   ]
  },
  {
   "cell_type": "code",
   "execution_count": 85,
   "metadata": {},
   "outputs": [],
   "source": [
    "# performance_metric 함수 구현\n",
    "\n",
    "# y_true: 실제 값 (타깃 변수) 벡터입니다.\n",
    "# y_predict: 예측 값 벡터입니다.\n",
    "def performance_metric(y_true, y_predict):\n",
    "\n",
    "    # sklearn.metrics 에서 r2_score 를 사용하여 y_true 와 y_predict 사이의 성능을 계산합니다. \n",
    "    score = r2_score(y_true, y_predict)\n",
    "    \n",
    "    # 계산된 성능 점수를 score 변수에 할당한다.\n",
    "    return score"
   ]
  },
  {
   "cell_type": "markdown",
   "metadata": {},
   "source": [
    "### 예시를 통한 예측, 결정계수 값의 확인\n",
    "\n",
    "데이터 세트에 다섯 개의 데이터 포인트가 있고, 모델이 타깃 변수에 대한 다음과 같은 예측값을 생성했다고 가정해보자\n",
    "\n",
    "| 실제 값 | 예측 값 |\n",
    "|---|---|\n",
    "| 3.0 | 2.5 |\n",
    "| -0.5 | 0.0 |\n",
    "| 2.0 | 2.1 |\n",
    "| 7.0 | 7.8 |\n",
    "| 4.2 | 5.3 |\n",
    "\n",
    "코드 실행을 통해 `performance_metric` 함수를 사용하여 이 모델의 결정 계수 (R2)를 계산하면\n",
    "\n",
    "**코드 실행으로 결정 계수 계산**\n",
    "\n",
    "1. 위 코드를 실행하면 실제값 (`y_true`)과 예측값 (`y_predict`)을 함수에 입력값으로 전달합니다.\n",
    "2. `performance_metric` 함수는 `sklearn.metrics` 에서 褌r2_score` 함수를 사용하여 실제 값과 예측 값 사이의 결정 계수 (R2)를 계산합니다.\n",
    "3. 계산된 결정 계수 값은 코드 실행 결과로 출력됩니다.\n",
    "\n",
    "**결정 계수 (R2) 해석**\n",
    "\n",
    "결정 계수 (R2)은 0에서 1 사이의 값을 가지며, 예측값과 실제 값 사이의 일치 정도를 나타냅니다.\n",
    "\n",
    "* R2값이 0에 가까운 경우: 모델의 예측 성능이 좋지 않습니다.\n",
    "* R2값이 1에 가까운 경우: 모델의 예측 성능이 우수합니다.\n",
    "\n",
    "따라서 결정 계수 값을 통해 모델의 적합도를 평가할 수 있습니다."
   ]
  },
  {
   "cell_type": "code",
   "execution_count": 86,
   "metadata": {},
   "outputs": [
    {
     "name": "stdout",
     "output_type": "stream",
     "text": [
      "Model has a coefficient of determination, R^2, of 0.923.\n"
     ]
    }
   ],
   "source": [
    "# 모델의 R2 값을 계산하자\n",
    "score = performance_metric([3, -0.5, 2, 7, 4.2], [2.5, 0.0, 2.1, 7.8, 5.3])\n",
    "print(\"Model has a coefficient of determination, R^2, of {:.3f}.\".format(score))"
   ]
  },
  {
   "cell_type": "markdown",
   "metadata": {},
   "source": [
    "### 적합도 분석의 결론\n",
    "\n",
    "- 과연 이 모델은 타깃 변수의 변화를 성공적으로 예측했다고 생각하는가?\n",
    "\n",
    "- 데이터 분석의 결과 : 코드를 실행하여 얻은 R2 값을 활용하여 모델의 적합도를 평가할 수 있습니다.\n",
    "    \n",
    "    예시 데이터의 경우 R2 값이 0.923에 가까운 값으로 나왔다고 가정합니다.\n",
    "\n",
    "- 즉 따라서 R2 값이 0.923에 가까운 값은 모델이 대부분의 데이터 포인트에서 실제 값과 예측 값 사이에 높은 일치도를 보여준다는 것을 의미한다.\n",
    "\n",
    "\n",
    "### 모델 평가\n",
    "\n",
    "- 코드 실행 결과 예시에서 볼 수 있듯이 예측 값과 실제 값이 서로 가까운 것을 확인할 수 있습니다. \n",
    "- 또한 R2 값이 0.923에 가까운 높은 값을 가지고 있기 때문에 이 모델은 타깃 변수의 변화를 성공적으로 예측했다고 판단할 수 있다.\n",
    "\n",
    "#### 추가 설명\n",
    "\n",
    "- R2 값이 1에 완전히 근접하지는 않았지만 0.9 이상의 높은 값을 가지고 있어 대부분의 경우 좋은 성능을 보였다고 평가할 수 있습니다.\n",
    "\n",
    "- 하지만 실제 데이터를 사용한 모델 평가에서는 더 많은 데이터를 사용하여 일반화 성능을 검증하는 것이 중요합니다."
   ]
  },
  {
   "cell_type": "markdown",
   "metadata": {},
   "source": [
    "## 데이터 분리와 무작위 추출\n",
    "\n",
    "- 보스톤 주택 가격 데이터셋을 train/test 로 분리하는 작업을 실시\n",
    "- 이는 데이터 분할 시에는 데이터 순서에 따른 편향을 제거하기 위해 데이터를 셔플링하는 것이 일반적입니다.\n",
    "\n",
    "### ttrain_test_split 함수를 사용, 데이터 분할\n",
    "\n",
    "- sklearn.model_selection 에서 train_test_split 함수를 사용하여 특징 데이터 (X)와 가격 데이터 (y)를 셔플링하고 train/test 로 분할합니다.\n",
    "\n",
    "- 데이터 분할 비율은 train 80%, test 20% 설정\n",
    "\n",
    "- train_test_split 함수의 random_state 파라미터에 원하는 정수값을 입력함. 이는 코드 실행 결과의 재현 가능성을 높이기 위해 사용되며, 특정 값을 고정하여 실행하면 동일한 분할 결과를 얻을 수 있기 때문임\n",
    "\n",
    "- 분할된 데이터는 X_train, X_test, y_train, y_test 변수에 각각 할당한다."
   ]
  },
  {
   "cell_type": "code",
   "execution_count": 87,
   "metadata": {},
   "outputs": [
    {
     "name": "stdout",
     "output_type": "stream",
     "text": [
      "Training and testing split was successful.\n"
     ]
    }
   ],
   "source": [
    "# 데이터 분리, 변수 할당을 train_test_split 을 활용에 적용\n",
    "X_train, X_test, y_train, y_test = train_test_split(features, prices, test_size=0.2, random_state=0)\n",
    "\n",
    "# 성공 메시지 출력\n",
    "print(\"Training and testing split was successful.\")"
   ]
  },
  {
   "cell_type": "markdown",
   "metadata": {},
   "source": [
    "### 훈련 데이터와 테스트 데이터 분리의 장점\n",
    "\n",
    "- 질문: 학습 알고리즘을 위해 데이터셋을 train/test 비율로 분할했을 때의 이점은 무엇입니까?\n",
    "\n",
    "**데이터 분할 이유**\n",
    "\n",
    "- 데이터 분할의 이유는 `과소적합(Underfitting)`과 `과대적합(Overfitting)`을 방지하기 위해서 입니다.\n",
    "* 실제 상황에서는 보통 모든 데이터를 학습하는데 사용하지 않는다.\n",
    "* 학습에 사용하는 데이터를 **훈련 데이터(Train)**라고 부르고, 학습된 모델의 성능을 평가하는데 사용하는 데이터를 **평가 데이터(Test)**라고 부릅니다.\n",
    "\n",
    "**훈련 데이터와 테스트 데이터 분할 시 이점**\n",
    "\n",
    "* **과소적합(Underfitting) 방지**\n",
    "\n",
    "    - 모델이 너무 단순하여 데이터의 패턴을 충분히 학습하지 못하는 경우를 과소적합이라고 한다.\n",
    "    - 이런 경우 테스트 데이터에 대한 예측 성능이 떨어집니다.\n",
    "    - 훈련 데이터와 테스트 데이터를 분리하여 모델을 훈련 시에는 훈련 데이터에 과도하게 맞추지 않고 일반적인 패턴을 학습하도록 유도합니다.\n",
    "\n",
    "* **과대적합(Overfitting) 방지**\n",
    "\n",
    "    - 모델이 훈련 데이터에 너무 세세한 패턴까지 학습하여 훈련 데이터에는 높은 성능을 보이지만 테스트 데이터에 대한 예측 성능이 떨어지는 경우를 과대적합이라고 합니다.\n",
    "    - 훈련 데이터와 테스트 데이터를 분리하여 모델을 평가함으로써 과대적합을 방지할 수 있습니다.\n",
    "\n",
    "**결론**:\n",
    "\n",
    "- 데이터 분할을 통해 훈련 데이터로 모델을 학습하고 테스트 데이터로 모델의 일반화 성능을 평가하여 과소적합과 과대적합을 방지할 수 있습니다.\n"
   ]
  },
  {
   "cell_type": "markdown",
   "metadata": {},
   "source": [
    "## 모델 성능 분석"
   ]
  },
  {
   "cell_type": "markdown",
   "metadata": {},
   "source": [
    "**모델 성능 분석 방법**\n",
    "\n",
    "* **다양한 모델 비교**: 여러 모델을 선택하여 train/test 에서 각 모델의 학습 및 테스트 성능을 비교합니다. 이를 통해 어떤 모델이 새로운 데이터에 대해 일반화 성능이 우수한지 확인할 수 있습니다.\n",
    "\n",
    "* **훈련 데이터 크기 변화**: 훈련 데이터의 크기를 변화시키면서 모델의 성능 변화를 관찰합니다. 훈련 데이터 크기가 증가할 때 모델 성능이 어떻게 변하는지 분석하여 과소적합 또는 과대적합 문제를 파악할 수 있습니다.\n",
    "\n",
    "* **모델 복잡도**: 모델의 복잡도를 변화시키면서 성능 변화를 관찰합니다. 모델 복잡도가 증가할 때 과대적합 문제가 발생하는지 확인하고 최적의 모델 복잡도를 찾을 수 있습니다.\n",
    "\n",
    "**모델 복잡도 변화 분석**\n",
    "    \n",
    "    - 'max_depth' 파라미터를 증가시키면서 모델 성능 변화를 분석합니다. \n",
    "    \n",
    "    - 'max_depth' 파라미터는 결정 트리 모델의 복잡도를 조절하는 파라미터입니다. \n",
    "    \n",
    "    - 'max_depth' 값이 높을수록 더 복잡한 모델이 생성됩니다."
   ]
  },
  {
   "cell_type": "markdown",
   "metadata": {},
   "source": [
    "### 학습 곡선\n",
    "\n",
    "- 코드 실행 결과는 결정 트리 모델에 대한 네 개의 그래프를 생성합니다. \n",
    "\n",
    "- 각 그래프는 학습 데이터 세트의 크기를 증가시키면서 훈련 및 테스트 데이터에 대한 모델의 학습 곡선을 시각화합니다. \n",
    "\n",
    "- 학습 곡선의 그늘진 영역은 해당 곡선의 불확실성 (표준 편차)을 나타냅니다. \n",
    "\n",
    "- 모델은 결정 계수 (R2)를 사용하여 train/test 세트 모두에서 평가됩니다.\n",
    "\n",
    "### 그렇다면 훈련 데이터 세트의 크기가 증가함에 따라 학습 곡선의 경향은 어떻게 변할까? 이는 과소적합 또는 과대적합과 어떤 관련이 있을까?\n",
    "\n",
    "**학습 곡선 분석법 활용**:\n",
    "\n",
    "- 그래프를 활용하여 훈련 데이터 크기가 증가함에 따라 모델의 성능 변화를 파악할 수 있습니다. 특히, 과소적합과 과대적합 문제를 진단하는데 도움이 됩니다.\n",
    "\n",
    "**분석 예시**:\n",
    "\n",
    "* 일반적으로 훈련 데이터 크기가 증가함에 따라 훈련 데이터에 대한 모델의 성능(R2 값)은 점점 증가하는 경향을 보인다. 이는 모델이 더 많은 데이터를 학습하여 성능이 향상되기 때문입니다.\n",
    "\n",
    "* 테스트 데이터에 대한 성능 (R2 값) 역시 초기에는 훈련 데이터 크기 증가와 함께 증가하지만, 어느 시점 이후부터는 더 이상 증가하지 않거나 오히려 감소하는 경우가 있는데, 이는 모델이 훈련 데이터에 과도하게 적합되어 (과대적합) 테스트 데이터에 대한 일반화 성능이 떨어지기 때문입니다.\n",
    "\n",
    "**결론**:\n",
    "\n",
    "* 학습 곡선을 통해 훈련 데이터 크기가 증가함에 따라 과소적합과 과대적합 문제를 진단할 수 있습니다. \n",
    "\n",
    "* 적절한 모델 복잡도와 훈련 데이터 크기를 선택하여 과소적합과 과대적합을 방지하는 것이 중요합니다."
   ]
  },
  {
   "cell_type": "code",
   "execution_count": 88,
   "metadata": {},
   "outputs": [
    {
     "name": "stderr",
     "output_type": "stream",
     "text": [
      "c:\\Users\\gherwt\\AppData\\Local\\Programs\\Python\\Python310\\lib\\site-packages\\sklearn\\metrics\\_regression.py:996: UndefinedMetricWarning: R^2 score is not well-defined with less than two samples.\n",
      "  warnings.warn(msg, UndefinedMetricWarning)\n",
      "c:\\Users\\gherwt\\AppData\\Local\\Programs\\Python\\Python310\\lib\\site-packages\\sklearn\\metrics\\_regression.py:996: UndefinedMetricWarning: R^2 score is not well-defined with less than two samples.\n",
      "  warnings.warn(msg, UndefinedMetricWarning)\n",
      "c:\\Users\\gherwt\\AppData\\Local\\Programs\\Python\\Python310\\lib\\site-packages\\sklearn\\metrics\\_regression.py:996: UndefinedMetricWarning: R^2 score is not well-defined with less than two samples.\n",
      "  warnings.warn(msg, UndefinedMetricWarning)\n",
      "c:\\Users\\gherwt\\AppData\\Local\\Programs\\Python\\Python310\\lib\\site-packages\\sklearn\\metrics\\_regression.py:996: UndefinedMetricWarning: R^2 score is not well-defined with less than two samples.\n",
      "  warnings.warn(msg, UndefinedMetricWarning)\n",
      "c:\\Users\\gherwt\\AppData\\Local\\Programs\\Python\\Python310\\lib\\site-packages\\sklearn\\metrics\\_regression.py:996: UndefinedMetricWarning: R^2 score is not well-defined with less than two samples.\n",
      "  warnings.warn(msg, UndefinedMetricWarning)\n",
      "c:\\Users\\gherwt\\AppData\\Local\\Programs\\Python\\Python310\\lib\\site-packages\\sklearn\\metrics\\_regression.py:996: UndefinedMetricWarning: R^2 score is not well-defined with less than two samples.\n",
      "  warnings.warn(msg, UndefinedMetricWarning)\n",
      "c:\\Users\\gherwt\\AppData\\Local\\Programs\\Python\\Python310\\lib\\site-packages\\sklearn\\metrics\\_regression.py:996: UndefinedMetricWarning: R^2 score is not well-defined with less than two samples.\n",
      "  warnings.warn(msg, UndefinedMetricWarning)\n",
      "c:\\Users\\gherwt\\AppData\\Local\\Programs\\Python\\Python310\\lib\\site-packages\\sklearn\\metrics\\_regression.py:996: UndefinedMetricWarning: R^2 score is not well-defined with less than two samples.\n",
      "  warnings.warn(msg, UndefinedMetricWarning)\n",
      "c:\\Users\\gherwt\\AppData\\Local\\Programs\\Python\\Python310\\lib\\site-packages\\sklearn\\metrics\\_regression.py:996: UndefinedMetricWarning: R^2 score is not well-defined with less than two samples.\n",
      "  warnings.warn(msg, UndefinedMetricWarning)\n",
      "c:\\Users\\gherwt\\AppData\\Local\\Programs\\Python\\Python310\\lib\\site-packages\\sklearn\\metrics\\_regression.py:996: UndefinedMetricWarning: R^2 score is not well-defined with less than two samples.\n",
      "  warnings.warn(msg, UndefinedMetricWarning)\n",
      "c:\\Users\\gherwt\\AppData\\Local\\Programs\\Python\\Python310\\lib\\site-packages\\sklearn\\metrics\\_regression.py:996: UndefinedMetricWarning: R^2 score is not well-defined with less than two samples.\n",
      "  warnings.warn(msg, UndefinedMetricWarning)\n",
      "c:\\Users\\gherwt\\AppData\\Local\\Programs\\Python\\Python310\\lib\\site-packages\\sklearn\\metrics\\_regression.py:996: UndefinedMetricWarning: R^2 score is not well-defined with less than two samples.\n",
      "  warnings.warn(msg, UndefinedMetricWarning)\n",
      "c:\\Users\\gherwt\\AppData\\Local\\Programs\\Python\\Python310\\lib\\site-packages\\sklearn\\metrics\\_regression.py:996: UndefinedMetricWarning: R^2 score is not well-defined with less than two samples.\n",
      "  warnings.warn(msg, UndefinedMetricWarning)\n",
      "c:\\Users\\gherwt\\AppData\\Local\\Programs\\Python\\Python310\\lib\\site-packages\\sklearn\\metrics\\_regression.py:996: UndefinedMetricWarning: R^2 score is not well-defined with less than two samples.\n",
      "  warnings.warn(msg, UndefinedMetricWarning)\n",
      "c:\\Users\\gherwt\\AppData\\Local\\Programs\\Python\\Python310\\lib\\site-packages\\sklearn\\metrics\\_regression.py:996: UndefinedMetricWarning: R^2 score is not well-defined with less than two samples.\n",
      "  warnings.warn(msg, UndefinedMetricWarning)\n",
      "c:\\Users\\gherwt\\AppData\\Local\\Programs\\Python\\Python310\\lib\\site-packages\\sklearn\\metrics\\_regression.py:996: UndefinedMetricWarning: R^2 score is not well-defined with less than two samples.\n",
      "  warnings.warn(msg, UndefinedMetricWarning)\n"
     ]
    },
    {
     "name": "stderr",
     "output_type": "stream",
     "text": [
      "c:\\Users\\gherwt\\AppData\\Local\\Programs\\Python\\Python310\\lib\\site-packages\\sklearn\\metrics\\_regression.py:996: UndefinedMetricWarning: R^2 score is not well-defined with less than two samples.\n",
      "  warnings.warn(msg, UndefinedMetricWarning)\n",
      "c:\\Users\\gherwt\\AppData\\Local\\Programs\\Python\\Python310\\lib\\site-packages\\sklearn\\metrics\\_regression.py:996: UndefinedMetricWarning: R^2 score is not well-defined with less than two samples.\n",
      "  warnings.warn(msg, UndefinedMetricWarning)\n",
      "c:\\Users\\gherwt\\AppData\\Local\\Programs\\Python\\Python310\\lib\\site-packages\\sklearn\\metrics\\_regression.py:996: UndefinedMetricWarning: R^2 score is not well-defined with less than two samples.\n",
      "  warnings.warn(msg, UndefinedMetricWarning)\n",
      "c:\\Users\\gherwt\\AppData\\Local\\Programs\\Python\\Python310\\lib\\site-packages\\sklearn\\metrics\\_regression.py:996: UndefinedMetricWarning: R^2 score is not well-defined with less than two samples.\n",
      "  warnings.warn(msg, UndefinedMetricWarning)\n",
      "c:\\Users\\gherwt\\AppData\\Local\\Programs\\Python\\Python310\\lib\\site-packages\\sklearn\\metrics\\_regression.py:996: UndefinedMetricWarning: R^2 score is not well-defined with less than two samples.\n",
      "  warnings.warn(msg, UndefinedMetricWarning)\n",
      "c:\\Users\\gherwt\\AppData\\Local\\Programs\\Python\\Python310\\lib\\site-packages\\sklearn\\metrics\\_regression.py:996: UndefinedMetricWarning: R^2 score is not well-defined with less than two samples.\n",
      "  warnings.warn(msg, UndefinedMetricWarning)\n",
      "c:\\Users\\gherwt\\AppData\\Local\\Programs\\Python\\Python310\\lib\\site-packages\\sklearn\\metrics\\_regression.py:996: UndefinedMetricWarning: R^2 score is not well-defined with less than two samples.\n",
      "  warnings.warn(msg, UndefinedMetricWarning)\n",
      "c:\\Users\\gherwt\\AppData\\Local\\Programs\\Python\\Python310\\lib\\site-packages\\sklearn\\metrics\\_regression.py:996: UndefinedMetricWarning: R^2 score is not well-defined with less than two samples.\n",
      "  warnings.warn(msg, UndefinedMetricWarning)\n",
      "c:\\Users\\gherwt\\AppData\\Local\\Programs\\Python\\Python310\\lib\\site-packages\\sklearn\\metrics\\_regression.py:996: UndefinedMetricWarning: R^2 score is not well-defined with less than two samples.\n",
      "  warnings.warn(msg, UndefinedMetricWarning)\n",
      "c:\\Users\\gherwt\\AppData\\Local\\Programs\\Python\\Python310\\lib\\site-packages\\sklearn\\metrics\\_regression.py:996: UndefinedMetricWarning: R^2 score is not well-defined with less than two samples.\n",
      "  warnings.warn(msg, UndefinedMetricWarning)\n",
      "c:\\Users\\gherwt\\AppData\\Local\\Programs\\Python\\Python310\\lib\\site-packages\\sklearn\\metrics\\_regression.py:996: UndefinedMetricWarning: R^2 score is not well-defined with less than two samples.\n",
      "  warnings.warn(msg, UndefinedMetricWarning)\n",
      "c:\\Users\\gherwt\\AppData\\Local\\Programs\\Python\\Python310\\lib\\site-packages\\sklearn\\metrics\\_regression.py:996: UndefinedMetricWarning: R^2 score is not well-defined with less than two samples.\n",
      "  warnings.warn(msg, UndefinedMetricWarning)\n",
      "c:\\Users\\gherwt\\AppData\\Local\\Programs\\Python\\Python310\\lib\\site-packages\\sklearn\\metrics\\_regression.py:996: UndefinedMetricWarning: R^2 score is not well-defined with less than two samples.\n",
      "  warnings.warn(msg, UndefinedMetricWarning)\n",
      "c:\\Users\\gherwt\\AppData\\Local\\Programs\\Python\\Python310\\lib\\site-packages\\sklearn\\metrics\\_regression.py:996: UndefinedMetricWarning: R^2 score is not well-defined with less than two samples.\n",
      "  warnings.warn(msg, UndefinedMetricWarning)\n",
      "c:\\Users\\gherwt\\AppData\\Local\\Programs\\Python\\Python310\\lib\\site-packages\\sklearn\\metrics\\_regression.py:996: UndefinedMetricWarning: R^2 score is not well-defined with less than two samples.\n",
      "  warnings.warn(msg, UndefinedMetricWarning)\n",
      "c:\\Users\\gherwt\\AppData\\Local\\Programs\\Python\\Python310\\lib\\site-packages\\sklearn\\metrics\\_regression.py:996: UndefinedMetricWarning: R^2 score is not well-defined with less than two samples.\n",
      "  warnings.warn(msg, UndefinedMetricWarning)\n",
      "c:\\Users\\gherwt\\AppData\\Local\\Programs\\Python\\Python310\\lib\\site-packages\\sklearn\\metrics\\_regression.py:996: UndefinedMetricWarning: R^2 score is not well-defined with less than two samples.\n",
      "  warnings.warn(msg, UndefinedMetricWarning)\n",
      "c:\\Users\\gherwt\\AppData\\Local\\Programs\\Python\\Python310\\lib\\site-packages\\sklearn\\metrics\\_regression.py:996: UndefinedMetricWarning: R^2 score is not well-defined with less than two samples.\n",
      "  warnings.warn(msg, UndefinedMetricWarning)\n",
      "c:\\Users\\gherwt\\AppData\\Local\\Programs\\Python\\Python310\\lib\\site-packages\\sklearn\\metrics\\_regression.py:996: UndefinedMetricWarning: R^2 score is not well-defined with less than two samples.\n",
      "  warnings.warn(msg, UndefinedMetricWarning)\n",
      "c:\\Users\\gherwt\\AppData\\Local\\Programs\\Python\\Python310\\lib\\site-packages\\sklearn\\metrics\\_regression.py:996: UndefinedMetricWarning: R^2 score is not well-defined with less than two samples.\n",
      "  warnings.warn(msg, UndefinedMetricWarning)\n",
      "c:\\Users\\gherwt\\AppData\\Local\\Programs\\Python\\Python310\\lib\\site-packages\\sklearn\\metrics\\_regression.py:996: UndefinedMetricWarning: R^2 score is not well-defined with less than two samples.\n",
      "  warnings.warn(msg, UndefinedMetricWarning)\n",
      "c:\\Users\\gherwt\\AppData\\Local\\Programs\\Python\\Python310\\lib\\site-packages\\sklearn\\metrics\\_regression.py:996: UndefinedMetricWarning: R^2 score is not well-defined with less than two samples.\n",
      "  warnings.warn(msg, UndefinedMetricWarning)\n",
      "c:\\Users\\gherwt\\AppData\\Local\\Programs\\Python\\Python310\\lib\\site-packages\\sklearn\\metrics\\_regression.py:996: UndefinedMetricWarning: R^2 score is not well-defined with less than two samples.\n",
      "  warnings.warn(msg, UndefinedMetricWarning)\n",
      "c:\\Users\\gherwt\\AppData\\Local\\Programs\\Python\\Python310\\lib\\site-packages\\sklearn\\metrics\\_regression.py:996: UndefinedMetricWarning: R^2 score is not well-defined with less than two samples.\n",
      "  warnings.warn(msg, UndefinedMetricWarning)\n",
      "C:\\Users\\gherwt\\AppData\\Local\\Temp\\ipykernel_12220\\3748617607.py:69: UserWarning: FigureCanvasAgg is non-interactive, and thus cannot be shown\n",
      "  fig.show()\n"
     ]
    },
    {
     "data": {
      "image/png": "[encoded data removed]",
      "text/plain": [
       "<Figure size 1000x700 with 4 Axes>"
      ]
     },
     "metadata": {},
     "output_type": "display_data"
    }
   ],
   "source": [
    "# train size 와 모델의 성능 간의 관계를 시각화\n",
    "# 데이터 양이 증가함에 따라 모델이 어떻게 학습하는지, 최대 깊이가 모델 성능에 어떤 영향을 미치는지를 확인\n",
    "ModelLearning(features, prices)"
   ]
  },
  {
   "cell_type": "markdown",
   "metadata": {},
   "source": [
    "## 데이터 학습\n",
    "\n",
    "위 그래프 중 하나를 선택하여 해당 결정 트리 모델의 'max_depth' 값을 확인해보자. \n",
    "\n",
    "- 그래프 1을 선택, 'max_depth' 값은 3\n",
    "\n",
    "**훈련 데이터 크기 증가에 따른 학습 곡선 변화**\n",
    "\n",
    "* train 데이터 크기를 늘려갈 때 훈련 데이터에 대한 모델 성능 (R2 값)은 어떻게 변화할까?\n",
    "\n",
    "    - train 데이터 크기가 증가 -> train 데이터에 대한 모델 성능 (R2 값)도 함께 증가함. 이는 모델이 더 많은 데이터를 학습하여 성능이 향상되기 때문. \n",
    "\n",
    "* test 데이터에 대한 모델 성능 (R2 값)은 어떻게 변화할까?\n",
    "\n",
    "    - 초기에는 train 데이터 크기 증가와 함께 test 데이터에 대한 성능 (R2 값)도 증가하지만, 어느 시점 이후부터는 더 이상 증가하지 않거나 오히려 감소하는 경향을 보입니다. \n",
    "\n",
    "    - 이는 모델이 훈련 데이터에 과도하게 적합되어 (과대적합) 테스트 데이터에 대한 일반화 성능이 떨어지기 때문입니다.\n",
    "\n",
    "**추가 훈련 데이터의 이점**\n",
    "\n",
    "* 훈련 데이터를 더 많이 사용하는 것이 모델 성능 향상에 도움이 될까?\n",
    "\n",
    "    - 학습 곡선을 살펴보면 훈련 데이터와 테스트 데이터의 곡선이 이미 특정 수준의 값 (예를 들어 0.9 이상)으로 수렴하고 있는 경우, 추가적인 훈련 데이터를 사용하는 것은 반드시 필요하지sms 않다. \n",
    "\n",
    "**학습 곡선 해석**\n",
    "\n",
    "학습 곡선의 모양을 보고 다음에 대해 고려해보자\n",
    "\n",
    "* 학습 곡선은 특정값으로 수렴하고 있습니까?\n",
    "\n",
    "    * 일반적으로 데이터가 많을수록 모델 성능은 향상된다. 하지만 훈련 데이터와 테스트 데이터의 곡선이 기준 스코어 이상의 값으로 수렴하고 있다면 더 많은 훈련 데이터를 사용하는 것은 반드시 필요할까라는 의문이 생김\n",
    "\n",
    "**훈련 데이터 크기 증가의 장단점**\n",
    "\n",
    "train/test 데이터의 학습 곡선이 수렴하고 있는지 여부에 따라 추가적인 훈련 데이터 사용의 장단점을 고려할 수 있다.\n",
    "\n",
    "**장점**\n",
    "\n",
    "* 추가 데이터를 사용하면 모델의 성능이 더 향상될 수도 있지만, 실질적인 성능 향상은 미미할 수 있습니다.\n",
    "* 데이터 수집 및 전처리 과정에 시간과 리소스가 소요될 수 있습니다.\n",
    "\n",
    "**단점**\n",
    "\n",
    "* 추가 데이터를 사용하지 않으면 모델 성능이 향상되지 않을 수도 있습니다.\n",
    "* 특히 데이터 자체가 부족한 경우 추가 데이터 확보는 중요합니다.\n",
    "\n",
    "**결론**\n",
    "\n",
    "현재 모델의 성능이 기준을 충족하고 있으며, 추가 데이터 수집에 드는 비용 대비 이익이 적다고 판단된다면 추가 훈련 데이터를 사용하지 않아도 된다. 하지만 데이터 자체가 부족하거나 성능 향상 여지가 있다고 판단된다면 추가 데이터 확보를 고려해볼 수 있다. "
   ]
  },
  {
   "cell_type": "markdown",
   "metadata": {},
   "source": [
    "\n",
    "## 학습 곡선 분석/해석\n",
    "\n",
    "**각 학습 곡선별 결정 트리 모델의 최대 depth**\n",
    "\n",
    "* 학습 곡선 1: 최대 depth = 1\n",
    "* 학습 곡선 2: 최대 depth = 3\n",
    "* 학습 곡선 3: 최대 depth = 6\n",
    "* 학습 곡선 4: 최대 depth = 10\n",
    "\n",
    "**훈련 데이터 크기 증가에 따른 학습 곡선 변화**\n",
    "\n",
    "각 학습 곡선마다 훈련 데이터 크기가 증가함에 따라 훈련 데이터와 테스트 데이터 \n",
    "에 대한 모델 성능 (R2 값)의 변화를 분석.\n",
    "\n",
    "* **학습 곡선 1**\n",
    "\n",
    "    * 과소적합\n",
    "\n",
    "    * 훈련 데이터 크기가 증가해도 훈련 스코어는 약 0.5 정도로 유지되고, 테스트 스코어도 비슷한 수준임.\n",
    "\n",
    "    * 추가적인 훈련 데이터는 모델 성능 향상에 도움이 되지 않습니다.\n",
    "    \n",
    "    * 오히려 모델 복잡도를 높여 데이터의 일반적인 패턴을 학습하도록 유도하는 것이 필요.\n",
    "\n",
    "* **학습 곡선 2**\n",
    "\n",
    "    * 우수한 성능을 보임.\n",
    "\n",
    "    * 훈련 스코어와 테스트 스코어 모두 약 0.8 수준으로 수렴한다.\n",
    "\n",
    "    * 추가적인 훈련 데이터를 사용하면 모델 성능이 더 향상될 수도 있지만 실질적인 이익은 미미할 수 있다.\n",
    "\n",
    "* **학습 곡선 3**\n",
    "\n",
    "    * 약간 과대적합\n",
    "\n",
    "    * 훈련 스코어는 0.9 수준으로 수렴하고, 테스트 스코어는 0.75 수준으로 수렴한다.\n",
    "\n",
    "    * 추가적인 훈련 데이터는 오히려 과대적합 문제를 악화시킬 수 있다.\n",
    "\n",
    "    * 모델 복잡도를 낮추어 과대적합을 방지하는 것이 필요\n",
    "    \n",
    "* **학습 곡선 4**\n",
    "\n",
    "    * 심각한 과대적합을 보임.\n",
    "\n",
    "    * 훈련 스코어는 1에 매우 가까운 값으로 수렴하고, 테스트 스코어는 0.6 수준 으로 수렴합니다.\n",
    "\n",
    "    * 추가적인 훈련 데이터는 오히려 과대적합 문제를 악화시킬 수 있다.\n",
    "\n",
    "    * 모델 복잡도를 낮추어 과대적합을 방지하는 것이 필요\n",
    "\n",
    "**결론**\n",
    "\n",
    "학습 곡선을 통해 훈련 데이터 크기가 증가함에 따라 과소적합, 적절한 모델 복잡도, 과대적합 여부를 진단할 수 있다. 적절한 모델 복잡도를 선택하고 필요한 경우에만 추가적인 훈련 데이터를 사용하여 모델 성능을 향상시킬 수 있다."
   ]
  },
  {
   "cell_type": "markdown",
   "metadata": {},
   "source": [
    "\n",
    "## 모델 복잡도 곡선 분석\n"
   ]
  },
  {
   "cell_type": "markdown",
   "metadata": {},
   "source": [
    "**모델 복잡도 곡선**:\n",
    "\n",
    "* 학습 곡선과 유사하게 모델 복잡도 곡선은 두 개의 곡선으로 구성한다.\n",
    "    * 훈련 데이터에 대한 곡선 (training curve)\n",
    "    * 검증 데이터에 대한 곡선 (validation curve)\n",
    "\n",
    "* 훈련 데이터에 대한 곡선은 모델의 최대 depth가 증가함에 따라 모델 복잡도가 증가함을 보인다. 일반적으로 결정 트리 모델에서 최대 depth가 증가할수록 더 많은 분기 조건을 사용하여 데이터를 더 세세하게 분할하기 때문에 모델 복잡도가 증가한다.\n",
    "\n",
    "* 검증 데이터에 대한 곡선은 모델의 예측 성능을 나타낸다. 최대 depth가 증가함에 따라 과소적합 또는 과대적합 문제가 발생할 수 있으며, 이는 검증 데이터에 대한 성능 변화로 나타납니다."
   ]
  },
  {
   "cell_type": "code",
   "execution_count": 89,
   "metadata": {},
   "outputs": [
    {
     "data": {
      "image/png": "[encoded data removed]",
      "text/plain": [
       "<Figure size 700x500 with 1 Axes>"
      ]
     },
     "metadata": {},
     "output_type": "display_data"
    }
   ],
   "source": [
    "# 결정 트리 모델에 대한 모델 복잡도 곡선을 생성\n",
    "ModelComplexity(X_train, y_train)"
   ]
  },
  {
   "cell_type": "markdown",
   "metadata": {},
   "source": [
    "## 과소적합과 과대적합의 척도\n",
    "\n",
    "**모델 복잡도(max_depth)에 따른 편향(Bias)과 분산(Variance) 분석**\n",
    "\n",
    "그래프를 이용하여 최대 depth가 1과 10일 때 모델의 과소적합 또는 과대적합 여부를 판단해보자\n",
    "\n",
    "* 높은 편향은 과소적합 (Underfitting)을 의미 (데이터의 핵심적인 패턴을 학습하지 못하는 단순한 모델)\n",
    "\n",
    "* 높은 분산은 과대적합 (Overfitting)을 의미 (일반화 성능이 떨어지는 복잡한 모델)\n",
    "\n",
    "**분석**\n",
    "\n",
    "* **최대 depth=1**\n",
    "\n",
    "    * 이 경우 모델은 데이터로부터 거의 정보를 학습하지 못하고 높은 **편향**을 가진다.\n",
    "\n",
    "    * 데이터의 변화 (분산)을 학습하지 못하며 일반적인 패턴을 추출하지 못합니다.\n",
    "\n",
    "    * 이러한 경우 과소적합 모델이 생성되며 모델 복잡도를 높여야 합니다. (예를 들어, 최대 depth=5를 사용)\n",
    "\n",
    "* **최대 depth=10**\n",
    "\n",
    "    * 이 경우 모델은 데이터의 모든 정보를 학습하려고 시도하며 높은 **분산**을 갖는다.\n",
    "\n",
    "    * 모델은 데이터를 일반화하지 못하고 데이터의 모든 세부 사항과 불필요한 부분까지 학습합니다.\n",
    "\n",
    "    * 이러한 경우 과대적합 모델이 생성되며 모델 복잡도를 낮추어야 한다. (예를 들어, 최대 depth=5를 사용)\n",
    "\n",
    "**결론**\n",
    "\n",
    "* **과소적합**: 훈련 데이터 스코어와 검증 데이터 스코어 모두 매우 낮은 경우 - max depth=1일 때 \n",
    "\n",
    "* **과대적합**: 훈련 데이터 스코어와 검증 데이터 스코어가 모두 매우 높지만 서로 크게 차이 나는 경우 - max depth=10일 때\n",
    "\n",
    "* **적절한 모델**: 훈련 데이터 스코어와 검증 데이터 스코어가 모두 높고 서로 유사한 경우 - max depth=4 일 때"
   ]
  },
  {
   "cell_type": "markdown",
   "metadata": {},
   "source": [
    "## 최적 모델 선택\n",
    "\n",
    "**최적의 일반화 성능을 보이는 모델 선택**\n",
    "\n",
    "일반화 성능이 가장 우수한 모델의 'max_depth' 값을 결정\n",
    "\n",
    "**가이드**\n",
    "\n",
    "* Occam's Razor:  문제를 해결하는 데 있어 가장 단순한 해결 방법이 보통 가장 정확하다는 가정\n",
    "\n",
    "* 그래프에서 검증 데이터 스코어를 확인하여 모델의 복잡도 (max_depth)가 증가함에 따른 성능 변화를 분석\n",
    "\n",
    "* 일반적으로 모델 복잡도가 증가할수록 검증 데이터 스코어도 향상될 수 있지만 어느 시점 이후부터는 과대적합 문제가 발생하여 성능이 저하될 수 있다.\n",
    "\n",
    "**분석**\n",
    "\n",
    "* 그래프를 보면 max depth=3일 때 검증 데이터 스코어가 약 0.75 이며 훈련 데이터 스코어는 0.85 정도이다. \n",
    "\n",
    "* 이는 모델이 데이터를 적절히 학습하고 일반화 성능이 우수하다는 것을 의미\n",
    "\n",
    "* max depth=4도 검증 데이터 스코어가 0.8 정도로 비슷한 성능을 보이지만, 훈련 데이터 스코어와의 차이가 더 커져 약간의 과대적합 경향을 보임.\n",
    "\n",
    "**결론**\n",
    "\n",
    "* 따라서 최적의 일반화 성능을 위해서는 모델의 복잡도를 높이면서도 과대적합을 최소화해야 함\n",
    "\n",
    "* Occam's Razor의 가정에 따라 불필요하게 복잡한 모델보다는 상대적으로 단순하면서, 검증 데이터 성능이 우수한 모델을 선택하는 것이 좋습니다.\n",
    "\n",
    "* 최적의 모델은 'max_depth=3'인 모델 "
   ]
  },
  {
   "cell_type": "markdown",
   "metadata": {},
   "source": [
    "## 그리드 검색 기법\n",
    "\n",
    "- 그리드 검색은 알고리즘의 하이퍼 파라미터를 튜닝하여 최적의 모델을 생성하는 시스템적인 기법입니다.\n",
    "\n",
    "* **하이퍼 파라미터**: 머신 러닝에서 학습 과정을 시작하기 전에 설정하는 파라미터입니다. (예: 회귀 모델의 다항식 차수)\n",
    "\n",
    "* **모델 파라미터**: 학습 과정을 통해 결정되는 파라미터입니다. (예: 회귀 모델의 다항식 계수)\n",
    "\n",
    "**그리드 검색 활용 방법**\n",
    "\n",
    "- 그리드 검색은 알고리즘의 하이퍼 파라미터 공간에서 사용자가 지정한 하위 집합을 시스템적으로 탐색하여 하이퍼 파라미터를 최적화함\n",
    "\n",
    "* **탐색 과정**\n",
    "\n",
    "    * 그리드 검색은 사용자가 정의한 하이퍼 파라미터 값들의 조합을 모두 탐색.\n",
    "\n",
    "    * 예를 들어, 하이퍼 파라미터 두 개 ('max_depth'와 'max_features')가 있다고 가정하면 그리드 검색은 각 하이퍼 파라미터에 대해 정의된 값들의 모든 조합을 시도함.\n",
    "\n",
    "* **성능 평가**\n",
    "\n",
    "    * 그리드 검색은 교차 검증 (cross-validation) 또는 보유한 검증 세트를 이용하여 모델 성능을 평가한다.\n",
    "\n",
    "    * 성능 평가 지표를 통해 최적의 하이퍼 파라미터 조합을 선택\n",
    "\n",
    "**예시**\n",
    "\n",
    "- DecisionTreeRegressor()를 사용하는 경우 다음과 같은 하이퍼 파라미터를 그리드 검색에 적용하여 최적의 조합을 찾을 수 있습니다.\n",
    "\n",
    "```python\n",
    "params = {'max_depth': [2,3,4], 'max_features':['auto', 'sqrt', 'log2']}\n",
    "```\n",
    "\n",
    "- 그리드 검색은 위의 하이퍼 파라미터 조합 모두를 시도하며 모델을 생성한 후 교차 검증 점수를 사용하여 최적의 하이퍼 파라미터 세트를 선택함.\n",
    "\n",
    "**결론**\n",
    "\n",
    "- 그리드 검색은 시스템적인 방법으로 하이퍼 파라미터를 탐색하여 모델 성능을 향상시키는 데 효과적인 기법이지만 그리드 검색은 모든 하이퍼 파라미터 조합을 탐색하기 때문에 시간과 계산 자원 소모가 클 수 있다. 따라서 효율적인 그리드 검색을 위해서는 탐색할 하이퍼 파라미터의 범위를 적절하게 설정하는 것이 중요함.\n"
   ]
  },
  {
   "cell_type": "markdown",
   "metadata": {},
   "source": [
    "## 교차검증\n",
    "\n",
    "### **k-fold 교차검증**\n",
    "\n",
    "k-fold 교차검증은 기존의 train/test 데이터의 분할 방식을 개선한 기법이다. \n",
    "\n",
    "* 기존 방식은 전체 데이터를 훈련 데이터와 검증 데이터 세트로 나누어 모델을 학습 및 평가하는 방법이었는데, 이 방법은 전체 데이터량이 적을 경우 학습에 사용되는 데이터가 부족해져 모델 성능 향상에 한계가 있다.\n",
    "\n",
    "* 하지만 k-fold 교차검증에서 k개의 층은 서로 독립적이며 크기가 거의 같은 파티션으로 데이터를 분할한다.\n",
    "\n",
    "* k개의 층 중 하나를 검증 데이터로 사용하고 나머지 k-1개의 층을 훈련 데이터로 사용하여 모델을 학습 및 평가한다.\n",
    "\n",
    "* 이 과정을 k번 반복하여 모든 층이 한 번씩 검증 데이터로 사용되도록 합니다.\n",
    "\n",
    "* 각 층에 대한 평가 지표를 평균하여 모델 성능을 추정합니다.\n",
    "\n",
    "**그리드 검색과 k-fold 교차검증**\n",
    "\n",
    "- 그리드 검색은 하이퍼 파라미터를 최적화하는 알고리즘지만 특정 데이터 분할에 의존하기 때문에 과소적합 또는 과대적합 문제가 발생할 수 있다. \n",
    "\n",
    "k-fold 교차검증을 함께 사용하면 이러한 문제를 완화할 수 있다.\n",
    "\n",
    "* k-fold 교차검증을 통해 각 하이퍼 파라미터 조합에 대한 평균 성능을 얻을 수 있습니다.\n",
    "\n",
    "* 이를 통해 더욱 일반화 가능한 하이퍼 파라미터 조합을 선택할 수 있다.\n",
    "\n",
    "**결론**\n",
    "\n",
    "k-fold 교차검증은 그리드 검색과 함께 사용하여 모델 성능을 향상시키는 데 효과적인 기법이다. k-fold 교차검증을 통해 각 하이퍼 파라미터 조합에 대한 평균 성능을 평가하여 과소적합 또는 과대적합을 최소화하고 일반화 성능이 우수한 모델을 생성할 수 있다."
   ]
  },
  {
   "cell_type": "markdown",
   "metadata": {},
   "source": [
    "## 최적화된 결정 나무 모델을 생성하자"
   ]
  },
  {
   "cell_type": "markdown",
   "metadata": {},
   "source": [
    "##  최적화된 결정 트리 모델 생성\n",
    "\n",
    "사용자 정의 함수 `fit_model`에서는 그리드 검색 기법을 활용, 결정 트리 모델을 최적화한다.\n",
    "\n",
    "**그리드 검색 설정**\n",
    "\n",
    "* 알고리즘: `sklearn.tree.DecisionTreeRegressor` (결정 트리 회귀)\n",
    "\n",
    "* 최적화 파라미터: `max_depth` (트리의 최대 깊이)\n",
    "    * 트리의 최대 깊이란 결정 트리가 데이터에 대해 질문할 수 있는 최대 질문 횟수를 의미.\n",
    "\n",
    "* 하이퍼 파라미터 범위: 1 ~ 10\n",
    "\n",
    "* 성능 평가 지표: `performance_metric` 함수 (사용자 정의 함수)\n",
    "\n",
    "* 교차 검증: `ShuffleSplit()`\n",
    "\n",
    "**ShuffleSplit() 교차 검증**\n",
    "\n",
    "    * ShuffleSplit()은 K-fold 교차 검증과 유사한 교차 검증 기법이다. \n",
    "\n",
    "    * ShuffleSplit()은 데이터를 무작위로 섞은 후 지정된 비율로 훈련 데이터와 검증 데이터를 반복적으로 분할한다."
   ]
  },
  {
   "cell_type": "code",
   "execution_count": 90,
   "metadata": {},
   "outputs": [],
   "source": [
    "def fit_model(X, y):\n",
    "\n",
    "    # 데이터를 무작위로 추출하고 train/test 로 분리한다.\n",
    "    cv_sets = ShuffleSplit(n_splits = 10, test_size = 0.20, random_state = 0)\n",
    "    cv_sets.get_n_splits(X)\n",
    "\n",
    "    # sklearn.tree.DecisionTreeRegressor를 사용하여 결정 트리 회귀 객체(regressor) 생성\n",
    "    regressor = DecisionTreeRegressor(random_state=0)\n",
    "\n",
    "    # max_depth 파라미터에 대한 값 1 ~ 10을 params 딕셔너리로 생성 \n",
    "    params = {'max_depth':range(1,11)}\n",
    "\n",
    "    # make_scorer를 사용하여 성능 평가 지표 객체 생성\n",
    "    # performance_metric 함수를 사용해 파라미터로 전달\n",
    "    scoring_fnc = make_scorer(performance_metric)\n",
    "\n",
    "    # GridSearchCV를 사용하여 그리드 검색 객체 생성\n",
    "    # 파라미터로 regressor, params, scoring_fnc, cv_sets 를 전달\n",
    "    grid = GridSearchCV(regressor, params, scoring=scoring_fnc, cv=cv_sets)\n",
    "\n",
    "    # grid 모델을 최종으로 생성하고 학습시킨다.\n",
    "    grid = grid.fit(X, y)\n",
    "\n",
    "    return grid"
   ]
  },
  {
   "cell_type": "code",
   "execution_count": 91,
   "metadata": {},
   "outputs": [
    {
     "name": "stdout",
     "output_type": "stream",
     "text": [
      "최적 모델의 'max_depth' 파라미터 값은 4입니다.\n",
      "Best Score is 0.78\n"
     ]
    }
   ],
   "source": [
    "# 그리드 검색을 사용하여 훈련 데이터를 모델에 맞춤\n",
    "# fit_model 함수를 사용하여 모델 학습\n",
    "reg = fit_model(X_train, y_train)\n",
    "\n",
    "# max_depth 구한다.\n",
    "print(\"최적 모델의 'max_depth' 파라미터 값은 {}입니다.\".format(reg.best_estimator_.get_params()['max_depth']))\n",
    "print(\"Best Score is {:.2f}\".format(reg.best_score_))"
   ]
  },
  {
   "cell_type": "markdown",
   "metadata": {},
   "source": [
    "**최적 하이퍼파라미터: max_depth**\n",
    "\n",
    "- 코드 실행 결과 'max_depth' 값이 4일 때 최적 성능 (0.78) 이다. 흥미롭게도 'max_depth' 값이 3일 때도 비슷한 성능 (0.75)을 보임.\n",
    "\n",
    "**해석**\n",
    "\n",
    "* 이 결과는 'max_depth' 값이 3과 4 모두 모델 성능 향상에 효과적이라는 것을 나타냄\n",
    "\n",
    "* 하지만 코드 실행 결과를 바탕으로 볼 때 'max_depth'값을 4로 설정하는 것이 약간 더 나은 성능을 기대할 수 있다.\n",
    "\n",
    "**결론**\n",
    "\n",
    "그리드 검색을 통해 결정 트리 모델의 하이퍼파라미터 'max_depth' 값을 최적화했고 'max_depth' 값은 4일 때 0.78의 성능을 달성하여 모델 학습에 효과적이었다."
   ]
  },
  {
   "cell_type": "markdown",
   "metadata": {},
   "source": [
    "##  모델 예측 및 가격 제안\n",
    "\n",
    "보스톤 지역 부동산 중개업체가 클라이언트의 주택 가격을 예측하는 모델을 사용하고 있다고 가정해보자. \n",
    "\n",
    "세 명의 클라이언트로부터 다음과 같은 정보를 수집했다.\n",
    "\n",
    "| 기능 | 클라이언트 1 | 클라이언트 2 | 클라이언트 3 |\n",
    "|---|---|---|---|\n",
    "| 주거실 총 개수 | 5 | 4 | 8 |\n",
    "| 지역 빈곤 수준 (%) | 17 | 32 | 3 |\n",
    "| 인근 학교의 학생-교사 비율 | 15 대 1 | 22 대 1 | 12 대 1 |\n",
    "\n",
    "**예측 및 가격 제안**\n",
    "\n",
    "* 수집된 정보를 기반으로 각 클라이언트의 주택 가격을 예측하고 코드 실행 결과를 통해 예측된 가격을 확인하여 클라이언트에 제안할 가격을 결정.\n",
    "\n",
    "* 예측된 가격의 합리성 검토\n",
    "\n",
    "    * 데이터 탐색에서 계산한 통계 자료를 활용하여 예측 가격의 합리성을 검토합니다.\n",
    "\n",
    "    * 세 클라이언트 중 클라이언트 3은 가장 큰 집을 가지고 있으며 빈곤 수준이 가장 낮고 최고의 학군에 위치하고 있습니다. 반면에 클라이언트 2는 가장 작은 집을 가지고 있으며 빈곤 수준이 상대적으로 높은 지역에 위치하고 있습니다.\n",
    "\n",
    "**코드 실행**\n",
    "코드 블록을 실행하여 최적화된 모델이 각 클라이언트의 주택 가격을 예측해보자.\n"
   ]
  },
  {
   "cell_type": "code",
   "execution_count": 92,
   "metadata": {},
   "outputs": [
    {
     "name": "stdout",
     "output_type": "stream",
     "text": [
      "count       489.00\n",
      "mean     454342.94\n",
      "std      165340.28\n",
      "min      105000.00\n",
      "25%      350700.00\n",
      "50%      438900.00\n",
      "75%      518700.00\n",
      "max     1024800.00\n",
      "Name: MEDV, dtype: float64\n"
     ]
    }
   ],
   "source": [
    "# 보스턴 지역의 집값의 데이터/통계 분석\n",
    "with pd.option_context('float_format', '{:.2f}'.format):\n",
    "    print(prices.describe())"
   ]
  },
  {
   "cell_type": "code",
   "execution_count": 93,
   "metadata": {},
   "outputs": [
    {
     "name": "stdout",
     "output_type": "stream",
     "text": [
      "          RM  LSTAT  PTRATIO\n",
      "count 489.00 489.00   489.00\n",
      "mean    6.24  12.94    18.52\n",
      "std     0.64   7.08     2.11\n",
      "min     3.56   1.98    12.60\n",
      "25%     5.88   7.37    17.40\n",
      "50%     6.18  11.69    19.10\n",
      "75%     6.58  17.12    20.20\n",
      "max     8.40  37.97    22.00\n"
     ]
    }
   ],
   "source": [
    "# 각 특성들의 데이터/통계 분석\n",
    "with pd.option_context('float_format', '{:.2f}'.format):\n",
    "    print(features.describe())"
   ]
  },
  {
   "cell_type": "markdown",
   "metadata": {},
   "source": [
    "## 각 클라이언트의 주택 가격 제안 및 예측 가격 합리성 분석 - 통계 분석만을 사용\n",
    "\n",
    "**가격 제안**\n",
    "\n",
    "통계 정보를 기반으로 각 클라이언트의 주택 가격을 다음과 같이 제안할 수 있다.\n",
    "\n",
    "* 1번 클라이언트: 평균 가격 (454,342 달러 ±  표준 편차의 0.5배) 근처의 가격을 제안.\n",
    "\n",
    "* 2번 클라이언트: 최소 가격 (150,000 달러 ± 표준 편차의 0.5배)보다 약간 높은 가격을 제안.\n",
    "\n",
    "* 3번 클라이언트: 최대 가격 (900,000 달러 ± 표준 편차의 0.5배) 근처의 가격을 제안. \n",
    "\n",
    "**예측 가격의 합리성 분석**\n",
    "\n",
    "- 합리적인가? 괜찮은 것으로 보인다.\n",
    "\n",
    "* 이유는?\n",
    "\n",
    "    * 2번 클라이언트의 경우 주거실 개수가 4개뿐이며, 지역 빈곤 수준이 높고 학생-교사 비율 (PTRATIO)도 높은데 이는 주택 가치가 낮음을 의미합니다.\n",
    "\n",
    "    * 반면에 3번 클라이언트의 경우 주거실 개수가 8개이며, 지역 빈곤 수준이 매우 낮고 학생-교사 비율 (PTRATIO)도 매우 낮은데 이는 주택 가치가 높음을 의미합니다.\n",
    "\n",
    "따라서 수집된 특징 값들을 기반으로 예측된 가격대는 합리적이며, 이를 토대로 클라이언트에게 주택 가격을 제안하는 것이 좋다. \n",
    "\n",
    "하지만 실제 시장 가격은 여러 다른 요인에 의해 영향을 받을 수 있으므로, 최종적인 가격 결정 전에는 시장 조사 및 부동산 전문가와의 상담을 통해 정확한 가격을 설정하는 것이 중요하다.\n"
   ]
  },
  {
   "cell_type": "code",
   "execution_count": 94,
   "metadata": {},
   "outputs": [
    {
     "name": "stdout",
     "output_type": "stream",
     "text": [
      "고객 1 의 예측 집 값은: $391,183.33\n",
      "고객 2 의 예측 집 값은: $189,123.53\n",
      "고객 3 의 예측 집 값은: $942,666.67\n"
     ]
    },
    {
     "name": "stderr",
     "output_type": "stream",
     "text": [
      "c:\\Users\\gherwt\\AppData\\Local\\Programs\\Python\\Python310\\lib\\site-packages\\sklearn\\base.py:465: UserWarning: X does not have valid feature names, but DecisionTreeRegressor was fitted with feature names\n",
      "  warnings.warn(\n"
     ]
    }
   ],
   "source": [
    "# 고객 데이터로 matrix 만들기\n",
    "client_data = [[5, 17, 15], # 고객 1\n",
    "               [4, 32, 22], # 고객 2\n",
    "               [8, 3, 12]]  # 고객 3\n",
    "\n",
    "# 예측 후 결과 도출하기\n",
    "for i, price in enumerate(reg.predict(client_data)):\n",
    "    print(\"고객 {} 의 예측 집 값은: ${:,.2f}\".format(i+1, price))"
   ]
  },
  {
   "cell_type": "markdown",
   "metadata": {},
   "source": [
    "## 각 클라이언트의 주택 가격 제안 및 예측 가격 합리성 분석 - 모델 예측 결과를 사용\n",
    "\n",
    "**가격 제안**\n",
    "\n",
    "모델 예측 결과를 기반으로 각 클라이언트의 주택 가격을 다음과 같이 제안할 수 있습니다.\n",
    "\n",
    "* 1번 클라이언트: 모델 예측 가격 (약 410,000 달러)을 중심으로 약 20,000 달러 정도의 여유폭을 두어 **350,000 달러 ~ 430,000 달러** 사이의 가격을 제안합니다. \n",
    "* 2번 클라이언트: 모델 예측 가격 (약 190,000 달러)을 중심으로 약 30,000 달러 정도의 여유폭을 두어 **160,000 달러 ~ 220,000 달러** 사이의 가격을 제안합니다.\n",
    "* 3번 클라이언트: 모델 예측 가격 (약 940,000 달러)을 중심으로 약 35,000 달러 정도의 여유폭을 두어 **910,000 달러 ~ 980,000 달러** 사이의 가격을 제안합니다.\n",
    "\n",
    "**예측 가격의 합리성 분석**\n",
    "\n",
    "합리적인가? 합리적인 것처럼 보임 \n",
    "\n",
    "* 이유?\n",
    "\n",
    "    * 2번 클라이언트의 경우 주거실 개수가 4개뿐이며, 지역 빈곤 수준이 높고 학생-교사 비율도 높은데 이는 주택 가치가 낮음을 의미합니다. 따라서 예측 가격 (약 190,000 달러)을 기반으로 약간 높은 가격대를 제안\n",
    "\n",
    "    * 반면에 3번 클라이언트의 경우 주거실 개수가 8개이며, 지역 빈곤 수준이 매우 낮고 학생-교사 비율도 매우 낮은데 이는 주택 가치가 높음을 의미합니다. 따라서 예측 가격 (약 940,000 달러)을 기반으로 약간 높은 가격대를 제안\n",
    "\n",
    "    * 1번 클라이언트의 경우 다른 두 클라이언트에 비해 특징 값들이 평균에 가깝기 때문에 예측 가격 (약 410,000 달러)을 중심으로 가격대를 제안.\n",
    "\n",
    "**제안 시 고려사항**\n",
    "\n",
    "* 모델의 예측 정확도는 약 80%라고 언급되어 있지만, 여전히 오차가 존재할 수 있다. \n",
    "* 실제 시장 가격은 여러 다른 요인에 의해 영향을 받을 수 있다.\n",
    "\n",
    "**결론**\n",
    "\n",
    "모델 예측 결과를 기반으로 각 클라이언트에게 주택 가격을 제안했으며, 해당 가격대는 클라이언트가 보유한 주택 특징 값들과 합리적으로 일치하지만 실제 시장 상황을 반영하기 위해 추가적인 시장 조사 및 전문가 의견을 참고하는 것이 좋다.\n"
   ]
  },
  {
   "cell_type": "markdown",
   "metadata": {},
   "source": [
    "## 민감도 (Sensitivity)\n",
    "\n",
    "최적의 모델이 반드시 좋은 모델은 아니다. 때때로 모델은 너무 복잡하거나 너무 단순하여 새로운 데이터에 일반화하는 데 충분하지 않기도 한다. 또한 데이터의 구조에 적합하지 않은 학습 알고리즘을 사용하는 경우도 있을 수 있다. 또 데이터 자체가 너무 많은 잡음을 포함하거나 샘플이 너무 적어 모델이 목표 변수를 적절하게 캡처하지 못할 수도 있다.\n",
    "\n",
    "**민감도 분석**\n",
    "\n",
    "`fit_model` 함수를 서로 다른 훈련 데이터 및 테스트 데이터 세트로 10회 실행하면 특정 클라이언트에 대한 예측값이 훈련 데이터에 따라 어떻게 변하는지 확인할 수 있다.\n",
    "\n",
    "**핵심 Point**\n",
    "\n",
    "* 민감도 분석은 모델의 예측 결과가 훈련 데이터에 얼마나 민감한지 측정하는 데 도움이 된다.\n",
    "\n",
    "* 모델 예측 결과가 훈련 데이터에 따라 크게 변동한다면 이는 모델이 과소적합 되었거나 Noise에 민감하다는 것을 의미\n",
    "\n",
    "* 민감도 분석을 통해 모델의 일반화 성능을 평가하고 개선 여부를 파악할 수 있다. "
   ]
  },
  {
   "cell_type": "code",
   "execution_count": 95,
   "metadata": {},
   "outputs": [
    {
     "name": "stderr",
     "output_type": "stream",
     "text": [
      "c:\\Users\\gherwt\\AppData\\Local\\Programs\\Python\\Python310\\lib\\site-packages\\sklearn\\base.py:465: UserWarning: X does not have valid feature names, but DecisionTreeRegressor was fitted with feature names\n",
      "  warnings.warn(\n"
     ]
    },
    {
     "name": "stdout",
     "output_type": "stream",
     "text": [
      "Trial 1: $391,183.33\n"
     ]
    },
    {
     "name": "stderr",
     "output_type": "stream",
     "text": [
      "c:\\Users\\gherwt\\AppData\\Local\\Programs\\Python\\Python310\\lib\\site-packages\\sklearn\\base.py:465: UserWarning: X does not have valid feature names, but DecisionTreeRegressor was fitted with feature names\n",
      "  warnings.warn(\n"
     ]
    },
    {
     "name": "stdout",
     "output_type": "stream",
     "text": [
      "Trial 2: $424,935.00\n"
     ]
    },
    {
     "name": "stderr",
     "output_type": "stream",
     "text": [
      "c:\\Users\\gherwt\\AppData\\Local\\Programs\\Python\\Python310\\lib\\site-packages\\sklearn\\base.py:465: UserWarning: X does not have valid feature names, but DecisionTreeRegressor was fitted with feature names\n",
      "  warnings.warn(\n"
     ]
    },
    {
     "name": "stdout",
     "output_type": "stream",
     "text": [
      "Trial 3: $415,800.00\n"
     ]
    },
    {
     "name": "stderr",
     "output_type": "stream",
     "text": [
      "c:\\Users\\gherwt\\AppData\\Local\\Programs\\Python\\Python310\\lib\\site-packages\\sklearn\\base.py:465: UserWarning: X does not have valid feature names, but DecisionTreeRegressor was fitted with feature names\n",
      "  warnings.warn(\n"
     ]
    },
    {
     "name": "stdout",
     "output_type": "stream",
     "text": [
      "Trial 4: $420,622.22\n"
     ]
    },
    {
     "name": "stderr",
     "output_type": "stream",
     "text": [
      "c:\\Users\\gherwt\\AppData\\Local\\Programs\\Python\\Python310\\lib\\site-packages\\sklearn\\base.py:465: UserWarning: X does not have valid feature names, but DecisionTreeRegressor was fitted with feature names\n",
      "  warnings.warn(\n"
     ]
    },
    {
     "name": "stdout",
     "output_type": "stream",
     "text": [
      "Trial 5: $418,377.27\n"
     ]
    },
    {
     "name": "stderr",
     "output_type": "stream",
     "text": [
      "c:\\Users\\gherwt\\AppData\\Local\\Programs\\Python\\Python310\\lib\\site-packages\\sklearn\\base.py:465: UserWarning: X does not have valid feature names, but DecisionTreeRegressor was fitted with feature names\n",
      "  warnings.warn(\n"
     ]
    },
    {
     "name": "stdout",
     "output_type": "stream",
     "text": [
      "Trial 6: $411,931.58\n"
     ]
    },
    {
     "name": "stderr",
     "output_type": "stream",
     "text": [
      "c:\\Users\\gherwt\\AppData\\Local\\Programs\\Python\\Python310\\lib\\site-packages\\sklearn\\base.py:465: UserWarning: X does not have valid feature names, but DecisionTreeRegressor was fitted with feature names\n",
      "  warnings.warn(\n"
     ]
    },
    {
     "name": "stdout",
     "output_type": "stream",
     "text": [
      "Trial 7: $399,663.16\n"
     ]
    },
    {
     "name": "stderr",
     "output_type": "stream",
     "text": [
      "c:\\Users\\gherwt\\AppData\\Local\\Programs\\Python\\Python310\\lib\\site-packages\\sklearn\\base.py:465: UserWarning: X does not have valid feature names, but DecisionTreeRegressor was fitted with feature names\n",
      "  warnings.warn(\n"
     ]
    },
    {
     "name": "stdout",
     "output_type": "stream",
     "text": [
      "Trial 8: $407,232.00\n"
     ]
    },
    {
     "name": "stderr",
     "output_type": "stream",
     "text": [
      "c:\\Users\\gherwt\\AppData\\Local\\Programs\\Python\\Python310\\lib\\site-packages\\sklearn\\base.py:465: UserWarning: X does not have valid feature names, but DecisionTreeRegressor was fitted with feature names\n",
      "  warnings.warn(\n"
     ]
    },
    {
     "name": "stdout",
     "output_type": "stream",
     "text": [
      "Trial 9: $351,577.61\n",
      "Trial 10: $413,700.00\n",
      "\n",
      "Range in prices: $73,357.39\n"
     ]
    },
    {
     "name": "stderr",
     "output_type": "stream",
     "text": [
      "c:\\Users\\gherwt\\AppData\\Local\\Programs\\Python\\Python310\\lib\\site-packages\\sklearn\\base.py:465: UserWarning: X does not have valid feature names, but DecisionTreeRegressor was fitted with feature names\n",
      "  warnings.warn(\n"
     ]
    }
   ],
   "source": [
    "PredictTrials(features, prices, fit_model, client_data)"
   ]
  },
  {
   "cell_type": "markdown",
   "metadata": {},
   "source": [
    "## 모델의 실제 세계 적용 가능성\n",
    "\n",
    "**한계점**\n",
    "\n",
    "1978년도 데이터 사용\n",
    "\n",
    "* 1978년도에 수집된 데이터는 현재 시장 상황을 반영하지 못할 수 있습니다. \n",
    "\n",
    "* 물가 상승률을 고려하더라도 데이터 자체가 오래되었기 때문에 가격 예측의 정확성에 영향을 미칠 수 있다.\n",
    "\n",
    "특징 값의 한계\n",
    "\n",
    "* 현재 모델은 주거실 개수, 지역 빈곤 수준, 학생-교사 비율만을 고려함. \n",
    "* 실제 주택 가격은 건물 유형, 건축 품질, 건축 연도, 욕실 개수, 주방 상태, 차고 여부, 수영장 여부, 울타리 여부 등 더 많은 요인에 의해 영향을 받는다. 때문에 이러한 추가적인 특징 값들을 사용하면 모델의 예측 정확도를 높일 수 있다.\n",
    "\n",
    "모델의 견고성\n",
    "\n",
    "* 제한된 특징 값과 데이터 샘플로 학습된 모델은 좋지 않을 수 있다.\n",
    "\n",
    "* 따라서 모델 예측 결과만 의존하지 않고 시장 상황 및 부동산 전문가 의견 등을 종합적으로 고려하는 것이 중요합니다.\n",
    "\n",
    "모델의 일반화 범위\n",
    "\n",
    "* 보스턴 지역 데이터를 기반으로 구축된 모델은 보스턴 지역에서만 적용 가능\n",
    "\n",
    "* 다른 도시는 서로 다른 주택 가격 범위를 가지고 있을 수 있기 때문에 해당 지역에 맞는 데이터를 사용하여 별도의 모델을 학습해야 합니다.\n",
    "\n",
    "개별 주택 가격 판단\n",
    "\n",
    "* 이웃의 특징만 고려하여 개별 주택 가격을 판단하는 것은 정확하지 않을 수 있다. \n",
    "\n",
    "* 주택 자체의 다양한 속성 (예: 건물 유형, 면적, 시설 상태 등)이 가격에 영향을 미치기 때문\n",
    "\n",
    "\n",
    "**결론**\n",
    "\n",
    "현재 모델은 여러 제약 사항으로 인해 실제 상황에 대한 정확한 예측을 보장하기 어렵다. 좀 더 정확하고 신뢰할 수 있는 예측을 위해서는 최신 데이터, 더 많은 특징 값, 그리고 보다 견고한 모델 학습이 필요함. 또한 특정 지역에서의 주택 가격 예측을 위해서는 해당 지역 데이터를 활용하여 별도의 모델을 개발하는 것이 좋다.\n"
   ]
  },
  {
   "cell_type": "code",
   "execution_count": null,
   "metadata": {},
   "outputs": [],
   "source": []
  }
 ],
 "metadata": {
  "kernelspec": {
   "display_name": "Python 3",
   "language": "python",
   "name": "python3"
  },
  "language_info": {
   "codemirror_mode": {
    "name": "ipython",
    "version": 3
   },
   "file_extension": ".py",
   "mimetype": "text/x-python",
   "name": "python",
   "nbconvert_exporter": "python",
   "pygments_lexer": "ipython3",
   "version": "3.10.10"
  }
 },
 "nbformat": 4,
 "nbformat_minor": 2
}
