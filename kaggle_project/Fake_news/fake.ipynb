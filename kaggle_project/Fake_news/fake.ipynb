{
 "cells": [
  {
   "cell_type": "markdown",
   "metadata": {},
   "source": [
    "### 필요한 모듈들 import 해주기"
   ]
  },
  {
   "cell_type": "code",
   "execution_count": 1,
   "metadata": {},
   "outputs": [],
   "source": [
    "# pip install nltk\n",
    "# nltk 는 자연어 처리를 위한 파이썬 패키지임"
   ]
  },
  {
   "cell_type": "code",
   "execution_count": 2,
   "metadata": {},
   "outputs": [],
   "source": [
    "import numpy as np\n",
    "import pandas as pd\n",
    "import re\n",
    "import nltk\n",
    "from nltk.corpus import stopwords\n",
    "from nltk.stem.porter import PorterStemmer\n",
    "from sklearn.feature_extraction.text import TfidfVectorizer\n",
    "from sklearn.model_selection import train_test_split\n",
    "from sklearn.linear_model import LogisticRegression\n",
    "from sklearn.metrics import accuracy_score\n",
    "from nltk.stem.porter import PorterStemmer\n",
    "from sklearn.metrics import confusion_matrix\n",
    "from sklearn.metrics import classification_report"
   ]
  },
  {
   "cell_type": "code",
   "execution_count": 3,
   "metadata": {},
   "outputs": [
    {
     "name": "stderr",
     "output_type": "stream",
     "text": [
      "[nltk_data] Downloading package stopwords to\n",
      "[nltk_data]     C:\\Users\\gherwt\\AppData\\Roaming\\nltk_data...\n",
      "[nltk_data]   Package stopwords is already up-to-date!\n"
     ]
    },
    {
     "data": {
      "text/plain": [
       "True"
      ]
     },
     "execution_count": 3,
     "metadata": {},
     "output_type": "execute_result"
    }
   ],
   "source": [
    "# 불용어 파일을 다운로드 받아주기\n",
    "nltk.download('stopwords')"
   ]
  },
  {
   "cell_type": "code",
   "execution_count": 4,
   "metadata": {},
   "outputs": [
    {
     "name": "stdout",
     "output_type": "stream",
     "text": [
      "['i', 'me', 'my', 'myself', 'we', 'our', 'ours', 'ourselves', 'you', \"you're\", \"you've\", \"you'll\", \"you'd\", 'your', 'yours', 'yourself', 'yourselves', 'he', 'him', 'his', 'himself', 'she', \"she's\", 'her', 'hers', 'herself', 'it', \"it's\", 'its', 'itself', 'they', 'them', 'their', 'theirs', 'themselves', 'what', 'which', 'who', 'whom', 'this', 'that', \"that'll\", 'these', 'those', 'am', 'is', 'are', 'was', 'were', 'be', 'been', 'being', 'have', 'has', 'had', 'having', 'do', 'does', 'did', 'doing', 'a', 'an', 'the', 'and', 'but', 'if', 'or', 'because', 'as', 'until', 'while', 'of', 'at', 'by', 'for', 'with', 'about', 'against', 'between', 'into', 'through', 'during', 'before', 'after', 'above', 'below', 'to', 'from', 'up', 'down', 'in', 'out', 'on', 'off', 'over', 'under', 'again', 'further', 'then', 'once', 'here', 'there', 'when', 'where', 'why', 'how', 'all', 'any', 'both', 'each', 'few', 'more', 'most', 'other', 'some', 'such', 'no', 'nor', 'not', 'only', 'own', 'same', 'so', 'than', 'too', 'very', 's', 't', 'can', 'will', 'just', 'don', \"don't\", 'should', \"should've\", 'now', 'd', 'll', 'm', 'o', 're', 've', 'y', 'ain', 'aren', \"aren't\", 'couldn', \"couldn't\", 'didn', \"didn't\", 'doesn', \"doesn't\", 'hadn', \"hadn't\", 'hasn', \"hasn't\", 'haven', \"haven't\", 'isn', \"isn't\", 'ma', 'mightn', \"mightn't\", 'mustn', \"mustn't\", 'needn', \"needn't\", 'shan', \"shan't\", 'shouldn', \"shouldn't\", 'wasn', \"wasn't\", 'weren', \"weren't\", 'won', \"won't\", 'wouldn', \"wouldn't\"]\n"
     ]
    }
   ],
   "source": [
    "# 영어에 있는 불용어들을 확인\n",
    "print(stopwords.words('english'))"
   ]
  },
  {
   "cell_type": "code",
   "execution_count": 5,
   "metadata": {},
   "outputs": [
    {
     "data": {
      "text/html": [
       "<div>\n",
       "<style scoped>\n",
       "    .dataframe tbody tr th:only-of-type {\n",
       "        vertical-align: middle;\n",
       "    }\n",
       "\n",
       "    .dataframe tbody tr th {\n",
       "        vertical-align: top;\n",
       "    }\n",
       "\n",
       "    .dataframe thead th {\n",
       "        text-align: right;\n",
       "    }\n",
       "</style>\n",
       "<table border=\"1\" class=\"dataframe\">\n",
       "  <thead>\n",
       "    <tr style=\"text-align: right;\">\n",
       "      <th></th>\n",
       "      <th>id</th>\n",
       "      <th>title</th>\n",
       "      <th>author</th>\n",
       "      <th>text</th>\n",
       "      <th>label</th>\n",
       "    </tr>\n",
       "  </thead>\n",
       "  <tbody>\n",
       "    <tr>\n",
       "      <th>0</th>\n",
       "      <td>0</td>\n",
       "      <td>House Dem Aide: We Didn’t Even See Comey’s Let...</td>\n",
       "      <td>Darrell Lucus</td>\n",
       "      <td>House Dem Aide: We Didn’t Even See Comey’s Let...</td>\n",
       "      <td>1</td>\n",
       "    </tr>\n",
       "    <tr>\n",
       "      <th>1</th>\n",
       "      <td>1</td>\n",
       "      <td>FLYNN: Hillary Clinton, Big Woman on Campus - ...</td>\n",
       "      <td>Daniel J. Flynn</td>\n",
       "      <td>Ever get the feeling your life circles the rou...</td>\n",
       "      <td>0</td>\n",
       "    </tr>\n",
       "    <tr>\n",
       "      <th>2</th>\n",
       "      <td>2</td>\n",
       "      <td>Why the Truth Might Get You Fired</td>\n",
       "      <td>Consortiumnews.com</td>\n",
       "      <td>Why the Truth Might Get You Fired October 29, ...</td>\n",
       "      <td>1</td>\n",
       "    </tr>\n",
       "    <tr>\n",
       "      <th>3</th>\n",
       "      <td>3</td>\n",
       "      <td>15 Civilians Killed In Single US Airstrike Hav...</td>\n",
       "      <td>Jessica Purkiss</td>\n",
       "      <td>Videos 15 Civilians Killed In Single US Airstr...</td>\n",
       "      <td>1</td>\n",
       "    </tr>\n",
       "    <tr>\n",
       "      <th>4</th>\n",
       "      <td>4</td>\n",
       "      <td>Iranian woman jailed for fictional unpublished...</td>\n",
       "      <td>Howard Portnoy</td>\n",
       "      <td>Print \\nAn Iranian woman has been sentenced to...</td>\n",
       "      <td>1</td>\n",
       "    </tr>\n",
       "  </tbody>\n",
       "</table>\n",
       "</div>"
      ],
      "text/plain": [
       "   id                                              title              author  \\\n",
       "0   0  House Dem Aide: We Didn’t Even See Comey’s Let...       Darrell Lucus   \n",
       "1   1  FLYNN: Hillary Clinton, Big Woman on Campus - ...     Daniel J. Flynn   \n",
       "2   2                  Why the Truth Might Get You Fired  Consortiumnews.com   \n",
       "3   3  15 Civilians Killed In Single US Airstrike Hav...     Jessica Purkiss   \n",
       "4   4  Iranian woman jailed for fictional unpublished...      Howard Portnoy   \n",
       "\n",
       "                                                text  label  \n",
       "0  House Dem Aide: We Didn’t Even See Comey’s Let...      1  \n",
       "1  Ever get the feeling your life circles the rou...      0  \n",
       "2  Why the Truth Might Get You Fired October 29, ...      1  \n",
       "3  Videos 15 Civilians Killed In Single US Airstr...      1  \n",
       "4  Print \\nAn Iranian woman has been sentenced to...      1  "
      ]
     },
     "execution_count": 5,
     "metadata": {},
     "output_type": "execute_result"
    }
   ],
   "source": [
    "# data 폴더에 있는 train 파일 가져오고 확인하기\n",
    "news_data = pd.read_csv('./data/train.csv')\n",
    "news_data.head()"
   ]
  },
  {
   "cell_type": "code",
   "execution_count": 6,
   "metadata": {},
   "outputs": [
    {
     "data": {
      "text/plain": [
       "(20800, 5)"
      ]
     },
     "execution_count": 6,
     "metadata": {},
     "output_type": "execute_result"
    }
   ],
   "source": [
    "# news_data 의 구성 확인\n",
    "news_data.shape"
   ]
  },
  {
   "cell_type": "code",
   "execution_count": 7,
   "metadata": {},
   "outputs": [
    {
     "data": {
      "text/plain": [
       "id           0\n",
       "title      558\n",
       "author    1957\n",
       "text        39\n",
       "label        0\n",
       "dtype: int64"
      ]
     },
     "execution_count": 7,
     "metadata": {},
     "output_type": "execute_result"
    }
   ],
   "source": [
    "# Dataset 의 null 값을 확인해주기\n",
    "news_data.isnull().sum()"
   ]
  },
  {
   "cell_type": "code",
   "execution_count": 8,
   "metadata": {},
   "outputs": [],
   "source": [
    "# null 값을 전처리 해주기\n",
    "news_data = news_data.fillna('')"
   ]
  },
  {
   "cell_type": "code",
   "execution_count": 9,
   "metadata": {},
   "outputs": [
    {
     "data": {
      "text/plain": [
       "id        0\n",
       "title     0\n",
       "author    0\n",
       "text      0\n",
       "label     0\n",
       "dtype: int64"
      ]
     },
     "execution_count": 9,
     "metadata": {},
     "output_type": "execute_result"
    }
   ],
   "source": [
    "# Dataset 의 null 값을 확인해주기\n",
    "news_data.isnull().sum()"
   ]
  },
  {
   "cell_type": "code",
   "execution_count": 10,
   "metadata": {},
   "outputs": [],
   "source": [
    "# content column 생성 : author 와 title 의 내용을 합쳐준다.\n",
    "news_data['content'] = news_data['author']+' '+news_data['title']"
   ]
  },
  {
   "cell_type": "code",
   "execution_count": 11,
   "metadata": {},
   "outputs": [
    {
     "name": "stdout",
     "output_type": "stream",
     "text": [
      "0        Darrell Lucus House Dem Aide: We Didn’t Even S...\n",
      "1        Daniel J. Flynn FLYNN: Hillary Clinton, Big Wo...\n",
      "2        Consortiumnews.com Why the Truth Might Get You...\n",
      "3        Jessica Purkiss 15 Civilians Killed In Single ...\n",
      "4        Howard Portnoy Iranian woman jailed for fictio...\n",
      "                               ...                        \n",
      "20795    Jerome Hudson Rapper T.I.: Trump a ’Poster Chi...\n",
      "20796    Benjamin Hoffman N.F.L. Playoffs: Schedule, Ma...\n",
      "20797    Michael J. de la Merced and Rachel Abrams Macy...\n",
      "20798    Alex Ansary NATO, Russia To Hold Parallel Exer...\n",
      "20799              David Swanson What Keeps the F-35 Alive\n",
      "Name: content, Length: 20800, dtype: object\n"
     ]
    }
   ],
   "source": [
    "# content 내용 확인\n",
    "print(news_data['content'])"
   ]
  },
  {
   "cell_type": "markdown",
   "metadata": {},
   "source": [
    "### 데이터 분리 작업\n"
   ]
  },
  {
   "cell_type": "code",
   "execution_count": null,
   "metadata": {},
   "outputs": [],
   "source": [
    "\n",
    "# label 을 기준으로 모델링 진행하기 위해서 데이터를 분리\n",
    "# 모델 학습 및 평가 과정을 명확하게 구분하기 위해서임\n",
    "# X 에 있는 데이터는 뉴스 내용을 나타내는 변수들로 구성되어져 있음 \n",
    "X = news_data.drop(columns='label', axis=1)\n",
    "\n",
    "# label을 feature 변수로 저장\n",
    "# label 은 범주형 변수로 뉴스 기사의 실제 label 을 나타냄 이를 통해 예측/실제를 비교해서 모델의 성능을 평가함\n",
    "Y = news_data['label']"
   ]
  },
  {
   "cell_type": "code",
   "execution_count": 13,
   "metadata": {},
   "outputs": [
    {
     "name": "stdout",
     "output_type": "stream",
     "text": [
      "          id                                              title  \\\n",
      "0          0  House Dem Aide: We Didn’t Even See Comey’s Let...   \n",
      "1          1  FLYNN: Hillary Clinton, Big Woman on Campus - ...   \n",
      "2          2                  Why the Truth Might Get You Fired   \n",
      "3          3  15 Civilians Killed In Single US Airstrike Hav...   \n",
      "4          4  Iranian woman jailed for fictional unpublished...   \n",
      "...      ...                                                ...   \n",
      "20795  20795  Rapper T.I.: Trump a ’Poster Child For White S...   \n",
      "20796  20796  N.F.L. Playoffs: Schedule, Matchups and Odds -...   \n",
      "20797  20797  Macy’s Is Said to Receive Takeover Approach by...   \n",
      "20798  20798  NATO, Russia To Hold Parallel Exercises In Bal...   \n",
      "20799  20799                          What Keeps the F-35 Alive   \n",
      "\n",
      "                                          author  \\\n",
      "0                                  Darrell Lucus   \n",
      "1                                Daniel J. Flynn   \n",
      "2                             Consortiumnews.com   \n",
      "3                                Jessica Purkiss   \n",
      "4                                 Howard Portnoy   \n",
      "...                                          ...   \n",
      "20795                              Jerome Hudson   \n",
      "20796                           Benjamin Hoffman   \n",
      "20797  Michael J. de la Merced and Rachel Abrams   \n",
      "20798                                Alex Ansary   \n",
      "20799                              David Swanson   \n",
      "\n",
      "                                                    text  \\\n",
      "0      House Dem Aide: We Didn’t Even See Comey’s Let...   \n",
      "1      Ever get the feeling your life circles the rou...   \n",
      "2      Why the Truth Might Get You Fired October 29, ...   \n",
      "3      Videos 15 Civilians Killed In Single US Airstr...   \n",
      "4      Print \\nAn Iranian woman has been sentenced to...   \n",
      "...                                                  ...   \n",
      "20795  Rapper T. I. unloaded on black celebrities who...   \n",
      "20796  When the Green Bay Packers lost to the Washing...   \n",
      "20797  The Macy’s of today grew from the union of sev...   \n",
      "20798  NATO, Russia To Hold Parallel Exercises In Bal...   \n",
      "20799    David Swanson is an author, activist, journa...   \n",
      "\n",
      "                                                 content  \n",
      "0      Darrell Lucus House Dem Aide: We Didn’t Even S...  \n",
      "1      Daniel J. Flynn FLYNN: Hillary Clinton, Big Wo...  \n",
      "2      Consortiumnews.com Why the Truth Might Get You...  \n",
      "3      Jessica Purkiss 15 Civilians Killed In Single ...  \n",
      "4      Howard Portnoy Iranian woman jailed for fictio...  \n",
      "...                                                  ...  \n",
      "20795  Jerome Hudson Rapper T.I.: Trump a ’Poster Chi...  \n",
      "20796  Benjamin Hoffman N.F.L. Playoffs: Schedule, Ma...  \n",
      "20797  Michael J. de la Merced and Rachel Abrams Macy...  \n",
      "20798  Alex Ansary NATO, Russia To Hold Parallel Exer...  \n",
      "20799            David Swanson What Keeps the F-35 Alive  \n",
      "\n",
      "[20800 rows x 5 columns]\n",
      "0        1\n",
      "1        0\n",
      "2        1\n",
      "3        1\n",
      "4        1\n",
      "        ..\n",
      "20795    0\n",
      "20796    0\n",
      "20797    0\n",
      "20798    1\n",
      "20799    1\n",
      "Name: label, Length: 20800, dtype: int64\n"
     ]
    }
   ],
   "source": [
    "# 데이터 분리여부를 확인\n",
    "Y.value_counts()\n",
    "\n",
    "X.shape\n",
    "\n",
    "Y.shape\n",
    "\n",
    "print(X)\n",
    "print(Y)\n"
   ]
  },
  {
   "cell_type": "markdown",
   "metadata": {},
   "source": [
    "### STEMMING(어간 추출):\n",
    "\n",
    "   - STEMMING 알고리즘은 언어 정규화 과정의 일종으로, 단어의 변형된 형태를 공통된 기본 형태로 변환하는 작업입니다. \n",
    "   - 좀 더 간단하게 말하자면, stemming은 단어를 **어근, 어간 (root word)**으로 줄이는 과정입니다.\n",
    "\n",
    "### 예시:\n",
    "\n",
    "   - actor, actress, acting --> act\n",
    "   - eating, eats, eaten --> eat"
   ]
  },
  {
   "cell_type": "code",
   "execution_count": 14,
   "metadata": {},
   "outputs": [],
   "source": [
    "port_stem = PorterStemmer()"
   ]
  },
  {
   "cell_type": "code",
   "execution_count": 15,
   "metadata": {},
   "outputs": [],
   "source": [
    "# review data 생성하기\n",
    "def stemming(content):\n",
    "    # 정규 표현식 사용, 알파벳 문자를 제외한 모든 문자를 의미\n",
    "    review = re.sub('[^a-zA-Z]',' ',content)\n",
    "    # 소문자 변환\n",
    "    review = review.lower()\n",
    "    # 단어를 분리해준다.\n",
    "    review = review.split()\n",
    "    # 불용어 목록에 속한 단어들을 제거하고 어근을 추출한다.\n",
    "    review = [port_stem.stem(word) for word in review if not word in stopwords.words('english')]\n",
    "    # 결과를 join 으로 연결해주고 review 를 반환해준다.\n",
    "    review = ' '.join(review)\n",
    "    return review"
   ]
  },
  {
   "cell_type": "code",
   "execution_count": 16,
   "metadata": {},
   "outputs": [],
   "source": [
    "# content 에서 어근들을 추출한다.\n",
    "news_data['content'] = news_data['content'].apply(stemming)"
   ]
  },
  {
   "cell_type": "code",
   "execution_count": 17,
   "metadata": {},
   "outputs": [],
   "source": [
    "# label 과 content 를 분리해준다.\n",
    "X = news_data['content'].values\n",
    "Y = news_data['label'].values"
   ]
  },
  {
   "cell_type": "code",
   "execution_count": 18,
   "metadata": {},
   "outputs": [
    {
     "name": "stdout",
     "output_type": "stream",
     "text": [
      "['darrel lucu hous dem aid even see comey letter jason chaffetz tweet'\n",
      " 'daniel j flynn flynn hillari clinton big woman campu breitbart'\n",
      " 'consortiumnew com truth might get fire' ...\n",
      " 'michael j de la merc rachel abram maci said receiv takeov approach hudson bay new york time'\n",
      " 'alex ansari nato russia hold parallel exercis balkan'\n",
      " 'david swanson keep f aliv']\n"
     ]
    }
   ],
   "source": [
    "# content 확인\n",
    "print(X)"
   ]
  },
  {
   "cell_type": "code",
   "execution_count": 19,
   "metadata": {},
   "outputs": [
    {
     "name": "stdout",
     "output_type": "stream",
     "text": [
      "[1 0 1 ... 0 1 1]\n"
     ]
    }
   ],
   "source": [
    "# label을 확인\n",
    "print(Y)"
   ]
  },
  {
   "cell_type": "code",
   "execution_count": 20,
   "metadata": {},
   "outputs": [
    {
     "data": {
      "text/plain": [
       "(20800,)"
      ]
     },
     "execution_count": 20,
     "metadata": {},
     "output_type": "execute_result"
    }
   ],
   "source": [
    "Y.shape"
   ]
  },
  {
   "cell_type": "markdown",
   "metadata": {},
   "source": [
    "## TF-IDF 이해: 단어 중요도 측정\n",
    "\n",
    "**TF-IDF** (Term Frequency-Inverse Document Frequency)는 문서에서 단어의 중요도를 측정하는 통계량입니다. \n",
    "\n",
    "* **단어 빈도 (Term Frequency, TF):** 특정 단어가 **문서 내에 얼마나 자주 등장하는지** 를 나타내는 값입니다. \n",
    "    * TF값이 높을수록 그 단어는 문서에서 중요하다고 생각할 수 있습니다.\n",
    "\n",
    "* **역 문서 빈도 (Inverse Document Frequency, IDF):** 특정 단어가 **문서 집합 전체에서 얼마나 드문지** 를 나타내는 값입니다. \n",
    "    * 문서 집합에서 모든 문서에 자주 등장하는 단어 (예: the, a)는 IDF 값이 낮아지고, 특정 문서에서만 많이 쓰이는 단어 (예: 전문 용어)는 IDF 값이 높아집니다. \n",
    "\n",
    "**TF-IDF 계산:**\n",
    "\n",
    "* TF-IDF 값은 일반적으로 TF와 IDF 값을 곱하여 계산됩니다. \n"
   ]
  },
  {
   "cell_type": "markdown",
   "metadata": {},
   "source": [
    "**왜 TF-IDF를 사용할까요?**\n",
    "\n",
    "* 단순히 단어 빈도만 사용하면 \"the\", \"a\"와 같은 출현 빈도가 높은 단어들이 중요하게 평가될 수 있습니다.\n",
    "* TF-IDF는 이러한 단어들의 중요도를 낮추고 문서에서 차별적인 의미를 가진 단어들의 중요도를 높여 분석의 정확성을 높입니다.\n",
    "\n",
    "**활용 분야:**\n",
    "\n",
    "* 검색 엔진: 문서와 사용자 질의 간의 관련성을 측정하는 데 사용\n",
    "* 텍스트 마이닝: 주요 단어, 문서 군집화 등에 활용\n",
    "* 문서 요약: 중요한 단어를 기반으로 문서 요약 생성\n",
    "\n",
    "**TF-IDF를 이해하면 텍스트 데이터 분석에서 단어의 중요도를 효과적으로 파악할 수 있습니다.**"
   ]
  },
  {
   "cell_type": "code",
   "execution_count": 21,
   "metadata": {},
   "outputs": [],
   "source": [
    "# 문자 data 를 숫자로 변환해주기\n",
    "vectorizer = TfidfVectorizer()\n",
    "vectorizer.fit(X)\n",
    "X = vectorizer.transform(X)"
   ]
  },
  {
   "cell_type": "code",
   "execution_count": 22,
   "metadata": {},
   "outputs": [
    {
     "name": "stdout",
     "output_type": "stream",
     "text": [
      "  (0, 15686)\t0.28485063562728646\n",
      "  (0, 13473)\t0.2565896679337957\n",
      "  (0, 8909)\t0.3635963806326075\n",
      "  (0, 8630)\t0.29212514087043684\n",
      "  (0, 7692)\t0.24785219520671603\n",
      "  (0, 7005)\t0.21874169089359144\n",
      "  (0, 4973)\t0.233316966909351\n",
      "  (0, 3792)\t0.2705332480845492\n",
      "  (0, 3600)\t0.3598939188262559\n",
      "  (0, 2959)\t0.2468450128533713\n",
      "  (0, 2483)\t0.3676519686797209\n",
      "  (0, 267)\t0.27010124977708766\n",
      "  (1, 16799)\t0.30071745655510157\n",
      "  (1, 6816)\t0.1904660198296849\n",
      "  (1, 5503)\t0.7143299355715573\n",
      "  (1, 3568)\t0.26373768806048464\n",
      "  (1, 2813)\t0.19094574062359204\n",
      "  (1, 2223)\t0.3827320386859759\n",
      "  (1, 1894)\t0.15521974226349364\n",
      "  (1, 1497)\t0.2939891562094648\n",
      "  (2, 15611)\t0.41544962664721613\n",
      "  (2, 9620)\t0.49351492943649944\n",
      "  (2, 5968)\t0.3474613386728292\n",
      "  (2, 5389)\t0.3866530551182615\n",
      "  (2, 3103)\t0.46097489583229645\n",
      "  :\t:\n",
      "  (20797, 13122)\t0.2482526352197606\n",
      "  (20797, 12344)\t0.27263457663336677\n",
      "  (20797, 12138)\t0.24778257724396507\n",
      "  (20797, 10306)\t0.08038079000566466\n",
      "  (20797, 9588)\t0.174553480255222\n",
      "  (20797, 9518)\t0.2954204003420313\n",
      "  (20797, 8988)\t0.36160868928090795\n",
      "  (20797, 8364)\t0.22322585870464118\n",
      "  (20797, 7042)\t0.21799048897828688\n",
      "  (20797, 3643)\t0.21155500613623743\n",
      "  (20797, 1287)\t0.33538056804139865\n",
      "  (20797, 699)\t0.30685846079762347\n",
      "  (20797, 43)\t0.29710241860700626\n",
      "  (20798, 13046)\t0.22363267488270608\n",
      "  (20798, 11052)\t0.4460515589182236\n",
      "  (20798, 10177)\t0.3192496370187028\n",
      "  (20798, 6889)\t0.32496285694299426\n",
      "  (20798, 5032)\t0.4083701450239529\n",
      "  (20798, 1125)\t0.4460515589182236\n",
      "  (20798, 588)\t0.3112141524638974\n",
      "  (20798, 350)\t0.28446937819072576\n",
      "  (20799, 14852)\t0.5677577267055112\n",
      "  (20799, 8036)\t0.45983893273780013\n",
      "  (20799, 3623)\t0.37927626273066584\n",
      "  (20799, 377)\t0.5677577267055112\n"
     ]
    }
   ],
   "source": [
    "print(X)"
   ]
  },
  {
   "cell_type": "code",
   "execution_count": 23,
   "metadata": {},
   "outputs": [],
   "source": [
    "# train, test data 로 분리하고 학습을 진행하기\n",
    "X_train, X_test, Y_train, Y_test = train_test_split(X, Y, test_size = 0.2, stratify=Y, random_state=2)"
   ]
  },
  {
   "cell_type": "markdown",
   "metadata": {},
   "source": [
    "## 로지스틱 회귀 (Logistic Regression)\n",
    "\n",
    "**로지스틱 회귀**는 기존 데이터 세트의 관찰을 기반으로 이진 분류 문제 (예: 예/아니오, 성공/실패)를 예측하는 통계 분석 방법입니다. \n",
    "\n",
    "**핵심 개념:**\n",
    "\n",
    "* **이진 분류 (Binary Classification):** 데이터를 두 개의 카테고리 (예: 긍정/부정, 스팸/일반)로 분류하는 작업\n",
    "* **종속 변수 (Dependent Variable):** 예측하려는 변수 (예: 이메일이 스팸인지 아닌지)\n",
    "* **독립 변수 (Independent Variable):** 종속 변수에 영향을 미치는 변수들 (예: 이메일 본문의 단어, 발신자 정보)"
   ]
  },
  {
   "cell_type": "markdown",
   "metadata": {},
   "source": [
    "\n",
    "## 로지스틱 회귀 모델은 다음과 같은 과정을 통해 작동합니다.\n",
    "\n",
    "1. **데이터 준비:** 독립 변수와 종속 변수 (이진 값)로 구성된 데이터 세트를 준비\n",
    "2. **모델 학습:** 학습 알고리즘은 독립 변수와 종속 변수 간의 관계를 학습\n",
    "3. **예측:** 새로운 데이터 포인트가 주어지면 모델은 해당 데이터가 각 클래스에 속할 확률을 계산. 예를 들어, 이메일이 스팸일 확률과 일반 메일일 확률을 계산합니다. \n",
    "4. **결정 임계값 설정:**  사용자가 임계값을 설정하여 예측 결과를 결정. 예를 들어, 스팸일 확률이 70% 이상이면 스팸으로 분류합니다.\n",
    "\n",
    "**로지스틱 회귀는 다음과 같은 이유로 널리 사용됨**\n",
    "\n",
    "* 간단하고 해석하기 쉬운 모델\n",
    "* 이진 분류 문제에 효과적\n",
    "* 모델 학습 및 예측 속도가 빠르다\n",
    "\n",
    "**활용 분야:**\n",
    "\n",
    "* 스팸 필터링\n",
    "* 고객 이탈 예측\n",
    "* 신용 부정 판단\n",
    "* 의료 진단\n",
    "\n",
    "**로지스틱 회귀는 다양한 분야에서 이진 분류 문제 해결에 유용한 도구입니다.**\n"
   ]
  },
  {
   "cell_type": "code",
   "execution_count": 24,
   "metadata": {},
   "outputs": [],
   "source": [
    "model = LogisticRegression()"
   ]
  },
  {
   "cell_type": "code",
   "execution_count": 25,
   "metadata": {},
   "outputs": [
    {
     "data": {
      "text/html": [
       "<style>#sk-container-id-1 {color: black;}#sk-container-id-1 pre{padding: 0;}#sk-container-id-1 div.sk-toggleable {background-color: white;}#sk-container-id-1 label.sk-toggleable__label {cursor: pointer;display: block;width: 100%;margin-bottom: 0;padding: 0.3em;box-sizing: border-box;text-align: center;}#sk-container-id-1 label.sk-toggleable__label-arrow:before {content: \"▸\";float: left;margin-right: 0.25em;color: #696969;}#sk-container-id-1 label.sk-toggleable__label-arrow:hover:before {color: black;}#sk-container-id-1 div.sk-estimator:hover label.sk-toggleable__label-arrow:before {color: black;}#sk-container-id-1 div.sk-toggleable__content {max-height: 0;max-width: 0;overflow: hidden;text-align: left;background-color: #f0f8ff;}#sk-container-id-1 div.sk-toggleable__content pre {margin: 0.2em;color: black;border-radius: 0.25em;background-color: #f0f8ff;}#sk-container-id-1 input.sk-toggleable__control:checked~div.sk-toggleable__content {max-height: 200px;max-width: 100%;overflow: auto;}#sk-container-id-1 input.sk-toggleable__control:checked~label.sk-toggleable__label-arrow:before {content: \"▾\";}#sk-container-id-1 div.sk-estimator input.sk-toggleable__control:checked~label.sk-toggleable__label {background-color: #d4ebff;}#sk-container-id-1 div.sk-label input.sk-toggleable__control:checked~label.sk-toggleable__label {background-color: #d4ebff;}#sk-container-id-1 input.sk-hidden--visually {border: 0;clip: rect(1px 1px 1px 1px);clip: rect(1px, 1px, 1px, 1px);height: 1px;margin: -1px;overflow: hidden;padding: 0;position: absolute;width: 1px;}#sk-container-id-1 div.sk-estimator {font-family: monospace;background-color: #f0f8ff;border: 1px dotted black;border-radius: 0.25em;box-sizing: border-box;margin-bottom: 0.5em;}#sk-container-id-1 div.sk-estimator:hover {background-color: #d4ebff;}#sk-container-id-1 div.sk-parallel-item::after {content: \"\";width: 100%;border-bottom: 1px solid gray;flex-grow: 1;}#sk-container-id-1 div.sk-label:hover label.sk-toggleable__label {background-color: #d4ebff;}#sk-container-id-1 div.sk-serial::before {content: \"\";position: absolute;border-left: 1px solid gray;box-sizing: border-box;top: 0;bottom: 0;left: 50%;z-index: 0;}#sk-container-id-1 div.sk-serial {display: flex;flex-direction: column;align-items: center;background-color: white;padding-right: 0.2em;padding-left: 0.2em;position: relative;}#sk-container-id-1 div.sk-item {position: relative;z-index: 1;}#sk-container-id-1 div.sk-parallel {display: flex;align-items: stretch;justify-content: center;background-color: white;position: relative;}#sk-container-id-1 div.sk-item::before, #sk-container-id-1 div.sk-parallel-item::before {content: \"\";position: absolute;border-left: 1px solid gray;box-sizing: border-box;top: 0;bottom: 0;left: 50%;z-index: -1;}#sk-container-id-1 div.sk-parallel-item {display: flex;flex-direction: column;z-index: 1;position: relative;background-color: white;}#sk-container-id-1 div.sk-parallel-item:first-child::after {align-self: flex-end;width: 50%;}#sk-container-id-1 div.sk-parallel-item:last-child::after {align-self: flex-start;width: 50%;}#sk-container-id-1 div.sk-parallel-item:only-child::after {width: 0;}#sk-container-id-1 div.sk-dashed-wrapped {border: 1px dashed gray;margin: 0 0.4em 0.5em 0.4em;box-sizing: border-box;padding-bottom: 0.4em;background-color: white;}#sk-container-id-1 div.sk-label label {font-family: monospace;font-weight: bold;display: inline-block;line-height: 1.2em;}#sk-container-id-1 div.sk-label-container {text-align: center;}#sk-container-id-1 div.sk-container {/* jupyter's `normalize.less` sets `[hidden] { display: none; }` but bootstrap.min.css set `[hidden] { display: none !important; }` so we also need the `!important` here to be able to override the default hidden behavior on the sphinx rendered scikit-learn.org. See: https://github.com/scikit-learn/scikit-learn/issues/21755 */display: inline-block !important;position: relative;}#sk-container-id-1 div.sk-text-repr-fallback {display: none;}</style><div id=\"sk-container-id-1\" class=\"sk-top-container\"><div class=\"sk-text-repr-fallback\"><pre>LogisticRegression()</pre><b>In a Jupyter environment, please rerun this cell to show the HTML representation or trust the notebook. <br />On GitHub, the HTML representation is unable to render, please try loading this page with nbviewer.org.</b></div><div class=\"sk-container\" hidden><div class=\"sk-item\"><div class=\"sk-estimator sk-toggleable\"><input class=\"sk-toggleable__control sk-hidden--visually\" id=\"sk-estimator-id-1\" type=\"checkbox\" checked><label for=\"sk-estimator-id-1\" class=\"sk-toggleable__label sk-toggleable__label-arrow\">LogisticRegression</label><div class=\"sk-toggleable__content\"><pre>LogisticRegression()</pre></div></div></div></div></div>"
      ],
      "text/plain": [
       "LogisticRegression()"
      ]
     },
     "execution_count": 25,
     "metadata": {},
     "output_type": "execute_result"
    }
   ],
   "source": [
    "model.fit(X_train, Y_train)"
   ]
  },
  {
   "cell_type": "code",
   "execution_count": 26,
   "metadata": {},
   "outputs": [],
   "source": [
    "# train data 의 정확도를 측정\n",
    "X_train_prediction = model.predict(X_train)\n",
    "training_data_accuracy = accuracy_score(X_train_prediction, Y_train)"
   ]
  },
  {
   "cell_type": "code",
   "execution_count": 27,
   "metadata": {},
   "outputs": [
    {
     "name": "stdout",
     "output_type": "stream",
     "text": [
      "train data의 정확도 :  0.9865985576923076\n"
     ]
    }
   ],
   "source": [
    "print('train data의 정확도 : ', training_data_accuracy)"
   ]
  },
  {
   "cell_type": "code",
   "execution_count": 28,
   "metadata": {},
   "outputs": [],
   "source": [
    "# test data 의 정확도를 측정\n",
    "X_test_prediction = model.predict(X_test)\n",
    "test_data_accuracy = accuracy_score(X_test_prediction, Y_test)"
   ]
  },
  {
   "cell_type": "code",
   "execution_count": 29,
   "metadata": {},
   "outputs": [
    {
     "name": "stdout",
     "output_type": "stream",
     "text": [
      "test data 의 정확도 :  0.9790865384615385\n"
     ]
    }
   ],
   "source": [
    "print('test data 의 정확도 : ', test_data_accuracy)"
   ]
  },
  {
   "cell_type": "markdown",
   "metadata": {},
   "source": [
    "## 혼동 행렬 (Confusion Matrix)\n",
    "\n",
    "* 혼동 행렬은 분류 모델의 성능을 평가하는 데 사용되는 시각적 도구. \n",
    "\n",
    "* 2차원 표 형태로 이루어져 있으며, 실제 클래스 (True Label)와 예측된 클래스 (Predicted Label)의 비교 결과를 요약합니다."
   ]
  },
  {
   "cell_type": "markdown",
   "metadata": {},
   "source": [
    "\n",
    "**혼동 행렬 구성**\n",
    "\n",
    "|             | 예측된 클래스 A | 예측된 클래스 B |\n",
    "|-------------|-----------------|-----------------|\n",
    "| 실제 클래스 A | True Positive (TP) | False Negative (FN) |\n",
    "| 실제 클래스 B | False Positive (FP) | True Negative (TN) |\n",
    "\n",
    "* **True Positive (TP):** 실제 클래스 A이고 모델이 정확하게 A로 예측한 경우\n",
    "* **False Negative (FN):** 실제 클래스 A이지만 모델이 B로 잘못 예측한 경우 (누락 오류)\n",
    "* **False Positive (FP):** 실제 클래스 B이지만 모델이 A로 잘못 예측한 경우 (위증 오류)\n",
    "* **True Negative (TN):** 실제 클래스 B이고 모델이 정확하게 B로 예측한 경우"
   ]
  },
  {
   "cell_type": "markdown",
   "metadata": {},
   "source": [
    "\n",
    "**혼동 행렬 활용**\n",
    "\n",
    "* **정확도 (Accuracy):** 전체 예측 중 정확한 예측 비율 ( (TP + TN) / 전체 샘플 수 )\n",
    "* **정밀도 (Precision):** 모델이 A라고 예측한 것 중 실제로 A인 비율 ( TP / (TP + FP) )\n",
    "* **재현율 (Recall):** 실제 클래스 A인 데이터 중 모델이 A라고 예측한 비율 ( TP / (TP + FN) )\n",
    "* **F1 Score:** 정밀도와 재현율의 조화평균 ( 2 * (정밀도 * 재현율) / (정밀도 + 재현율) )\n",
    "\n",
    "**혼동 행렬은 모델의 성능을 간편하게 시각화하고 다양한 평가 지표 계산에 기초가 되는 중요한 도구임.**"
   ]
  },
  {
   "cell_type": "code",
   "execution_count": 30,
   "metadata": {},
   "outputs": [],
   "source": [
    "import itertools\n",
    "import matplotlib.pyplot as plt\n",
    "\n",
    "# 혼동 행렬을 시각화하는 함수\n",
    "# cm: 혼동 행렬 (2차원 배열)\n",
    "# classes: 분류 클래스 목록\n",
    "# normalize: 혼동 행렬을 정규화할지 여부\n",
    "# title: 그래프 제목\n",
    "# cmap: 컬러맵\n",
    "def plot_confusion_matrix(cm, classes,\n",
    "                          normalize=False,\n",
    "                          title='Confusion matrix',\n",
    "                          cmap=plt.cm.Purples):\n",
    "    # 히트맵 형태로 시각화\n",
    "    plt.imshow(cm, interpolation='nearest', cmap=cmap)\n",
    "    plt.title(title)\n",
    "    plt.colorbar()\n",
    "    tick_marks = np.arange(len(classes))\n",
    "    plt.xticks(tick_marks, classes, rotation=45)\n",
    "    plt.yticks(tick_marks, classes)\n",
    "\n",
    "    # 정규화 여부에 따라서 혼동 행렬 값을 표시함\n",
    "    # True 인 경우\n",
    "    # 각 행의 합을 1로 조정, 클래스 분포 차이를 반영하지 않은 비율을 표시\n",
    "    if normalize:\n",
    "        cm = cm.astype('float') / cm.sum(axis=1)[:, np.newaxis]\n",
    "        print(\"Normalized confusion matrix\")\n",
    "\n",
    "    # 거짓인 경우 원래 혼동 행렬 값을 그대로 표시\n",
    "    else:\n",
    "        print('Confusion matrix, without normalization')\n",
    "    # thresh 변수는 혼동 행렬 값의 배경색을 결정하는 임계값임\n",
    "    thresh = cm.max() / 2.\n",
    "\n",
    "    # 혼동 행렬의 모든 셀을 반복합니다.\n",
    "    for i, j in itertools.product(range(cm.shape[0]), range(cm.shape[1])):\n",
    "        plt.text(j, i, cm[i, j],\n",
    "                 horizontalalignment=\"center\",\n",
    "                 color=\"white\" if cm[i, j] > thresh else \"black\")\n",
    "    \n",
    "    # 그래프 layout 자동 조정\n",
    "    plt.tight_layout()\n",
    "    plt.ylabel('True label')\n",
    "    plt.xlabel('Predicted label')\n"
   ]
  },
  {
   "cell_type": "code",
   "execution_count": 31,
   "metadata": {},
   "outputs": [],
   "source": [
    "# train, test 를 분리하고 학습을 진행시킴\n",
    "X1_train, X1_test, Y1_train, Y1_test = train_test_split(X, Y, test_size=0.33, random_state=42)\n"
   ]
  },
  {
   "cell_type": "markdown",
   "metadata": {},
   "source": [
    "## 다항 분포 나이브 베이즈 분류 (Multinomial Naive Bayes)\n",
    "\n",
    "* **MNB는 간단하면서도 효과적인 텍스트 분류 알고리즘이며, 다양한 NLP 분야에서 활용 가능합니다.**\n",
    "\n",
    "* 다항 분포 나이브 베이즈 (Multinomial Naive Bayes, MNB)는 텍스트 분류 문제에 널리 사용되는 확률 기반 학습 알고리즘이다. \n",
    "\n",
    "* 특히 자연어 처리 (Natural Language Processing, NLP) 분야에서 자주 사용\n",
    "\n",
    "* 단어 출현 빈도를 문서 길이로 나누어 정규화하는 경우가 많다\n",
    "\n",
    "* 이 정규화는 TF-IDF (Term Frequency-Inverse Document Frequency)와 같은 기법을 사용하여 단순 출현 빈도보다는 문서 내 중요성을 더 반영하는 값을 계산하는 데 사용됩니다.\n",
    "\n",
    "**2. 기본 원리**\n",
    "\n",
    "MNB는 \"나이브 베이즈\" 분류 알고리즘의 한 종류이며, 이는 각 특징 (feature) 간의 독립성을 가정하는 베이즈 정리를 기반으로 작동합니다. \n",
    "\n",
    "텍스트 분류의 경우, 특징은 단어들이며 클래스는 텍스트가 속하는 카테고리 (예: 스팸/일반 메일, 긍정/부정 리뷰)를 나타냅니다.\n",
    "\n",
    "**3. 작동 방식:**\n",
    "\n",
    "1. **문서 전처리:** 텍스트 데이터에서 불용어 제거, 어근 추출 등 전처리 과정을 거칩니다.\n",
    "2. **모델 학습:** 학습 데이터를 기반으로 각 클래스별로 단어 출현 빈도 (Term Frequency, TF)를 계산\n",
    "    - TF는 단어가 문서에 ``얼마나 자주 등장``하는지를 나타내는 값입니다.\n",
    "3. **문서 분류:** 새로운 문서가 들어오면 MNB는 각 클래스에서 해당 단어가 등장할 확률을 계산합니다.\n",
    "    - 나이브 베이즈 가정에 따라 각 단어의 출현은 서로 독립적이라고 가정합니다.\n",
    "    - 베이즈 정리를 사용하여 문서가 속할 가장 가능성이 높은 클래스를 예측합니다.\n",
    "\n",
    "**4. 장점:**\n",
    "\n",
    "* 간단하고 해석하기 쉬운 알고리즘\n",
    "* 빠른 학습 및 예측 속도\n",
    "* 적은 메모리 요구량\n",
    "\n",
    "**5. 단점:**\n",
    "\n",
    "* 특징 간의 독립성 가정이 항상 성립하지 않음\n",
    "* 희소 데이터 (특정 단어가 거의 등장하지 않음)에 취약\n",
    "\n",
    "**6. 활용 분야:**\n",
    "\n",
    "* 스팸 필터링\n",
    "* 감정 분석\n",
    "* 문서 분류"
   ]
  },
  {
   "cell_type": "code",
   "execution_count": 32,
   "metadata": {},
   "outputs": [],
   "source": [
    "# Multinomial Naive Bayes 를 classifier 로 설정하고 실행하기\n",
    "from sklearn.naive_bayes import MultinomialNB\n",
    "classifier=MultinomialNB()"
   ]
  },
  {
   "cell_type": "code",
   "execution_count": 33,
   "metadata": {},
   "outputs": [
    {
     "name": "stdout",
     "output_type": "stream",
     "text": [
      "정확도:   0.950\n",
      "Confusion matrix, without normalization\n"
     ]
    },
    {
     "data": {
      "image/png": "[encoded data removed]",
      "text/plain": [
       "<Figure size 640x480 with 2 Axes>"
      ]
     },
     "metadata": {},
     "output_type": "display_data"
    }
   ],
   "source": [
    "from sklearn import metrics\n",
    "import numpy as np\n",
    "import itertools\n",
    "\n",
    "classifier.fit(X1_train, Y1_train)\n",
    "prediction1 = classifier.predict(X1_test)\n",
    "score = metrics.accuracy_score(Y1_test, prediction1)\n",
    "# 정확도 점수 \n",
    "print(\"정확도:   %0.3f\" % score)\n",
    "# 혼동 행렬로 예측의 정확도 점수를 나타낸다\n",
    "cm1 = metrics.confusion_matrix(Y1_test, prediction1)\n",
    "plot_confusion_matrix(cm1, classes=['fake', 'real'])"
   ]
  },
  {
   "cell_type": "markdown",
   "metadata": {},
   "source": [
    "## Passive Aggressive Classifier(PMLB)\n",
    "\n",
    "* PMLB는 분류 문제에 사용되는 기계 학습 알고리즘이다.\n",
    "\n",
    "* **PMLB는 온라인 학습과 큰 데이터 처리에 적합한 알고리즘이지만, 예측 성능 측면에서는 다른 분류 알고리즘에 비해 다소 부정확할 수 있다.**\n",
    "\n",
    "**핵심 개념**\n",
    "\n",
    "* **모델 학습** \n",
    "    * 학습 데이터를 기반으로 분류 모델을 생성\n",
    "    * 이 알고리즘은 모델이 새로운 데이터를 올바르게 분류할 때는 **소극적으로** 업데이트를 진행\n",
    "    * 하지만 모델이 실수를 할 때는 **적극적으로** 업데이트를 진행하여 오류를 교정\n",
    "\n",
    "**작동 방식**\n",
    "\n",
    "1. **초기 모델 설정:** 간단한 초기 모델 (예: 선형 회귀)을 설정합니다.\n",
    "2. **데이터 순차 처리:** \n",
    "    * 각 데이터 포인트를 순차적으로 가져옵니다.\n",
    "    * 모델이 해당 데이터 포인트를 예측합니다.\n",
    "3. **예측 평가:**\n",
    "    * 예측 결과가 실제 클래스와 일치하면 아무 업데이트를 하지 않습니다.\n",
    "    * 예측 결과가 틀리면 모델을 업데이트합니다.\n",
    "        * 업데이트 방식은 실수의 정도에 따라 조정됩니다. \n",
    "        * 큰 실수일 경우 더 큰 조정을 수행하여 모델을 빠르게 학습시킵니다.\n",
    "4. **반복 학습:** 2~3 과정을 반복하여 데이터 전체를 기반으로 모델을 학습시킵니다.\n",
    "\n",
    "**장점**\n",
    "\n",
    "* 온라인 학습 (Online Learning)에 적합합니다. 즉, 데이터가 실시간으로 스트리밍되는 환경에서 효과적입니다.\n",
    "* 메모리 사용량이 적습니다. \n",
    "* 큰 데이터셋을 다루는데 적합합니다.\n",
    "\n",
    "**단점**\n",
    "\n",
    "* 다른 분류 알고리즘에 비해 예측 성능이 다소 낮을 수 있습니다.\n",
    "* 하이퍼 파라미터 조정이 민감합니다. 적절한 하이퍼 파라미터 설정이 중요합니다.\n",
    "\n",
    "**활용 분야**\n",
    "\n",
    "* 스팸 필터링\n",
    "* 감정 분석\n",
    "* 텍스트 분류\n",
    "* 금융 사기 감지"
   ]
  },
  {
   "cell_type": "code",
   "execution_count": 34,
   "metadata": {},
   "outputs": [],
   "source": [
    "# train, test 로 분류하고 학습을 진행함.\n",
    "X2_train, X2_test, Y2_train, Y2_test = train_test_split(X, Y, test_size=0.33, random_state=42)"
   ]
  },
  {
   "cell_type": "code",
   "execution_count": 35,
   "metadata": {},
   "outputs": [
    {
     "name": "stdout",
     "output_type": "stream",
     "text": [
      "accuracy:   0.990\n",
      "Confusion matrix, without normalization\n"
     ]
    },
    {
     "data": {
      "image/png": "[encoded data removed]",
      "text/plain": [
       "<Figure size 640x480 with 2 Axes>"
      ]
     },
     "metadata": {},
     "output_type": "display_data"
    }
   ],
   "source": [
    "# Passive Aggressive Classifier 를 적용하여 실행\n",
    "from sklearn.linear_model import PassiveAggressiveClassifier\n",
    "linear_clf = PassiveAggressiveClassifier(max_iter=50)\n",
    "\n",
    "# 모델 학습을 실행, 선형 분류기 모델\n",
    "linear_clf.fit(X2_train, Y2_train)\n",
    "\n",
    "# 모델의 평가를 진행\n",
    "# 예측을 진행하고 정확도를 평가함\n",
    "prediction2 = linear_clf.predict(X2_test)\n",
    "score = metrics.accuracy_score(Y2_test, prediction2)\n",
    "print(\"accuracy:   %0.3f\" % score)\n",
    "\n",
    "# 혼동행렬을 생성\n",
    "cm2 = metrics.confusion_matrix(Y2_test, prediction2)\n",
    "plot_confusion_matrix(cm2, classes=['FAKE Data', 'REAL Data'])"
   ]
  },
  {
   "cell_type": "code",
   "execution_count": 36,
   "metadata": {},
   "outputs": [],
   "source": [
    "# 로지스틱 회귀를 사용하여 dataset 의 첫단어를 통해 진짜인지 가짜인지 확인하는 예측 시스템 구축"
   ]
  },
  {
   "cell_type": "code",
   "execution_count": 37,
   "metadata": {},
   "outputs": [
    {
     "name": "stdout",
     "output_type": "stream",
     "text": [
      "[1]\n",
      "The news is Fake\n"
     ]
    }
   ],
   "source": [
    "# X_new 에서 첫단어를 가져옴\n",
    "X_new = X_test[0]\n",
    "\n",
    "# 로지스틱 회귀를 사용, 예측을 진행함\n",
    "prediction = model.predict(X_new)\n",
    "print(prediction)\n",
    "\n",
    "# 뉴스의 진위 여부를 판단함.\n",
    "if (prediction[0]==0):\n",
    "  print('The news is Real')\n",
    "else:\n",
    "  print('The news is Fake')"
   ]
  },
  {
   "cell_type": "code",
   "execution_count": 38,
   "metadata": {},
   "outputs": [
    {
     "name": "stdout",
     "output_type": "stream",
     "text": [
      "1\n"
     ]
    }
   ],
   "source": [
    "print(Y_test[0])"
   ]
  },
  {
   "cell_type": "code",
   "execution_count": 39,
   "metadata": {},
   "outputs": [],
   "source": [
    "# 다항 분포 나이브 베이즈 분류 를 사용하여 dataset 의 첫단어를 통해 진짜인지 가짜인지 확인하는 예측 시스템 구축"
   ]
  },
  {
   "cell_type": "code",
   "execution_count": 40,
   "metadata": {},
   "outputs": [
    {
     "name": "stdout",
     "output_type": "stream",
     "text": [
      "[1]\n",
      "The news is Fake\n"
     ]
    }
   ],
   "source": [
    "# X2_new 에서 첫단어를 가져옴\n",
    "X2_new = X2_test[0]\n",
    "\n",
    "# 다항 분포 나이브 베이즈 분류 활용 예측을 진행함\n",
    "prediction = model.predict(X2_new)\n",
    "print(prediction)\n",
    "\n",
    "# 뉴스의 진위여부를 판단함\n",
    "if (prediction[0]==0):\n",
    "  print('The news is Real')\n",
    "else:\n",
    "  print('The news is Fake')"
   ]
  },
  {
   "cell_type": "code",
   "execution_count": 41,
   "metadata": {},
   "outputs": [
    {
     "name": "stdout",
     "output_type": "stream",
     "text": [
      "1\n"
     ]
    }
   ],
   "source": [
    "print(Y2_test[0])"
   ]
  },
  {
   "cell_type": "markdown",
   "metadata": {},
   "source": [
    "## 분류 보고서 (Classification Report)\n",
    "\n",
    "분류 보고서는 분류 알고리즘의 예측 품질을 측정하는 데 사용하고 다음과 같은 지표를 포함하여 학습된 분류 모델의 성능을 보여줍니다.\n",
    "\n",
    "* **정밀도 (Precision):** 실제 양성(positive) 클래스로 예측된 데이터 중 실제로 양성인 데이터의 비율입니다. (예측한 \"가짜\" 뉴스 기사 중 실제로 가짜 뉴스 기사였던 비율)\n",
    "* **재현율 (Recall):** 실제 양성 클래스 데이터 중 모델이 양성으로 예측한 데이터의 비율입니다. (실제 가짜 뉴스 기사 전체 중 모델이 가짜라고 예측한 비율)\n",
    "* **F1 스코어 (F1-Score):** 정밀도와 재현율의 조화 평균입니다. 일반적으로 이 두 지표의 균형 잡힌 성능을 나타냅니다.\n",
    "* **지원 벡터 (Support):** 각 클래스에 속하는 데이터의 총 개수입니다. (데이터셋 전체에서 실제 \"진짜\" 뉴스 기사의 수, 실제 \"가짜\" 뉴스 기사의 수)\n",
    "\n",
    "**예시:**\n",
    "\n",
    "```\n",
    "              precision    recall  f1-score   support\n",
    "\n",
    "           0       0.92      0.88      0.90      100\n",
    "           1       0.85      0.90      0.87       50\n",
    "\n",
    "    accuracy                           0.89      150\n",
    "    macro avg       0.88      0.89      0.88      150\n",
    "    weighted avg       0.90      0.89      0.89      150\n",
    "```\n",
    "\n",
    "이 예시에서:\n",
    "\n",
    "* 모델은 클래스 0 (예: 진짜 뉴스) 데이터를 더 정확하게 예측했습니다(정밀도 0.92).\n",
    "* 하지만 클래스 1 (예: 가짜 뉴스) 데이터의 전체를 식별하는 데는 다소 부족했습니다(재현율 0.90).\n",
    "* F1 스코어는 0.89로 두 클래스의 성능 간의 균형을 보여줍니다.\n",
    "* 총 150개의 데이터 포인트가 있으며 클래스 0은 100개, 클래스 1은 50개입니다.\n",
    "\n",
    "**분류 보고서는 모델의 강점과 약점을 파악하는 데 도움이 되며 모델 개선 전략 수립에 중요한 정보를 제공합니다.**"
   ]
  },
  {
   "cell_type": "code",
   "execution_count": 42,
   "metadata": {},
   "outputs": [
    {
     "name": "stdout",
     "output_type": "stream",
     "text": [
      "              precision    recall  f1-score   support\n",
      "\n",
      "           0       0.99      0.96      0.98      2077\n",
      "           1       0.97      0.99      0.98      2083\n",
      "\n",
      "    accuracy                           0.98      4160\n",
      "   macro avg       0.98      0.98      0.98      4160\n",
      "weighted avg       0.98      0.98      0.98      4160\n",
      "\n"
     ]
    }
   ],
   "source": [
    "# 로지스틱 모델을 활용한 분류 보고서 작성\n",
    "\n",
    "from sklearn.metrics import classification_report\n",
    "print(classification_report(Y_test, X_test_prediction))"
   ]
  },
  {
   "cell_type": "code",
   "execution_count": 43,
   "metadata": {},
   "outputs": [
    {
     "name": "stdout",
     "output_type": "stream",
     "text": [
      "              precision    recall  f1-score   support\n",
      "\n",
      "           0       0.91      1.00      0.95      3449\n",
      "           1       0.99      0.90      0.95      3415\n",
      "\n",
      "    accuracy                           0.95      6864\n",
      "   macro avg       0.95      0.95      0.95      6864\n",
      "weighted avg       0.95      0.95      0.95      6864\n",
      "\n"
     ]
    }
   ],
   "source": [
    "# 다항 분포 나이브 베이즈 분류 보고서 작성\n",
    "print(classification_report(Y1_test,prediction1))"
   ]
  },
  {
   "cell_type": "code",
   "execution_count": 44,
   "metadata": {},
   "outputs": [
    {
     "name": "stdout",
     "output_type": "stream",
     "text": [
      "              precision    recall  f1-score   support\n",
      "\n",
      "           0       0.99      0.99      0.99      3449\n",
      "           1       0.99      0.99      0.99      3415\n",
      "\n",
      "    accuracy                           0.99      6864\n",
      "   macro avg       0.99      0.99      0.99      6864\n",
      "weighted avg       0.99      0.99      0.99      6864\n",
      "\n"
     ]
    }
   ],
   "source": [
    "# Passive Aggressive(PMLB) 분류 보고서 작성\n",
    "print(classification_report(Y2_test,prediction2))"
   ]
  },
  {
   "cell_type": "markdown",
   "metadata": {},
   "source": [
    "### 모델의 성능 비교\n",
    "\n",
    "* Logistic Regression : Accuracy is 0.98\n",
    "\n",
    "* Multinomial Naive Bayes : Accuracy is 0.95\n",
    "\n",
    "* Passive Aggressive Classifier : Accuracy is 0.99"
   ]
  },
  {
   "cell_type": "code",
   "execution_count": null,
   "metadata": {},
   "outputs": [],
   "source": []
  },
  {
   "cell_type": "code",
   "execution_count": null,
   "metadata": {},
   "outputs": [],
   "source": []
  }
 ],
 "metadata": {
  "kernelspec": {
   "display_name": "Python 3",
   "language": "python",
   "name": "python3"
  },
  "language_info": {
   "codemirror_mode": {
    "name": "ipython",
    "version": 3
   },
   "file_extension": ".py",
   "mimetype": "text/x-python",
   "name": "python",
   "nbconvert_exporter": "python",
   "pygments_lexer": "ipython3",
   "version": "3.10.10"
  }
 },
 "nbformat": 4,
 "nbformat_minor": 2
}
