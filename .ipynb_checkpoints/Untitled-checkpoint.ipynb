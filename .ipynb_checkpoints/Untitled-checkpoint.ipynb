{
 "cells": [
  {
   "cell_type": "code",
   "execution_count": 46,
   "id": "d6a83899-8ce9-46e7-8f3b-d96aa8e78c40",
   "metadata": {},
   "outputs": [],
   "source": [
    "# 서대문구 11410\n",
    "# 서초구 11650 \n",
    "# 성동구 11200\n",
    "# 성북구 11290\n",
    "# 송파구 11710\n",
    "# 양천구 11470\n",
    "# 영등포구 11560\n",
    "# 용산구 11170\n",
    "# 은평구 11380\n",
    "# 종로구 11110\n",
    "# 중구 11140\n",
    "# 중랑구 11260"
   ]
  },
  {
   "cell_type": "code",
   "execution_count": 47,
   "id": "23603cb4-5b5d-4568-8eae-a7cf3688146d",
   "metadata": {},
   "outputs": [],
   "source": [
    "from bs4 import BeautifulSoup\n",
    "import pandas as pd\n",
    "import urllib.request"
   ]
  },
  {
   "cell_type": "code",
   "execution_count": 51,
   "id": "2c9a4202-9087-47b7-82fd-015ee731d2c9",
   "metadata": {},
   "outputs": [],
   "source": [
    "req = urllib.request\n",
    "\n",
    "def getRTMSDataSvcAptTrade(LAWD_CD,DEAL_YMD,serviceKey): \n",
    "    url=\"http://openapi.molit.go.kr:8081/OpenAPI_ToolInstallPackage/service/rest/RTMSOBJSvc/getRTMSDataSvcRHRent\" \n",
    "    url = url + \"?&LAWD_CD=\" + LAWD_CD\n",
    "    url = url + \"&DEAL_YMD=\" + DEAL_YMD\n",
    "    url = url + \"&serviceKey=\" + serviceKey\n",
    "    \n",
    "    xml = req.urlopen(url)\n",
    "    result = xml.read()\n",
    "    soup = BeautifulSoup(result, 'lxml-xml')    \n",
    "    \n",
    "    items = soup.findAll(\"item\")\n",
    "    aptTrade = pd.DataFrame()\n",
    "    \n",
    "    for item in items:\n",
    "        BuildYear= item.find(\"건축년도\").text\n",
    "        DealYear = item.find(\"년\").text\n",
    "        DealMonth = item.find(\"월\").text\n",
    "        DealDay = item.find(\"일\").text\n",
    "        Dong = item.find(\"법정동\").text\n",
    "        Jibun = item.find(\"지번\").text\n",
    "        Deposit = item.find(\"보증금액\").text\n",
    "        Apartment_Name = item.find(\"연립다세대\").text\n",
    "        Monthly_Rent = item.find(\"월세금액\").text\n",
    "        Area_for_ExclusiveUse  = item.find(\"전용면적\").text\n",
    "        Regional_Code = item.find(\"지역코드\").text\n",
    "        Floor = item.find(\"층\").text\n",
    "        \n",
    "        temp = pd.DataFrame(([[BuildYear, DealYear, DealMonth, DealDay, Dong, Jibun, Deposit, Apartment_Name, Monthly_Rent, Area_for_ExclusiveUse, Regional_Code, Floor]]), \n",
    "                            columns = ['BuildYear', 'DealYear', 'DealMonth', 'DealDay', 'Dong', 'Jibun', 'Deposit', 'Apartment_Name', 'Monthly_Rent', 'Area_for_ExclusiveUse', 'Regional_Code', 'Floor']) \n",
    "        aptTrade=pd.concat([aptTrade,temp])\n",
    "    \n",
    "    aptTrade=aptTrade.reset_index(drop=True)\n",
    "    return aptTrade\n",
    "    \n",
    "df_2020 = pd.DataFrame()"
   ]
  },
  {
   "cell_type": "code",
   "execution_count": 52,
   "id": "750a099c-a42b-4d6d-b4ab-88db99ac328e",
   "metadata": {},
   "outputs": [
    {
     "data": {
      "text/html": [
       "<div>\n",
       "<style scoped>\n",
       "    .dataframe tbody tr th:only-of-type {\n",
       "        vertical-align: middle;\n",
       "    }\n",
       "\n",
       "    .dataframe tbody tr th {\n",
       "        vertical-align: top;\n",
       "    }\n",
       "\n",
       "    .dataframe thead th {\n",
       "        text-align: right;\n",
       "    }\n",
       "</style>\n",
       "<table border=\"1\" class=\"dataframe\">\n",
       "  <thead>\n",
       "    <tr style=\"text-align: right;\">\n",
       "      <th></th>\n",
       "    </tr>\n",
       "  </thead>\n",
       "  <tbody>\n",
       "  </tbody>\n",
       "</table>\n",
       "</div>"
      ],
      "text/plain": [
       "Empty DataFrame\n",
       "Columns: []\n",
       "Index: []"
      ]
     },
     "execution_count": 52,
     "metadata": {},
     "output_type": "execute_result"
    }
   ],
   "source": [
    "for i in range(202001, 202012): # 년,월\n",
    "    deal_ymd = f\"{i}\"\n",
    "    data = getRTMSDataSvcAptTrade('11410', deal_ymd,'vfY4VBbDDWnxBlsur1HG1qugKmYTCVY1e5g/8DvvKUsrqH2D/tDAqtT3VHoNq8zIXWmS5iFYfgGBBGBe5W/oOQ==')\n",
    "    df_2020 = pd.concat([df_2020, data], ignore_index=True)\n",
    "df_2020.head()"
   ]
  },
  {
   "cell_type": "code",
   "execution_count": 53,
   "id": "6ae66f9b-a178-4544-ad38-9e87e031c68a",
   "metadata": {},
   "outputs": [
    {
     "ename": "AttributeError",
     "evalue": "'DataFrame' object has no attribute 'Area_for_ExclusiveUse'",
     "output_type": "error",
     "traceback": [
      "\u001b[1;31m---------------------------------------------------------------------------\u001b[0m",
      "\u001b[1;31mAttributeError\u001b[0m                            Traceback (most recent call last)",
      "Cell \u001b[1;32mIn[53], line 3\u001b[0m\n\u001b[0;32m      1\u001b[0m \u001b[38;5;66;03m# 평수구하기\u001b[39;00m\n\u001b[0;32m      2\u001b[0m i \u001b[38;5;241m=\u001b[39m \u001b[38;5;241m0\u001b[39m\n\u001b[1;32m----> 3\u001b[0m \u001b[38;5;28;01mfor\u001b[39;00m dong \u001b[38;5;129;01min\u001b[39;00m \u001b[43mdf_2020\u001b[49m\u001b[38;5;241;43m.\u001b[39;49m\u001b[43mArea_for_ExclusiveUse\u001b[49m:\n\u001b[0;32m      4\u001b[0m     area \u001b[38;5;241m=\u001b[39m \u001b[38;5;28mfloat\u001b[39m(df_2020\u001b[38;5;241m.\u001b[39mloc[i, \u001b[38;5;124m'\u001b[39m\u001b[38;5;124mArea_for_ExclusiveUse\u001b[39m\u001b[38;5;124m'\u001b[39m])\n\u001b[0;32m      5\u001b[0m     df_2020\u001b[38;5;241m.\u001b[39mloc[i, \u001b[38;5;124m'\u001b[39m\u001b[38;5;124mArea_for_ExclusiveUse\u001b[39m\u001b[38;5;124m'\u001b[39m] \u001b[38;5;241m=\u001b[39m area\u001b[38;5;241m/\u001b[39m\u001b[38;5;241m3.3\u001b[39m\n",
      "File \u001b[1;32m~\\AppData\\Local\\Programs\\Python\\Python310\\lib\\site-packages\\pandas\\core\\generic.py:6204\u001b[0m, in \u001b[0;36mNDFrame.__getattr__\u001b[1;34m(self, name)\u001b[0m\n\u001b[0;32m   6197\u001b[0m \u001b[38;5;28;01mif\u001b[39;00m (\n\u001b[0;32m   6198\u001b[0m     name \u001b[38;5;129;01mnot\u001b[39;00m \u001b[38;5;129;01min\u001b[39;00m \u001b[38;5;28mself\u001b[39m\u001b[38;5;241m.\u001b[39m_internal_names_set\n\u001b[0;32m   6199\u001b[0m     \u001b[38;5;129;01mand\u001b[39;00m name \u001b[38;5;129;01mnot\u001b[39;00m \u001b[38;5;129;01min\u001b[39;00m \u001b[38;5;28mself\u001b[39m\u001b[38;5;241m.\u001b[39m_metadata\n\u001b[0;32m   6200\u001b[0m     \u001b[38;5;129;01mand\u001b[39;00m name \u001b[38;5;129;01mnot\u001b[39;00m \u001b[38;5;129;01min\u001b[39;00m \u001b[38;5;28mself\u001b[39m\u001b[38;5;241m.\u001b[39m_accessors\n\u001b[0;32m   6201\u001b[0m     \u001b[38;5;129;01mand\u001b[39;00m \u001b[38;5;28mself\u001b[39m\u001b[38;5;241m.\u001b[39m_info_axis\u001b[38;5;241m.\u001b[39m_can_hold_identifiers_and_holds_name(name)\n\u001b[0;32m   6202\u001b[0m ):\n\u001b[0;32m   6203\u001b[0m     \u001b[38;5;28;01mreturn\u001b[39;00m \u001b[38;5;28mself\u001b[39m[name]\n\u001b[1;32m-> 6204\u001b[0m \u001b[38;5;28;01mreturn\u001b[39;00m \u001b[38;5;28;43mobject\u001b[39;49m\u001b[38;5;241;43m.\u001b[39;49m\u001b[38;5;21;43m__getattribute__\u001b[39;49m\u001b[43m(\u001b[49m\u001b[38;5;28;43mself\u001b[39;49m\u001b[43m,\u001b[49m\u001b[43m \u001b[49m\u001b[43mname\u001b[49m\u001b[43m)\u001b[49m\n",
      "\u001b[1;31mAttributeError\u001b[0m: 'DataFrame' object has no attribute 'Area_for_ExclusiveUse'"
     ]
    }
   ],
   "source": [
    "# 평수구하기\n",
    "i = 0\n",
    "for dong in df_2020.Area_for_ExclusiveUse:\n",
    "    area = float(df_2020.loc[i, 'Area_for_ExclusiveUse'])\n",
    "    df_2020.loc[i, 'Area_for_ExclusiveUse'] = area/3.3\n",
    "    i+=1\n",
    "df_2020.head()"
   ]
  },
  {
   "cell_type": "code",
   "execution_count": null,
   "id": "4bd6cf4f-c2e7-4fc9-ae64-2ae7bd5fbe84",
   "metadata": {},
   "outputs": [],
   "source": [
    "# 평당 보증금\n",
    "df_2020['Deposit'] = df_2020['Deposit'].str.replace(',', '').astype(float)\n",
    "df_2020['Area_for_ExclusiveUse'] = df_2020['Area_for_ExclusiveUse'].astype(float)\n",
    "df_2020['Area_to_Deposit_Ratio'] = df_2020['Deposit']/df_2020['Area_for_ExclusiveUse'] \n",
    "df_2020.head()\n",
    "\n",
    "# 보증금 평균\n",
    "df_2020['Area_to_Deposit_Ratio'].mean()"
   ]
  },
  {
   "cell_type": "code",
   "execution_count": null,
   "id": "52339c91-09da-43ef-88d5-7b2e33a43c31",
   "metadata": {},
   "outputs": [],
   "source": []
  },
  {
   "cell_type": "code",
   "execution_count": null,
   "id": "3d6bcb3c-c96a-4cda-ae4e-fa0b31872733",
   "metadata": {},
   "outputs": [],
   "source": []
  }
 ],
 "metadata": {
  "kernelspec": {
   "display_name": "Python 3 (ipykernel)",
   "language": "python",
   "name": "python3"
  },
  "language_info": {
   "codemirror_mode": {
    "name": "ipython",
    "version": 3
   },
   "file_extension": ".py",
   "mimetype": "text/x-python",
   "name": "python",
   "nbconvert_exporter": "python",
   "pygments_lexer": "ipython3",
   "version": "3.10.10"
  }
 },
 "nbformat": 4,
 "nbformat_minor": 5
}
