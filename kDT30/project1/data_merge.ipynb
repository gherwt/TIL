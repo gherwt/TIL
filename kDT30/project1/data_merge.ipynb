{
 "cells": [
  {
   "cell_type": "code",
   "execution_count": 328,
   "id": "3aa7cc27-e9e5-4a04-9094-e508e2a30d06",
   "metadata": {},
   "outputs": [],
   "source": [
    "import os\n",
    "import pandas as pd\n",
    "import numpy as np"
   ]
  },
  {
   "cell_type": "code",
   "execution_count": 329,
   "id": "c7859048-d25b-41b9-bb8f-656bd6eaad7d",
   "metadata": {},
   "outputs": [],
   "source": [
    "seongdong = pd.read_csv(\"C:/Users/gherwt/KDT30/p1/seongdong_res_cnt.csv\", encoding = \"cp949\")\n",
    "cctv = pd.read_csv(\"C:/Users/gherwt/KDT30/p1/cctv_cnt.csv\")\n",
    "school = pd.read_csv(\"C:/Users/gherwt/KDT30/p1/school_distance.csv\")\n",
    "sub = pd.read_csv(\"C:/Users/gherwt/KDT30/sub_distance_final.csv\")"
   ]
  },
  {
   "cell_type": "code",
   "execution_count": 330,
   "id": "79517653-041c-49ab-9256-fcb90ab7d005",
   "metadata": {},
   "outputs": [
    {
     "data": {
      "text/html": [
       "<div>\n",
       "<style scoped>\n",
       "    .dataframe tbody tr th:only-of-type {\n",
       "        vertical-align: middle;\n",
       "    }\n",
       "\n",
       "    .dataframe tbody tr th {\n",
       "        vertical-align: top;\n",
       "    }\n",
       "\n",
       "    .dataframe thead th {\n",
       "        text-align: right;\n",
       "    }\n",
       "</style>\n",
       "<table border=\"1\" class=\"dataframe\">\n",
       "  <thead>\n",
       "    <tr style=\"text-align: right;\">\n",
       "      <th></th>\n",
       "      <th>date</th>\n",
       "      <th>build_year</th>\n",
       "      <th>dong</th>\n",
       "      <th>jibun</th>\n",
       "      <th>floor</th>\n",
       "      <th>use_area</th>\n",
       "      <th>res_cnt</th>\n",
       "      <th>total_deposit</th>\n",
       "    </tr>\n",
       "  </thead>\n",
       "  <tbody>\n",
       "    <tr>\n",
       "      <th>0</th>\n",
       "      <td>201501</td>\n",
       "      <td>1986</td>\n",
       "      <td>하왕십리동</td>\n",
       "      <td>890-401</td>\n",
       "      <td>3</td>\n",
       "      <td>39.70</td>\n",
       "      <td>36</td>\n",
       "      <td>15000</td>\n",
       "    </tr>\n",
       "    <tr>\n",
       "      <th>1</th>\n",
       "      <td>201501</td>\n",
       "      <td>2012</td>\n",
       "      <td>하왕십리동</td>\n",
       "      <td>890-114</td>\n",
       "      <td>4</td>\n",
       "      <td>13.97</td>\n",
       "      <td>36</td>\n",
       "      <td>8714</td>\n",
       "    </tr>\n",
       "  </tbody>\n",
       "</table>\n",
       "</div>"
      ],
      "text/plain": [
       "     date  build_year   dong    jibun  floor  use_area  res_cnt  total_deposit\n",
       "0  201501        1986  하왕십리동  890-401      3     39.70       36          15000\n",
       "1  201501        2012  하왕십리동  890-114      4     13.97       36           8714"
      ]
     },
     "execution_count": 330,
     "metadata": {},
     "output_type": "execute_result"
    }
   ],
   "source": [
    "# 각 데이터를 확인\n",
    "seongdong.head(2)"
   ]
  },
  {
   "cell_type": "code",
   "execution_count": 331,
   "id": "eec50e8a-ea15-4680-91fb-69893dcf3926",
   "metadata": {},
   "outputs": [
    {
     "data": {
      "text/html": [
       "<div>\n",
       "<style scoped>\n",
       "    .dataframe tbody tr th:only-of-type {\n",
       "        vertical-align: middle;\n",
       "    }\n",
       "\n",
       "    .dataframe tbody tr th {\n",
       "        vertical-align: top;\n",
       "    }\n",
       "\n",
       "    .dataframe thead th {\n",
       "        text-align: right;\n",
       "    }\n",
       "</style>\n",
       "<table border=\"1\" class=\"dataframe\">\n",
       "  <thead>\n",
       "    <tr style=\"text-align: right;\">\n",
       "      <th></th>\n",
       "      <th>dong</th>\n",
       "      <th>cctv_cnt</th>\n",
       "    </tr>\n",
       "  </thead>\n",
       "  <tbody>\n",
       "    <tr>\n",
       "      <th>0</th>\n",
       "      <td>금호동1가</td>\n",
       "      <td>118</td>\n",
       "    </tr>\n",
       "    <tr>\n",
       "      <th>1</th>\n",
       "      <td>금호동2가</td>\n",
       "      <td>95</td>\n",
       "    </tr>\n",
       "  </tbody>\n",
       "</table>\n",
       "</div>"
      ],
      "text/plain": [
       "    dong  cctv_cnt\n",
       "0  금호동1가       118\n",
       "1  금호동2가        95"
      ]
     },
     "execution_count": 331,
     "metadata": {},
     "output_type": "execute_result"
    }
   ],
   "source": [
    "cctv.head(2)"
   ]
  },
  {
   "cell_type": "code",
   "execution_count": 332,
   "id": "2b050faf-008c-45dc-9693-e25cd565049f",
   "metadata": {},
   "outputs": [
    {
     "data": {
      "text/html": [
       "<div>\n",
       "<style scoped>\n",
       "    .dataframe tbody tr th:only-of-type {\n",
       "        vertical-align: middle;\n",
       "    }\n",
       "\n",
       "    .dataframe tbody tr th {\n",
       "        vertical-align: top;\n",
       "    }\n",
       "\n",
       "    .dataframe thead th {\n",
       "        text-align: right;\n",
       "    }\n",
       "</style>\n",
       "<table border=\"1\" class=\"dataframe\">\n",
       "  <thead>\n",
       "    <tr style=\"text-align: right;\">\n",
       "      <th></th>\n",
       "      <th>Unnamed: 0</th>\n",
       "      <th>법정동</th>\n",
       "      <th>dong_lat</th>\n",
       "      <th>dong_long</th>\n",
       "      <th>school_dis</th>\n",
       "    </tr>\n",
       "  </thead>\n",
       "  <tbody>\n",
       "    <tr>\n",
       "      <th>0</th>\n",
       "      <td>0</td>\n",
       "      <td>금호동1가</td>\n",
       "      <td>37.554697</td>\n",
       "      <td>127.023412</td>\n",
       "      <td>0.157064</td>\n",
       "    </tr>\n",
       "    <tr>\n",
       "      <th>1</th>\n",
       "      <td>1</td>\n",
       "      <td>금호동2가</td>\n",
       "      <td>37.552482</td>\n",
       "      <td>127.020133</td>\n",
       "      <td>0.192920</td>\n",
       "    </tr>\n",
       "  </tbody>\n",
       "</table>\n",
       "</div>"
      ],
      "text/plain": [
       "   Unnamed: 0    법정동   dong_lat   dong_long  school_dis\n",
       "0           0  금호동1가  37.554697  127.023412    0.157064\n",
       "1           1  금호동2가  37.552482  127.020133    0.192920"
      ]
     },
     "execution_count": 332,
     "metadata": {},
     "output_type": "execute_result"
    }
   ],
   "source": [
    "school.head(2)"
   ]
  },
  {
   "cell_type": "code",
   "execution_count": 333,
   "id": "c4b65647-47f5-4f5c-983d-cdb5917c1c08",
   "metadata": {},
   "outputs": [],
   "source": [
    "# school 의 동 명을 맞춰준다.\n",
    "school = school[['법정동', 'school_dis']]"
   ]
  },
  {
   "cell_type": "code",
   "execution_count": 334,
   "id": "ad973442-9fbc-4c14-baad-c474f680eda3",
   "metadata": {},
   "outputs": [],
   "source": [
    "school = school.rename(columns={'법정동': 'dong'})"
   ]
  },
  {
   "cell_type": "code",
   "execution_count": 335,
   "id": "43207215-929e-41d6-b729-1e63aa9a8a64",
   "metadata": {},
   "outputs": [
    {
     "data": {
      "text/html": [
       "<div>\n",
       "<style scoped>\n",
       "    .dataframe tbody tr th:only-of-type {\n",
       "        vertical-align: middle;\n",
       "    }\n",
       "\n",
       "    .dataframe tbody tr th {\n",
       "        vertical-align: top;\n",
       "    }\n",
       "\n",
       "    .dataframe thead th {\n",
       "        text-align: right;\n",
       "    }\n",
       "</style>\n",
       "<table border=\"1\" class=\"dataframe\">\n",
       "  <thead>\n",
       "    <tr style=\"text-align: right;\">\n",
       "      <th></th>\n",
       "      <th>address</th>\n",
       "      <th>dong</th>\n",
       "      <th>jibun</th>\n",
       "      <th>lat</th>\n",
       "      <th>long</th>\n",
       "      <th>가까운역</th>\n",
       "      <th>가까운역과의 거리</th>\n",
       "    </tr>\n",
       "  </thead>\n",
       "  <tbody>\n",
       "    <tr>\n",
       "      <th>0</th>\n",
       "      <td>서울특별시 성동구 하왕십리동 890-401</td>\n",
       "      <td>하왕십리동</td>\n",
       "      <td>890-401</td>\n",
       "      <td>37.563604</td>\n",
       "      <td>127.028501</td>\n",
       "      <td>상왕십리역[2호선]</td>\n",
       "      <td>0.106753</td>\n",
       "    </tr>\n",
       "    <tr>\n",
       "      <th>1</th>\n",
       "      <td>서울특별시 성동구 하왕십리동 890-114</td>\n",
       "      <td>하왕십리동</td>\n",
       "      <td>890-114</td>\n",
       "      <td>37.563288</td>\n",
       "      <td>127.028096</td>\n",
       "      <td>상왕십리역[2호선]</td>\n",
       "      <td>0.153176</td>\n",
       "    </tr>\n",
       "  </tbody>\n",
       "</table>\n",
       "</div>"
      ],
      "text/plain": [
       "                   address   dong    jibun        lat        long        가까운역  \\\n",
       "0  서울특별시 성동구 하왕십리동 890-401  하왕십리동  890-401  37.563604  127.028501  상왕십리역[2호선]   \n",
       "1  서울특별시 성동구 하왕십리동 890-114  하왕십리동  890-114  37.563288  127.028096  상왕십리역[2호선]   \n",
       "\n",
       "   가까운역과의 거리  \n",
       "0   0.106753  \n",
       "1   0.153176  "
      ]
     },
     "execution_count": 335,
     "metadata": {},
     "output_type": "execute_result"
    }
   ],
   "source": [
    "sub.head(2)"
   ]
  },
  {
   "cell_type": "code",
   "execution_count": 336,
   "id": "d06f32b7-b903-4e02-ac8c-a4901d245ada",
   "metadata": {},
   "outputs": [],
   "source": [
    "# sub에서 변수명을 바꿔준다.\n",
    "sub = sub.rename(columns={'가까운역과의 거리': 'sub_dis'})"
   ]
  },
  {
   "cell_type": "code",
   "execution_count": 337,
   "id": "ea67981c-5b19-4e4b-82a9-4c96a75d9442",
   "metadata": {},
   "outputs": [],
   "source": [
    "# 데이터 합치기\n",
    "df = pd.merge(seongdong, cctv, on = 'dong', how = 'left')"
   ]
  },
  {
   "cell_type": "code",
   "execution_count": 338,
   "id": "7b6fe056-a5d3-44cd-9e76-38fe3976e3ab",
   "metadata": {},
   "outputs": [],
   "source": [
    "df = pd.merge(df, school, on = 'dong', how = 'left')"
   ]
  },
  {
   "cell_type": "code",
   "execution_count": 339,
   "id": "08936474-d4f5-4cd1-8e31-0c19f7fa80ee",
   "metadata": {},
   "outputs": [],
   "source": [
    "df = pd.concat([df, sub['sub_dis']], axis =1)"
   ]
  },
  {
   "cell_type": "code",
   "execution_count": 340,
   "id": "d6e788c0-1426-4c89-af41-e9bc2bb43ab3",
   "metadata": {},
   "outputs": [],
   "source": [
    "df = df[['date', 'build_year', 'dong', 'floor', 'use_area', 'res_cnt', 'cctv_cnt', 'school_dis','sub_dis', 'total_deposit']]"
   ]
  },
  {
   "cell_type": "code",
   "execution_count": 341,
   "id": "a389046e-a306-45d7-9538-fa8ff0212472",
   "metadata": {},
   "outputs": [
    {
     "data": {
      "text/html": [
       "<div>\n",
       "<style scoped>\n",
       "    .dataframe tbody tr th:only-of-type {\n",
       "        vertical-align: middle;\n",
       "    }\n",
       "\n",
       "    .dataframe tbody tr th {\n",
       "        vertical-align: top;\n",
       "    }\n",
       "\n",
       "    .dataframe thead th {\n",
       "        text-align: right;\n",
       "    }\n",
       "</style>\n",
       "<table border=\"1\" class=\"dataframe\">\n",
       "  <thead>\n",
       "    <tr style=\"text-align: right;\">\n",
       "      <th></th>\n",
       "      <th>date</th>\n",
       "      <th>build_year</th>\n",
       "      <th>dong</th>\n",
       "      <th>floor</th>\n",
       "      <th>use_area</th>\n",
       "      <th>res_cnt</th>\n",
       "      <th>cctv_cnt</th>\n",
       "      <th>school_dis</th>\n",
       "      <th>sub_dis</th>\n",
       "      <th>total_deposit</th>\n",
       "    </tr>\n",
       "  </thead>\n",
       "  <tbody>\n",
       "    <tr>\n",
       "      <th>0</th>\n",
       "      <td>201501</td>\n",
       "      <td>1986</td>\n",
       "      <td>하왕십리동</td>\n",
       "      <td>3</td>\n",
       "      <td>39.70</td>\n",
       "      <td>36</td>\n",
       "      <td>268</td>\n",
       "      <td>0.104621</td>\n",
       "      <td>0.106753</td>\n",
       "      <td>15000</td>\n",
       "    </tr>\n",
       "    <tr>\n",
       "      <th>1</th>\n",
       "      <td>201501</td>\n",
       "      <td>2012</td>\n",
       "      <td>하왕십리동</td>\n",
       "      <td>4</td>\n",
       "      <td>13.97</td>\n",
       "      <td>36</td>\n",
       "      <td>268</td>\n",
       "      <td>0.104621</td>\n",
       "      <td>0.153176</td>\n",
       "      <td>8714</td>\n",
       "    </tr>\n",
       "  </tbody>\n",
       "</table>\n",
       "</div>"
      ],
      "text/plain": [
       "     date  build_year   dong  floor  use_area  res_cnt  cctv_cnt  school_dis  \\\n",
       "0  201501        1986  하왕십리동      3     39.70       36       268    0.104621   \n",
       "1  201501        2012  하왕십리동      4     13.97       36       268    0.104621   \n",
       "\n",
       "    sub_dis  total_deposit  \n",
       "0  0.106753          15000  \n",
       "1  0.153176           8714  "
      ]
     },
     "execution_count": 341,
     "metadata": {},
     "output_type": "execute_result"
    }
   ],
   "source": [
    "df.head(2)"
   ]
  },
  {
   "cell_type": "code",
   "execution_count": 342,
   "id": "6cf063b1-0f41-40f2-bb4f-04367815c0c2",
   "metadata": {},
   "outputs": [],
   "source": [
    "df.to_csv('C:/Users/gherwt/KDT30/p1/seongdong_df_total.csv', index = False)"
   ]
  },
  {
   "cell_type": "code",
   "execution_count": 343,
   "id": "cdeecdb5-6d61-4d35-a776-877ffa3c687a",
   "metadata": {
    "scrolled": true
   },
   "outputs": [
    {
     "data": {
      "text/html": [
       "<div>\n",
       "<style scoped>\n",
       "    .dataframe tbody tr th:only-of-type {\n",
       "        vertical-align: middle;\n",
       "    }\n",
       "\n",
       "    .dataframe tbody tr th {\n",
       "        vertical-align: top;\n",
       "    }\n",
       "\n",
       "    .dataframe thead th {\n",
       "        text-align: right;\n",
       "    }\n",
       "</style>\n",
       "<table border=\"1\" class=\"dataframe\">\n",
       "  <thead>\n",
       "    <tr style=\"text-align: right;\">\n",
       "      <th></th>\n",
       "      <th>date</th>\n",
       "      <th>build_year</th>\n",
       "      <th>floor</th>\n",
       "      <th>use_area</th>\n",
       "      <th>res_cnt</th>\n",
       "      <th>cctv_cnt</th>\n",
       "      <th>school_dis</th>\n",
       "      <th>sub_dis</th>\n",
       "      <th>total_deposit</th>\n",
       "    </tr>\n",
       "  </thead>\n",
       "  <tbody>\n",
       "    <tr>\n",
       "      <th>count</th>\n",
       "      <td>12211.000000</td>\n",
       "      <td>12211.000000</td>\n",
       "      <td>12211.000000</td>\n",
       "      <td>12211.000000</td>\n",
       "      <td>12211.000000</td>\n",
       "      <td>12211.000000</td>\n",
       "      <td>12211.000000</td>\n",
       "      <td>12211.000000</td>\n",
       "      <td>12211.000000</td>\n",
       "    </tr>\n",
       "    <tr>\n",
       "      <th>mean</th>\n",
       "      <td>201893.886414</td>\n",
       "      <td>2004.259766</td>\n",
       "      <td>2.990418</td>\n",
       "      <td>41.025100</td>\n",
       "      <td>263.790025</td>\n",
       "      <td>369.519777</td>\n",
       "      <td>0.244409</td>\n",
       "      <td>0.421775</td>\n",
       "      <td>18474.840799</td>\n",
       "    </tr>\n",
       "    <tr>\n",
       "      <th>std</th>\n",
       "      <td>232.801130</td>\n",
       "      <td>11.576969</td>\n",
       "      <td>1.738373</td>\n",
       "      <td>21.372606</td>\n",
       "      <td>233.127523</td>\n",
       "      <td>180.143763</td>\n",
       "      <td>0.134841</td>\n",
       "      <td>0.210283</td>\n",
       "      <td>9541.313867</td>\n",
       "    </tr>\n",
       "    <tr>\n",
       "      <th>min</th>\n",
       "      <td>201501.000000</td>\n",
       "      <td>1970.000000</td>\n",
       "      <td>-2.000000</td>\n",
       "      <td>1.000000</td>\n",
       "      <td>15.000000</td>\n",
       "      <td>19.000000</td>\n",
       "      <td>0.038938</td>\n",
       "      <td>0.041580</td>\n",
       "      <td>1000.000000</td>\n",
       "    </tr>\n",
       "    <tr>\n",
       "      <th>25%</th>\n",
       "      <td>201704.000000</td>\n",
       "      <td>1995.000000</td>\n",
       "      <td>2.000000</td>\n",
       "      <td>26.670000</td>\n",
       "      <td>64.000000</td>\n",
       "      <td>171.000000</td>\n",
       "      <td>0.146234</td>\n",
       "      <td>0.272563</td>\n",
       "      <td>12800.000000</td>\n",
       "    </tr>\n",
       "    <tr>\n",
       "      <th>50%</th>\n",
       "      <td>201906.000000</td>\n",
       "      <td>2006.000000</td>\n",
       "      <td>3.000000</td>\n",
       "      <td>37.060000</td>\n",
       "      <td>168.000000</td>\n",
       "      <td>403.000000</td>\n",
       "      <td>0.200793</td>\n",
       "      <td>0.369299</td>\n",
       "      <td>17500.000000</td>\n",
       "    </tr>\n",
       "    <tr>\n",
       "      <th>75%</th>\n",
       "      <td>202107.000000</td>\n",
       "      <td>2014.000000</td>\n",
       "      <td>4.000000</td>\n",
       "      <td>54.510000</td>\n",
       "      <td>431.000000</td>\n",
       "      <td>504.000000</td>\n",
       "      <td>0.342383</td>\n",
       "      <td>0.538432</td>\n",
       "      <td>23000.000000</td>\n",
       "    </tr>\n",
       "    <tr>\n",
       "      <th>max</th>\n",
       "      <td>202212.000000</td>\n",
       "      <td>2022.000000</td>\n",
       "      <td>17.000000</td>\n",
       "      <td>221.090000</td>\n",
       "      <td>958.000000</td>\n",
       "      <td>590.000000</td>\n",
       "      <td>0.524474</td>\n",
       "      <td>1.043076</td>\n",
       "      <td>395000.000000</td>\n",
       "    </tr>\n",
       "  </tbody>\n",
       "</table>\n",
       "</div>"
      ],
      "text/plain": [
       "                date    build_year         floor      use_area       res_cnt  \\\n",
       "count   12211.000000  12211.000000  12211.000000  12211.000000  12211.000000   \n",
       "mean   201893.886414   2004.259766      2.990418     41.025100    263.790025   \n",
       "std       232.801130     11.576969      1.738373     21.372606    233.127523   \n",
       "min    201501.000000   1970.000000     -2.000000      1.000000     15.000000   \n",
       "25%    201704.000000   1995.000000      2.000000     26.670000     64.000000   \n",
       "50%    201906.000000   2006.000000      3.000000     37.060000    168.000000   \n",
       "75%    202107.000000   2014.000000      4.000000     54.510000    431.000000   \n",
       "max    202212.000000   2022.000000     17.000000    221.090000    958.000000   \n",
       "\n",
       "           cctv_cnt    school_dis       sub_dis  total_deposit  \n",
       "count  12211.000000  12211.000000  12211.000000   12211.000000  \n",
       "mean     369.519777      0.244409      0.421775   18474.840799  \n",
       "std      180.143763      0.134841      0.210283    9541.313867  \n",
       "min       19.000000      0.038938      0.041580    1000.000000  \n",
       "25%      171.000000      0.146234      0.272563   12800.000000  \n",
       "50%      403.000000      0.200793      0.369299   17500.000000  \n",
       "75%      504.000000      0.342383      0.538432   23000.000000  \n",
       "max      590.000000      0.524474      1.043076  395000.000000  "
      ]
     },
     "execution_count": 343,
     "metadata": {},
     "output_type": "execute_result"
    }
   ],
   "source": [
    "df.describe()"
   ]
  },
  {
   "cell_type": "code",
   "execution_count": null,
   "id": "cbab86fe-1601-45a8-882d-102870906753",
   "metadata": {},
   "outputs": [],
   "source": []
  },
  {
   "cell_type": "code",
   "execution_count": null,
   "id": "a5c2932b-f163-45b3-9bb4-5985660abde5",
   "metadata": {},
   "outputs": [],
   "source": []
  }
 ],
 "metadata": {
  "kernelspec": {
   "display_name": "Python 3 (ipykernel)",
   "language": "python",
   "name": "python3"
  },
  "language_info": {
   "codemirror_mode": {
    "name": "ipython",
    "version": 3
   },
   "file_extension": ".py",
   "mimetype": "text/x-python",
   "name": "python",
   "nbconvert_exporter": "python",
   "pygments_lexer": "ipython3",
   "version": "3.10.10"
  }
 },
 "nbformat": 4,
 "nbformat_minor": 5
}
