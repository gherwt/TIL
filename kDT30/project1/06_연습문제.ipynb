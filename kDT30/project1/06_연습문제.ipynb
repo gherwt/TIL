{
 "cells": [
  {
   "cell_type": "markdown",
   "id": "62c3e149-fad5-4805-a4f4-9b9c42c46b5c",
   "metadata": {},
   "source": [
    "### 공공데이터 api\n",
    "- 제공하는 지자체, 정부부처마다 접근 url 이 상이하다.\n",
    "- 데이터별로 필요 내용 확인\n",
    "- 요청 변수 확인 후 사용"
   ]
  },
  {
   "cell_type": "markdown",
   "id": "017d22c4-e1a8-4660-af41-fc3703a135b7",
   "metadata": {},
   "source": [
    "### 국립 중앙 의료원 제공 전국 약국정보 data\n",
    "- 연결 url : http://apis.data.go.kr/B552657/ErmctInsttInfoInqireService/getParmacyListInfoInqire"
   ]
  },
  {
   "cell_type": "code",
   "execution_count": 1,
   "id": "87ddfd92-bf83-4fea-b963-870a0a2dd04d",
   "metadata": {},
   "outputs": [],
   "source": [
    "from urllib.parse import quote\n",
    "import requests\n",
    "from bs4 import BeautifulSoup\n",
    "import pandas as pd"
   ]
  },
  {
   "cell_type": "code",
   "execution_count": 2,
   "id": "ee9b15a3-04e1-44bc-998b-b397687e936c",
   "metadata": {},
   "outputs": [],
   "source": [
    "endpoint = 'http://apis.data.go.kr/B552657/ErmctInsttInfoInqireService/getParmacyListInfoInqire'\n",
    "servicekey = 'vpA5w%2Frqnqv5OVUvdS1jzdjrdM3lN%2B3Omjbnx64dXdMBMpL7xbLreYIFaigNiexQelZHSsPNMGL3A91tHKF1YQ%3D%3D'"
   ]
  },
  {
   "cell_type": "code",
   "execution_count": 3,
   "id": "0c8151df-ad6b-4129-91a3-c33882699710",
   "metadata": {},
   "outputs": [],
   "source": [
    "# 변수명과 파라미터명 매칭시켜서 파라미터 값 설명\n",
    "QT = '1' # 약국 영업 요일 전달\n",
    "QN = quote('삼성약국') # 검색하고자 하는 약국의 이름(부분)\n",
    "Q0 = quote('서울특별시') # 광역시도\n",
    "Q1 = quote('강남구') # 시군구\n",
    "ORD = 'NAME' # 순서, 정렬\n",
    "numOfRows = '10' # 추출 data 수"
   ]
  },
  {
   "cell_type": "code",
   "execution_count": 4,
   "id": "8c42907c-594c-4323-b0aa-87dc670cb35e",
   "metadata": {},
   "outputs": [
    {
     "data": {
      "text/plain": [
       "'?servicekey=vpA5w%2Frqnqv5OVUvdS1jzdjrdM3lN%2B3Omjbnx64dXdMBMpL7xbLreYIFaigNiexQelZHSsPNMGL3A91tHKF1YQ%3D%3D&QT=1&QN=%EC%82%BC%EC%84%B1%EC%95%BD%EA%B5%AD&Q0=%EC%84%9C%EC%9A%B8%ED%8A%B9%EB%B3%84%EC%8B%9C&Q1=%EA%B0%95%EB%82%A8%EA%B5%AC&ORD=NAME&numOfRows=10'"
      ]
     },
     "execution_count": 4,
     "metadata": {},
     "output_type": "execute_result"
    }
   ],
   "source": [
    "paramset = '?servicekey=' + servicekey + \\\n",
    "           '&QT=' + QT + \\\n",
    "           '&QN=' + QN + \\\n",
    "           '&Q0=' + Q0 + \\\n",
    "           '&Q1=' + Q1 + \\\n",
    "           '&ORD=' + ORD + '&numOfRows=' + numOfRows\n",
    "paramset"
   ]
  },
  {
   "cell_type": "code",
   "execution_count": 5,
   "id": "c81d3cd4-fee0-4d55-b542-6835756cd1d1",
   "metadata": {},
   "outputs": [
    {
     "data": {
      "text/plain": [
       "'http://apis.data.go.kr/B552657/ErmctInsttInfoInqireService/getParmacyListInfoInqire?servicekey=vpA5w%2Frqnqv5OVUvdS1jzdjrdM3lN%2B3Omjbnx64dXdMBMpL7xbLreYIFaigNiexQelZHSsPNMGL3A91tHKF1YQ%3D%3D&QT=1&QN=%EC%82%BC%EC%84%B1%EC%95%BD%EA%B5%AD&Q0=%EC%84%9C%EC%9A%B8%ED%8A%B9%EB%B3%84%EC%8B%9C&Q1=%EA%B0%95%EB%82%A8%EA%B5%AC&ORD=NAME&numOfRows=10'"
      ]
     },
     "execution_count": 5,
     "metadata": {},
     "output_type": "execute_result"
    }
   ],
   "source": [
    "url = endpoint + paramset\n",
    "url"
   ]
  },
  {
   "cell_type": "code",
   "execution_count": 6,
   "id": "0b46ccc9-4f21-477a-8406-f1900d62db94",
   "metadata": {},
   "outputs": [
    {
     "name": "stderr",
     "output_type": "stream",
     "text": [
      "C:\\Users\\gherwt\\AppData\\Local\\Programs\\Python\\Python310\\lib\\site-packages\\bs4\\builder\\__init__.py:545: XMLParsedAsHTMLWarning: It looks like you're parsing an XML document using an HTML parser. If this really is an HTML document (maybe it's XHTML?), you can ignore or filter this warning. If it's XML, you should know that using an XML parser will be more reliable. To parse this document as XML, make sure you have the lxml package installed, and pass the keyword argument `features=\"xml\"` into the BeautifulSoup constructor.\n",
      "  warnings.warn(\n"
     ]
    },
    {
     "data": {
      "text/plain": [
       "<?xml version=\"1.0\" encoding=\"UTF-8\" standalone=\"yes\"?><response><header><resultcode>00</resultcode><resultmsg>NORMAL SERVICE.</resultmsg></header><body><items><item><dutyaddr>서울특별시 강남구 일원로 53 (일원동) </dutyaddr><dutymapimg>소림빌딩 1층</dutymapimg><dutyname>E-삼성약국</dutyname><dutytel1>02-3412-1254</dutytel1><dutytime1c>1900</dutytime1c><dutytime1s>0900</dutytime1s><dutytime2c>1900</dutytime2c><dutytime2s>0900</dutytime2s><dutytime3c>1900</dutytime3c><dutytime3s>0900</dutytime3s><dutytime4c>1900</dutytime4c><dutytime4s>0900</dutytime4s><dutytime5c>1900</dutytime5c><dutytime5s>0900</dutytime5s><dutytime6c>1300</dutytime6c><dutytime6s>0900</dutytime6s><hpid>C1104799</hpid><postcdn1>063</postcdn1><postcdn2>43 </postcdn2><rnum>1</rnum><wgs84lat>37.48926299528938</wgs84lat><wgs84lon>127.08181088280385</wgs84lon></item><item><dutyaddr>서울특별시 강남구 일원로 45, 대훈빌딩 1층 (일원동)</dutyaddr><dutymapimg>대청역 4번출구에서 423m</dutymapimg><dutyname>무지개삼성약국</dutyname><dutytel1>02-2226-5467</dutytel1><dutytime1c>1900</dutytime1c><dutytime1s>0900</dutytime1s><dutytime2c>1900</dutytime2c><dutytime2s>0900</dutytime2s><dutytime3c>1900</dutytime3c><dutytime3s>0900</dutytime3s><dutytime4c>1900</dutytime4c><dutytime4s>0900</dutytime4s><dutytime5c>1900</dutytime5c><dutytime5s>0900</dutytime5s><dutytime6c>1300</dutytime6c><dutytime6s>0900</dutytime6s><hpid>C1109561</hpid><postcdn1>063</postcdn1><postcdn2>43 </postcdn2><rnum>2</rnum><wgs84lat>37.489904628125</wgs84lat><wgs84lon>127.08151340546</wgs84lon></item><item><dutyaddr>서울특별시 강남구 광평로19길 10, 101호 (수서동, 까치마을아파트상가)</dutyaddr><dutymapimg>삼성의료원10번출근처/까치마을아파트상가 101호</dutymapimg><dutyname>삼성약국</dutyname><dutytel1>02-451-7281</dutytel1><dutytime1c>2030</dutytime1c><dutytime1s>0900</dutytime1s><dutytime2c>2030</dutytime2c><dutytime2s>0900</dutytime2s><dutytime3c>2030</dutytime3c><dutytime3s>0900</dutytime3s><dutytime4c>2030</dutytime4c><dutytime4s>0900</dutytime4s><dutytime5c>2030</dutytime5c><dutytime5s>0900</dutytime5s><dutytime6c>2030</dutytime6c><dutytime6s>0900</dutytime6s><hpid>C1101446</hpid><postcdn1>063</postcdn1><postcdn2>54 </postcdn2><rnum>3</rnum><wgs84lat>37.485485349127</wgs84lat><wgs84lon>127.086601738647</wgs84lon></item><item><dutyaddr>서울특별시 강남구 일원로 53, 1층 (일원동, 소림빌딩)</dutyaddr><dutyname>이삼성약국</dutyname><dutytel1>02-3412-1254</dutytel1><dutytime1c>1900</dutytime1c><dutytime1s>0900</dutytime1s><dutytime2c>1900</dutytime2c><dutytime2s>0900</dutytime2s><dutytime3c>1900</dutytime3c><dutytime3s>0900</dutytime3s><dutytime4c>1900</dutytime4c><dutytime4s>0900</dutytime4s><dutytime5c>1900</dutytime5c><dutytime5s>0900</dutytime5s><dutytime6c>1300</dutytime6c><dutytime6s>0900</dutytime6s><hpid>C1109216</hpid><postcdn1>063</postcdn1><postcdn2>43 </postcdn2><rnum>4</rnum><wgs84lat>37.4892626357407</wgs84lat><wgs84lon>127.081809638604</wgs84lon></item></items><numofrows>10</numofrows><pageno>1</pageno><totalcount>4</totalcount></body></response>"
      ]
     },
     "execution_count": 6,
     "metadata": {},
     "output_type": "execute_result"
    }
   ],
   "source": [
    "result = requests.get(url)\n",
    "bs_obj = BeautifulSoup(result.content, 'html.parser')\n",
    "bs_obj"
   ]
  },
  {
   "cell_type": "code",
   "execution_count": 7,
   "id": "c6df3940-c7f2-49e6-9ccf-4526ced6b205",
   "metadata": {},
   "outputs": [
    {
     "data": {
      "text/plain": [
       "'E-삼성약국'"
      ]
     },
     "execution_count": 7,
     "metadata": {},
     "output_type": "execute_result"
    }
   ],
   "source": [
    "len(bs_obj.findAll('item')) # 강남구에 4개의 약국에 삼성약국이라는 이름이 들어간다.\n",
    "bs_obj.findAll('item')[0].dutyname.text # 데이터 하나만 가져와서 확인한다."
   ]
  },
  {
   "cell_type": "code",
   "execution_count": 58,
   "id": "72a787af-f916-44f3-8329-9cecfc668c24",
   "metadata": {},
   "outputs": [
    {
     "data": {
      "text/plain": [
       "<item><dutyaddr>서울특별시 강남구 헌릉로571길 7, 강남레체 1층 101호 (세곡동)</dutyaddr><dutyname>100세건강약국</dutyname><dutytel1>02-445-1460</dutytel1><dutytime1c>2000</dutytime1c><dutytime1s>0900</dutytime1s><dutytime2c>2000</dutytime2c><dutytime2s>0900</dutytime2s><dutytime3c>2000</dutytime3c><dutytime3s>0900</dutytime3s><dutytime4c>2000</dutytime4c><dutytime4s>0900</dutytime4s><dutytime5c>2000</dutytime5c><dutytime5s>0900</dutytime5s><dutytime6c>1900</dutytime6c><dutytime6s>0900</dutytime6s><hpid>C1109587</hpid><postcdn1>063</postcdn1><postcdn2>76 </postcdn2><rnum>1</rnum><wgs84lat>37.4660448664795</wgs84lat><wgs84lon>127.101366881801</wgs84lon></item>"
      ]
     },
     "execution_count": 58,
     "metadata": {},
     "output_type": "execute_result"
    }
   ],
   "source": [
    "bs_obj.findAll('item')[0]"
   ]
  },
  {
   "cell_type": "code",
   "execution_count": 8,
   "id": "b0cd3784-dd0c-4c49-bdb8-3cc7d152414a",
   "metadata": {},
   "outputs": [],
   "source": [
    "# 변수명과 파라미터명 매칭시켜서 파라미터 값 설명\n",
    "QT = '1' # 약국 영업 요일 전달\n",
    "QN = quote('삼성약국') # 검색하고자 하는 약국의 이름(부분)\n",
    "Q0 = quote('서울특별시') # 광역시도\n",
    "Q1 = quote('강남구') # 시군구\n",
    "ORD = 'NAME' # 순서, 정렬\n",
    "numOfRows = '6000' # 추출 data 수"
   ]
  },
  {
   "cell_type": "markdown",
   "id": "29c6670d-da0a-4b13-b6ce-7ea0434d43c2",
   "metadata": {},
   "source": [
    "### 서울시의 모든 약국 정보 추출"
   ]
  },
  {
   "cell_type": "code",
   "execution_count": 217,
   "id": "37cb7f4b-7139-4bc8-9de9-2846cf70bdcf",
   "metadata": {},
   "outputs": [
    {
     "data": {
      "text/plain": [
       "'?servicekey=vpA5w%2Frqnqv5OVUvdS1jzdjrdM3lN%2B3Omjbnx64dXdMBMpL7xbLreYIFaigNiexQelZHSsPNMGL3A91tHKF1YQ%3D%3D&Q0=%EC%84%9C%EC%9A%B8%ED%8A%B9%EB%B3%84%EC%8B%9C&ORD=NAME&numOfRows=6000'"
      ]
     },
     "execution_count": 217,
     "metadata": {},
     "output_type": "execute_result"
    }
   ],
   "source": [
    "paramset = '?servicekey=' + servicekey + \\\n",
    "           '&Q0=' + Q0 + \\\n",
    "           '&ORD=' + ORD + '&numOfRows=' + numOfRows\n",
    "paramset"
   ]
  },
  {
   "cell_type": "code",
   "execution_count": 218,
   "id": "92c2b649-6b56-4a90-8c2e-bd4201a439e0",
   "metadata": {},
   "outputs": [],
   "source": [
    "url = endpoint + paramset"
   ]
  },
  {
   "cell_type": "code",
   "execution_count": 219,
   "id": "4544a414-7c27-4801-bc50-9a8e97a30511",
   "metadata": {},
   "outputs": [
    {
     "name": "stderr",
     "output_type": "stream",
     "text": [
      "C:\\Users\\gherwt\\AppData\\Local\\Programs\\Python\\Python310\\lib\\site-packages\\bs4\\builder\\__init__.py:545: XMLParsedAsHTMLWarning: It looks like you're parsing an XML document using an HTML parser. If this really is an HTML document (maybe it's XHTML?), you can ignore or filter this warning. If it's XML, you should know that using an XML parser will be more reliable. To parse this document as XML, make sure you have the lxml package installed, and pass the keyword argument `features=\"xml\"` into the BeautifulSoup constructor.\n",
      "  warnings.warn(\n"
     ]
    },
    {
     "data": {
      "text/plain": [
       "5407"
      ]
     },
     "execution_count": 219,
     "metadata": {},
     "output_type": "execute_result"
    }
   ],
   "source": [
    "res = requests.get(url)\n",
    "bs_obj = BeautifulSoup(res.content, 'html.parser')\n",
    "res_fin = bs_obj.findAll('item')\n",
    "len(res_fin)"
   ]
  },
  {
   "cell_type": "code",
   "execution_count": 223,
   "id": "5fc1d9cd-07d7-4cc3-972e-408151c4b370",
   "metadata": {},
   "outputs": [],
   "source": [
    "# 서울시의 약국 정보 data df 에 저장\n",
    "name = [item.dutyname.text for item in res_fin]\n",
    "addr = [item.dutyaddr.text for item in res_fin]\n",
    "tel = [item.dutytel1.text for item in res_fin]"
   ]
  },
  {
   "cell_type": "code",
   "execution_count": 221,
   "id": "836c5fa4-870e-4a54-ab0a-88ece9cb0382",
   "metadata": {},
   "outputs": [
    {
     "data": {
      "text/html": [
       "<div>\n",
       "<style scoped>\n",
       "    .dataframe tbody tr th:only-of-type {\n",
       "        vertical-align: middle;\n",
       "    }\n",
       "\n",
       "    .dataframe tbody tr th {\n",
       "        vertical-align: top;\n",
       "    }\n",
       "\n",
       "    .dataframe thead th {\n",
       "        text-align: right;\n",
       "    }\n",
       "</style>\n",
       "<table border=\"1\" class=\"dataframe\">\n",
       "  <thead>\n",
       "    <tr style=\"text-align: right;\">\n",
       "      <th></th>\n",
       "      <th>약국명</th>\n",
       "      <th>주소</th>\n",
       "      <th>전화번호</th>\n",
       "    </tr>\n",
       "  </thead>\n",
       "  <tbody>\n",
       "    <tr>\n",
       "      <th>5402</th>\n",
       "      <td>힐스테이트솔약국</td>\n",
       "      <td>강서구</td>\n",
       "      <td>02-2695-6121</td>\n",
       "    </tr>\n",
       "    <tr>\n",
       "      <th>5403</th>\n",
       "      <td>힘찬약국</td>\n",
       "      <td>도봉구</td>\n",
       "      <td>02-996-9114</td>\n",
       "    </tr>\n",
       "    <tr>\n",
       "      <th>5404</th>\n",
       "      <td>힘찬약국</td>\n",
       "      <td>중구</td>\n",
       "      <td>02-2279-7588</td>\n",
       "    </tr>\n",
       "    <tr>\n",
       "      <th>5405</th>\n",
       "      <td>힘찬약국</td>\n",
       "      <td>광진구</td>\n",
       "      <td>02-454-1221</td>\n",
       "    </tr>\n",
       "    <tr>\n",
       "      <th>5406</th>\n",
       "      <td>힘챤약국</td>\n",
       "      <td>성북구</td>\n",
       "      <td>02-942-2088</td>\n",
       "    </tr>\n",
       "  </tbody>\n",
       "</table>\n",
       "</div>"
      ],
      "text/plain": [
       "           약국명   주소          전화번호\n",
       "5402  힐스테이트솔약국  강서구  02-2695-6121\n",
       "5403      힘찬약국  도봉구   02-996-9114\n",
       "5404      힘찬약국  중구   02-2279-7588\n",
       "5405      힘찬약국  광진구   02-454-1221\n",
       "5406      힘챤약국  성북구   02-942-2088"
      ]
     },
     "execution_count": 221,
     "metadata": {},
     "output_type": "execute_result"
    }
   ],
   "source": [
    "df_fin = pd.DataFrame({'약국명' : name, '주소' : addr, '전화번호' : tel})\n",
    "df_fin.tail()"
   ]
  },
  {
   "cell_type": "code",
   "execution_count": 222,
   "id": "0ca3bed8-5332-440a-96d7-1c7ea309481d",
   "metadata": {},
   "outputs": [],
   "source": [
    "df_fin.to_csv('crawl_data/서울시_약국정보.csv')"
   ]
  },
  {
   "cell_type": "code",
   "execution_count": null,
   "id": "db8f52f0-48ea-4c4e-889a-33f0484d8583",
   "metadata": {},
   "outputs": [],
   "source": []
  },
  {
   "cell_type": "code",
   "execution_count": null,
   "id": "92487d41-464b-4042-8658-021a6cb83807",
   "metadata": {},
   "outputs": [],
   "source": [
    "### 서울시 약국 중 월요일 야간에 운영하는 약국 정보"
   ]
  },
  {
   "cell_type": "code",
   "execution_count": 27,
   "id": "52991365-1400-49ae-951b-e8ced529d18a",
   "metadata": {},
   "outputs": [
    {
     "data": {
      "text/plain": [
       "False"
      ]
     },
     "execution_count": 27,
     "metadata": {},
     "output_type": "execute_result"
    }
   ],
   "source": [
    "# 9시 이후 야간에 운영하는 약국을 찾기 위한 조건 설정\n",
    "# dutytime1c 태그의 텍스트를 활용해서 조건 확인\n",
    "int(res_fin[1].dutytime1c.text) > 2100"
   ]
  },
  {
   "cell_type": "code",
   "execution_count": 49,
   "id": "489aa3dd-5ca4-4e60-abb6-772bfe4e3289",
   "metadata": {},
   "outputs": [],
   "source": [
    "# 초기 변수 생성\n",
    "name = []\n",
    "adr = []\n",
    "tel = []\n",
    "c_time_li = []\n",
    "count = 0"
   ]
  },
  {
   "cell_type": "code",
   "execution_count": 50,
   "id": "aac6ea29-5e1a-4cba-9278-fa6a6d87d9d1",
   "metadata": {},
   "outputs": [],
   "source": [
    "for item in res_fin:\n",
    "    tmp_time = item.find('dutytime1c')\n",
    "    if tmp_time != None:\n",
    "        c_time =  int(tmp_time.text)\n",
    "        if c_time > 2100:\n",
    "            count += 1\n",
    "            name.append(item.find('dutyname').text)\n",
    "            adr.append(item.find('dutyaddr').text)\n",
    "            tel.append(item.find('dutytel1').text)\n",
    "            c_time_li.append(item.find('dutytime1c').text)"
   ]
  },
  {
   "cell_type": "code",
   "execution_count": 52,
   "id": "c3e844a1-bfdc-45ad-9d2f-62449a492272",
   "metadata": {},
   "outputs": [
    {
     "data": {
      "text/html": [
       "<div>\n",
       "<style scoped>\n",
       "    .dataframe tbody tr th:only-of-type {\n",
       "        vertical-align: middle;\n",
       "    }\n",
       "\n",
       "    .dataframe tbody tr th {\n",
       "        vertical-align: top;\n",
       "    }\n",
       "\n",
       "    .dataframe thead th {\n",
       "        text-align: right;\n",
       "    }\n",
       "</style>\n",
       "<table border=\"1\" class=\"dataframe\">\n",
       "  <thead>\n",
       "    <tr style=\"text-align: right;\">\n",
       "      <th></th>\n",
       "      <th>약국명</th>\n",
       "      <th>주소</th>\n",
       "      <th>전화번호</th>\n",
       "      <th>종료시간</th>\n",
       "    </tr>\n",
       "  </thead>\n",
       "  <tbody>\n",
       "    <tr>\n",
       "      <th>747</th>\n",
       "      <td>휴베이스하이약국</td>\n",
       "      <td>서울특별시 중구 명동9가길 14, 메트로호텔 1층 (을지로2가)</td>\n",
       "      <td>070-7778-8275</td>\n",
       "      <td>2200</td>\n",
       "    </tr>\n",
       "    <tr>\n",
       "      <th>748</th>\n",
       "      <td>휴베이스하이약국</td>\n",
       "      <td>서울특별시 중구 명동9가길 14, 메트로호텔 1층 (을지로2가)</td>\n",
       "      <td>070-7798-8275</td>\n",
       "      <td>2200</td>\n",
       "    </tr>\n",
       "    <tr>\n",
       "      <th>749</th>\n",
       "      <td>흥명약국</td>\n",
       "      <td>서울특별시 동대문구 고산자로30길 56 (용두동)</td>\n",
       "      <td>02-963-0617</td>\n",
       "      <td>2300</td>\n",
       "    </tr>\n",
       "    <tr>\n",
       "      <th>750</th>\n",
       "      <td>희망약국</td>\n",
       "      <td>서울특별시 관악구 쑥고개로 53, 1층 (봉천동)</td>\n",
       "      <td>02-874-9488</td>\n",
       "      <td>2130</td>\n",
       "    </tr>\n",
       "    <tr>\n",
       "      <th>751</th>\n",
       "      <td>희망약국</td>\n",
       "      <td>서울특별시 노원구 동일로230가길 15, 103호 (상계동, 우방아파트상가)</td>\n",
       "      <td>02-939-9831</td>\n",
       "      <td>2200</td>\n",
       "    </tr>\n",
       "  </tbody>\n",
       "</table>\n",
       "</div>"
      ],
      "text/plain": [
       "          약국명                                          주소           전화번호  종료시간\n",
       "747  휴베이스하이약국         서울특별시 중구 명동9가길 14, 메트로호텔 1층 (을지로2가)  070-7778-8275  2200\n",
       "748  휴베이스하이약국         서울특별시 중구 명동9가길 14, 메트로호텔 1층 (을지로2가)  070-7798-8275  2200\n",
       "749      흥명약국                 서울특별시 동대문구 고산자로30길 56 (용두동)    02-963-0617  2300\n",
       "750      희망약국                 서울특별시 관악구 쑥고개로 53, 1층 (봉천동)    02-874-9488  2130\n",
       "751      희망약국  서울특별시 노원구 동일로230가길 15, 103호 (상계동, 우방아파트상가)    02-939-9831  2200"
      ]
     },
     "execution_count": 52,
     "metadata": {},
     "output_type": "execute_result"
    }
   ],
   "source": [
    "df_mon_night = pd.DataFrame({'약국명' : name, '주소' : adr, '전화번호' : tel, '종료시간' : c_time_li})\n",
    "df_mon_night.tail()"
   ]
  },
  {
   "cell_type": "code",
   "execution_count": 53,
   "id": "1c6cdc14-0e8c-4aed-8756-50fc0c2ec500",
   "metadata": {},
   "outputs": [],
   "source": [
    "df_mon_night.to_csv('crawl_data/서울시월요일심야영업약국정보.csv')"
   ]
  },
  {
   "cell_type": "markdown",
   "id": "2e4c1b23-6ec4-42ca-a71f-2872d95547bf",
   "metadata": {},
   "source": [
    "### 연습문제\n",
    "- 슬랙으로 코드 제출\n",
    "- 서울시에서 토요일이나 일요일에 영업하는 약국의 정보를 추출\n",
    "    - 약국명, 주소, 전화번호, 토요일영업여부, 일요일영업여부, 종료시간\n",
    "    - 토요일/일요일영업여부값은 : Y/N\n",
    "- 서울시 각 구별로 약국의 수를 비교하는 막대그래프 생성"
   ]
  },
  {
   "cell_type": "code",
   "execution_count": 170,
   "id": "2559c1ab-32cc-4c5c-93f0-ae1b48eafe69",
   "metadata": {},
   "outputs": [],
   "source": [
    "# 변수명과 파라미터명 매칭시켜서 파라미터 값 설명\n",
    "QT = '6' # 약국 영업 요일 전달\n",
    "Q0 = quote('서울특별시') # 광역시도\n",
    "ORD = 'NAME' # 순서, 정렬\n",
    "numOfRows = '10' # 추출 data 수"
   ]
  },
  {
   "cell_type": "code",
   "execution_count": 171,
   "id": "e37fa4f7-9135-490b-9134-affc3f4b654e",
   "metadata": {},
   "outputs": [
    {
     "data": {
      "text/plain": [
       "'?servicekey=vpA5w%2Frqnqv5OVUvdS1jzdjrdM3lN%2B3Omjbnx64dXdMBMpL7xbLreYIFaigNiexQelZHSsPNMGL3A91tHKF1YQ%3D%3D&QT=6&Q0=%EC%84%9C%EC%9A%B8%ED%8A%B9%EB%B3%84%EC%8B%9C&ORD=NAME&numOfRows=10'"
      ]
     },
     "execution_count": 171,
     "metadata": {},
     "output_type": "execute_result"
    }
   ],
   "source": [
    "paramset = '?servicekey=' + servicekey + \\\n",
    "           '&QT=' + QT + \\\n",
    "           '&Q0=' + Q0 + \\\n",
    "           '&ORD=' + ORD + '&numOfRows=' + numOfRows\n",
    "paramset"
   ]
  },
  {
   "cell_type": "code",
   "execution_count": 172,
   "id": "33b98232-7b46-492c-9012-bdbcf41d2887",
   "metadata": {},
   "outputs": [],
   "source": [
    "# 초기 변수 생성\n",
    "name = []\n",
    "adr = []\n",
    "tel = []\n",
    "c_time_li = []\n",
    "open = []\n",
    "count = 0"
   ]
  },
  {
   "cell_type": "code",
   "execution_count": 173,
   "id": "78a128ba-bd69-4fd9-812e-c5ade96c8b84",
   "metadata": {},
   "outputs": [],
   "source": [
    "for item in res_fin:\n",
    "    tmp_time = item.find('dutytime1c')\n",
    "    if tmp_time != None:\n",
    "        c_time = 'yes'\n",
    "        count += 1\n",
    "        name.append(item.find('dutyname').text)\n",
    "        adr.append(item.find('dutyaddr').text)\n",
    "        tel.append(item.find('dutytel1').text)\n",
    "        c_time_li.append(item.find('dutytime1c').text)\n",
    "        open.append(c_time)"
   ]
  },
  {
   "cell_type": "code",
   "execution_count": 174,
   "id": "56d4cd12-f045-49ad-9b82-5f6cab165b01",
   "metadata": {},
   "outputs": [
    {
     "data": {
      "text/html": [
       "<div>\n",
       "<style scoped>\n",
       "    .dataframe tbody tr th:only-of-type {\n",
       "        vertical-align: middle;\n",
       "    }\n",
       "\n",
       "    .dataframe tbody tr th {\n",
       "        vertical-align: top;\n",
       "    }\n",
       "\n",
       "    .dataframe thead th {\n",
       "        text-align: right;\n",
       "    }\n",
       "</style>\n",
       "<table border=\"1\" class=\"dataframe\">\n",
       "  <thead>\n",
       "    <tr style=\"text-align: right;\">\n",
       "      <th></th>\n",
       "      <th>약국명</th>\n",
       "      <th>주소</th>\n",
       "      <th>전화번호</th>\n",
       "      <th>토요일종료시간</th>\n",
       "      <th>토요일영업여부</th>\n",
       "    </tr>\n",
       "  </thead>\n",
       "  <tbody>\n",
       "    <tr>\n",
       "      <th>5393</th>\n",
       "      <td>힐스테이트솔약국</td>\n",
       "      <td>서울특별시 강서구 강서로 242, 상가동 1층 151호 (화곡동, 강서힐스테이트)</td>\n",
       "      <td>02-2695-6121</td>\n",
       "      <td>1930</td>\n",
       "      <td>yes</td>\n",
       "    </tr>\n",
       "    <tr>\n",
       "      <th>5394</th>\n",
       "      <td>힘찬약국</td>\n",
       "      <td>서울특별시 도봉구 삼양로 580-4, 1층 101호 (쌍문동, 노스브릭)</td>\n",
       "      <td>02-996-9114</td>\n",
       "      <td>2030</td>\n",
       "      <td>yes</td>\n",
       "    </tr>\n",
       "    <tr>\n",
       "      <th>5395</th>\n",
       "      <td>힘찬약국</td>\n",
       "      <td>서울특별시 중구 장충단로13길 7, 401호 (을지로6가, 을호빌딩)</td>\n",
       "      <td>02-2279-7588</td>\n",
       "      <td>2000</td>\n",
       "      <td>yes</td>\n",
       "    </tr>\n",
       "    <tr>\n",
       "      <th>5396</th>\n",
       "      <td>힘찬약국</td>\n",
       "      <td>서울특별시 광진구 뚝섬로 631-1, 1층 (자양동)</td>\n",
       "      <td>02-454-1221</td>\n",
       "      <td>1930</td>\n",
       "      <td>yes</td>\n",
       "    </tr>\n",
       "    <tr>\n",
       "      <th>5397</th>\n",
       "      <td>힘챤약국</td>\n",
       "      <td>서울특별시 성북구 보국문로 16-1</td>\n",
       "      <td>02-942-2088</td>\n",
       "      <td>1900</td>\n",
       "      <td>yes</td>\n",
       "    </tr>\n",
       "  </tbody>\n",
       "</table>\n",
       "</div>"
      ],
      "text/plain": [
       "           약국명                                             주소          전화번호  \\\n",
       "5393  힐스테이트솔약국  서울특별시 강서구 강서로 242, 상가동 1층 151호 (화곡동, 강서힐스테이트)  02-2695-6121   \n",
       "5394      힘찬약국       서울특별시 도봉구 삼양로 580-4, 1층 101호 (쌍문동, 노스브릭)   02-996-9114   \n",
       "5395      힘찬약국         서울특별시 중구 장충단로13길 7, 401호 (을지로6가, 을호빌딩)  02-2279-7588   \n",
       "5396      힘찬약국                  서울특별시 광진구 뚝섬로 631-1, 1층 (자양동)   02-454-1221   \n",
       "5397      힘챤약국                            서울특별시 성북구 보국문로 16-1   02-942-2088   \n",
       "\n",
       "     토요일종료시간 토요일영업여부  \n",
       "5393    1930     yes  \n",
       "5394    2030     yes  \n",
       "5395    2000     yes  \n",
       "5396    1930     yes  \n",
       "5397    1900     yes  "
      ]
     },
     "execution_count": 174,
     "metadata": {},
     "output_type": "execute_result"
    }
   ],
   "source": [
    "df_sat = pd.DataFrame({'약국명' : name, '주소' : adr, '전화번호' : tel, '토요일종료시간' : c_time_li, '토요일영업여부' : open})\n",
    "df_sat.tail()"
   ]
  },
  {
   "cell_type": "code",
   "execution_count": 175,
   "id": "9f10a469-e9fc-4f5a-855d-7286cfa75d5e",
   "metadata": {},
   "outputs": [],
   "source": [
    "# 변수명과 파라미터명 매칭시켜서 파라미터 값 설명\n",
    "QT = '7' # 약국 영업 요일 전달\n",
    "Q0 = quote('서울특별시') # 광역시도\n",
    "ORD = 'NAME' # 순서, 정렬\n",
    "numOfRows = '10' # 추출 data 수"
   ]
  },
  {
   "cell_type": "code",
   "execution_count": 176,
   "id": "f9619da1-058e-4738-8e04-86aca7b04c46",
   "metadata": {},
   "outputs": [
    {
     "data": {
      "text/plain": [
       "'?servicekey=vpA5w%2Frqnqv5OVUvdS1jzdjrdM3lN%2B3Omjbnx64dXdMBMpL7xbLreYIFaigNiexQelZHSsPNMGL3A91tHKF1YQ%3D%3D&QT=7&Q0=%EC%84%9C%EC%9A%B8%ED%8A%B9%EB%B3%84%EC%8B%9C&ORD=NAME&numOfRows=10'"
      ]
     },
     "execution_count": 176,
     "metadata": {},
     "output_type": "execute_result"
    }
   ],
   "source": [
    "paramset = '?servicekey=' + servicekey + \\\n",
    "           '&QT=' + QT + \\\n",
    "           '&Q0=' + Q0 + \\\n",
    "           '&ORD=' + ORD + '&numOfRows=' + numOfRows\n",
    "paramset"
   ]
  },
  {
   "cell_type": "code",
   "execution_count": 177,
   "id": "b66de3f9-84e2-406c-9547-4445cf10b3e4",
   "metadata": {},
   "outputs": [],
   "source": [
    "# 초기 변수 생성\n",
    "name = []\n",
    "adr = []\n",
    "tel = []\n",
    "c_time_li = []\n",
    "open = []\n",
    "count = 0"
   ]
  },
  {
   "cell_type": "code",
   "execution_count": 178,
   "id": "f7093275-fd5a-47d8-901a-53360a945d61",
   "metadata": {},
   "outputs": [],
   "source": [
    "for item in res_fin:\n",
    "    tmp_time = item.find('dutytime1c')\n",
    "    if tmp_time != None:\n",
    "        c_time = 'yes'\n",
    "        count += 1\n",
    "        name.append(item.find('dutyname').text)\n",
    "        adr.append(item.find('dutyaddr').text)\n",
    "        tel.append(item.find('dutytel1').text)\n",
    "        c_time_li.append(item.find('dutytime1c').text)\n",
    "        open.append(c_time)"
   ]
  },
  {
   "cell_type": "code",
   "execution_count": 179,
   "id": "cd9a06c2-3b36-4ba2-8d2c-bb3476d53d07",
   "metadata": {},
   "outputs": [
    {
     "data": {
      "text/html": [
       "<div>\n",
       "<style scoped>\n",
       "    .dataframe tbody tr th:only-of-type {\n",
       "        vertical-align: middle;\n",
       "    }\n",
       "\n",
       "    .dataframe tbody tr th {\n",
       "        vertical-align: top;\n",
       "    }\n",
       "\n",
       "    .dataframe thead th {\n",
       "        text-align: right;\n",
       "    }\n",
       "</style>\n",
       "<table border=\"1\" class=\"dataframe\">\n",
       "  <thead>\n",
       "    <tr style=\"text-align: right;\">\n",
       "      <th></th>\n",
       "      <th>약국명</th>\n",
       "      <th>주소</th>\n",
       "      <th>전화번호</th>\n",
       "      <th>일요일종료시간</th>\n",
       "      <th>일요일영업여부</th>\n",
       "    </tr>\n",
       "  </thead>\n",
       "  <tbody>\n",
       "    <tr>\n",
       "      <th>5393</th>\n",
       "      <td>힐스테이트솔약국</td>\n",
       "      <td>서울특별시 강서구 강서로 242, 상가동 1층 151호 (화곡동, 강서힐스테이트)</td>\n",
       "      <td>02-2695-6121</td>\n",
       "      <td>1930</td>\n",
       "      <td>yes</td>\n",
       "    </tr>\n",
       "    <tr>\n",
       "      <th>5394</th>\n",
       "      <td>힘찬약국</td>\n",
       "      <td>서울특별시 도봉구 삼양로 580-4, 1층 101호 (쌍문동, 노스브릭)</td>\n",
       "      <td>02-996-9114</td>\n",
       "      <td>2030</td>\n",
       "      <td>yes</td>\n",
       "    </tr>\n",
       "    <tr>\n",
       "      <th>5395</th>\n",
       "      <td>힘찬약국</td>\n",
       "      <td>서울특별시 중구 장충단로13길 7, 401호 (을지로6가, 을호빌딩)</td>\n",
       "      <td>02-2279-7588</td>\n",
       "      <td>2000</td>\n",
       "      <td>yes</td>\n",
       "    </tr>\n",
       "    <tr>\n",
       "      <th>5396</th>\n",
       "      <td>힘찬약국</td>\n",
       "      <td>서울특별시 광진구 뚝섬로 631-1, 1층 (자양동)</td>\n",
       "      <td>02-454-1221</td>\n",
       "      <td>1930</td>\n",
       "      <td>yes</td>\n",
       "    </tr>\n",
       "    <tr>\n",
       "      <th>5397</th>\n",
       "      <td>힘챤약국</td>\n",
       "      <td>서울특별시 성북구 보국문로 16-1</td>\n",
       "      <td>02-942-2088</td>\n",
       "      <td>1900</td>\n",
       "      <td>yes</td>\n",
       "    </tr>\n",
       "  </tbody>\n",
       "</table>\n",
       "</div>"
      ],
      "text/plain": [
       "           약국명                                             주소          전화번호  \\\n",
       "5393  힐스테이트솔약국  서울특별시 강서구 강서로 242, 상가동 1층 151호 (화곡동, 강서힐스테이트)  02-2695-6121   \n",
       "5394      힘찬약국       서울특별시 도봉구 삼양로 580-4, 1층 101호 (쌍문동, 노스브릭)   02-996-9114   \n",
       "5395      힘찬약국         서울특별시 중구 장충단로13길 7, 401호 (을지로6가, 을호빌딩)  02-2279-7588   \n",
       "5396      힘찬약국                  서울특별시 광진구 뚝섬로 631-1, 1층 (자양동)   02-454-1221   \n",
       "5397      힘챤약국                            서울특별시 성북구 보국문로 16-1   02-942-2088   \n",
       "\n",
       "     일요일종료시간 일요일영업여부  \n",
       "5393    1930     yes  \n",
       "5394    2030     yes  \n",
       "5395    2000     yes  \n",
       "5396    1930     yes  \n",
       "5397    1900     yes  "
      ]
     },
     "execution_count": 179,
     "metadata": {},
     "output_type": "execute_result"
    }
   ],
   "source": [
    "df_sun = pd.DataFrame({'약국명' : name, '주소' : adr, '전화번호' : tel, '일요일종료시간' : c_time_li, '일요일영업여부' : open})\n",
    "df_sun.tail()"
   ]
  },
  {
   "cell_type": "code",
   "execution_count": 183,
   "id": "84261cb1-1b27-4fa3-adc9-eb7378000fed",
   "metadata": {},
   "outputs": [],
   "source": [
    "df = pd.merge(df_sat, df_sun, how='inner', on=None)\n",
    "df.to_csv('crawl_data/주말약국정보.csv')"
   ]
  },
  {
   "cell_type": "markdown",
   "id": "c58dfee2-2d31-4714-9610-2b21ea260673",
   "metadata": {},
   "source": [
    "### 구별 약국정보"
   ]
  },
  {
   "cell_type": "code",
   "execution_count": 224,
   "id": "4c06dc00-9e7c-4b85-9b85-9abec6f5aa0e",
   "metadata": {},
   "outputs": [],
   "source": [
    "# 변수명과 파라미터명 매칭시켜서 파라미터 값 설명\n",
    "Q0 = quote('서울특별시') # 광역시도\n",
    "ORD = 'NAME' # 순서, 정렬\n",
    "numOfRows = '6000' # 추출 data 수"
   ]
  },
  {
   "cell_type": "code",
   "execution_count": 225,
   "id": "d55e397f-eaa9-4894-91d7-9b603c639667",
   "metadata": {},
   "outputs": [
    {
     "data": {
      "text/plain": [
       "'?servicekey=vpA5w%2Frqnqv5OVUvdS1jzdjrdM3lN%2B3Omjbnx64dXdMBMpL7xbLreYIFaigNiexQelZHSsPNMGL3A91tHKF1YQ%3D%3D&Q0=%EC%84%9C%EC%9A%B8%ED%8A%B9%EB%B3%84%EC%8B%9C&ORD=NAME&numOfRows=6000'"
      ]
     },
     "execution_count": 225,
     "metadata": {},
     "output_type": "execute_result"
    }
   ],
   "source": [
    "paramset = '?servicekey=' + servicekey + \\\n",
    "           '&Q0=' + Q0 + \\\n",
    "           '&ORD=' + ORD + '&numOfRows=' + numOfRows\n",
    "paramset"
   ]
  },
  {
   "cell_type": "code",
   "execution_count": 226,
   "id": "f882f525-7196-4ca4-babd-1efbd2d6861c",
   "metadata": {},
   "outputs": [
    {
     "data": {
      "text/plain": [
       "'http://apis.data.go.kr/B552657/ErmctInsttInfoInqireService/getParmacyListInfoInqire?servicekey=vpA5w%2Frqnqv5OVUvdS1jzdjrdM3lN%2B3Omjbnx64dXdMBMpL7xbLreYIFaigNiexQelZHSsPNMGL3A91tHKF1YQ%3D%3D&Q0=%EC%84%9C%EC%9A%B8%ED%8A%B9%EB%B3%84%EC%8B%9C&ORD=NAME&numOfRows=6000'"
      ]
     },
     "execution_count": 226,
     "metadata": {},
     "output_type": "execute_result"
    }
   ],
   "source": [
    "url = endpoint + paramset\n",
    "url"
   ]
  },
  {
   "cell_type": "code",
   "execution_count": 227,
   "id": "2af77671-6959-4f70-9c1f-eaaf836c4952",
   "metadata": {},
   "outputs": [
    {
     "name": "stderr",
     "output_type": "stream",
     "text": [
      "C:\\Users\\gherwt\\AppData\\Local\\Programs\\Python\\Python310\\lib\\site-packages\\bs4\\builder\\__init__.py:545: XMLParsedAsHTMLWarning: It looks like you're parsing an XML document using an HTML parser. If this really is an HTML document (maybe it's XHTML?), you can ignore or filter this warning. If it's XML, you should know that using an XML parser will be more reliable. To parse this document as XML, make sure you have the lxml package installed, and pass the keyword argument `features=\"xml\"` into the BeautifulSoup constructor.\n",
      "  warnings.warn(\n"
     ]
    },
    {
     "data": {
      "text/plain": [
       "5407"
      ]
     },
     "execution_count": 227,
     "metadata": {},
     "output_type": "execute_result"
    }
   ],
   "source": [
    "res = requests.get(url)\n",
    "bs_obj = BeautifulSoup(res.content, 'html.parser')\n",
    "res_fin = bs_obj.findAll('item')\n",
    "len(res_fin)"
   ]
  },
  {
   "cell_type": "code",
   "execution_count": 228,
   "id": "5b6962b0-d480-4142-9807-b5027d7bffdf",
   "metadata": {},
   "outputs": [],
   "source": [
    "name = [item.dutyname.text for item in res_fin]\n",
    "addr = [item.dutyaddr.text[6:9] for item in res_fin]\n",
    "tel = [item.dutytel1.text for item in res_fin]"
   ]
  },
  {
   "cell_type": "code",
   "execution_count": 229,
   "id": "18be91aa-1475-457c-a615-9387e9e328fd",
   "metadata": {},
   "outputs": [
    {
     "data": {
      "text/html": [
       "<div>\n",
       "<style scoped>\n",
       "    .dataframe tbody tr th:only-of-type {\n",
       "        vertical-align: middle;\n",
       "    }\n",
       "\n",
       "    .dataframe tbody tr th {\n",
       "        vertical-align: top;\n",
       "    }\n",
       "\n",
       "    .dataframe thead th {\n",
       "        text-align: right;\n",
       "    }\n",
       "</style>\n",
       "<table border=\"1\" class=\"dataframe\">\n",
       "  <thead>\n",
       "    <tr style=\"text-align: right;\">\n",
       "      <th></th>\n",
       "      <th>약국명</th>\n",
       "      <th>주소</th>\n",
       "      <th>전화번호</th>\n",
       "    </tr>\n",
       "  </thead>\n",
       "  <tbody>\n",
       "    <tr>\n",
       "      <th>0</th>\n",
       "      <td>100세건강약국</td>\n",
       "      <td>강남구</td>\n",
       "      <td>02-445-1460</td>\n",
       "    </tr>\n",
       "    <tr>\n",
       "      <th>1</th>\n",
       "      <td>100세약국</td>\n",
       "      <td>영등포</td>\n",
       "      <td>02-2678-8217</td>\n",
       "    </tr>\n",
       "    <tr>\n",
       "      <th>2</th>\n",
       "      <td>13층약국</td>\n",
       "      <td>중구</td>\n",
       "      <td>070-7718-1316</td>\n",
       "    </tr>\n",
       "    <tr>\n",
       "      <th>3</th>\n",
       "      <td>1898광장약국</td>\n",
       "      <td>중구</td>\n",
       "      <td>02-0000-0000</td>\n",
       "    </tr>\n",
       "    <tr>\n",
       "      <th>4</th>\n",
       "      <td>1번약국</td>\n",
       "      <td>관악구</td>\n",
       "      <td>02-872-7583</td>\n",
       "    </tr>\n",
       "    <tr>\n",
       "      <th>...</th>\n",
       "      <td>...</td>\n",
       "      <td>...</td>\n",
       "      <td>...</td>\n",
       "    </tr>\n",
       "    <tr>\n",
       "      <th>5402</th>\n",
       "      <td>힐스테이트솔약국</td>\n",
       "      <td>강서구</td>\n",
       "      <td>02-2695-6121</td>\n",
       "    </tr>\n",
       "    <tr>\n",
       "      <th>5403</th>\n",
       "      <td>힘찬약국</td>\n",
       "      <td>도봉구</td>\n",
       "      <td>02-996-9114</td>\n",
       "    </tr>\n",
       "    <tr>\n",
       "      <th>5404</th>\n",
       "      <td>힘찬약국</td>\n",
       "      <td>중구</td>\n",
       "      <td>02-2279-7588</td>\n",
       "    </tr>\n",
       "    <tr>\n",
       "      <th>5405</th>\n",
       "      <td>힘찬약국</td>\n",
       "      <td>광진구</td>\n",
       "      <td>02-454-1221</td>\n",
       "    </tr>\n",
       "    <tr>\n",
       "      <th>5406</th>\n",
       "      <td>힘챤약국</td>\n",
       "      <td>성북구</td>\n",
       "      <td>02-942-2088</td>\n",
       "    </tr>\n",
       "  </tbody>\n",
       "</table>\n",
       "<p>5407 rows × 3 columns</p>\n",
       "</div>"
      ],
      "text/plain": [
       "           약국명   주소           전화번호\n",
       "0     100세건강약국  강남구    02-445-1460\n",
       "1       100세약국  영등포   02-2678-8217\n",
       "2        13층약국  중구   070-7718-1316\n",
       "3     1898광장약국  중구    02-0000-0000\n",
       "4         1번약국  관악구    02-872-7583\n",
       "...        ...  ...            ...\n",
       "5402  힐스테이트솔약국  강서구   02-2695-6121\n",
       "5403      힘찬약국  도봉구    02-996-9114\n",
       "5404      힘찬약국  중구    02-2279-7588\n",
       "5405      힘찬약국  광진구    02-454-1221\n",
       "5406      힘챤약국  성북구    02-942-2088\n",
       "\n",
       "[5407 rows x 3 columns]"
      ]
     },
     "execution_count": 229,
     "metadata": {},
     "output_type": "execute_result"
    }
   ],
   "source": [
    "df = pd.DataFrame({'약국명' : name, '주소' : addr, '전화번호' : tel})\n",
    "df"
   ]
  },
  {
   "cell_type": "code",
   "execution_count": 236,
   "id": "98931b94-a61b-437d-8226-7fa161f31676",
   "metadata": {},
   "outputs": [],
   "source": [
    "from matplotlib import pyplot as plt\n",
    "import numpy as np"
   ]
  },
  {
   "cell_type": "code",
   "execution_count": 237,
   "id": "bf06f6a4-9b19-4486-a208-5d4761265aaf",
   "metadata": {},
   "outputs": [],
   "source": [
    "import platform\n",
    "\n",
    "from matplotlib import font_manager, rc\n",
    "plt.rcParams['axes.unicode_minus'] = False\n",
    "\n",
    "if platform.system() == 'Darwin':  # 맥OS\n",
    "    rc('font', family='AppleGothic')\n",
    "elif platform.system() == 'Windows':  # 윈도우\n",
    "    path = \"c:/Windows/Fonts/malgun.ttf\"\n",
    "    font_name = font_manager.FontProperties(fname=path).get_name()\n",
    "    rc('font', family=font_name)\n",
    "else:\n",
    "    print('Unknown system...  sorry~~~')"
   ]
  },
  {
   "cell_type": "code",
   "execution_count": 240,
   "id": "882addf9-8ce7-4c82-8dc5-61cbb8b9a1e9",
   "metadata": {},
   "outputs": [
    {
     "data": {
      "image/png": "[encoded data removed]",
      "text/plain": [
       "<Figure size 2000x500 with 1 Axes>"
      ]
     },
     "metadata": {},
     "output_type": "display_data"
    }
   ],
   "source": [
    "# 각 구별로 약국 수를 계산합니다.\n",
    "df_grouped = df.groupby('주소')['약국명'].count()\n",
    "\n",
    "# 그래프를 그립니다.\n",
    "plt.figure(figsize=(20, 5))\n",
    "plt.bar(df_grouped.index, df_grouped.values)\n",
    "plt.xlabel('구')\n",
    "plt.ylabel('약국 수')\n",
    "plt.title('서울시 약국 수 분포')\n",
    "plt.show()"
   ]
  },
  {
   "cell_type": "code",
   "execution_count": null,
   "id": "22f74bde-e25d-4f53-ad38-a8a0bebd4fd8",
   "metadata": {},
   "outputs": [],
   "source": []
  }
 ],
 "metadata": {
  "kernelspec": {
   "display_name": "Python 3 (ipykernel)",
   "language": "python",
   "name": "python3"
  },
  "language_info": {
   "codemirror_mode": {
    "name": "ipython",
    "version": 3
   },
   "file_extension": ".py",
   "mimetype": "text/x-python",
   "name": "python",
   "nbconvert_exporter": "python",
   "pygments_lexer": "ipython3",
   "version": "3.10.10"
  }
 },
 "nbformat": 4,
 "nbformat_minor": 5
}
