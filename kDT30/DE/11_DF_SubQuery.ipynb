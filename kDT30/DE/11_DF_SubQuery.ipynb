{
 "cells": [
  {
   "cell_type": "code",
   "execution_count": 1,
   "id": "145e9bce",
   "metadata": {},
   "outputs": [],
   "source": [
    "from IPython.core.interactiveshell import InteractiveShell\n",
    "InteractiveShell.ast_node_interactivity = \"all\""
   ]
  },
  {
   "cell_type": "code",
   "execution_count": 2,
   "id": "b629dd36",
   "metadata": {},
   "outputs": [],
   "source": [
    "from datetime import date, datetime\n",
    "from pyspark.sql import *\n",
    "from pyspark.sql.types import *\n",
    "from pyspark.sql.functions import *\n",
    "from pyspark.sql import functions as F"
   ]
  },
  {
   "cell_type": "code",
   "execution_count": 3,
   "id": "669e772e",
   "metadata": {
    "scrolled": true
   },
   "outputs": [
    {
     "name": "stderr",
     "output_type": "stream",
     "text": [
      "                                                                                \r"
     ]
    },
    {
     "name": "stdout",
     "output_type": "stream",
     "text": [
      "root\n",
      " |-- class_cd: string (nullable = true)\n",
      " |-- school: string (nullable = true)\n",
      " |-- class_std_cnt: string (nullable = true)\n",
      " |-- loc: string (nullable = true)\n",
      " |-- school_type: string (nullable = true)\n",
      " |-- teaching_type: string (nullable = true)\n",
      "\n"
     ]
    },
    {
     "name": "stderr",
     "output_type": "stream",
     "text": [
      "[Stage 1:>                                                          (0 + 1) / 1]\r"
     ]
    },
    {
     "name": "stdout",
     "output_type": "stream",
     "text": [
      "+--------+------+-------------+--------+-----------+-------------+\n",
      "|class_cd|school|class_std_cnt|     loc|school_type|teaching_type|\n",
      "+--------+------+-------------+--------+-----------+-------------+\n",
      "|     6OL| ANKYI|           20|   Urban| Non-public|     Standard|\n",
      "|     ZNS| ANKYI|           21|   Urban| Non-public|     Standard|\n",
      "|     2B1| CCAAW|           18|Suburban| Non-public| Experimental|\n",
      "+--------+------+-------------+--------+-----------+-------------+\n",
      "only showing top 3 rows\n",
      "\n"
     ]
    },
    {
     "name": "stderr",
     "output_type": "stream",
     "text": [
      "                                                                                \r"
     ]
    }
   ],
   "source": [
    "cdf = spark.read.csv('/dataframe/a_class_info.csv', header=True)\n",
    "cdf.printSchema()\n",
    "cdf.show(3)"
   ]
  },
  {
   "cell_type": "markdown",
   "id": "226634b7",
   "metadata": {},
   "source": [
    "### 복잡한 연산\n",
    "- 일반 select 나 groupby 절만 이용해서는 불가능한 경우 사용\n",
    "- query 내에 다른 query 를 포함"
   ]
  },
  {
   "cell_type": "code",
   "execution_count": null,
   "id": "3a5edd2c",
   "metadata": {},
   "outputs": [],
   "source": [
    "cdf.createOrReplaceTempView('class')"
   ]
  },
  {
   "cell_type": "markdown",
   "id": "5f5128c8",
   "metadata": {},
   "source": [
    "#### case 1. 소속된 반의 개수가 2개 이상인 학교들 중 학생 숫자가 가장 적은 학교를 구해보자"
   ]
  },
  {
   "cell_type": "code",
   "execution_count": 1,
   "id": "1479d879",
   "metadata": {},
   "outputs": [],
   "source": [
    "# from절 subquery : inline view\n",
    "\n",
    "# 학생숫자가 가장 적은 학교\n",
    "spark.sql('select min(class_std_cnt) from class').show(3)\n",
    "\n",
    "# 학교별로 학생 수의 총 합을 구하고 \n",
    "spark.sql('select school, sum(class_std_cnt) from class group by school').show(3)\n",
    "\n",
    "# 학교별로 학생 수의 총 합을 구하고 가장 적은 학생 수를 구하기\n",
    "spark.sql('''select min(std_tot)\n",
    "             from (select school, sum(class_std_cnt) as std_tot from class group by school)\n",
    "             where school is not null\n",
    "          ''').show(3) # school 값이 null 인 레코드를 제외한 data 에서 school 의 class_std_cnt 합이 가장 적은 수"
   ]
  },
  {
   "cell_type": "code",
   "execution_count": 2,
   "id": "f62ed77f",
   "metadata": {},
   "outputs": [],
   "source": [
    "#case 1. 소속된 반의 개수가 3개 이상인 학교들 중 학생 숫자가 가장 적은 학교를 구해보자\n",
    "# 학교별로 학생 수의 합, school 값이 null인 경우 제외\n",
    "\n",
    "spark.sql('''\n",
    "          select min(std_tot) as min_std_tot\n",
    "          from(select school, sum(class_std_cnt) as std_tot from class group by school having school is not null and count(school)>=3)\n",
    "''').show() # 반이 3개 이상인 학교에서 가장 적은 학생 수 - 46\n",
    "\n",
    "\n",
    "spark.sql('''\n",
    "          select school \n",
    "          from(select school, sum(class_std_cnt) as std_tot from class group by school having school is not null and count(school)>=3)\n",
    "''').show() # 반이 3개 이상인 학교의 학생수의 총 합과 학교명\n",
    "\n",
    "# 반의 수가 3개이상 + 학교에서 학생 수 총합이 가장 작은 학교 이름\n",
    "\n",
    "spark.sql('''\n",
    "    select school\n",
    "    from(select school, sum(class_std_cnt) as std_tot from class group by school having school is not null and count(school)>=3)\n",
    "    where std_tot == (select min(std_tot) as min_std_tot\n",
    "                      from(select school, sum(class_std_cnt) as std_tot \n",
    "                              from class group by school \n",
    "                              having school is not null and count(school)>=3))\n",
    "''').show()"
   ]
  },
  {
   "cell_type": "code",
   "execution_count": null,
   "id": "586b682d",
   "metadata": {},
   "outputs": [],
   "source": [
    "# df method 사용\n",
    "cdf.groupby(cdf.school)\\\n",
    "    .agg(sum('class_std_cnt').alias('std_cnt'))\\\n",
    "    .where((count(col('school'))>=3) & (cdf.school.isNotNull()))\\\n",
    "    .select(min('std_cnt')).show()"
   ]
  },
  {
   "cell_type": "code",
   "execution_count": null,
   "id": "e79148c9",
   "metadata": {},
   "outputs": [],
   "source": [
    "cdf.groupby(cdf.school)\\\n",
    "    .agg(sum('class_std_cnt').alias('std_cnt'))\\\n",
    "    .where((count(col('school'))>=3) & (cdf.school.isNotNull()))\\\n",
    "    .where(col('std_cnt') == (cdf.groupby(cdf.school)\\\n",
    "                              .agg(sum('class_std_cnt').alias('std_cnt'))\\\n",
    "                              .where((count(col('school'))>=3) & (cdf.school.isNotNull()))\\\n",
    "                              .select(min('std_cnt')).collect()[0][0])).show()"
   ]
  },
  {
   "cell_type": "markdown",
   "id": "f7de05cd",
   "metadata": {},
   "source": [
    "#### case2. 소속된 반의 개수가 2개 이상인 학교들 중 학생 숫자가 가장 적은 학교보다 학생이 많은 반의 데이터를 구하시오"
   ]
  },
  {
   "cell_type": "code",
   "execution_count": 3,
   "id": "123da354",
   "metadata": {
    "scrolled": true
   },
   "outputs": [],
   "source": [
    "# # 반별 학생 수의 평균보다 반 학생수가 많은 데이터를 추출하시오.\n",
    "# spark.sql('''\n",
    "#     select(*) from class\n",
    "#     where (class_std_cnt >= avg(class_std_cnt)) and (class_std_cnt is not null)\n",
    "# ''').show()\n",
    "# # avg(class_std_cnt) 집계함수가 where 절에서는 사용 불가능"
   ]
  },
  {
   "cell_type": "code",
   "execution_count": 4,
   "id": "e4589343",
   "metadata": {},
   "outputs": [],
   "source": [
    "spark.sql('select avg(class_std_cnt) from class') # 반 학생 수의 평균을 구함"
   ]
  },
  {
   "cell_type": "code",
   "execution_count": null,
   "id": "05bf1a59",
   "metadata": {},
   "outputs": [],
   "source": [
    "# # 반별 학생 수의 평균보다 반 학생수가 많은 데이터를 추출하시오.\n",
    "# spark.sql('''\n",
    "#     select(*) from class\n",
    "#     where (class_std_cnt >= avg(class_std_cnt)) and (class_std_cnt is not null)\n",
    "# ''').show()\n",
    "# # avg(class_std_cnt) 집계함수가 where 절에서는 사용 불가능"
   ]
  },
  {
   "cell_type": "code",
   "execution_count": null,
   "id": "eab75aa3",
   "metadata": {},
   "outputs": [],
   "source": [
    "spark.sql('select avg(class_std_cnt) from class').show() # 반 학생 수의 평균을 구함"
   ]
  },
  {
   "cell_type": "code",
   "execution_count": null,
   "id": "bc525422",
   "metadata": {},
   "outputs": [],
   "source": [
    "spark.sql('''\n",
    "    select(*)\n",
    "    from class\n",
    "    where (class_std_cnt > (select avg(class_std_cnt) from class) and (class_std_cnt is not null))\n",
    "''').show()"
   ]
  },
  {
   "cell_type": "code",
   "execution_count": null,
   "id": "e1589491",
   "metadata": {},
   "outputs": [],
   "source": [
    "# cdf.select('*')\\\n",
    "#     .where(cdf.class_std_cnt >= avg(cdf.class_std_cnt))\n",
    "# where 절에서 집계함수를 사용해서 에러 발생, avg(cdf.class_std_cnt) 코드가 값으로 명시되어야 한다.-> select에서만 사용가능"
   ]
  },
  {
   "cell_type": "code",
   "execution_count": null,
   "id": "3f2fb54e",
   "metadata": {},
   "outputs": [],
   "source": [
    "type(cdf.select(avg('class_std_cnt')).show()) # df\n",
    "# Rdd로 변경해주기\n",
    "cdf.select(avg('class_std_cnt')).collect() # row 객체\n",
    "cdf.select(avg('class_std_cnt')).collect()[0][0]"
   ]
  },
  {
   "cell_type": "code",
   "execution_count": null,
   "id": "51ee5d6c",
   "metadata": {},
   "outputs": [],
   "source": [
    "cdf.select('*')\\\n",
    "    .where(cdf.class_std_cnt >= cdf.select(avg('class_std_cnt')).collect()[0][0]).show(3)"
   ]
  },
  {
   "cell_type": "markdown",
   "id": "f4b33695",
   "metadata": {},
   "source": [
    "### case2. 1. 지역에 따른 학교로 분류하고 분류된 학교의 class_cd 가 2개 초과인 학교별로 반의 학생 수가 가장 작은 반의 학생수를 구하시오\n",
    "\n",
    "- 위에서 구한 학생수 중 가장 큰 값은?\n",
    "\n",
    "1. 지역에 따른 학교로 분류 -> 학교의 class_cd 가 2개 초과인 학교들을 추출\n",
    "2. 추출된 학교들에서 학생 수가 가장 작은 반의 학생 수 추출\n",
    "3. 2번에서 추출된 학생수들 중 가장 큰 수를 추출"
   ]
  },
  {
   "cell_type": "code",
   "execution_count": 5,
   "id": "1b70f6d5",
   "metadata": {},
   "outputs": [],
   "source": [
    "# 참고\n",
    "# Urban 지역의 학교 vvtva 는 반수가 4개 반 학생 수 중 가장 작은 수는 25\n",
    "cdf.select('*').where((cdf.school == 'VVTVA') & (cdf.loc == 'Urban')).show()"
   ]
  },
  {
   "cell_type": "markdown",
   "id": "a193f251",
   "metadata": {},
   "source": [
    "#### sql"
   ]
  },
  {
   "cell_type": "code",
   "execution_count": 6,
   "id": "6aed7c17",
   "metadata": {},
   "outputs": [],
   "source": [
    "# 지역에 따른 학교로 분류 -> 학교의 class_cd 가 2개 초과인 학교들을 추출 지역에 따른 학교별 반 개수\n",
    "spark.sql('''\n",
    "            select loc, school, count(class_cd) as cnt from class \n",
    "            group by loc, school \n",
    "            having cnt > 2\n",
    "''').show()"
   ]
  },
  {
   "cell_type": "code",
   "execution_count": null,
   "id": "30cdc9b8",
   "metadata": {},
   "outputs": [],
   "source": [
    "# 추출된 학교들에서 학생 수가 가장 작은 반의 학생 수 추출 단, school 값이 null 인 데이터 제외\n",
    "spark.sql('''\n",
    "            select loc, school, count(class_cd) as cnt, min(class_std_cnt) as min_std from class \n",
    "            group by loc, school\n",
    "            having cnt > 2 and school is not null\n",
    "''').show()"
   ]
  },
  {
   "cell_type": "code",
   "execution_count": null,
   "id": "d5494b78",
   "metadata": {},
   "outputs": [],
   "source": [
    "# 2번에서 추출된 학생수들 중 가장 큰 수를 추출\n",
    "spark.sql('''\n",
    "            select max(min_std)\n",
    "            from (select loc, school, count(class_cd) as cnt, min(class_std_cnt) as min_std from class \n",
    "                  group by loc, school\n",
    "                  having cnt > 2 and school is not null)\n",
    "''').show(3)"
   ]
  },
  {
   "cell_type": "markdown",
   "id": "6fa40c58",
   "metadata": {},
   "source": [
    "### df 매서드 활용"
   ]
  },
  {
   "cell_type": "code",
   "execution_count": null,
   "id": "deb3aea5",
   "metadata": {},
   "outputs": [],
   "source": [
    "# Urban 지역의 학교 vvtva 는 반수가 4개 반 학생 수 중 가장 작은 수는 25\n",
    "cdf.select('*').where((cdf.school == 'VVTVA') & (cdf.loc == 'Urban')).show()"
   ]
  },
  {
   "cell_type": "code",
   "execution_count": null,
   "id": "4e550bd7",
   "metadata": {},
   "outputs": [],
   "source": [
    "# 지역에 따른 학교로 분류 -> 학교의 class_cd 가 2개 초과인 학교들을 추출 지역에 따른 학교별 반 개수\n",
    "cdf.groupBy('loc', 'school')\\\n",
    "    .agg(count('class_cd').alias('cnt_cd'))\\\n",
    "    .where((col('cnt_cd') > 2) & (col('school').isNotNull())).show()"
   ]
  },
  {
   "cell_type": "code",
   "execution_count": null,
   "id": "920fa3dc",
   "metadata": {},
   "outputs": [],
   "source": [
    "# 추출된 학교들에서 학생 수가 가장 작은 반의 학생 수 추출\n",
    "cdf.groupBy('loc', 'school')\\\n",
    "    .agg(count('class_cd').alias('cnt_cd'), min('class_std_cnt').alias('min_std'))\\\n",
    "    .where((col('cnt_cd') > 2) & (col('school').isNotNull())).show()"
   ]
  },
  {
   "cell_type": "code",
   "execution_count": null,
   "id": "f200b89e",
   "metadata": {},
   "outputs": [],
   "source": [
    "# 2번에서 추출된 학생수들 중 가장 큰 수를 추출\n",
    "cdf.groupBy('loc', 'school')\\\n",
    "    .agg(count('class_cd').alias('cnt_cd'), min('class_std_cnt').alias('min_std'))\\\n",
    "    .where((col('cnt_cd') > 2) & (col('school').isNotNull()))\\\n",
    "    .select(max(col('min_std'))).show(30)"
   ]
  },
  {
   "cell_type": "markdown",
   "id": "5c884a61",
   "metadata": {},
   "source": [
    "#### case 3. 지역에 따른 학교로 분류하고 학교의 class_cd 가 2개 초과인 학교에서 학교별 가장 작은 학생수들을 추출 -> 그 중에서 가장 큰 수를 구하시오\n",
    "\n",
    "- 구한 수보다 학생 수가 더 많은 반과 학생수를 cdf 전체 데이터에서 추출하시오"
   ]
  },
  {
   "cell_type": "markdown",
   "id": "cf9e22c3",
   "metadata": {},
   "source": [
    "#### sql"
   ]
  },
  {
   "cell_type": "code",
   "execution_count": null,
   "id": "2c1051ba",
   "metadata": {},
   "outputs": [],
   "source": [
    "spark.sql('''\n",
    "    select class_cd, class_std_cnt\n",
    "    from class\n",
    "    where class_std_cnt > (select max(min_std) as max_minstd\n",
    "                            from (select loc, school, count(class_cd) as cnt, min(class_std_cnt) as min_std from class \n",
    "                            group by loc, school\n",
    "                            having cnt > 2 and school is not null))\n",
    "''').show()\n",
    "spark.sql('select count(*) from class').show()\n",
    "# Urban 지역의 ZOWMK 학교의 학생수가 가장 작은 반보다 학생 수가 많은 반은 현재 데이터 102개의 class 중 13 클래스이다."
   ]
  },
  {
   "cell_type": "markdown",
   "id": "4d4d8368",
   "metadata": {},
   "source": [
    "df 매서드"
   ]
  },
  {
   "cell_type": "code",
   "execution_count": null,
   "id": "15a4517f",
   "metadata": {},
   "outputs": [],
   "source": [
    "cdf.select('class_cd', 'class_std_cnt')\\\n",
    "    .where(cdf.class_std_cnt > (cdf.groupBy('loc', 'school')\\\n",
    "                                    .agg(count('class_cd').alias('cnt_cd'), min('class_std_cnt').alias('min_std'))\\\n",
    "                                    .where((col('cnt_cd') > 2) & (col('school').isNotNull()))\\\n",
    "                                    .select(max(col('min_std'))).collect()[0][0])).show()\n",
    "cdf.count()\n",
    "# Urban 지역의 ZOWMK 학교의 학생수가 가장 작은 반보다 학생 수가 많은 반은 현재 데이터 102개의 class 중 13 클래스이다.                       "
   ]
  },
  {
   "cell_type": "code",
   "execution_count": null,
   "id": "6da76f06",
   "metadata": {},
   "outputs": [],
   "source": []
  },
  {
   "cell_type": "code",
   "execution_count": null,
   "id": "c545ade7",
   "metadata": {},
   "outputs": [],
   "source": []
  },
  {
   "cell_type": "markdown",
   "id": "0a38d169",
   "metadata": {},
   "source": [
    "#### case 4. 시골지역의 사립학교 중 표준 교육을 진행하는 학교들의 평균 학생수가 더 많은 도시 지역의 공립학교이면서 특수 교육을 진행하는 학교의 모든 정보를 추출하시오"
   ]
  },
  {
   "cell_type": "code",
   "execution_count": null,
   "id": "d95d413b",
   "metadata": {},
   "outputs": [],
   "source": [
    "cdf.columns\n",
    "# Loc : Urban, subUrban, Rural(사골)\n",
    "# school_type : Puble, Non-public\n",
    "# teaching_type : Standard, Experimental"
   ]
  },
  {
   "cell_type": "markdown",
   "id": "7bad9e80",
   "metadata": {},
   "source": [
    "### sql squery"
   ]
  },
  {
   "cell_type": "code",
   "execution_count": null,
   "id": "7bce6c7c",
   "metadata": {},
   "outputs": [],
   "source": [
    "# 시골 지역의 사립학교중 표준 교육을 진행하는 학교들의 평균 학생 수\n",
    "spark.sql('''\n",
    "    select avg(class_std_cnt)\n",
    "    from class\n",
    "    where loc == 'Rural' and school_type == 'Public' and teaching_type == 'Standard'\n",
    "''').show()"
   ]
  },
  {
   "cell_type": "code",
   "execution_count": 7,
   "id": "56d1b4cd",
   "metadata": {},
   "outputs": [],
   "source": [
    "# 평균 학생수가 더 많은 도시 지역의 공립학교이면서 특수 교육을 진행하는 학교의 모든 정보를 추출\n",
    "\n",
    "spark.sql('''\n",
    "    select * \n",
    "    from class\n",
    "    where loc == 'Urban' and\n",
    "          school_type == 'Non-public' and\n",
    "          teaching_type == 'Experimental' and\n",
    "          class_std_cnt > (select avg(class_std_cnt)\n",
    "                            from class\n",
    "                            where loc == 'Rural' and \n",
    "                            school_type == 'Public' and \n",
    "                            teaching_type == 'Standard')\n",
    "''').show()"
   ]
  },
  {
   "cell_type": "markdown",
   "id": "10fb23e2",
   "metadata": {},
   "source": [
    "### df method"
   ]
  },
  {
   "cell_type": "markdown",
   "id": "abbfa28d",
   "metadata": {},
   "source": [
    "#### case 4 sql"
   ]
  },
  {
   "cell_type": "code",
   "execution_count": 8,
   "id": "538b5837",
   "metadata": {
    "scrolled": true
   },
   "outputs": [],
   "source": [
    "# 시골 지역의 사립 학교중 표준 교육을 진행하는 학교들의 평균 수\n",
    "cdf.groupby(cdf.loc, cdf.school_type, cdf.teaching_type)\\\n",
    "    .agg(avg('class_std_cnt').alias('avg'))\\\n",
    "    .where((cdf.loc == 'Rural') & (cdf.school_type == 'Public') & (cdf.teaching_type == 'Standard'))\\\n",
    "    .select('avg').show()\n",
    "\n",
    "cdf.groupby(cdf.loc, cdf.school_type, cdf.teaching_type)\\\n",
    "    .agg(avg('class_std_cnt').alias('avg'))\\\n",
    "    .where((cdf.loc == 'Rural') & (cdf.school_type == 'Public') & (cdf.teaching_type == 'Standard'))\\\n",
    "    .select('avg').collect()[0][0]"
   ]
  },
  {
   "cell_type": "code",
   "execution_count": null,
   "id": "f7229d95-f1cc-40f3-8e10-d0713e5cab32",
   "metadata": {},
   "outputs": [],
   "source": [
    "# 평균 학생수가 더 많은 도시 지역의 공립학교이면서 특수 교육을 진행하는 학교의 모든 정보를 추출\n",
    "\n",
    "cdf.select('*')\\\n",
    "    .where((cdf.loc == 'Urban') &\n",
    "          (cdf.school_type == 'Non-public') &\n",
    "          (cdf.teaching_type == 'Experimental') &\n",
    "          (cdf.class_std_cnt > (cdf.groupby(cdf.loc, cdf.school_type, cdf.teaching_type)\\\n",
    "                                  .agg(avg('class_std_cnt').alias('avg'))\\\n",
    "                                  .where((cdf.loc == 'Rural') & (cdf.school_type == 'Public') & (cdf.teaching_type == 'Standard'))\\\n",
    "                                  .select('avg').collect()[0][0]))).show()\n"
   ]
  },
  {
   "cell_type": "code",
   "execution_count": null,
   "id": "da7e1cae",
   "metadata": {},
   "outputs": [],
   "source": []
  },
  {
   "cell_type": "code",
   "execution_count": null,
   "id": "a1bd066a",
   "metadata": {},
   "outputs": [],
   "source": []
  },
  {
   "cell_type": "code",
   "execution_count": null,
   "id": "45fe52ec",
   "metadata": {},
   "outputs": [],
   "source": []
  }
 ],
 "metadata": {
  "kernelspec": {
   "display_name": "Python 3 (ipykernel)",
   "language": "python",
   "name": "python3"
  },
  "language_info": {
   "codemirror_mode": {
    "name": "ipython",
    "version": 3
   },
   "file_extension": ".py",
   "mimetype": "text/x-python",
   "name": "python",
   "nbconvert_exporter": "python",
   "pygments_lexer": "ipython3",
   "version": "3.11.5"
  }
 },
 "nbformat": 4,
 "nbformat_minor": 5
}
