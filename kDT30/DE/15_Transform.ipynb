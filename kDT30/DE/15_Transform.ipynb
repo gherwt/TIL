{
 "cells": [
  {
   "cell_type": "markdown",
   "id": "7f6f8489",
   "metadata": {},
   "source": [
    "### HDFS 의 DATA 를 LOAD 해서 다른 의미를 갖는 가공 데이터 처리하는 프로그램\n",
    "- 이 프로그램 내 처리 코드를 DW 에 저장할 때 사용하거나 DM에 저장할 때 사용한다.\n",
    "- 인구대비 코로나 발생현황\n",
    "- 코로나 발생현황과 백신과의 관계\n",
    "- 공용시설 대비 코로나 발생현황"
   ]
  },
  {
   "cell_type": "code",
   "execution_count": 10,
   "id": "ffee0de2",
   "metadata": {},
   "outputs": [],
   "source": [
    "from IPython.core.interactiveshell import InteractiveShell\n",
    "InteractiveShell.ast_node_interactivity = \"all\""
   ]
  },
  {
   "cell_type": "code",
   "execution_count": 11,
   "id": "f95e956f",
   "metadata": {},
   "outputs": [],
   "source": [
    "# 나눔폰트 사용을 위한 터미널 명령어이다. - aws 는 ubuntu sudo apt-get 명령어 사용\n",
    "# matplotlib 한글 꺠짐 방지\n",
    "# apt-get update\n",
    "# apt-get install fonts-nanum* \n",
    "# apt-get install fontconfig\n",
    "# fc-cache -fv  # font 캐시 날리기\n",
    "# rm -rf /home/hy1/.cache/matplotlib/  #matplotliob 폰트 캐시 날리기"
   ]
  },
  {
   "cell_type": "code",
   "execution_count": 12,
   "id": "913eefb5",
   "metadata": {},
   "outputs": [],
   "source": [
    "from datetime import date, datetime\n",
    "from pyspark.sql.types import *\n",
    "from pyspark.sql.functions import *\n",
    "import datetime as dt\n",
    "import pandas as pd\n",
    "import matplotlib.pyplot as plt #그래프 패키지 모듈 등록\n",
    "%matplotlib inline "
   ]
  },
  {
   "cell_type": "code",
   "execution_count": 13,
   "id": "8d086c4e",
   "metadata": {},
   "outputs": [],
   "source": [
    "from hdfs import InsecureClient"
   ]
  },
  {
   "cell_type": "markdown",
   "id": "ffd747b6",
   "metadata": {},
   "source": [
    "### DW에 있는 data 사용하기 위한 hdfs 클라이언트 객체 생성"
   ]
  },
  {
   "cell_type": "code",
   "execution_count": 14,
   "id": "1a967a63-da1e-4813-a114-42decbb6c43a",
   "metadata": {},
   "outputs": [],
   "source": [
    "client = InsecureClient('http://localhost:9870', user='Lab09')\n",
    "# aws: user = 'Lab09'"
   ]
  },
  {
   "cell_type": "markdown",
   "id": "e51b5516",
   "metadata": {},
   "source": [
    "### 한글 폰트 적용"
   ]
  },
  {
   "cell_type": "code",
   "execution_count": 15,
   "id": "a4af10ef",
   "metadata": {},
   "outputs": [],
   "source": [
    "import platform\n",
    "\n",
    "from matplotlib import font_manager, rc\n",
    "plt.rcParams['axes.unicode_minus'] = False\n",
    "\n",
    "if platform.system() == 'Darwin':  # 맥OS \n",
    "    rc('font', family='AppleGothic')\n",
    "elif platform.system() == 'Windows':  # 윈도우\n",
    "    path = \"c:/Windows/Fonts/malgun.ttf\"\n",
    "    font_name = font_manager.FontProperties(fname=path).get_name()\n",
    "    rc('font', family=font_name)\n",
    "else:\n",
    "    rc('font', family='NanumGothic') # 나눔 폰트 사용"
   ]
  },
  {
   "cell_type": "markdown",
   "id": "7e8685f5",
   "metadata": {},
   "source": [
    "## Transform"
   ]
  },
  {
   "cell_type": "code",
   "execution_count": 16,
   "id": "9fd31aec",
   "metadata": {},
   "outputs": [],
   "source": [
    "# 기준일 생성 함수\n",
    "def cal_std_day(before_day) :\n",
    "    x = dt.datetime.now()-dt.timedelta(before_day)\n",
    "    year = x.year\n",
    "    month = x.month if x.month >=10 else '0'+str(x.month)\n",
    "    day = x.day if x.day >= 10 else '0'+str(x.day)\n",
    "    return str(year)+'-'+str(month)+'-'+str(day)"
   ]
  },
  {
   "cell_type": "markdown",
   "id": "84653d2a",
   "metadata": {},
   "source": [
    "### 1. 지역별 단위면적(km) 당 인구수 와 코로나 확진자수를 가공한 data 생성"
   ]
  },
  {
   "cell_type": "code",
   "execution_count": 17,
   "id": "dcc9cb67",
   "metadata": {},
   "outputs": [
    {
     "name": "stdout",
     "output_type": "stream",
     "text": [
      "+----+------+-----+\n",
      "| loc|  area|ratio|\n",
      "+----+------+-----+\n",
      "|서울|  605 |  0.6|\n",
      "|부산|  770 |  0.8|\n",
      "|대구|  883 |  0.9|\n",
      "|인천| 1065 |  1.1|\n",
      "|광주|  501 |  0.5|\n",
      "|대전|  540 |  0.5|\n",
      "|울산| 1062 |  1.1|\n",
      "|세종|  465 |  0.5|\n",
      "|경기|10195 | 10.2|\n",
      "|강원|16830 | 16.8|\n",
      "|충북| 7407 |  7.4|\n",
      "|충남| 8246 |  8.2|\n",
      "|전북| 8070 |  8.0|\n",
      "|전남|12348 | 12.3|\n",
      "|경북|19034 | 19.0|\n",
      "|경남|10541 | 10.5|\n",
      "|제주| 1850 |  1.8|\n",
      "+----+------+-----+\n",
      "\n"
     ]
    }
   ],
   "source": [
    "# 지역의 면적 및 인구 정보 데이터 불러오기\n",
    "area = spark.read.csv('/corona_data/loc/sido_area.csv', encoding='CP949', header=True)\n",
    "area.show()"
   ]
  },
  {
   "cell_type": "code",
   "execution_count": 18,
   "id": "86193c8e",
   "metadata": {},
   "outputs": [
    {
     "name": "stdout",
     "output_type": "stream",
     "text": [
      "+----+---------+---------+---------+\n",
      "| loc|    total|     male|   female|\n",
      "+----+---------+---------+---------+\n",
      "|전국|52739009 |26360035 |26378974 |\n",
      "|서울| 9736027 | 4721977 | 5014050 |\n",
      "|부산| 3396109 | 1663619 | 1732490 |\n",
      "|대구| 2412642 | 1189901 | 1222741 |\n",
      "|인천| 3014739 | 1513277 | 1501462 |\n",
      "|광주| 1462545 |  724178 |  738367 |\n",
      "|대전| 1469543 |  732593 |  736950 |\n",
      "|울산| 1138419 |  586031 |  552388 |\n",
      "|세종|  376779 |  188619 |  188160 |\n",
      "|경기|13925862 | 7038296 | 6887566 |\n",
      "|강원| 1555876 |  783743 |  772133 |\n",
      "|충북| 1633472 |  832743 |  800729 |\n",
      "|충남| 2181835 | 1120429 | 1061406 |\n",
      "|전북| 1817186 |  905672 |  911514 |\n",
      "|전남| 1865459 |  943018 |  922441 |\n",
      "|경북| 2677709 | 1355128 | 1322581 |\n",
      "|경남| 3377331 | 1709989 | 1667342 |\n",
      "|제주|  697476 |  350822 |  346654 |\n",
      "+----+---------+---------+---------+\n",
      "\n"
     ]
    }
   ],
   "source": [
    "# 지역별 인구 정보 데이터 불러오기\n",
    "popu = spark.read.csv('/corona_data/loc/sido_population.csv',encoding='CP949',header=True)\n",
    "popu.show()"
   ]
  },
  {
   "cell_type": "markdown",
   "id": "e60e52d0",
   "metadata": {},
   "source": [
    "- 면적과 인구관련 data 는 자주 변하지 않는 data 임\n",
    "    - 면적은 거의 불변/인구 통계 시점 - 3 ~ 4년\n",
    "    - 자동화에서 제외\n",
    "    - dw db에 table 로 저장해놓는다."
   ]
  },
  {
   "cell_type": "markdown",
   "id": "370878dd",
   "metadata": {},
   "source": [
    "### 단위면적당 인구수 data 생성\n",
    "- 면적data와 인구data join 후 가공 df 생성"
   ]
  },
  {
   "cell_type": "code",
   "execution_count": 19,
   "id": "280a0719",
   "metadata": {},
   "outputs": [
    {
     "name": "stdout",
     "output_type": "stream",
     "text": [
      "+----+------+-----+---------+--------+--------+\n",
      "| loc|  area|ratio|    total|    male|  female|\n",
      "+----+------+-----+---------+--------+--------+\n",
      "|서울|  605 |  0.6| 9736027 |4721977 |5014050 |\n",
      "|부산|  770 |  0.8| 3396109 |1663619 |1732490 |\n",
      "|대구|  883 |  0.9| 2412642 |1189901 |1222741 |\n",
      "|인천| 1065 |  1.1| 3014739 |1513277 |1501462 |\n",
      "|광주|  501 |  0.5| 1462545 | 724178 | 738367 |\n",
      "|대전|  540 |  0.5| 1469543 | 732593 | 736950 |\n",
      "|울산| 1062 |  1.1| 1138419 | 586031 | 552388 |\n",
      "|세종|  465 |  0.5|  376779 | 188619 | 188160 |\n",
      "|경기|10195 | 10.2|13925862 |7038296 |6887566 |\n",
      "|강원|16830 | 16.8| 1555876 | 783743 | 772133 |\n",
      "|충북| 7407 |  7.4| 1633472 | 832743 | 800729 |\n",
      "|충남| 8246 |  8.2| 2181835 |1120429 |1061406 |\n",
      "|전북| 8070 |  8.0| 1817186 | 905672 | 911514 |\n",
      "|전남|12348 | 12.3| 1865459 | 943018 | 922441 |\n",
      "|경북|19034 | 19.0| 2677709 |1355128 |1322581 |\n",
      "|경남|10541 | 10.5| 3377331 |1709989 |1667342 |\n",
      "|제주| 1850 |  1.8|  697476 | 350822 | 346654 |\n",
      "+----+------+-----+---------+--------+--------+\n",
      "\n"
     ]
    }
   ],
   "source": [
    "area_pop = area.join(popu, on='loc')\n",
    "area_pop.show()"
   ]
  },
  {
   "cell_type": "markdown",
   "id": "a1cf1f71",
   "metadata": {},
   "source": [
    "### area_pop : popu_density 컬럼 추가 생성\n",
    "- 단위면적당 인구수 정보를 갖고있는 가공 df 생성\n",
    "- 가공 df 고 연산을 통해 생성되었으므로 dm db에 저장한다."
   ]
  },
  {
   "cell_type": "code",
   "execution_count": 20,
   "id": "de18d4d5",
   "metadata": {},
   "outputs": [
    {
     "name": "stdout",
     "output_type": "stream",
     "text": [
      "+----+------------+\n",
      "| loc|popu_density|\n",
      "+----+------------+\n",
      "|서울|       16093|\n",
      "|부산|        4411|\n",
      "|대구|        2733|\n",
      "|인천|        2831|\n",
      "|광주|        2920|\n",
      "|대전|        2722|\n",
      "|울산|        1072|\n",
      "|세종|         811|\n",
      "|경기|        1366|\n",
      "|강원|          93|\n",
      "|충북|         221|\n",
      "|충남|         265|\n",
      "|전북|         226|\n",
      "|전남|         152|\n",
      "|경북|         141|\n",
      "|경남|         321|\n",
      "|제주|         378|\n",
      "+----+------------+\n",
      "\n"
     ]
    }
   ],
   "source": [
    "area_pop = area_pop.select(area_pop.loc,\n",
    "                (ceil(area_pop.total/area_pop.area)).alias('popu_density'))\n",
    "area_pop.show()"
   ]
  },
  {
   "cell_type": "markdown",
   "id": "724d4d3c",
   "metadata": {},
   "source": [
    "### 지역별 코로나 환자 데이터와의 관계\n",
    "- api data 는 지역별 누적 코로나 환자 데이터가 있음 : qurRate 를 활용"
   ]
  },
  {
   "cell_type": "code",
   "execution_count": 21,
   "id": "7feaf387",
   "metadata": {},
   "outputs": [],
   "source": [
    "# 코로나 환자 데이터 가져오기 : api data\n",
    "file_name = 'hdfs://localhost:9000/corona_data/patient/corona_patient_' + cal_std_day(365) + '.json'\n",
    "\n",
    "# file_name\n",
    "tmp = spark.read.json(file_name, encoding='UTF-8') # spark dataframe 형태로 들어온다"
   ]
  },
  {
   "cell_type": "code",
   "execution_count": 22,
   "id": "eb59291c",
   "metadata": {},
   "outputs": [
    {
     "data": {
      "text/plain": [
       "['items', 'numOfRows', 'pageNo', 'resultCode', 'resultMsg', 'totalCount']"
      ]
     },
     "execution_count": 22,
     "metadata": {},
     "output_type": "execute_result"
    }
   ],
   "source": [
    "tmp.columns"
   ]
  },
  {
   "cell_type": "code",
   "execution_count": 23,
   "id": "18e0210a",
   "metadata": {},
   "outputs": [
    {
     "data": {
      "text/plain": [
       "1"
      ]
     },
     "execution_count": 23,
     "metadata": {},
     "output_type": "execute_result"
    }
   ],
   "source": [
    "tmp.select('items').count()"
   ]
  },
  {
   "cell_type": "code",
   "execution_count": 24,
   "id": "bec33388",
   "metadata": {},
   "outputs": [
    {
     "name": "stdout",
     "output_type": "stream",
     "text": [
      "+--------------------+---------+------+----------+--------------+----------+\n",
      "|               items|numOfRows|pageNo|resultCode|     resultMsg|totalCount|\n",
      "+--------------------+---------+------+----------+--------------+----------+\n",
      "|[{31882, 28772196...|      500|     1|        00|NORMAL SERVICE|        19|\n",
      "+--------------------+---------+------+----------+--------------+----------+\n",
      "\n"
     ]
    }
   ],
   "source": [
    "tmp.show()"
   ]
  },
  {
   "cell_type": "code",
   "execution_count": 25,
   "id": "266cffa0",
   "metadata": {
    "scrolled": true
   },
   "outputs": [
    {
     "data": {
      "text/plain": [
       "Row(items=[Row(deathCnt='31882', defCnt='28772196', gubun='합계', gubunCn='合计', gubunEn='Total', incDec='87578', isolClearCnt='0', isolIngCnt='0', localOccCnt='87512', overFlowCnt='66', qurRate='55718', stdDay='2022-12-27'), Row(deathCnt='767', defCnt='841430', gubun='광주', gubunCn='光州', gubunEn='Gwangju', incDec='1735', isolClearCnt='0', isolIngCnt='0', localOccCnt='1735', overFlowCnt='0', qurRate='58367', stdDay='2022-12-27'), Row(deathCnt='878', defCnt='840729', gubun='대전', gubunCn='大田', gubunEn='Daejeon', incDec='2563', isolClearCnt='0', isolIngCnt='0', localOccCnt='2563', overFlowCnt='0', qurRate='57891', stdDay='2022-12-27'), Row(deathCnt='7921', defCnt='7789934', gubun='경기', gubunCn='京畿', gubunEn='Gyeonggi-do', incDec='24362', isolClearCnt='0', isolIngCnt='0', localOccCnt='24356', overFlowCnt='6', qurRate='57425', stdDay='2022-12-27'), Row(deathCnt='2662', defCnt='1696702', gubun='부산', gubunCn='釜山', gubunEn='Busan', incDec='6826', isolClearCnt='0', isolIngCnt='0', localOccCnt='6824', overFlowCnt='2', qurRate='50642', stdDay='2022-12-27'), Row(deathCnt='1841', defCnt='1257368', gubun='대구', gubunCn='大邱', gubunEn='Daegu', incDec='3464', isolClearCnt='0', isolIngCnt='0', localOccCnt='3458', overFlowCnt='6', qurRate='52711', stdDay='2022-12-27'), Row(deathCnt='1458', defCnt='1161843', gubun='충남', gubunCn='忠南', gubunEn='Chungcheongnam-do', incDec='3497', isolClearCnt='0', isolIngCnt='0', localOccCnt='3497', overFlowCnt='0', qurRate='54823', stdDay='2022-12-27'), Row(deathCnt='16', defCnt='16557', gubun='검역', gubunCn='隔離區', gubunEn='Lazaretto', incDec='42', isolClearCnt='0', isolIngCnt='0', localOccCnt='0', overFlowCnt='42', qurRate='-', stdDay='2022-12-27'), Row(deathCnt='6026', defCnt='5610852', gubun='서울', gubunCn='首尔', gubunEn='Seoul', incDec='18725', isolClearCnt='0', isolIngCnt='0', localOccCnt='18723', overFlowCnt='2', qurRate='59003', stdDay='2022-12-27'), Row(deathCnt='1723', defCnt='1713421', gubun='경남', gubunCn='庆南', gubunEn='Gyeongsangnam-do', incDec='5574', isolClearCnt='0', isolIngCnt='0', localOccCnt='5573', overFlowCnt='1', qurRate='51700', stdDay='2022-12-27'), Row(deathCnt='1216', defCnt='852398', gubun='강원', gubunCn='江原', gubunEn='Gangwon-do', incDec='1937', isolClearCnt='0', isolIngCnt='0', localOccCnt='1934', overFlowCnt='3', qurRate='55405', stdDay='2022-12-27'), Row(deathCnt='1737', defCnt='1669280', gubun='인천', gubunCn='仁川', gubunEn='Incheon', incDec='5699', isolClearCnt='0', isolIngCnt='0', localOccCnt='5699', overFlowCnt='0', qurRate='56617', stdDay='2022-12-27'), Row(deathCnt='490', defCnt='611041', gubun='울산', gubunCn='蔚山', gubunEn='Ulsan', incDec='1763', isolClearCnt='0', isolIngCnt='0', localOccCnt='1763', overFlowCnt='0', qurRate='54480', stdDay='2022-12-27'), Row(deathCnt='828', defCnt='938106', gubun='전남', gubunCn='全南', gubunEn='Jeollanam-do', incDec='3049', isolClearCnt='0', isolIngCnt='0', localOccCnt='3047', overFlowCnt='2', qurRate='51184', stdDay='2022-12-27'), Row(deathCnt='1942', defCnt='1313757', gubun='경북', gubunCn='庆北', gubunEn='Gyeongsangbuk-do', incDec='2731', isolClearCnt='0', isolIngCnt='0', localOccCnt='2730', overFlowCnt='1', qurRate='50017', stdDay='2022-12-27'), Row(deathCnt='962', defCnt='903347', gubun='충북', gubunCn='忠北', gubunEn='Chungcheongbuk-do', incDec='2163', isolClearCnt='0', isolIngCnt='0', localOccCnt='2163', overFlowCnt='0', qurRate='56550', stdDay='2022-12-27'), Row(deathCnt='238', defCnt='362920', gubun='제주', gubunCn='济州', gubunEn='Jeju', incDec='545', isolClearCnt='0', isolIngCnt='0', localOccCnt='545', overFlowCnt='0', qurRate='53626', stdDay='2022-12-27'), Row(deathCnt='50', defCnt='228005', gubun='세종', gubunCn='世宗', gubunEn='Sejong', incDec='733', isolClearCnt='0', isolIngCnt='0', localOccCnt='733', overFlowCnt='0', qurRate='61309', stdDay='2022-12-27'), Row(deathCnt='1127', defCnt='964506', gubun='전북', gubunCn='全北', gubunEn='Jeollabuk-do', incDec='2188', isolClearCnt='0', isolIngCnt='0', localOccCnt='2187', overFlowCnt='1', qurRate='53978', stdDay='2022-12-27')])"
      ]
     },
     "execution_count": 25,
     "metadata": {},
     "output_type": "execute_result"
    }
   ],
   "source": [
    "# items 컬럼 데이터만 추출, 1개이므로 first() 함수 연결해서 추출\n",
    "tmp_fin = tmp.select('items').first()\n",
    "tmp_fin"
   ]
  },
  {
   "cell_type": "code",
   "execution_count": 26,
   "id": "25296d6d",
   "metadata": {
    "scrolled": true
   },
   "outputs": [],
   "source": [
    "# tmp_fin['items']"
   ]
  },
  {
   "cell_type": "code",
   "execution_count": 27,
   "id": "e0438e68",
   "metadata": {},
   "outputs": [
    {
     "name": "stdout",
     "output_type": "stream",
     "text": [
      "+--------+--------+-----+-------+-----------------+------+------------+----------+-----------+-----------+-------+----------+\n",
      "|deathCnt|  defCnt|gubun|gubunCn|          gubunEn|incDec|isolClearCnt|isolIngCnt|localOccCnt|overFlowCnt|qurRate|    stdDay|\n",
      "+--------+--------+-----+-------+-----------------+------+------------+----------+-----------+-----------+-------+----------+\n",
      "|   31882|28772196| 합계|   合计|            Total| 87578|           0|         0|      87512|         66|  55718|2022-12-27|\n",
      "|     767|  841430| 광주|   光州|          Gwangju|  1735|           0|         0|       1735|          0|  58367|2022-12-27|\n",
      "|     878|  840729| 대전|   大田|          Daejeon|  2563|           0|         0|       2563|          0|  57891|2022-12-27|\n",
      "|    7921| 7789934| 경기|   京畿|      Gyeonggi-do| 24362|           0|         0|      24356|          6|  57425|2022-12-27|\n",
      "|    2662| 1696702| 부산|   釜山|            Busan|  6826|           0|         0|       6824|          2|  50642|2022-12-27|\n",
      "|    1841| 1257368| 대구|   大邱|            Daegu|  3464|           0|         0|       3458|          6|  52711|2022-12-27|\n",
      "|    1458| 1161843| 충남|   忠南|Chungcheongnam-do|  3497|           0|         0|       3497|          0|  54823|2022-12-27|\n",
      "|      16|   16557| 검역| 隔離區|        Lazaretto|    42|           0|         0|          0|         42|      -|2022-12-27|\n",
      "|    6026| 5610852| 서울|   首尔|            Seoul| 18725|           0|         0|      18723|          2|  59003|2022-12-27|\n",
      "|    1723| 1713421| 경남|   庆南| Gyeongsangnam-do|  5574|           0|         0|       5573|          1|  51700|2022-12-27|\n",
      "|    1216|  852398| 강원|   江原|       Gangwon-do|  1937|           0|         0|       1934|          3|  55405|2022-12-27|\n",
      "|    1737| 1669280| 인천|   仁川|          Incheon|  5699|           0|         0|       5699|          0|  56617|2022-12-27|\n",
      "|     490|  611041| 울산|   蔚山|            Ulsan|  1763|           0|         0|       1763|          0|  54480|2022-12-27|\n",
      "|     828|  938106| 전남|   全南|     Jeollanam-do|  3049|           0|         0|       3047|          2|  51184|2022-12-27|\n",
      "|    1942| 1313757| 경북|   庆北| Gyeongsangbuk-do|  2731|           0|         0|       2730|          1|  50017|2022-12-27|\n",
      "|     962|  903347| 충북|   忠北|Chungcheongbuk-do|  2163|           0|         0|       2163|          0|  56550|2022-12-27|\n",
      "|     238|  362920| 제주|   济州|             Jeju|   545|           0|         0|        545|          0|  53626|2022-12-27|\n",
      "|      50|  228005| 세종|   世宗|           Sejong|   733|           0|         0|        733|          0|  61309|2022-12-27|\n",
      "|    1127|  964506| 전북|   全北|     Jeollabuk-do|  2188|           0|         0|       2187|          1|  53978|2022-12-27|\n",
      "+--------+--------+-----+-------+-----------------+------+------------+----------+-----------+-----------+-------+----------+\n",
      "\n"
     ]
    }
   ],
   "source": [
    "co_patient = spark.createDataFrame(tmp_fin['items'])\n",
    "co_patient.show() ## 2022-12-27 의 코로나 발생 현황 json -> dataframe 해놓은 것."
   ]
  },
  {
   "cell_type": "markdown",
   "id": "2835cc3c",
   "metadata": {},
   "source": [
    "- 일간으로 수집해야 하는 data\n",
    "    - 각 부서에서 사용하는 data 이므로 dw-dm 까지 저장되어야하는 data\n",
    "    - 위 df 는 중요컬럼만 추출해서 dw db에 저장하겠다.\n",
    "    - dm 저장은 다른 데이터와 연결 가공해서 저장"
   ]
  },
  {
   "cell_type": "code",
   "execution_count": 28,
   "id": "6dada016",
   "metadata": {
    "scrolled": true
   },
   "outputs": [
    {
     "name": "stdout",
     "output_type": "stream",
     "text": [
      "+----+-------+\n",
      "| loc|qurRate|\n",
      "+----+-------+\n",
      "|합계|  55718|\n",
      "|광주|  58367|\n",
      "|대전|  57891|\n",
      "|경기|  57425|\n",
      "|부산|  50642|\n",
      "|대구|  52711|\n",
      "|충남|  54823|\n",
      "|검역|      -|\n",
      "|서울|  59003|\n",
      "|경남|  51700|\n",
      "|강원|  55405|\n",
      "|인천|  56617|\n",
      "|울산|  54480|\n",
      "|전남|  51184|\n",
      "|경북|  50017|\n",
      "|충북|  56550|\n",
      "|제주|  53626|\n",
      "|세종|  61309|\n",
      "|전북|  53978|\n",
      "+----+-------+\n",
      "\n"
     ]
    }
   ],
   "source": [
    "tmp_fin = co_patient.select(co_patient.gubun.alias('loc'), co_patient.qurRate) # 지역별 코로나 환자 누적 발생 현황\n",
    "tmp_fin.show()"
   ]
  },
  {
   "cell_type": "markdown",
   "id": "d7db6e0e",
   "metadata": {},
   "source": [
    "1. area_pop: 각 지역의 면적대비 인구\n",
    "2. tmp_fin : 각 지역의 코로나 현황 data"
   ]
  },
  {
   "cell_type": "code",
   "execution_count": 29,
   "id": "64dfbc33",
   "metadata": {},
   "outputs": [
    {
     "name": "stdout",
     "output_type": "stream",
     "text": [
      "+----+------------+-------+\n",
      "| loc|popu_density|qurRate|\n",
      "+----+------------+-------+\n",
      "|강원|          93|  55405|\n",
      "|경기|        1366|  57425|\n",
      "|경남|         321|  51700|\n",
      "|경북|         141|  50017|\n",
      "|광주|        2920|  58367|\n",
      "|대구|        2733|  52711|\n",
      "|대전|        2722|  57891|\n",
      "|부산|        4411|  50642|\n",
      "|서울|       16093|  59003|\n",
      "|세종|         811|  61309|\n",
      "|울산|        1072|  54480|\n",
      "|인천|        2831|  56617|\n",
      "|전남|         152|  51184|\n",
      "|전북|         226|  53978|\n",
      "|제주|         378|  53626|\n",
      "|충남|         265|  54823|\n",
      "|충북|         221|  56550|\n",
      "+----+------------+-------+\n",
      "\n",
      "root\n",
      " |-- loc: string (nullable = true)\n",
      " |-- popu_density: long (nullable = true)\n",
      " |-- qurRate: string (nullable = true)\n",
      "\n"
     ]
    }
   ],
   "source": [
    "co_rate = area_pop.join(tmp_fin, on = 'loc').orderBy(col('loc'))\n",
    "co_rate.show(co_rate.count())\n",
    "co_rate.printSchema()"
   ]
  },
  {
   "cell_type": "code",
   "execution_count": 30,
   "id": "9435926e",
   "metadata": {},
   "outputs": [],
   "source": [
    "### co_rate spark df 를 pd df 로 변환 \n",
    "pd_corate = co_rate.toPandas()\n",
    "pd_corate['qurRate'] = pd_corate['qurRate'].astype(int) # 정수형으로 변환해준다."
   ]
  },
  {
   "cell_type": "code",
   "execution_count": 31,
   "id": "8ab6747f",
   "metadata": {},
   "outputs": [
    {
     "data": {
      "text/plain": [
       "<AxesSubplot:xlabel='popu_density', ylabel='qurRate'>"
      ]
     },
     "execution_count": 31,
     "metadata": {},
     "output_type": "execute_result"
    },
    {
     "name": "stderr",
     "output_type": "stream",
     "text": [
      "findfont: Font family ['NanumGothic'] not found. Falling back to DejaVu Sans.\n"
     ]
    },
    {
     "data": {
      "image/png": "[encoded data removed]",
      "text/plain": [
       "<Figure size 432x432 with 1 Axes>"
      ]
     },
     "metadata": {
      "needs_background": "light"
     },
     "output_type": "display_data"
    }
   ],
   "source": [
    "pd_corate.plot(kind = 'scatter',\n",
    "              x = 'popu_density',\n",
    "              y =  'qurRate',\n",
    "              # xlim = (0, 8000),\n",
    "              ylim = (45000, 60000),\n",
    "              figsize = (6, 6)\n",
    "              )"
   ]
  },
  {
   "cell_type": "markdown",
   "id": "3cabe839",
   "metadata": {},
   "source": [
    "- 1.인구데이터와 코로나 확진자 데이터를 결합해서 중요피쳐만 추출 - dW의 db에 저장\n",
    "- 2.인구데이터와 코로나 확진자 데이터를 결합해서 단위 면적당 인구수 와 지역별 누적 확진자 수 컬럼만 갖고 있는 data - dm의 db에 저장"
   ]
  },
  {
   "cell_type": "markdown",
   "id": "8eabb870",
   "metadata": {},
   "source": [
    "## 백신 접종 완료자와 코로나 확진자 수의 상관관계를 알아보기 위한 data 준비하기\n",
    "- 백신 접종은 인구대비 비율을 사용한다."
   ]
  },
  {
   "cell_type": "code",
   "execution_count": 36,
   "id": "c61cb659",
   "metadata": {},
   "outputs": [],
   "source": [
    "# 인구 data\n",
    "popu = spark.read.csv('/corona_data/loc/sido_population.csv',encoding='CP949',header=True)\n",
    "\n",
    "# 코로나 확진자 data\n",
    "file_name = 'hdfs://localhost:9000/corona_data/patient/corona_patient_' + cal_std_day(365) + '.json'\n",
    "tmp = spark.read.json(file_name, encoding='UTF-8')\n",
    "tmp_fin = tmp.select('items').first()\n",
    "co_patient = spark.createDataFrame(tmp_fin['items'])\n",
    "\n",
    "# 백신관련 data\n",
    "file_name = '/corona_data/vaccine/corona_vaccine_'+ cal_std_day(365) +'.json'\n",
    "vaccine = spark.read.json(file_name)\n",
    "vaccine_data = spark.createDataFrame(vaccine.select('data').first()['data'])\n",
    "# vaccine_data.show()"
   ]
  },
  {
   "cell_type": "code",
   "execution_count": 37,
   "id": "5cbaa9f9",
   "metadata": {},
   "outputs": [
    {
     "name": "stdout",
     "output_type": "stream",
     "text": [
      "+----+----------------+-------+\n",
      "| loc|vaccine_pop_rate|qurRate|\n",
      "+----+----------------+-------+\n",
      "|강원|              69|  55405|\n",
      "|경기|              63|  57425|\n",
      "|경남|              64|  51700|\n",
      "|경북|              65|  50017|\n",
      "|광주|              67|  58367|\n",
      "|대구|              59|  52711|\n",
      "|대전|              62|  57891|\n",
      "|부산|              64|  50642|\n",
      "|서울|              63|  59003|\n",
      "|세종|              57|  61309|\n",
      "|울산|              64|  54480|\n",
      "|인천|              64|  56617|\n",
      "|전남|              74|  51184|\n",
      "|전북|              71|  53978|\n",
      "|제주|              63|  53626|\n",
      "|충남|              68|  54823|\n",
      "|충북|              68|  56550|\n",
      "+----+----------------+-------+\n",
      "\n"
     ]
    }
   ],
   "source": [
    "# 백신 data 와 인구 data\n",
    "pop_vaccine = vaccine_data.join(popu, on = 'loc').select('loc', ceil(vaccine_data.v3/popu.total * 100).alias('vaccine_pop_rate'))\n",
    "# pop.vaccine.show()\n",
    "patient_tmp = co_patient.select(co_patient.gubun.alias('loc'), co_patient.qurRate)\n",
    "# patient_tmp.show()\n",
    "co_vaccine_patient = pop_vaccine.join(patient_tmp, on = 'loc')\n",
    "co_vaccine_patient.show()"
   ]
  },
  {
   "cell_type": "code",
   "execution_count": 40,
   "id": "c0e522ec",
   "metadata": {},
   "outputs": [
    {
     "data": {
      "text/plain": [
       "<AxesSubplot:xlabel='vaccine_pop_rate', ylabel='qurRate'>"
      ]
     },
     "execution_count": 40,
     "metadata": {},
     "output_type": "execute_result"
    },
    {
     "data": {
      "image/png": "[encoded data removed]",
      "text/plain": [
       "<Figure size 504x504 with 1 Axes>"
      ]
     },
     "metadata": {
      "needs_background": "light"
     },
     "output_type": "display_data"
    }
   ],
   "source": [
    "pd_vac_pa = co_vaccine_patient.toPandas()\n",
    "\n",
    "pd_vac_pa['qurRate'] = pd_vac_pa['qurRate'].astype(int)\n",
    "\n",
    "pd_vac_pa.plot(kind = 'scatter', x = 'vaccine_pop_rate', y = 'qurRate', figsize = (7,7))"
   ]
  },
  {
   "cell_type": "markdown",
   "id": "2ad3aea0",
   "metadata": {},
   "source": [
    "- vaccine df 는 dw에 저장\n",
    "- 인구대비 정종률과 코로나 dm db에 넣겠다."
   ]
  },
  {
   "cell_type": "markdown",
   "id": "b3960503",
   "metadata": {},
   "source": [
    "- 1. 인구 대비 접종률을 계산한 data : dw db\n",
    "- 2. 1번 데이터와 코로나 확진자수 데이터가 결합한 data : dm db"
   ]
  },
  {
   "cell_type": "markdown",
   "id": "707b0da0",
   "metadata": {},
   "source": [
    "### 지역별 다중 이용시설과 코로나 확진자수의 상관관계\n",
    "- 지역별 다중이용시설 data와 인구와의 관계\n",
    "- 코로나 확진자수"
   ]
  },
  {
   "cell_type": "code",
   "execution_count": 41,
   "id": "de5dc9ef",
   "metadata": {},
   "outputs": [],
   "source": [
    "# 인구\n",
    "# 코로나 확진자\n",
    "\n",
    "# 인구 data\n",
    "popu = spark.read.csv('/corona_data/loc/sido_population.csv',encoding='CP949',header=True)\n",
    "# 코로나 확진자 data\n",
    "file_name = 'hdfs://localhost:9000/corona_data/patient/corona_patient_' + cal_std_day(365) + '.json'\n",
    "tmp = spark.read.json(file_name, encoding='UTF-8')\n",
    "tmp_fin = tmp.select('items').first()\n",
    "co_patient = spark.createDataFrame(tmp_fin['items'])\n",
    "\n",
    "# 다중이용시설 data\n",
    "facil = spark.read.csv('/corona_data/loc/전국다중이용시설.csv',encoding='CP949',header=True)\n",
    "# facil.show()"
   ]
  },
  {
   "cell_type": "code",
   "execution_count": 42,
   "id": "3ff2ad1b",
   "metadata": {},
   "outputs": [
    {
     "name": "stdout",
     "output_type": "stream",
     "text": [
      "+----+--------+-------+\n",
      "| loc|fac_popu|qurRate|\n",
      "+----+--------+-------+\n",
      "|강원|      38|  55405|\n",
      "|경기|      46|  57425|\n",
      "|경남|      41|  51700|\n",
      "|경북|      36|  50017|\n",
      "|광주|      51|  58367|\n",
      "|대구|      43|  52711|\n",
      "|대전|      53|  57891|\n",
      "|부산|      44|  50642|\n",
      "|서울|      54|  59003|\n",
      "|세종|      65|  61309|\n",
      "|울산|      38|  54480|\n",
      "|인천|      46|  56617|\n",
      "|전남|      45|  51184|\n",
      "|전북|      42|  53978|\n",
      "|제주|      45|  53626|\n",
      "|충남|      38|  54823|\n",
      "|충북|      38|  56550|\n",
      "+----+--------+-------+\n",
      "\n"
     ]
    }
   ],
   "source": [
    "# 다중이용시설data(facil)를 광역시도(광역)별 개수를 세고 해당 데이터를 활용함.\n",
    "fac_cnt = facil.groupby(col('광역').alias('loc')).agg(count('*').alias('fac_cnt'))\n",
    "# fac_cnt.show()\n",
    "\n",
    "# 지역 + 인구 10만명당 다중이용시설의 개수를 구해준다.\n",
    "pop_fac_rate = popu.join(fac_cnt, on = 'loc')\n",
    "# pop_fac_rate.show()\n",
    "\n",
    "# 10만명 기준이기 때문에 10만명당 개수를 파악해준다.\n",
    "pop_fac_rate = pop_fac_rate.select('loc', ceil(fac_cnt.fac_cnt/popu.total*100000).alias('fac_popu'))\n",
    "# pop_fac_rate.show()\n",
    "\n",
    "# 코로나 확진자 수 + 누적확진자 수 를 합쳐서 나타내준다.\n",
    "tmp = co_patient.select(co_patient.gubun.alias('loc'), 'qurRate')\n",
    "pop_fac_co_rate = pop_fac_rate.join(tmp, on = 'loc')\n",
    "pop_fac_co_rate.show()"
   ]
  },
  {
   "cell_type": "code",
   "execution_count": 43,
   "id": "d366d7b4",
   "metadata": {},
   "outputs": [],
   "source": [
    "# pd df로 변환해준다.\n",
    "pd_fac = pop_fac_co_rate.toPandas()"
   ]
  },
  {
   "cell_type": "code",
   "execution_count": 134,
   "id": "a4449935",
   "metadata": {},
   "outputs": [
    {
     "data": {
      "text/plain": [
       "<AxesSubplot:xlabel='fac_popu', ylabel='qurRate'>"
      ]
     },
     "execution_count": 134,
     "metadata": {},
     "output_type": "execute_result"
    },
    {
     "data": {
      "image/png": "[encoded data removed]",
      "text/plain": [
       "<Figure size 432x432 with 1 Axes>"
      ]
     },
     "metadata": {
      "needs_background": "light"
     },
     "output_type": "display_data"
    }
   ],
   "source": [
    "pd_fac['qurRate'] = pd_fac['qurRate'].astype(int)\n",
    "pd_fac.plot(kind = 'scatter', x = 'fac_popu', y = 'qurRate', ylim = (45000, 60000), xlim = (35, 60),figsize = (6,6))"
   ]
  },
  {
   "cell_type": "markdown",
   "id": "3e697eea",
   "metadata": {},
   "source": [
    "- 지역별 다중 이용시설 데이터는 : dw db \n",
    "- 1. 다중이용시설과 연구관계 데이터 : dw db\n",
    "- 2. 1번 데이터와 코로나 확진자 관계 데이터 : dm db"
   ]
  },
  {
   "cell_type": "markdown",
   "id": "fdf26420",
   "metadata": {},
   "source": [
    "### 4. 요일별 코로나 확진자 수\n",
    "- 데이터를 충분히 확보한 후 작업한다.\n",
    "- 2022.12.1 ~ 12.31 까지 데이터를 restapi에서 다운 받은 후 작업\n",
    "- 코로나 확진자수는 매일 수집 처리 저장이 가능 - 자동화에 포함"
   ]
  },
  {
   "cell_type": "code",
   "execution_count": 44,
   "id": "2406e241",
   "metadata": {},
   "outputs": [],
   "source": [
    "# 한달치 데이터를 읽어오려면\n",
    "file_name = '/corona_data/patient/' # 해당 디렉터리 내 json 파일 모두 읽어올것임\n",
    "tmp_patients = spark.read.json(file_name, encoding = 'UTF-8')"
   ]
  },
  {
   "cell_type": "code",
   "execution_count": 45,
   "id": "64deb66b",
   "metadata": {
    "scrolled": true
   },
   "outputs": [
    {
     "name": "stdout",
     "output_type": "stream",
     "text": [
      "+----------------------+---------+------+----------+--------------+----------+\n",
      "|                 items|numOfRows|pageNo|resultCode|     resultMsg|totalCount|\n",
      "+----------------------+---------+------+----------+--------------+----------+\n",
      "|[{945, 885942, 충북...|      500|     1|        00|NORMAL SERVICE|        19|\n",
      "|[{16, 16400, 검역, ...|      500|     1|        00|NORMAL SERVICE|        19|\n",
      "|[{492, 613303, 울산...|      500|     1|        00|NORMAL SERVICE|        19|\n",
      "| [{1184, 830555, 강...|      500|     1|        00|NORMAL SERVICE|        19|\n",
      "|  [{1926, 1294128, ...|      500|     1|        00|NORMAL SERVICE|        19|\n",
      "|[{484, 602221, 울산...|      500|     1|        00|NORMAL SERVICE|        19|\n",
      "|[{813, 932347, 전남...|      500|     1|        00|NORMAL SERVICE|        19|\n",
      "| [{1131, 971081, 전...|      500|     1|        00|NORMAL SERVICE|        19|\n",
      "|[{839, 792998, 대전...|      500|     1|        00|NORMAL SERVICE|        19|\n",
      "|[{782, 892995, 전남...|      500|     1|        00|NORMAL SERVICE|        19|\n",
      "|  [{1635, 1632820, ...|      500|     1|        00|NORMAL SERVICE|        19|\n",
      "| [{1098, 925863, 전...|      500|     1|        00|NORMAL SERVICE|        19|\n",
      "|  [{2610, 1619851, ...|      500|     1|        00|NORMAL SERVICE|        19|\n",
      "|[{472, 586737, 울산...|      500|     1|        00|NORMAL SERVICE|        19|\n",
      "|[{791, 906670, 전남...|      500|     1|        00|NORMAL SERVICE|        19|\n",
      "|[{863, 818354, 대전...|      500|     1|        00|NORMAL SERVICE|        19|\n",
      "|  [{7797, 7592942, ...|      500|     1|        00|NORMAL SERVICE|        19|\n",
      "|  [{2637, 1652940, ...|      500|     1|        00|NORMAL SERVICE|        19|\n",
      "|  [{1934, 1301329, ...|      500|     1|        00|NORMAL SERVICE|        19|\n",
      "|[{815, 934115, 전남...|      500|     1|        00|NORMAL SERVICE|        19|\n",
      "+----------------------+---------+------+----------+--------------+----------+\n",
      "only showing top 20 rows\n",
      "\n"
     ]
    }
   ],
   "source": [
    "tmp_patients.show()"
   ]
  },
  {
   "cell_type": "markdown",
   "id": "1ba27f9b",
   "metadata": {},
   "source": [
    "- RDD.toLocalIterator( prefetchPartitions : bool = False ) → 반복자\n",
    "    - RDD의 모든 요소를 포함하는 반복가능 객채를 반환"
   ]
  },
  {
   "cell_type": "code",
   "execution_count": 54,
   "id": "de1fff0e",
   "metadata": {},
   "outputs": [
    {
     "data": {
      "text/plain": [
       "<generator object _local_iterator_from_socket.<locals>.PyLocalIterable.__iter__ at 0x7f36a38b7650>"
      ]
     },
     "execution_count": 54,
     "metadata": {},
     "output_type": "execute_result"
    }
   ],
   "source": [
    "# list -> dict 로 데이터를 최대한 끌어와서 처리를 하겠다.\n",
    "# items 안에 있는 items 를 가져온다. 컬럼 안에 있는 items 를 가져온다.\n",
    "\n",
    "# 반복 가능 객체 for문과 연결 가능하다.\n",
    "tmp_patients.select(tmp_patients.items).toLocalIterator()"
   ]
  },
  {
   "cell_type": "code",
   "execution_count": 55,
   "id": "f614e623",
   "metadata": {},
   "outputs": [],
   "source": [
    "data = []\n",
    "\n",
    "for rdd1 in tmp_patients.select(tmp_patients.items).toLocalIterator():\n",
    "    for rdd2 in rdd1.items:\n",
    "        data.append(rdd2)"
   ]
  },
  {
   "cell_type": "code",
   "execution_count": 56,
   "id": "b6c2f668",
   "metadata": {},
   "outputs": [
    {
     "data": {
      "text/plain": [
       "608"
      ]
     },
     "execution_count": 56,
     "metadata": {},
     "output_type": "execute_result"
    }
   ],
   "source": [
    "len(data)"
   ]
  },
  {
   "cell_type": "code",
   "execution_count": 58,
   "id": "d845b579",
   "metadata": {},
   "outputs": [
    {
     "data": {
      "text/plain": [
       "6"
      ]
     },
     "execution_count": 58,
     "metadata": {},
     "output_type": "execute_result"
    }
   ],
   "source": [
    "pd.to_datetime(data[0]['stdDay']).dayofweek # 월요일부터 시작, 1 ~7 까지의 숫자"
   ]
  },
  {
   "cell_type": "code",
   "execution_count": 61,
   "id": "11d191e9",
   "metadata": {
    "scrolled": true
   },
   "outputs": [],
   "source": [
    "# Row 객체 저장되어 있는 data_list 데이터프레임으로 변경\n",
    "p_data = spark.createDataFrame(data)\n",
    "# p_data.show()"
   ]
  },
  {
   "cell_type": "code",
   "execution_count": 63,
   "id": "f00a2f7d",
   "metadata": {},
   "outputs": [],
   "source": [
    "# 요일 컬럼 추가(요일 고유 번호 추가)\n",
    "patient_week = p_data.withColumn('day_of_week', dayofweek(col('stdDay')))"
   ]
  },
  {
   "cell_type": "code",
   "execution_count": 64,
   "id": "0e52826b",
   "metadata": {},
   "outputs": [
    {
     "name": "stdout",
     "output_type": "stream",
     "text": [
      "+--------+--------+-----+-------+-----------------+------+------------+----------+-----------+-----------+-------+----------+-----------+\n",
      "|deathCnt|  defCnt|gubun|gubunCn|          gubunEn|incDec|isolClearCnt|isolIngCnt|localOccCnt|overFlowCnt|qurRate|    stdDay|day_of_week|\n",
      "+--------+--------+-----+-------+-----------------+------+------------+----------+-----------+-----------+-------+----------+-----------+\n",
      "|     945|  885942| 충북|   忠北|Chungcheongbuk-do|  1803|           0|         0|       1803|          0|  55461|2022-12-18|          1|\n",
      "|    7814| 7626725| 경기|   京畿|      Gyeonggi-do| 15808|           0|         0|      15804|          4|  56222|2022-12-18|          1|\n",
      "|     233|  357600| 제주|   济州|             Jeju|   605|           0|         0|        605|          0|  52840|2022-12-18|          1|\n",
      "|    1813| 1233677| 대구|   大邱|            Daegu|  2722|           0|         0|       2716|          6|  51718|2022-12-18|          1|\n",
      "|   31395|28188293| 합계|   合计|            Total| 58838|           0|         0|      58753|         85|  54587|2022-12-18|          1|\n",
      "+--------+--------+-----+-------+-----------------+------+------------+----------+-----------+-----------+-------+----------+-----------+\n",
      "only showing top 5 rows\n",
      "\n"
     ]
    }
   ],
   "source": [
    "patient_week.show(5)"
   ]
  },
  {
   "cell_type": "code",
   "execution_count": 68,
   "id": "287c88c0",
   "metadata": {},
   "outputs": [
    {
     "name": "stdout",
     "output_type": "stream",
     "text": [
      "+-----------+--------+\n",
      "|day_of_week|patients|\n",
      "+-----------+--------+\n",
      "|          1|435752.0|\n",
      "|          2|247407.0|\n",
      "|          3|678587.0|\n",
      "|          4|669367.0|\n",
      "|          5|678708.0|\n",
      "|          6|631398.0|\n",
      "|          7|623078.0|\n",
      "+-----------+--------+\n",
      "\n"
     ]
    }
   ],
   "source": [
    "# LocalOccCnt : 신규 발생자 컬럼임\n",
    "# 요일별로 환자수로 합치고 요일을 기준으로 정령해준다.\n",
    "week_fin = patient_week.groupby(patient_week.day_of_week).agg(sum(col('localOccCnt')).alias('patients')).sort(col('day_of_week'))\n",
    "week_fin.show()"
   ]
  },
  {
   "cell_type": "code",
   "execution_count": 72,
   "id": "5e51af09",
   "metadata": {},
   "outputs": [
    {
     "data": {
      "text/plain": [
       "[<matplotlib.axis.XTick at 0x7f36a1ea9590>,\n",
       " <matplotlib.axis.XTick at 0x7f36a1eb7d90>,\n",
       " <matplotlib.axis.XTick at 0x7f36a1ea93d0>,\n",
       " <matplotlib.axis.XTick at 0x7f36a1df7fd0>,\n",
       " <matplotlib.axis.XTick at 0x7f36a1d4d550>,\n",
       " <matplotlib.axis.XTick at 0x7f36a1d4dad0>,\n",
       " <matplotlib.axis.XTick at 0x7f36a1d4d490>]"
      ]
     },
     "execution_count": 72,
     "metadata": {},
     "output_type": "execute_result"
    },
    {
     "data": {
      "text/plain": [
       "[Text(0, 0, 'mon'),\n",
       " Text(1, 0, 'tue'),\n",
       " Text(2, 0, 'wed'),\n",
       " Text(3, 0, 'thr'),\n",
       " Text(4, 0, 'fri'),\n",
       " Text(5, 0, 'sat'),\n",
       " Text(6, 0, 'sun')]"
      ]
     },
     "execution_count": 72,
     "metadata": {},
     "output_type": "execute_result"
    },
    {
     "data": {
      "image/png": "[encoded data removed]",
      "text/plain": [
       "<Figure size 432x432 with 1 Axes>"
      ]
     },
     "metadata": {
      "needs_background": "light"
     },
     "output_type": "display_data"
    }
   ],
   "source": [
    "pd_week = week_fin.toPandas()\n",
    "ax = pd_week[['patients']].plot(kind = 'bar', figsize = (6, 6))\n",
    "ax.set_xticks([0, 1, 2, 3, 4, 5, 6])\n",
    "ax.set_xticklabels(['mon', 'tue', 'wed', 'thr', 'fri', 'sat', 'sun'], rotation = 90)"
   ]
  },
  {
   "cell_type": "markdown",
   "id": "13c0496e",
   "metadata": {},
   "source": [
    "- 요일별 신규 발생 환자 수 : dm db\n",
    "- 매일 갱신"
   ]
  },
  {
   "cell_type": "code",
   "execution_count": null,
   "id": "977cc460",
   "metadata": {},
   "outputs": [],
   "source": []
  }
 ],
 "metadata": {
  "kernelspec": {
   "display_name": "Python 3 (ipykernel)",
   "language": "python",
   "name": "python3"
  },
  "language_info": {
   "codemirror_mode": {
    "name": "ipython",
    "version": 3
   },
   "file_extension": ".py",
   "mimetype": "text/x-python",
   "name": "python",
   "nbconvert_exporter": "python",
   "pygments_lexer": "ipython3",
   "version": "3.7.10"
  }
 },
 "nbformat": 4,
 "nbformat_minor": 5
}
