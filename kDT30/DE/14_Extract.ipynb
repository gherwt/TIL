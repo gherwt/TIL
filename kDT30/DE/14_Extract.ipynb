{
 "cells": [
  {
   "cell_type": "code",
   "execution_count": 1,
   "id": "b50d6624",
   "metadata": {},
   "outputs": [],
   "source": [
    "# !pip install hdfs\n",
    "# ref : https://hdfscli.readthedocs.io/en/latest/quickstart.html#python-bindings"
   ]
  },
  {
   "cell_type": "code",
   "execution_count": 2,
   "id": "96d45deb",
   "metadata": {},
   "outputs": [],
   "source": [
    "from hdfs import InsecureClient # 하둡 서버와 연결하는 client 객체 모듈(hdfs 접근)\n",
    "import requests # web api 사용 위함\n",
    "import json # json 형식으로 바꿔서 저장하기 위해 사용\n",
    "import datetime as dt"
   ]
  },
  {
   "cell_type": "code",
   "execution_count": null,
   "id": "5dcee633",
   "metadata": {},
   "outputs": [],
   "source": [
    "# 코로나 data Pipleline\n",
    "1. 데이터 수집 후 dw 인 hdfs 에 저장 : 현재 note 에서 프로그래밍\n",
    "2, dw에 있는 data를 가공 처리해서 dw db에 저장\n",
    "3."
   ]
  },
  {
   "cell_type": "markdown",
   "id": "311f5584",
   "metadata": {},
   "source": [
    "### DataW에 DataL 의 필요 data 를 이동 저장 단계\n",
    "- Lake 에서 HDFS로 이동 저장\n",
    "1. 코로나 발생현황(일간데이터) : api 수집\n",
    "2. 코로나 예방접종현황(일간데이터) : web 페이지 크롤링\n",
    "3. 인구 사회 데이터 : 파일 데이터\n",
    "- 1, 2번 데이터는 json 형식으로 변환 후 hdfs에 저장\n",
    "- 3번 데이터는 파일 그대로 저장"
   ]
  },
  {
   "cell_type": "markdown",
   "id": "a303da7a",
   "metadata": {},
   "source": [
    "## HDFS handle\n",
    "- port 를 명시적으로 변경하지 않았으면\n",
    "- hdfs 의 node 들의 관리 서버 : localhost: 9000\n",
    "- http 연결 웹 이용 서버 연결 : 'http://localhost:9870'"
   ]
  },
  {
   "cell_type": "code",
   "execution_count": 3,
   "id": "b8f342ac",
   "metadata": {},
   "outputs": [],
   "source": [
    "## hdfs client 연결객체 생성\n",
    "## insecureclient(연결할 hdfs 서버주소: 포트, user = 사용자계정)\n",
    "client = InsecureClient('http://localhost:9870', user = 'lab09')"
   ]
  },
  {
   "cell_type": "markdown",
   "id": "b712a763",
   "metadata": {},
   "source": [
    "## hdfs로 부터 읽기"
   ]
  },
  {
   "cell_type": "code",
   "execution_count": 4,
   "id": "92556591",
   "metadata": {},
   "outputs": [],
   "source": [
    "# client 객체 사용 file 읽어오기\n",
    "# hdfsclient.read(파일명) : 해당 파일에 대해 읽기 위한 연결을 생성\n",
    "# 생성객체.read() - byte로 읽어온다.\n",
    "with client.read('/rdd/score.txt') as reader :\n",
    "    score = reader.read() # byte code 로 읽어옴"
   ]
  },
  {
   "cell_type": "code",
   "execution_count": 5,
   "id": "e12751ec",
   "metadata": {},
   "outputs": [
    {
     "data": {
      "text/plain": [
       "b'\\xea\\xb9\\x80\\xec\\xb2\\xa0\\xec\\x88\\x98 \\xec\\x8a\\xa4\\xed\\x8c\\x8c\\xed\\x81\\xac 50\\r\\n\\xed\\x99\\x8d\\xea\\xb8\\xb8\\xeb\\x8f\\x99 \\xec\\x8a\\xa4\\xed\\x8c\\x8c\\xed\\x81\\xac 80\\r\\n\\xec\\x9e\\x84\\xea\\xba\\xbd\\xec\\xa0\\x95 \\xec\\x8a\\xa4\\xed\\x8c\\x8c\\xed\\x81\\xac 60\\r\\n\\xec\\x9e\\x84\\xec\\x9a\\x94\\xed\\x99\\x98 \\xed\\x85\\x90\\xec\\x84\\x9c\\xed\\x94\\x8c\\xeb\\xa1\\x9c\\xec\\x9a\\xb0 100\\r\\n\\xed\\x99\\x8d\\xec\\xa7\\x84\\xed\\x98\\xb8 \\xed\\x85\\x90\\xec\\x84\\x9c\\xed\\x94\\x8c\\xeb\\xa1\\x9c\\xec\\x9a\\xb0 22\\r\\n\\xed\\x99\\x8d\\xec\\xa7\\x84\\xed\\x98\\xb8 \\xed\\x85\\x90\\xec\\x84\\x9c\\xed\\x94\\x8c\\xeb\\xa1\\x9c\\xec\\x9a\\xb0 22\\r\\n\\xec\\x9d\\xb4\\xec\\x9c\\xa4\\xec\\x97\\xb4 \\xed\\x85\\x90\\xec\\x84\\x9c\\xed\\x94\\x8c\\xeb\\xa1\\x9c\\xec\\x9a\\xb0 90\\r\\n\\xec\\xb5\\x9c\\xec\\x97\\xb0\\xec\\x84\\xb1 \\xec\\x9e\\xa5\\xea\\xb3\\xa0 100\\xec\\xb5\\x9c\\xec\\x97\\xb0\\xec\\x84\\xb1 \\xec\\x9e\\xa5\\xea\\xb3\\xa0 100'"
      ]
     },
     "execution_count": 5,
     "metadata": {},
     "output_type": "execute_result"
    }
   ],
   "source": [
    "score"
   ]
  },
  {
   "cell_type": "code",
   "execution_count": 6,
   "id": "890bb35b",
   "metadata": {},
   "outputs": [
    {
     "name": "stdout",
     "output_type": "stream",
     "text": [
      "김철수 스파크 50\r\n",
      "홍길동 스파크 80\r\n",
      "임꺽정 스파크 60\r\n",
      "임요환 텐서플로우 100\r\n",
      "홍진호 텐서플로우 22\r\n",
      "홍진호 텐서플로우 22\r\n",
      "이윤열 텐서플로우 90\r\n",
      "최연성 장고 100최연성 장고 100\n"
     ]
    }
   ],
   "source": [
    "# https://docs.python.org/ko/3/library/stdtypes.html#bytes-and-bytearray-operations\n",
    "score_data = bytes.decode(score)\n",
    "print(score_data)"
   ]
  },
  {
   "cell_type": "markdown",
   "id": "82ef087e",
   "metadata": {},
   "source": [
    "## hdfs에 쓰기"
   ]
  },
  {
   "cell_type": "markdown",
   "id": "ce384fc0",
   "metadata": {
    "jupyter": {
     "outputs_hidden": true
    }
   },
   "source": [
    "#### hdd(note 디렉터리)에 있는 data 를 hdfs 로 이동\n",
    "1. 로컬 데이터 파일을 열기\n",
    "2. hdfs client 통해서 쓰기 모듈 사용\n",
    "3. 로컬 파일의 내용을 한줄씩 읽어서 -> hdfs에 쓰기"
   ]
  },
  {
   "cell_type": "code",
   "execution_count": 7,
   "id": "458c67df",
   "metadata": {
    "jupyter": {
     "outputs_hidden": true
    }
   },
   "outputs": [],
   "source": [
    "with open('./data/corona_data/sido_area.csv',encoding='CP949') as reader, client.write('/corona_data/sido_area_tmp1.csv') as writer:\n",
    "    for line in reader :\n",
    "        writer.write(line.encode('CP949'))"
   ]
  },
  {
   "cell_type": "code",
   "execution_count": 9,
   "id": "d7a45228",
   "metadata": {
    "scrolled": true
   },
   "outputs": [
    {
     "data": {
      "text/plain": [
       "'/corona_data/loctmp'"
      ]
     },
     "execution_count": 9,
     "metadata": {},
     "output_type": "execute_result"
    }
   ],
   "source": [
    "# 폴더 전송 - hdfs.upload(저장할 곳, 원본)\n",
    "# aws 서버에서 진행하고 있기 때문에 권한이 없으면 오류가 발생한다. 밑에서도 계속 발생할 예정임\n",
    "client.upload('/corona_data/loctmp', './data/corona_data')"
   ]
  },
  {
   "cell_type": "markdown",
   "id": "2925af9e",
   "metadata": {},
   "source": [
    "## hdfs의 파일 일부 수정하기\n",
    "- hdfs.client.write (파일명, append = True)"
   ]
  },
  {
   "cell_type": "code",
   "execution_count": 10,
   "id": "0f64f640",
   "metadata": {
    "scrolled": true
   },
   "outputs": [],
   "source": [
    "client.write('/rdd/score.txt', '\\n최연성 장고 100'.encode('UTF-8'), append = True)"
   ]
  },
  {
   "cell_type": "markdown",
   "id": "eb095c70",
   "metadata": {},
   "source": [
    "## hdfs 권한 수정\n",
    "- 권한 777은 누구나 다 사용할 수 있음"
   ]
  },
  {
   "cell_type": "code",
   "execution_count": 37,
   "id": "9826da16",
   "metadata": {
    "scrolled": true
   },
   "outputs": [],
   "source": [
    "client.set_permission('/corona_data/', '777')"
   ]
  },
  {
   "cell_type": "markdown",
   "id": "6a1672dc",
   "metadata": {},
   "source": [
    "## hdfs 삭제"
   ]
  },
  {
   "cell_type": "code",
   "execution_count": 39,
   "id": "c8cd2e28",
   "metadata": {
    "scrolled": true
   },
   "outputs": [
    {
     "data": {
      "text/plain": [
       "True"
      ]
     },
     "execution_count": 39,
     "metadata": {},
     "output_type": "execute_result"
    }
   ],
   "source": [
    "client.delete('/corona_data/loc/sido_area.xlsx')"
   ]
  },
  {
   "cell_type": "markdown",
   "id": "7839837d",
   "metadata": {},
   "source": [
    "### 공공데이터 REST_API 통해서 데이터 수집 후 hdfs에 저장\n",
    "\n",
    "1. 일간 코로나 발생 데이터(전국)"
   ]
  },
  {
   "cell_type": "markdown",
   "id": "1a63d843",
   "metadata": {},
   "source": [
    "## REST_API로 데이터를 호출해 HDFS에 저장\n",
    "- restapi 연결을 위한 객체 생성 : request 모듈 사용\n",
    "    - 함수로 구성\n",
    "- 일간 데이터이기 때문에 어느 시점의 데이터를 다운받을 것이지를 위한 시점 생성 함수 구성"
   ]
  },
  {
   "cell_type": "markdown",
   "id": "f5344549",
   "metadata": {},
   "source": [
    "### restapi 연결을 위한 객체 생성 및 데이터 받아오는 함수 생성\n",
    "- 데이터 반환 여부 확인 후 반환되었으면 content(text)만 반환"
   ]
  },
  {
   "cell_type": "code",
   "execution_count": 11,
   "id": "58f6aa36",
   "metadata": {},
   "outputs": [],
   "source": [
    "def executeRestApi(method, url, headers, params):  \n",
    "    # raise Exception('응답코드 : 500')  # 예외 테스트\n",
    "    # err_num = 10/0 # 예외 테스트\n",
    "    if method == \"get\":\n",
    "        res = requests.get(url, params=params, headers=headers)\n",
    "    else:\n",
    "        res = requests.post(url, data=params, headers=headers)\n",
    "\n",
    "    if res == None or res.status_code != 200:\n",
    "        raise Exception('응답코드 : ' + str(res.status_code))\n",
    "       \n",
    "    return res.text"
   ]
  },
  {
   "cell_type": "markdown",
   "id": "ffc3de26",
   "metadata": {},
   "source": [
    "### 기준일자 함수"
   ]
  },
  {
   "cell_type": "code",
   "execution_count": 12,
   "id": "32ba1811",
   "metadata": {},
   "outputs": [],
   "source": [
    "def cal_std_day(befor_day):\n",
    "    x = dt.datetime.now() - dt.timedelta(befor_day)\n",
    "    year = x.year\n",
    "    month = x.month if x.month >= 10 else '0'+ str(x.month)\n",
    "    day = x.day if x.day >= 10 else '0'+ str(x.day)  \n",
    "    return str(year)+ '-' +str(month)+ '-' +str(day)"
   ]
  },
  {
   "cell_type": "code",
   "execution_count": 14,
   "id": "fb79c071",
   "metadata": {},
   "outputs": [
    {
     "data": {
      "text/plain": [
       "'2022-12-26'"
      ]
     },
     "execution_count": 14,
     "metadata": {},
     "output_type": "execute_result"
    }
   ],
   "source": [
    "cal_std_day(365)"
   ]
  },
  {
   "cell_type": "markdown",
   "id": "d496c812",
   "metadata": {},
   "source": [
    "### logger\n",
    "- log 를 기록해주는 객체(관련 패키지 존재 : logging)\n",
    "- 외부 연결 시 오류 상태 확인 위해서 사용자 정의 log 사용 가능해야 한다.\n",
    "- restapi 는 외부 서버 연결이므로 log 기록\n",
    "- 로그 관련 디렉터리 \n",
    "    1. 로그 관련 패키지 import(import logging)\n",
    "    2. 로그 관리 객체 logger 생성(logging.getLogger('로거이름'))\n",
    "    3. 로그 파일 핸들러 생성(logging.FileHandler('로그파일명.log))\n",
    "    4. 로거에 파일핸들러 추가"
   ]
  },
  {
   "cell_type": "code",
   "execution_count": 15,
   "id": "ba9ddc6a",
   "metadata": {},
   "outputs": [],
   "source": [
    "import logging"
   ]
  },
  {
   "cell_type": "markdown",
   "id": "78cdc397",
   "metadata": {},
   "source": [
    "- 아래 log 만드는 코드 프로젝트나 자동화 진행시에는 함수로 생성하는게 일반적임"
   ]
  },
  {
   "cell_type": "code",
   "execution_count": 16,
   "id": "565313d0",
   "metadata": {},
   "outputs": [],
   "source": [
    "co_logger = logging.getLogger('conrona_api')\n",
    "f_handler = logging.FileHandler('./log/rest_api/'+cal_std_day(0)+'log')\n",
    "co_logger.addHandler(f_handler)"
   ]
  },
  {
   "cell_type": "code",
   "execution_count": 17,
   "id": "a6e7b30c",
   "metadata": {},
   "outputs": [],
   "source": [
    "# 이렇게 문자열로 찍을 수도 있음\n",
    "# json양식으로 log를 저장하면 다음에 읽어와서 처리하기도 편하다.\n",
    "# 에러 발생 시 호출해주는 함수이다.\n",
    "# log 파일에 error('log 문자열') log 문자열 기록\n",
    "co_logger.error('코로나 발생현황 다운로드 에러 발생')\n",
    "# co_logger.error('corona_patient_'+cal_std_day(0)+'.json 다운로드 실패')"
   ]
  },
  {
   "cell_type": "markdown",
   "id": "f7fc4080",
   "metadata": {},
   "source": [
    "- 위에서 강제 발생시킨 에러에 대한 log 는 ./log/rest_api/'+cal_std_day(0)+'log 로그 파일에서 확인"
   ]
  },
  {
   "cell_type": "markdown",
   "id": "7a4dda89",
   "metadata": {},
   "source": [
    "### api 호출\n",
    "- 관련 서비스키, url 저장할 때 패쓰 및 파일명\n",
    "     - 전역변수로 설정하거나, 함수 구성 후 리턴 받아 사용한다."
   ]
  },
  {
   "cell_type": "code",
   "execution_count": 24,
   "id": "22ce26ed",
   "metadata": {},
   "outputs": [],
   "source": [
    "url = 'http://apis.data.go.kr/1352000/ODMS_COVID_04/callCovid04Api'\n",
    "service_key = 'vpA5w%2Frqnqv5OVUvdS1jzdjrdM3lN%2B3Omjbnx64dXdMBMpL7xbLreYIFaigNiexQelZHSsPNMGL3A91tHKF1YQ%3D%3D'\n",
    "file_dir = '/corona_data/patient/' # hdfs 저장 경로"
   ]
  },
  {
   "cell_type": "code",
   "execution_count": 20,
   "id": "d960f675",
   "metadata": {},
   "outputs": [],
   "source": [
    "# std_day : 오늘부터 얼머나 이전 데이터인지 나타냄 0 : 당일/ 1: 어제 / 365 : 1년전\n",
    "def create_param(std_day):\n",
    "    return {'serviceKey' : service_key,\n",
    "           'pageNo' : 1,\n",
    "           'numOfRows' : 500,\n",
    "           'apiType' : 'JSON',\n",
    "            'std_day': cal_std_day(std_day)}"
   ]
  },
  {
   "cell_type": "code",
   "execution_count": 21,
   "id": "d55f7c7c",
   "metadata": {},
   "outputs": [
    {
     "data": {
      "text/plain": [
       "{'serviceKey': 'vpA5w%2Frqnqv5OVUvdS1jzdjrdM3lN%2B3Omjbnx64dXdMBMpL7xbLreYIFaigNiexQelZHSsPNMGL3A91tHKF1YQ%3D%3D',\n",
       " 'pageNo': 1,\n",
       " 'numOfRows': 500,\n",
       " 'apiType': 'JSON',\n",
       " 'std_day': '2022-12-26'}"
      ]
     },
     "execution_count": 21,
     "metadata": {},
     "output_type": "execute_result"
    }
   ],
   "source": [
    "create_param(365)"
   ]
  },
  {
   "cell_type": "markdown",
   "id": "4e08e8a0",
   "metadata": {},
   "source": [
    "### 수집 관련 코드\n",
    "- 함수로 구성 필요"
   ]
  },
  {
   "cell_type": "code",
   "execution_count": 25,
   "id": "09a5f585",
   "metadata": {
    "scrolled": true
   },
   "outputs": [],
   "source": [
    "for i in range(365, 367) :\n",
    "    params = create_param(i) # api 요청 파라미터 생성\n",
    "    log_dict = {\n",
    "        'is_sucess' : 'Fail'\n",
    "        ,'type' : 'corona_patient'\n",
    "        ,'std_day' : params['std_day']\n",
    "        ,'params' : params\n",
    "    }\n",
    "    try:\n",
    "        res = executeRestApi('get',url, {}, params) # 공공데이터 api에서 추출\n",
    "        file_name = 'corona_patient_'+cal_std_day(i)+'.json' # 저장 파일명 생성\n",
    "        client.write(file_dir+file_name,res, encoding = 'utf=8') # hdfs 에 저장\n",
    "    \n",
    "    except Exception as e :\n",
    "        log_dict['err_msg'] = e.__str__() # exception 객체 내 에러메시지를 반환\n",
    "        log_json = json.dumps(log_dict, ensure_ascii=False) # json형태로 기록 \n",
    "        co_logger.error(log_json) # 로그파일에 기록"
   ]
  },
  {
   "cell_type": "markdown",
   "id": "f51d5778",
   "metadata": {},
   "source": [
    "## 코로나 백신 접종 현황데이터\n",
    "#### 보건 복지부 제공 웹페이지 통해서 데이터 수집 후 hdfs에 저장\n",
    "2. 일간 코로나 발생데이터(전국)"
   ]
  },
  {
   "cell_type": "markdown",
   "id": "1c03b62d",
   "metadata": {},
   "source": [
    "## 웹크롤링 hdfs 저장\n",
    "\n",
    "- 예방접종현황(백신 접종현황)\n",
    "- json 형태로 구성 후 hdfs 에 저장"
   ]
  },
  {
   "cell_type": "code",
   "execution_count": 26,
   "id": "dde8b098",
   "metadata": {},
   "outputs": [],
   "source": [
    "# pip install BeautifulSoup4\n",
    "from bs4 import BeautifulSoup"
   ]
  },
  {
   "cell_type": "code",
   "execution_count": 27,
   "id": "aaa536d8-d47c-46bc-b078-d32b1a6afc2c",
   "metadata": {},
   "outputs": [],
   "source": [
    "url = 'https://ncv.kdca.go.kr/mainStatus.es?mid=a11702000000'"
   ]
  },
  {
   "cell_type": "code",
   "execution_count": 28,
   "id": "cb02c77d-b710-4e82-b0c5-f6c2091e64eb",
   "metadata": {},
   "outputs": [],
   "source": [
    "response = executeRestApi('get', url, {},{})\n",
    "# response"
   ]
  },
  {
   "cell_type": "code",
   "execution_count": 29,
   "id": "61ec5094",
   "metadata": {},
   "outputs": [],
   "source": [
    "soup = BeautifulSoup(response, 'html.parser') # 받은 웹페이지 파싱객체 생성"
   ]
  },
  {
   "cell_type": "code",
   "execution_count": 31,
   "id": "cf9b3f2b-4a19-4898-8576-4fc3e2880cc8",
   "metadata": {},
   "outputs": [],
   "source": [
    "# 전체 행을 다 가져오기 위해서 뒤의 세부 항을 삭제해준다.\n",
    "#content > div.data_table.tbl_scrl_mini > table > tbody > tr"
   ]
  },
  {
   "cell_type": "code",
   "execution_count": 32,
   "id": "b0e5ca91-ddb5-4e2a-afe5-13242df2e59a",
   "metadata": {},
   "outputs": [],
   "source": [
    "trs = soup.select('#content > div.data_table.tbl_scrl_mini > table > tbody > tr')"
   ]
  },
  {
   "cell_type": "code",
   "execution_count": 34,
   "id": "d8c86f08-62cd-42e3-a59c-cbb62c5da29b",
   "metadata": {},
   "outputs": [
    {
     "data": {
      "text/plain": [
       "[<tr>\n",
       " <th scope=\"row\">전국</th>\n",
       " <td class=\"ta_r\">7,313</td>\n",
       " <td class=\"ta_r\">3,902,792</td>\n",
       " <td class=\"ta_r\">39.9%</td>\n",
       " </tr>,\n",
       " <tr>\n",
       " <th scope=\"row\">서울</th>\n",
       " <td class=\"ta_r\">1,520</td>\n",
       " <td class=\"ta_r\">688,448</td>\n",
       " <td class=\"ta_r\">39.7%</td>\n",
       " <!-- <td class=\"ta_r\">0</td>\n",
       "                 <td class=\"ta_r\">0</td>\n",
       "                 <td class=\"ta_r\">39.7%</td>\n",
       "                 <td class=\"ta_r\">0</td>\n",
       "                 <td class=\"ta_r\">0</td>\n",
       "                 <td class=\"ta_r\"></td> -->\n",
       " </tr>,\n",
       " <tr>\n",
       " <th scope=\"row\">부산</th>\n",
       " <td class=\"ta_r\">450</td>\n",
       " <td class=\"ta_r\">272,732</td>\n",
       " <td class=\"ta_r\">36.4%</td>\n",
       " <!--  <td class=\"ta_r\">0</td>\n",
       "                 <td class=\"ta_r\">0</td>\n",
       "                 <td class=\"ta_r\">36.4%</td>\n",
       "                 <td class=\"ta_r\">0</td>\n",
       "                 <td class=\"ta_r\">0</td>\n",
       "                 <td class=\"ta_r\"></td> -->\n",
       " </tr>,\n",
       " <tr>\n",
       " <th scope=\"row\">대구</th>\n",
       " <td class=\"ta_r\">347</td>\n",
       " <td class=\"ta_r\">150,718</td>\n",
       " <td class=\"ta_r\">32.1%</td>\n",
       " <!-- <td class=\"ta_r\">0</td>\n",
       "                 <td class=\"ta_r\">0</td>\n",
       "                 <td class=\"ta_r\">32.1%</td>\n",
       "                 <td class=\"ta_r\">0</td>\n",
       "                 <td class=\"ta_r\">0</td>\n",
       "                 <td class=\"ta_r\"></td>  -->\n",
       " </tr>,\n",
       " <tr>\n",
       " <th scope=\"row\">인천</th>\n",
       " <td class=\"ta_r\">396</td>\n",
       " <td class=\"ta_r\">198,801</td>\n",
       " <td class=\"ta_r\">39.9%</td>\n",
       " <!--<td class=\"ta_r\">0</td>\n",
       "                 <td class=\"ta_r\">0</td>\n",
       "                 <td class=\"ta_r\">39.9%</td>\n",
       "                  <td class=\"ta_r\">0</td>\n",
       "                 <td class=\"ta_r\">0</td>\n",
       "                 <td class=\"ta_r\"></td> -->\n",
       " </tr>,\n",
       " <tr>\n",
       " <th scope=\"row\">광주</th>\n",
       " <td class=\"ta_r\">148</td>\n",
       " <td class=\"ta_r\">109,748</td>\n",
       " <td class=\"ta_r\">46.6%</td>\n",
       " <!--<td class=\"ta_r\">0</td>\n",
       "                 <td class=\"ta_r\">0</td>\n",
       "                 <td class=\"ta_r\">46.6%</td>\n",
       "                  <td class=\"ta_r\">0</td>\n",
       "                 <td class=\"ta_r\">0</td>\n",
       "                 <td class=\"ta_r\"></td> -->\n",
       " </tr>,\n",
       " <tr>\n",
       " <th scope=\"row\">대전</th>\n",
       " <td class=\"ta_r\">143</td>\n",
       " <td class=\"ta_r\">103,823</td>\n",
       " <td class=\"ta_r\">42.2%</td>\n",
       " <!--<td class=\"ta_r\">0</td>\n",
       "                 <td class=\"ta_r\">0</td>\n",
       "                 <td class=\"ta_r\">42.2%</td>\n",
       "                 <td class=\"ta_r\">0</td>\n",
       "                 <td class=\"ta_r\">0</td>\n",
       "                 <td class=\"ta_r\"></td> -->\n",
       " </tr>,\n",
       " <tr>\n",
       " <th scope=\"row\">울산</th>\n",
       " <td class=\"ta_r\">177</td>\n",
       " <td class=\"ta_r\">66,139</td>\n",
       " <td class=\"ta_r\">37.4%</td>\n",
       " <!--<td class=\"ta_r\">0</td>\n",
       "                 <td class=\"ta_r\">0</td>\n",
       "                 <td class=\"ta_r\">37.4%</td>\n",
       "                  <td class=\"ta_r\">0</td>\n",
       "                 <td class=\"ta_r\">0</td>\n",
       "                 <td class=\"ta_r\"></td> -->\n",
       " </tr>,\n",
       " <tr>\n",
       " <th scope=\"row\">세종</th>\n",
       " <td class=\"ta_r\">45</td>\n",
       " <td class=\"ta_r\">18,322</td>\n",
       " <td class=\"ta_r\">42.9%</td>\n",
       " <!--  <td class=\"ta_r\">0</td>\n",
       "                 <td class=\"ta_r\">0</td>\n",
       "                 <td class=\"ta_r\">42.9%</td>\n",
       "                 <td class=\"ta_r\">0</td>\n",
       "                 <td class=\"ta_r\">0</td>\n",
       "                 <td class=\"ta_r\"></td> -->\n",
       " </tr>,\n",
       " <tr>\n",
       " <th scope=\"row\">경기</th>\n",
       " <td class=\"ta_r\">1,512</td>\n",
       " <td class=\"ta_r\">863,120</td>\n",
       " <td class=\"ta_r\">40.6%</td>\n",
       " <!--<td class=\"ta_r\">0</td>\n",
       "                 <td class=\"ta_r\">0</td>\n",
       "                 <td class=\"ta_r\">40.6%</td>\n",
       "                  <td class=\"ta_r\">0</td>\n",
       "                 <td class=\"ta_r\">0</td>\n",
       "                 <td class=\"ta_r\"></td> -->\n",
       " </tr>,\n",
       " <tr>\n",
       " <th scope=\"row\">강원</th>\n",
       " <td class=\"ta_r\">256</td>\n",
       " <td class=\"ta_r\">141,741</td>\n",
       " <td class=\"ta_r\">38.5%</td>\n",
       " <!--<td class=\"ta_r\">0</td>\n",
       "                 <td class=\"ta_r\">0</td>\n",
       "                 <td class=\"ta_r\">38.5%</td>\n",
       "                  <td class=\"ta_r\">0</td>\n",
       "                 <td class=\"ta_r\">0</td>\n",
       "                 <td class=\"ta_r\"></td> -->\n",
       " </tr>,\n",
       " <tr>\n",
       " <th scope=\"row\">충북</th>\n",
       " <td class=\"ta_r\">231</td>\n",
       " <td class=\"ta_r\">142,550</td>\n",
       " <td class=\"ta_r\">42.6%</td>\n",
       " <!-- <td class=\"ta_r\">0</td>\n",
       "                 <td class=\"ta_r\">0</td>\n",
       "                 <td class=\"ta_r\">42.6%</td>\n",
       "                 <td class=\"ta_r\">0</td>\n",
       "                 <td class=\"ta_r\">0</td>\n",
       "                 <td class=\"ta_r\"></td> -->\n",
       " </tr>,\n",
       " <tr>\n",
       " <th scope=\"row\">충남</th>\n",
       " <td class=\"ta_r\">265</td>\n",
       " <td class=\"ta_r\">189,942</td>\n",
       " <td class=\"ta_r\">41.5%</td>\n",
       " <!--<td class=\"ta_r\">0</td>\n",
       "                 <td class=\"ta_r\">0</td>\n",
       "                 <td class=\"ta_r\">41.5%</td>\n",
       "                  <td class=\"ta_r\">0</td>\n",
       "                 <td class=\"ta_r\">0</td>\n",
       "                 <td class=\"ta_r\"></td> -->\n",
       " </tr>,\n",
       " <tr>\n",
       " <th scope=\"row\">전북</th>\n",
       " <td class=\"ta_r\">292</td>\n",
       " <td class=\"ta_r\">197,158</td>\n",
       " <td class=\"ta_r\">46.3%</td>\n",
       " <!--<td class=\"ta_r\">0</td>\n",
       "                 <td class=\"ta_r\">0</td>\n",
       "                 <td class=\"ta_r\">46.3%</td>\n",
       "                  <td class=\"ta_r\">0</td>\n",
       "                 <td class=\"ta_r\">0</td>\n",
       "                 <td class=\"ta_r\"></td> -->\n",
       " </tr>,\n",
       " <tr>\n",
       " <th scope=\"row\">전남</th>\n",
       " <td class=\"ta_r\">327</td>\n",
       " <td class=\"ta_r\">228,404</td>\n",
       " <td class=\"ta_r\">48.1%</td>\n",
       " <!--<td class=\"ta_r\">0</td>\n",
       "                 <td class=\"ta_r\">0</td>\n",
       "                 <td class=\"ta_r\">48.1%</td>\n",
       "                  <td class=\"ta_r\">0</td>\n",
       "                 <td class=\"ta_r\">0</td>\n",
       "                 <td class=\"ta_r\"></td> -->\n",
       " </tr>,\n",
       " <tr>\n",
       " <th scope=\"row\">경북</th>\n",
       " <td class=\"ta_r\">648</td>\n",
       " <td class=\"ta_r\">237,383</td>\n",
       " <td class=\"ta_r\">37.4%</td>\n",
       " <!-- <td class=\"ta_r\">0</td>\n",
       "                 <td class=\"ta_r\">0</td>\n",
       "                 <td class=\"ta_r\">37.4%</td>\n",
       "                  <td class=\"ta_r\">0</td>\n",
       "                 <td class=\"ta_r\">0</td>\n",
       "                 <td class=\"ta_r\"></td> -->\n",
       " </tr>,\n",
       " <tr>\n",
       " <th scope=\"row\">경남</th>\n",
       " <td class=\"ta_r\">505</td>\n",
       " <td class=\"ta_r\">248,196</td>\n",
       " <td class=\"ta_r\">36.8%</td>\n",
       " <!-- <td class=\"ta_r\">0</td>\n",
       "                 <td class=\"ta_r\">0</td>\n",
       "                 <td class=\"ta_r\">36.8%</td>\n",
       "                  <td class=\"ta_r\">0</td>\n",
       "                 <td class=\"ta_r\">0</td>\n",
       "                 <td class=\"ta_r\"></td> -->\n",
       " </tr>,\n",
       " <tr>\n",
       " <th scope=\"row\">제주</th>\n",
       " <td class=\"ta_r\">51</td>\n",
       " <td class=\"ta_r\">45,567</td>\n",
       " <td class=\"ta_r\">37.5%</td>\n",
       " <!--<td class=\"ta_r\">0</td>\n",
       "                 <td class=\"ta_r\">0</td>\n",
       "                 <td class=\"ta_r\">37.5%</td>\n",
       "                  <td class=\"ta_r\">0</td>\n",
       "                 <td class=\"ta_r\">0</td>\n",
       "                 <td class=\"ta_r\"></td> -->\n",
       " </tr>]"
      ]
     },
     "execution_count": 34,
     "metadata": {},
     "output_type": "execute_result"
    }
   ],
   "source": [
    "len(trs)\n",
    "trs"
   ]
  },
  {
   "cell_type": "code",
   "execution_count": 35,
   "id": "e34a99a8",
   "metadata": {},
   "outputs": [],
   "source": [
    "cols = ['loc', 'new', 'accumulate', 'rate']\n",
    "data = [] # 전국 데이터가 key-value dict 로 저장"
   ]
  },
  {
   "cell_type": "code",
   "execution_count": 36,
   "id": "612b9488",
   "metadata": {},
   "outputs": [],
   "source": [
    "for idx, tr in enumerate(trs):\n",
    "    if idx == 0:\n",
    "        continue # idx 0번 데이터는 전국 데이터 제외해야 하므로 continue\n",
    "    tuple_t = []\n",
    "    # 지역 값\n",
    "    loc_th = tr.find('th')\n",
    "    # 접종관련 데이터들\n",
    "    tds = tr.select('td')\n",
    "    # 지역 이름을 추가\n",
    "    tuple_t.append(loc_th.text)\n",
    "    # 접종관련 데이터 추가\n",
    "    tuple_t.append(tds[0].text.replace(' ','').replace('\\r\\n', '').replace(',',''))\n",
    "    tuple_t.append(tds[1].text.replace(' ','').replace('\\r\\n', '').replace(',',''))\n",
    "    tuple_t.append(tds[2].text.replace(' ','').replace('\\r\\n', '').replace(',',''))\n",
    "    data.append(dict(zip(cols, tuple_t)))"
   ]
  },
  {
   "cell_type": "code",
   "execution_count": 37,
   "id": "cf49538d",
   "metadata": {},
   "outputs": [
    {
     "data": {
      "text/plain": [
       "[{'loc': '서울', 'new': '1520', 'accumulate': '688448', 'rate': '39.7%'},\n",
       " {'loc': '부산', 'new': '450', 'accumulate': '272732', 'rate': '36.4%'},\n",
       " {'loc': '대구', 'new': '347', 'accumulate': '150718', 'rate': '32.1%'},\n",
       " {'loc': '인천', 'new': '396', 'accumulate': '198801', 'rate': '39.9%'},\n",
       " {'loc': '광주', 'new': '148', 'accumulate': '109748', 'rate': '46.6%'},\n",
       " {'loc': '대전', 'new': '143', 'accumulate': '103823', 'rate': '42.2%'},\n",
       " {'loc': '울산', 'new': '177', 'accumulate': '66139', 'rate': '37.4%'},\n",
       " {'loc': '세종', 'new': '45', 'accumulate': '18322', 'rate': '42.9%'},\n",
       " {'loc': '경기', 'new': '1512', 'accumulate': '863120', 'rate': '40.6%'},\n",
       " {'loc': '강원', 'new': '256', 'accumulate': '141741', 'rate': '38.5%'},\n",
       " {'loc': '충북', 'new': '231', 'accumulate': '142550', 'rate': '42.6%'},\n",
       " {'loc': '충남', 'new': '265', 'accumulate': '189942', 'rate': '41.5%'},\n",
       " {'loc': '전북', 'new': '292', 'accumulate': '197158', 'rate': '46.3%'},\n",
       " {'loc': '전남', 'new': '327', 'accumulate': '228404', 'rate': '48.1%'},\n",
       " {'loc': '경북', 'new': '648', 'accumulate': '237383', 'rate': '37.4%'},\n",
       " {'loc': '경남', 'new': '505', 'accumulate': '248196', 'rate': '36.8%'},\n",
       " {'loc': '제주', 'new': '51', 'accumulate': '45567', 'rate': '37.5%'}]"
      ]
     },
     "execution_count": 37,
     "metadata": {},
     "output_type": "execute_result"
    }
   ],
   "source": [
    "data"
   ]
  },
  {
   "cell_type": "code",
   "execution_count": 38,
   "id": "ac3bd566",
   "metadata": {},
   "outputs": [
    {
     "data": {
      "text/plain": [
       "{'meta': {'desc': '지역별 코로나 예방접종 인구 현황',\n",
       "  'cols': {'loc': '지역', 'new': '신규접종', 'accumulate': '누적접종', 'rate': '접종률'},\n",
       "  'stdDay': '2023-12-26'},\n",
       " 'data': [{'loc': '서울',\n",
       "   'new': '1520',\n",
       "   'accumulate': '688448',\n",
       "   'rate': '39.7%'},\n",
       "  {'loc': '부산', 'new': '450', 'accumulate': '272732', 'rate': '36.4%'},\n",
       "  {'loc': '대구', 'new': '347', 'accumulate': '150718', 'rate': '32.1%'},\n",
       "  {'loc': '인천', 'new': '396', 'accumulate': '198801', 'rate': '39.9%'},\n",
       "  {'loc': '광주', 'new': '148', 'accumulate': '109748', 'rate': '46.6%'},\n",
       "  {'loc': '대전', 'new': '143', 'accumulate': '103823', 'rate': '42.2%'},\n",
       "  {'loc': '울산', 'new': '177', 'accumulate': '66139', 'rate': '37.4%'},\n",
       "  {'loc': '세종', 'new': '45', 'accumulate': '18322', 'rate': '42.9%'},\n",
       "  {'loc': '경기', 'new': '1512', 'accumulate': '863120', 'rate': '40.6%'},\n",
       "  {'loc': '강원', 'new': '256', 'accumulate': '141741', 'rate': '38.5%'},\n",
       "  {'loc': '충북', 'new': '231', 'accumulate': '142550', 'rate': '42.6%'},\n",
       "  {'loc': '충남', 'new': '265', 'accumulate': '189942', 'rate': '41.5%'},\n",
       "  {'loc': '전북', 'new': '292', 'accumulate': '197158', 'rate': '46.3%'},\n",
       "  {'loc': '전남', 'new': '327', 'accumulate': '228404', 'rate': '48.1%'},\n",
       "  {'loc': '경북', 'new': '648', 'accumulate': '237383', 'rate': '37.4%'},\n",
       "  {'loc': '경남', 'new': '505', 'accumulate': '248196', 'rate': '36.8%'},\n",
       "  {'loc': '제주', 'new': '51', 'accumulate': '45567', 'rate': '37.5%'}]}"
      ]
     },
     "execution_count": 38,
     "metadata": {},
     "output_type": "execute_result"
    }
   ],
   "source": [
    "# json 에 포함시킬 meta data 구성\n",
    "res = {\n",
    "    'meta':{\n",
    "        'desc':'지역별 코로나 예방접종 인구 현황',\n",
    "        'cols':{\n",
    "                'loc':'지역'\n",
    "                ,'new':'신규접종'\n",
    "                ,'accumulate':'누적접종' \n",
    "               ,'rate' : '접종률'\n",
    "                },\n",
    "        'stdDay' : cal_std_day(0)\n",
    "    },\n",
    "    'data' : data\n",
    "}\n",
    "res"
   ]
  },
  {
   "cell_type": "code",
   "execution_count": 39,
   "id": "30cb3187",
   "metadata": {
    "scrolled": true
   },
   "outputs": [],
   "source": [
    "file_dir = '/corona_data/vaccine/'\n",
    "file_name = 'corona_vaccine_65'+cal_std_day(1)+'.json'\n",
    "client.write(file_dir+file_name, json.dumps(res, ensure_ascii = False), encoding='utf=8')"
   ]
  },
  {
   "cell_type": "code",
   "execution_count": 40,
   "id": "691a2923",
   "metadata": {
    "scrolled": true
   },
   "outputs": [
    {
     "name": "stdout",
     "output_type": "stream",
     "text": [
      "+----------------------+------------------------------+\n",
      "|                  data|                          meta|\n",
      "+----------------------+------------------------------+\n",
      "|[{688448, 서울, 152...|{{누적접종, 지역, 신규접종,...|\n",
      "+----------------------+------------------------------+\n",
      "\n"
     ]
    }
   ],
   "source": [
    "file_dir = '/corona_data/vaccine/'\n",
    "file_name = 'corona_vaccine_65'+cal_std_day(1)+'.json'\n",
    "vaccine = spark.read.json(file_dir+file_name)\n",
    "vaccine.show()"
   ]
  },
  {
   "cell_type": "markdown",
   "id": "102c3fba",
   "metadata": {},
   "source": [
    "### 위 크롤링된 데이터가 전 연령에 대한 백신 관련 데이터가 아니므로 다른 파일 사용함"
   ]
  },
  {
   "cell_type": "code",
   "execution_count": 41,
   "id": "ab1ad95f",
   "metadata": {},
   "outputs": [],
   "source": [
    "import pandas as pd"
   ]
  },
  {
   "cell_type": "code",
   "execution_count": 42,
   "id": "df40febd",
   "metadata": {},
   "outputs": [],
   "source": [
    "fin_vac = pd.read_csv('./data/corona_data/코로나백신접종완료_2022_12.csv', index_col = 0)"
   ]
  },
  {
   "cell_type": "code",
   "execution_count": 43,
   "id": "dcb3390f",
   "metadata": {},
   "outputs": [
    {
     "data": {
      "text/html": [
       "<div>\n",
       "<style scoped>\n",
       "    .dataframe tbody tr th:only-of-type {\n",
       "        vertical-align: middle;\n",
       "    }\n",
       "\n",
       "    .dataframe tbody tr th {\n",
       "        vertical-align: top;\n",
       "    }\n",
       "\n",
       "    .dataframe thead th {\n",
       "        text-align: right;\n",
       "    }\n",
       "</style>\n",
       "<table border=\"1\" class=\"dataframe\">\n",
       "  <thead>\n",
       "    <tr style=\"text-align: right;\">\n",
       "      <th></th>\n",
       "      <th>LOC</th>\n",
       "      <th>V1</th>\n",
       "      <th>V2</th>\n",
       "      <th>V3</th>\n",
       "    </tr>\n",
       "  </thead>\n",
       "  <tbody>\n",
       "    <tr>\n",
       "      <th>0</th>\n",
       "      <td>제주</td>\n",
       "      <td>591058</td>\n",
       "      <td>585437.0</td>\n",
       "      <td>439106.0</td>\n",
       "    </tr>\n",
       "    <tr>\n",
       "      <th>1</th>\n",
       "      <td>서울</td>\n",
       "      <td>8335298</td>\n",
       "      <td>8257768.0</td>\n",
       "      <td>6076429.0</td>\n",
       "    </tr>\n",
       "    <tr>\n",
       "      <th>2</th>\n",
       "      <td>부산</td>\n",
       "      <td>2879900</td>\n",
       "      <td>2851362.0</td>\n",
       "      <td>2140773.0</td>\n",
       "    </tr>\n",
       "    <tr>\n",
       "      <th>3</th>\n",
       "      <td>대구</td>\n",
       "      <td>2018604</td>\n",
       "      <td>1995783.0</td>\n",
       "      <td>1405163.0</td>\n",
       "    </tr>\n",
       "    <tr>\n",
       "      <th>4</th>\n",
       "      <td>광주</td>\n",
       "      <td>1261981</td>\n",
       "      <td>1250568.0</td>\n",
       "      <td>968947.0</td>\n",
       "    </tr>\n",
       "  </tbody>\n",
       "</table>\n",
       "</div>"
      ],
      "text/plain": [
       "  LOC       V1         V2         V3\n",
       "0  제주   591058   585437.0   439106.0\n",
       "1  서울  8335298  8257768.0  6076429.0\n",
       "2  부산  2879900  2851362.0  2140773.0\n",
       "3  대구  2018604  1995783.0  1405163.0\n",
       "4  광주  1261981  1250568.0   968947.0"
      ]
     },
     "execution_count": 43,
     "metadata": {},
     "output_type": "execute_result"
    }
   ],
   "source": [
    "# 1, 2, 3 차 접종의 인원들을 나타냄\n",
    "fin_vac.head()"
   ]
  },
  {
   "cell_type": "code",
   "execution_count": 46,
   "id": "9668f92c",
   "metadata": {},
   "outputs": [
    {
     "data": {
      "text/plain": [
       "LOC           광주\n",
       "V1       1261981\n",
       "V2     1250568.0\n",
       "V3      968947.0\n",
       "Name: 4, dtype: object"
      ]
     },
     "execution_count": 46,
     "metadata": {},
     "output_type": "execute_result"
    }
   ],
   "source": [
    "tmp = fin_vac.loc[4]\n",
    "tmp"
   ]
  },
  {
   "cell_type": "code",
   "execution_count": 47,
   "id": "43832f7a",
   "metadata": {},
   "outputs": [],
   "source": [
    "cols = ['loc', 'v1', 'v2', 'v3']\n",
    "data = []"
   ]
  },
  {
   "cell_type": "code",
   "execution_count": 48,
   "id": "94704338",
   "metadata": {},
   "outputs": [],
   "source": [
    "for idx in fin_vac.index:\n",
    "    tuple_t = []\n",
    "    tmp = fin_vac.loc[idx]\n",
    "    tuple_t.append(str(tmp.LOC))\n",
    "    tuple_t.append(str(tmp.V1))\n",
    "    tuple_t.append(str(tmp.V2))\n",
    "    tuple_t.append(str(tmp.V3))\n",
    "    data.append(dict(zip(cols, tuple_t)))"
   ]
  },
  {
   "cell_type": "code",
   "execution_count": 49,
   "id": "977e39b6",
   "metadata": {},
   "outputs": [
    {
     "data": {
      "text/plain": [
       "[{'loc': '제주', 'v1': '591058', 'v2': '585437.0', 'v3': '439106.0'},\n",
       " {'loc': '서울', 'v1': '8335298', 'v2': '8257768.0', 'v3': '6076429.0'},\n",
       " {'loc': '부산', 'v1': '2879900', 'v2': '2851362.0', 'v3': '2140773.0'},\n",
       " {'loc': '대구', 'v1': '2018604', 'v2': '1995783.0', 'v3': '1405163.0'},\n",
       " {'loc': '광주', 'v1': '1261981', 'v2': '1250568.0', 'v3': '968947.0'},\n",
       " {'loc': '인천', 'v1': '2574233', 'v2': '2550081.0', 'v3': '1915266.0'},\n",
       " {'loc': '대전', 'v1': '1245473', 'v2': '1233376.0', 'v3': '909102.0'},\n",
       " {'loc': '경기', 'v1': '11837174', 'v2': '11723258.0', 'v3': '8707827.0'},\n",
       " {'loc': '세종', 'v1': '300568', 'v2': '296859.0', 'v3': '211095.0'},\n",
       " {'loc': '경남', 'v1': '2882823', 'v2': '2853755.0', 'v3': '2145652.0'},\n",
       " {'loc': '경북', 'v1': '2293225', 'v2': '2269593.0', 'v3': '1727188.0'},\n",
       " {'loc': '전남', 'v1': '1655633', 'v2': '1641348.0', 'v3': '1365245.0'},\n",
       " {'loc': '전북', 'v1': '1593950', 'v2': '1581091.0', 'v3': '1285767.0'},\n",
       " {'loc': '충남', 'v1': '1902008', 'v2': '1884584.0', 'v3': '1479736.0'},\n",
       " {'loc': '충북', 'v1': '1430877', 'v2': '1418444.0', 'v3': '1108508.0'},\n",
       " {'loc': '강원', 'v1': '1352085', 'v2': '1340870.0', 'v3': '1065143.0'},\n",
       " {'loc': '울산', 'v1': '968160', 'v2': '958920.0', 'v3': '720521.0'}]"
      ]
     },
     "execution_count": 49,
     "metadata": {},
     "output_type": "execute_result"
    }
   ],
   "source": [
    "data"
   ]
  },
  {
   "cell_type": "code",
   "execution_count": 50,
   "id": "6fe3ce48",
   "metadata": {},
   "outputs": [
    {
     "data": {
      "text/plain": [
       "{'meta': {'desc': '지역별 코로나 예방접종 인구 현황',\n",
       "  'cols': {'loc': '지역', 'V1': '1차 접종 누적', 'V2': '2차 접종 누적', 'V3': '3차 접종 누적'},\n",
       "  'stdDay': '2022-12-26'},\n",
       " 'data': [{'loc': '제주', 'v1': '591058', 'v2': '585437.0', 'v3': '439106.0'},\n",
       "  {'loc': '서울', 'v1': '8335298', 'v2': '8257768.0', 'v3': '6076429.0'},\n",
       "  {'loc': '부산', 'v1': '2879900', 'v2': '2851362.0', 'v3': '2140773.0'},\n",
       "  {'loc': '대구', 'v1': '2018604', 'v2': '1995783.0', 'v3': '1405163.0'},\n",
       "  {'loc': '광주', 'v1': '1261981', 'v2': '1250568.0', 'v3': '968947.0'},\n",
       "  {'loc': '인천', 'v1': '2574233', 'v2': '2550081.0', 'v3': '1915266.0'},\n",
       "  {'loc': '대전', 'v1': '1245473', 'v2': '1233376.0', 'v3': '909102.0'},\n",
       "  {'loc': '경기', 'v1': '11837174', 'v2': '11723258.0', 'v3': '8707827.0'},\n",
       "  {'loc': '세종', 'v1': '300568', 'v2': '296859.0', 'v3': '211095.0'},\n",
       "  {'loc': '경남', 'v1': '2882823', 'v2': '2853755.0', 'v3': '2145652.0'},\n",
       "  {'loc': '경북', 'v1': '2293225', 'v2': '2269593.0', 'v3': '1727188.0'},\n",
       "  {'loc': '전남', 'v1': '1655633', 'v2': '1641348.0', 'v3': '1365245.0'},\n",
       "  {'loc': '전북', 'v1': '1593950', 'v2': '1581091.0', 'v3': '1285767.0'},\n",
       "  {'loc': '충남', 'v1': '1902008', 'v2': '1884584.0', 'v3': '1479736.0'},\n",
       "  {'loc': '충북', 'v1': '1430877', 'v2': '1418444.0', 'v3': '1108508.0'},\n",
       "  {'loc': '강원', 'v1': '1352085', 'v2': '1340870.0', 'v3': '1065143.0'},\n",
       "  {'loc': '울산', 'v1': '968160', 'v2': '958920.0', 'v3': '720521.0'}]}"
      ]
     },
     "execution_count": 50,
     "metadata": {},
     "output_type": "execute_result"
    }
   ],
   "source": [
    "# json 에 포함시킬 meta data 구성\n",
    "res = {\n",
    "    'meta':{\n",
    "        'desc':'지역별 코로나 예방접종 인구 현황',\n",
    "        'cols':{\n",
    "                'loc':'지역'\n",
    "                ,'V1':'1차 접종 누적'\n",
    "                ,'V2':'2차 접종 누적' \n",
    "                ,'V3':'3차 접종 누적'\n",
    "                },\n",
    "        'stdDay' : cal_std_day(365)\n",
    "    },\n",
    "    'data' : data\n",
    "}\n",
    "res"
   ]
  },
  {
   "cell_type": "code",
   "execution_count": 51,
   "id": "94537e51",
   "metadata": {},
   "outputs": [],
   "source": [
    "file_dir = '/corona_data/vaccine/'\n",
    "file_name = 'corona_vaccine_'+cal_std_day(365)+'.json'\n",
    "client.write(file_dir+file_name, json.dumps(res, ensure_ascii = False), encoding='utf=8')"
   ]
  },
  {
   "cell_type": "code",
   "execution_count": 52,
   "id": "a534b322",
   "metadata": {},
   "outputs": [
    {
     "name": "stdout",
     "output_type": "stream",
     "text": [
      "+----------------------+----------------------------+\n",
      "|                  data|                        meta|\n",
      "+----------------------+----------------------------+\n",
      "|[{제주, 591058, 585...|{{1차 접종 누적, 2차 접종...|\n",
      "+----------------------+----------------------------+\n",
      "\n"
     ]
    }
   ],
   "source": [
    "file_dir = '/corona_data/vaccine/'\n",
    "file_name = 'corona_vaccine_'+cal_std_day(365)+'.json'\n",
    "vaccine = spark.read.json(file_dir+file_name)\n",
    "vaccine.show()"
   ]
  },
  {
   "cell_type": "markdown",
   "id": "92c0e002",
   "metadata": {},
   "source": [
    "### WEB DATA 를 수집하고 JSON 형식으로 처리해서 HDFS 에 저장 ETL 과정을 진행함"
   ]
  },
  {
   "cell_type": "code",
   "execution_count": null,
   "id": "e9e32e67",
   "metadata": {},
   "outputs": [],
   "source": []
  }
 ],
 "metadata": {
  "kernelspec": {
   "display_name": "Python 3 (ipykernel)",
   "language": "python",
   "name": "python3"
  },
  "language_info": {
   "codemirror_mode": {
    "name": "ipython",
    "version": 3
   },
   "file_extension": ".py",
   "mimetype": "text/x-python",
   "name": "python",
   "nbconvert_exporter": "python",
   "pygments_lexer": "ipython3",
   "version": "3.7.10"
  },
  "vscode": {
   "interpreter": {
    "hash": "916dbcbb3f70747c44a77c7bcd40155683ae19c65e1c03b4aa3499c5328201f1"
   }
  }
 },
 "nbformat": 4,
 "nbformat_minor": 5
}
