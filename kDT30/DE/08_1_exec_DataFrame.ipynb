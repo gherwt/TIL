{
 "cells": [
  {
   "cell_type": "code",
   "execution_count": 123,
   "id": "3df29128-c49c-4d8e-bf7c-f64bc0509629",
   "metadata": {},
   "outputs": [],
   "source": [
    "import pandas as pd\n",
    "from datetime import date, datetime\n",
    "from pyspark.sql import *\n",
    "from pyspark.sql.functions import col, lit, when"
   ]
  },
  {
   "cell_type": "code",
   "execution_count": 124,
   "id": "249fa502-c5a4-4fdb-b9b8-3dea847d44f1",
   "metadata": {},
   "outputs": [],
   "source": [
    "#1. 아래 data를 이용해 spark df를 생성하고 변수 df에 저장하시오\n",
    "stocks = [\n",
    "    ('Google', 'GOOGL', 'USA', 2984, 'USD'), \n",
    "    ('Netflix', 'NFLX', 'USA', 645, 'USD'),\n",
    "    ('Amazon', 'AMZN', 'USA', 3518, 'USD'),\n",
    "    ('Tesla', 'TSLA', 'USA', 1222, 'USD'),\n",
    "    ('Tencent', '0700', 'Hong Kong', 483, 'HKD'),\n",
    "    ('Toyota', '7203', 'Japan', 2006, 'JPY'),\n",
    "    ('Samsung', '005930', 'Korea', 70600, 'KRW'),\n",
    "    ('Kakao', '035720', 'Korea', 125000, 'KRW'),\n",
    "]\n",
    "stockSchema = [\"name\", \"ticker\", \"country\", \"price\", \"currency\"]"
   ]
  },
  {
   "cell_type": "code",
   "execution_count": 125,
   "id": "b455912d-27a0-4965-9264-64f39c429db5",
   "metadata": {},
   "outputs": [],
   "source": [
    "# dataframe 을 생성하는 spark 객체는 spark session 담당: 클러스터 환경(spark shell)에서는 spark 라는 객체 변수가 자동제공됨\n",
    "df = spark.createDataFrame(data = stocks , schema = stockSchema)"
   ]
  },
  {
   "cell_type": "markdown",
   "id": "7788a06e",
   "metadata": {},
   "source": [
    "- spark.DataFrame 의 컬럼별 type 확인 방법\n",
    "    - printSchema() 속성\n",
    "    - df.dtpyes"
   ]
  },
  {
   "cell_type": "code",
   "execution_count": 126,
   "id": "89382971-6d6f-494b-a205-62fa33e5ad00",
   "metadata": {},
   "outputs": [
    {
     "name": "stdout",
     "output_type": "stream",
     "text": [
      "DataFrame[name: string, ticker: string, country: string, price: bigint, currency: string]\n"
     ]
    }
   ],
   "source": [
    "#2. 변수 df의 컬럼별 type을 확인하시오(tip. dtypes 속성 활용)\n",
    "df.dtypes"
   ]
  },
  {
   "cell_type": "code",
   "execution_count": 127,
   "id": "775ecc00-b339-4f9a-85da-15859f362879",
   "metadata": {},
   "outputs": [],
   "source": [
    "#3. df를 출력하여 내용을 확인 하시오"
   ]
  },
  {
   "cell_type": "code",
   "execution_count": 128,
   "id": "7a7b58ad-1657-47d5-998e-e8a9ec79cb5a",
   "metadata": {},
   "outputs": [
    {
     "name": "stdout",
     "output_type": "stream",
     "text": [
      "+-------+------+---------+------+--------+\n",
      "|   name|ticker|  country| price|currency|\n",
      "+-------+------+---------+------+--------+\n",
      "| Google| GOOGL|      USA|  2984|     USD|\n",
      "|Netflix|  NFLX|      USA|   645|     USD|\n",
      "| Amazon|  AMZN|      USA|  3518|     USD|\n",
      "|  Tesla|  TSLA|      USA|  1222|     USD|\n",
      "|Tencent|  0700|Hong Kong|   483|     HKD|\n",
      "| Toyota|  7203|    Japan|  2006|     JPY|\n",
      "|Samsung|005930|    Korea| 70600|     KRW|\n",
      "|  Kakao|035720|    Korea|125000|     KRW|\n",
      "+-------+------+---------+------+--------+\n",
      "\n"
     ]
    }
   ],
   "source": [
    "df.show()"
   ]
  },
  {
   "cell_type": "code",
   "execution_count": 129,
   "id": "7cedaa7c",
   "metadata": {},
   "outputs": [
    {
     "name": "stdout",
     "output_type": "stream",
     "text": [
      "+----+------+-------+-----+--------+\n",
      "|name|ticker|country|price|currency|\n",
      "+----+------+-------+-----+--------+\n",
      "|  Go|    GO|     US|   29|      US|\n",
      "|  Ne|    NF|     US|   64|      US|\n",
      "|  Am|    AM|     US|   35|      US|\n",
      "|  Te|    TS|     US|   12|      US|\n",
      "|  Te|    07|     Ho|   48|      HK|\n",
      "|  To|    72|     Ja|   20|      JP|\n",
      "|  Sa|    00|     Ko|   70|      KR|\n",
      "|  Ka|    03|     Ko|   12|      KR|\n",
      "+----+------+-------+-----+--------+\n",
      "\n"
     ]
    }
   ],
   "source": [
    "#3_1. df를 출력하여 내용을 확인 하되 모든 컬럼의 출력 글자수를 2로 제한하시오\n",
    "df.show(truncate = 2)"
   ]
  },
  {
   "cell_type": "code",
   "execution_count": 130,
   "id": "a8719c19",
   "metadata": {},
   "outputs": [
    {
     "name": "stdout",
     "output_type": "stream",
     "text": [
      "-RECORD 0-------------\n",
      " name     | Google    \n",
      " ticker   | GOOGL     \n",
      " country  | USA       \n",
      " price    | 2984      \n",
      " currency | USD       \n",
      "-RECORD 1-------------\n",
      " name     | Netflix   \n",
      " ticker   | NFLX      \n",
      " country  | USA       \n",
      " price    | 645       \n",
      " currency | USD       \n",
      "-RECORD 2-------------\n",
      " name     | Amazon    \n",
      " ticker   | AMZN      \n",
      " country  | USA       \n",
      " price    | 3518      \n",
      " currency | USD       \n",
      "-RECORD 3-------------\n",
      " name     | Tesla     \n",
      " ticker   | TSLA      \n",
      " country  | USA       \n",
      " price    | 1222      \n",
      " currency | USD       \n",
      "-RECORD 4-------------\n",
      " name     | Tencent   \n",
      " ticker   | 0700      \n",
      " country  | Hong Kong \n",
      " price    | 483       \n",
      " currency | HKD       \n",
      "-RECORD 5-------------\n",
      " name     | Toyota    \n",
      " ticker   | 7203      \n",
      " country  | Japan     \n",
      " price    | 2006      \n",
      " currency | JPY       \n",
      "-RECORD 6-------------\n",
      " name     | Samsung   \n",
      " ticker   | 005930    \n",
      " country  | Korea     \n",
      " price    | 70600     \n",
      " currency | KRW       \n",
      "-RECORD 7-------------\n",
      " name     | Kakao     \n",
      " ticker   | 035720    \n",
      " country  | Korea     \n",
      " price    | 125000    \n",
      " currency | KRW       \n",
      "\n"
     ]
    }
   ],
   "source": [
    "#3_2. df를 출력하여 내용을 확인 하되 레코드별로 세로로 출력하시오.\n",
    "df.show(vertical=True)"
   ]
  },
  {
   "cell_type": "markdown",
   "id": "617b2f13",
   "metadata": {},
   "source": [
    "- withColumn : 컬럼 추가 / 컬럼 update\n",
    "    - 명시된 컬럼명이 기존 컬럼명이면 update\n",
    "    - 없는 컬럼이면 추가된다."
   ]
  },
  {
   "cell_type": "code",
   "execution_count": 131,
   "id": "f2e962a6-cfc2-4a32-ad25-49567e44e7ba",
   "metadata": {},
   "outputs": [
    {
     "name": "stdout",
     "output_type": "stream",
     "text": [
      "+-------+------+---------+------+--------+----------+\n",
      "|   name|ticker|  country| price|currency|mn_trade_v|\n",
      "+-------+------+---------+------+--------+----------+\n",
      "| Google| GOOGL|      USA|  2984|     USD|          |\n",
      "|Netflix|  NFLX|      USA|   645|     USD|          |\n",
      "| Amazon|  AMZN|      USA|  3518|     USD|          |\n",
      "|  Tesla|  TSLA|      USA|  1222|     USD|          |\n",
      "|Tencent|  0700|Hong Kong|   483|     HKD|          |\n",
      "| Toyota|  7203|    Japan|  2006|     JPY|          |\n",
      "|Samsung|005930|    Korea| 70600|     KRW|          |\n",
      "|  Kakao|035720|    Korea|125000|     KRW|          |\n",
      "+-------+------+---------+------+--------+----------+\n",
      "\n"
     ]
    }
   ],
   "source": [
    "#4. df에 mn_trade_v 컬럼을 추가하시오\n",
    "df1 = df.withColumn('mn_trade_v',lit(''))\n",
    "df1.show()"
   ]
  },
  {
   "cell_type": "code",
   "execution_count": 132,
   "id": "e1e902de-a8bc-43d6-9946-62d65d48f1fd",
   "metadata": {},
   "outputs": [],
   "source": [
    "#4. df에 qty 컬럼을 추가하되 값을 0으로 초기화 하시오\n",
    "#5. df에 qty 컬럼을 추가하되 값을 0으로 초기화하고 df에 저장하시오"
   ]
  },
  {
   "cell_type": "code",
   "execution_count": 133,
   "id": "68859f07-e5fc-4aa4-9bdb-bfd5f0d12a48",
   "metadata": {},
   "outputs": [
    {
     "name": "stdout",
     "output_type": "stream",
     "text": [
      "+-------+------+---------+------+--------+----------+---+\n",
      "|   name|ticker|  country| price|currency|mn_trade_v|qty|\n",
      "+-------+------+---------+------+--------+----------+---+\n",
      "| Google| GOOGL|      USA|  2984|     USD|          |  0|\n",
      "|Netflix|  NFLX|      USA|   645|     USD|          |  0|\n",
      "| Amazon|  AMZN|      USA|  3518|     USD|          |  0|\n",
      "|  Tesla|  TSLA|      USA|  1222|     USD|          |  0|\n",
      "|Tencent|  0700|Hong Kong|   483|     HKD|          |  0|\n",
      "| Toyota|  7203|    Japan|  2006|     JPY|          |  0|\n",
      "|Samsung|005930|    Korea| 70600|     KRW|          |  0|\n",
      "|  Kakao|035720|    Korea|125000|     KRW|          |  0|\n",
      "+-------+------+---------+------+--------+----------+---+\n",
      "\n"
     ]
    }
   ],
   "source": [
    "df1 = df1.withColumn('qty',lit(0))\n",
    "df1.show()"
   ]
  },
  {
   "cell_type": "code",
   "execution_count": 134,
   "id": "49a7b07a-4c84-47d3-bd33-712899e093d8",
   "metadata": {},
   "outputs": [],
   "source": [
    "#5. df에 qty 컬럼을 추가하되 값을 0으로 초기화하고 df에 저장하시오"
   ]
  },
  {
   "cell_type": "code",
   "execution_count": 135,
   "id": "4f612636-ef65-4881-bffe-8139c02c8a10",
   "metadata": {},
   "outputs": [
    {
     "name": "stdout",
     "output_type": "stream",
     "text": [
      "+-------+------+---------+------+--------+----------+---+\n",
      "|   name|ticker|  country| price|currency|mn_trade_v|qty|\n",
      "+-------+------+---------+------+--------+----------+---+\n",
      "| Google| GOOGL|      USA|  2984|     USD|          |  0|\n",
      "|Netflix|  NFLX|      USA|   645|     USD|          |  0|\n",
      "| Amazon|  AMZN|      USA|  3518|     USD|          |  0|\n",
      "|  Tesla|  TSLA|      USA|  1222|     USD|          |  0|\n",
      "|Tencent|  0700|Hong Kong|   483|     HKD|          |  0|\n",
      "| Toyota|  7203|    Japan|  2006|     JPY|          |  0|\n",
      "|Samsung|005930|    Korea| 70600|     KRW|          |  0|\n",
      "|  Kakao|035720|    Korea|125000|     KRW|          |  0|\n",
      "+-------+------+---------+------+--------+----------+---+\n",
      "\n"
     ]
    }
   ],
   "source": [
    "df = df.withColumn('qty',lit(0))\n",
    "df.show()"
   ]
  },
  {
   "cell_type": "code",
   "execution_count": 136,
   "id": "8bd83100-6347-494e-a554-36dce11ce8ea",
   "metadata": {},
   "outputs": [
    {
     "name": "stdout",
     "output_type": "stream",
     "text": [
      "+-------+------+---------+------+--------+----------+---+\n",
      "|   name|ticker|  country| price|currency|mn_trade_v|qty|\n",
      "+-------+------+---------+------+--------+----------+---+\n",
      "| Google| GOOGL|      USA|  2984|     USD|          |100|\n",
      "|Netflix|  NFLX|      USA|   645|     USD|          |100|\n",
      "| Amazon|  AMZN|      USA|  3518|     USD|          |100|\n",
      "|  Tesla|  TSLA|      USA|  1222|     USD|          |100|\n",
      "|Tencent|  0700|Hong Kong|   483|     HKD|          |500|\n",
      "| Toyota|  7203|    Japan|  2006|     JPY|          |100|\n",
      "|Samsung|005930|    Korea| 70600|     KRW|          |  1|\n",
      "|  Kakao|035720|    Korea|125000|     KRW|          |  1|\n",
      "+-------+------+---------+------+--------+----------+---+\n",
      "\n"
     ]
    }
   ],
   "source": [
    "# 6. df의 qty 변수에 대하여 country가 usa 면 100 \n",
    "# hong kong 은 500 japan은 100  한국 1 로 설정하고 값을 설정된 컬럼 mn_trade_v를 추하가고 df_tmp에 저장하시오\n",
    "df_tmp = df.withColumn('mn_trade_v', when((df.country == 'USA') | (df.country == 'Japan'), 100)\n",
    "                             .when(df.country == 'Hong Kong', 500)\n",
    "                             .when(df.country == 'Korea', 1))\n",
    "df_tmp.show()"
   ]
  },
  {
   "cell_type": "code",
   "execution_count": 137,
   "id": "71e6d3d6-4afc-4505-bf4d-6c747b210262",
   "metadata": {},
   "outputs": [],
   "source": [
    "#7. df_tmp의 컬럼명을 종목, 종목코드, 국가, 현재가, 통화, 최소거래량으로 변경하시오 "
   ]
  },
  {
   "cell_type": "code",
   "execution_count": 138,
   "id": "761abb8a-20e3-4d62-8e70-79d0a0042f25",
   "metadata": {},
   "outputs": [],
   "source": [
    "df_tmp = df_tmp.withColumnRenamed('name','종목')\\\n",
    "      .withColumnRenamed('ticker','종목코드')\\\n",
    "      .withColumnRenamed('country','국가')\\\n",
    "      .withColumnRenamed('price','현재가')\\\n",
    "      .withColumnRenamed('currency','통화')\\\n",
    "      .withColumnRenamed('qty','주문거래량')\\\n",
    "      .withColumnRenamed('mn_trade_v','최소거래량')"
   ]
  },
  {
   "cell_type": "code",
   "execution_count": 139,
   "id": "9dc6a34d-5e59-4b07-93c5-168c059dc0cb",
   "metadata": {},
   "outputs": [
    {
     "name": "stdout",
     "output_type": "stream",
     "text": [
      "+-------+--------+---------+------+----+----------+---+\n",
      "|   종목|종목코드|     국가|현재가|통화|최소거래량|qty|\n",
      "+-------+--------+---------+------+----+----------+---+\n",
      "| Google|   GOOGL|      USA|  2984| USD|          |100|\n",
      "|Netflix|    NFLX|      USA|   645| USD|          |100|\n",
      "| Amazon|    AMZN|      USA|  3518| USD|          |100|\n",
      "|  Tesla|    TSLA|      USA|  1222| USD|          |100|\n",
      "|Tencent|    0700|Hong Kong|   483| HKD|          |500|\n",
      "| Toyota|    7203|    Japan|  2006| JPY|          |100|\n",
      "|Samsung|  005930|    Korea| 70600| KRW|          |  1|\n",
      "|  Kakao|  035720|    Korea|125000| KRW|          |  1|\n",
      "+-------+--------+---------+------+----+----------+---+\n",
      "\n"
     ]
    }
   ],
   "source": [
    "df_tmp.show()"
   ]
  },
  {
   "cell_type": "code",
   "execution_count": 140,
   "id": "668abebc-66bb-4459-ad24-b06fa46b5f47",
   "metadata": {},
   "outputs": [],
   "source": [
    "#8.df_tmp의 최소 거래량 컬럼을 삭제하시오"
   ]
  },
  {
   "cell_type": "code",
   "execution_count": 141,
   "id": "83fc9932-edc1-4d0c-8296-fe50cd7eef46",
   "metadata": {},
   "outputs": [
    {
     "name": "stdout",
     "output_type": "stream",
     "text": [
      "+-------+--------+---------+------+----+---+\n",
      "|   종목|종목코드|     국가|현재가|통화|qty|\n",
      "+-------+--------+---------+------+----+---+\n",
      "| Google|   GOOGL|      USA|  2984| USD|100|\n",
      "|Netflix|    NFLX|      USA|   645| USD|100|\n",
      "| Amazon|    AMZN|      USA|  3518| USD|100|\n",
      "|  Tesla|    TSLA|      USA|  1222| USD|100|\n",
      "|Tencent|    0700|Hong Kong|   483| HKD|500|\n",
      "| Toyota|    7203|    Japan|  2006| JPY|100|\n",
      "|Samsung|  005930|    Korea| 70600| KRW|  1|\n",
      "|  Kakao|  035720|    Korea|125000| KRW|  1|\n",
      "+-------+--------+---------+------+----+---+\n",
      "\n"
     ]
    }
   ],
   "source": [
    "df_tmp = df_tmp.drop('최소거래량')\n",
    "df_tmp.show()"
   ]
  },
  {
   "cell_type": "code",
   "execution_count": null,
   "id": "6c4a96fe-e092-460f-a6de-28e743311ccf",
   "metadata": {},
   "outputs": [],
   "source": []
  },
  {
   "cell_type": "code",
   "execution_count": null,
   "id": "e1aada38",
   "metadata": {},
   "outputs": [],
   "source": []
  },
  {
   "cell_type": "code",
   "execution_count": null,
   "id": "27cc6fdb",
   "metadata": {},
   "outputs": [],
   "source": []
  }
 ],
 "metadata": {
  "kernelspec": {
   "display_name": "Python 3 (ipykernel)",
   "language": "python",
   "name": "python3"
  },
  "language_info": {
   "codemirror_mode": {
    "name": "ipython",
    "version": 3
   },
   "file_extension": ".py",
   "mimetype": "text/x-python",
   "name": "python",
   "nbconvert_exporter": "python",
   "pygments_lexer": "ipython3",
   "version": "3.7.10"
  }
 },
 "nbformat": 4,
 "nbformat_minor": 5
}
