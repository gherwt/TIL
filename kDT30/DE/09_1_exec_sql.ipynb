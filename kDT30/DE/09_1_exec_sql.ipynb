{
 "cells": [
  {
   "cell_type": "markdown",
   "id": "bc5234e0",
   "metadata": {},
   "source": [
    "### 구축환경\n",
    "- hadoop system 위에 spark 를 포함시켜 놓고 pyspark 하고 cluster로 연동해놓은 상태\n",
    "    - hadoop spark infra 를 이용해서 base programing 작성 시 사용\n",
    "    - spark context 와 spark session 은 자동으로 객체 생성되어서 제공됨\n",
    "    - sc, spark 를 생성하지 않고 사용\n",
    "- piplline 국축할 때는 자동화 연결시에는 cluster를 pyspark로 연결하지 않고 pyspark 독립적으로 실행\n",
    "    - spark context 와 spark session 은 직접 만들어서 사용"
   ]
  },
  {
   "cell_type": "code",
   "execution_count": 1,
   "id": "9b5d5348-3b4e-4b7b-9e08-56b296306675",
   "metadata": {},
   "outputs": [],
   "source": [
    "stocks = [\n",
    "    ('Google', 'GOOGL', 'USA', 2984, 'USD'), \n",
    "    ('Netflix', 'NFLX', 'USA', 645, 'USD'),\n",
    "    ('Amazon', 'AMZN', 'USA', 3518, 'USD'),\n",
    "    ('Tesla', 'TSLA', 'USA', 1222, 'USD'),\n",
    "    ('Tencent', '0700', 'Hong Kong', 483, 'HKD'),\n",
    "    ('Toyota', '7203', 'Japan', 2006, 'JPY'),\n",
    "    ('Samsung', '005930', 'Korea', 70600, 'KRW'),\n",
    "    ('Kakao', '035720', 'Korea', 125000, 'KRW'),\n",
    "]\n",
    "stockSchema = [\"name\", \"ticker\", \"country\", \"price\", \"currency\"]\n",
    "df = spark.createDataFrame(data=stocks, schema=stockSchema) # 지연연산"
   ]
  },
  {
   "cell_type": "markdown",
   "id": "eb4d285b",
   "metadata": {},
   "source": [
    "### spark dataframe 생성 방법\n",
    "1. Row 객체 사용\n",
    "2. list 안에 df 의 행 데이터를 원소로 구성\n",
    "3. 기존 hdfs(여러 종류 dataset 사용가능)의 data를 load 해서 생성: spark.read.csv, spark.read.json 모듈 사용\n",
    "- spark dataframe 은 내부에 rdd 자료 구조를 포함하고 있다.\n",
    "    - dataframe 의 schema 가 필요한 이유"
   ]
  },
  {
   "cell_type": "code",
   "execution_count": 2,
   "id": "9cf7f02b-7c9d-4f41-aafe-05fee1d87822",
   "metadata": {},
   "outputs": [
    {
     "name": "stdout",
     "output_type": "stream",
     "text": [
      "+-------+------+---------+------+--------+\n",
      "|   name|ticker|  country| price|currency|\n",
      "+-------+------+---------+------+--------+\n",
      "| Google| GOOGL|      USA|  2984|     USD|\n",
      "|Netflix|  NFLX|      USA|   645|     USD|\n",
      "| Amazon|  AMZN|      USA|  3518|     USD|\n",
      "|  Tesla|  TSLA|      USA|  1222|     USD|\n",
      "|Tencent|  0700|Hong Kong|   483|     HKD|\n",
      "| Toyota|  7203|    Japan|  2006|     JPY|\n",
      "|Samsung|005930|    Korea| 70600|     KRW|\n",
      "|  Kakao|035720|    Korea|125000|     KRW|\n",
      "+-------+------+---------+------+--------+\n",
      "\n"
     ]
    }
   ],
   "source": [
    "df.show() # action 연산 : 생성 계획한 df를 연산해서 일부를 추출해서 보야줄 것"
   ]
  },
  {
   "cell_type": "markdown",
   "id": "d5629ba5",
   "metadata": {},
   "source": [
    " 1. df에서 name, ticker를 추출하시오\n",
    "- df명.select('컬럼명',....)\n",
    "- select(col('컬럼명',....))\n",
    "- select(df이름.'컬럼명',...)\n",
    "- select(집계함수,...)"
   ]
  },
  {
   "cell_type": "code",
   "execution_count": 4,
   "id": "a2ac9b17-06a8-4c0a-bc06-7647395f8cb3",
   "metadata": {},
   "outputs": [
    {
     "name": "stdout",
     "output_type": "stream",
     "text": [
      "+-------+------+\n",
      "|   name|ticker|\n",
      "+-------+------+\n",
      "| Google| GOOGL|\n",
      "|Netflix|  NFLX|\n",
      "| Amazon|  AMZN|\n",
      "|  Tesla|  TSLA|\n",
      "|Tencent|  0700|\n",
      "| Toyota|  7203|\n",
      "|Samsung|005930|\n",
      "|  Kakao|035720|\n",
      "+-------+------+\n",
      "\n"
     ]
    }
   ],
   "source": [
    "df.select('name', 'ticker') # 지연연산\n",
    "df.select('name', 'ticker').show() # action 연산 연결"
   ]
  },
  {
   "cell_type": "markdown",
   "id": "4c30616b",
   "metadata": {},
   "source": [
    "2. df를 stocks 라는 view로 생성하시오\n",
    "- spark 는 database 기술에서 사용하는 db 처리 언어인 spl 을 거의 유사하게 사용할 수 있음\n",
    "- spark sql 을 사용하기 위해서는 dataframe 을 spark view 로 변환, 생성해서 사용해야 함\n",
    "    - spark view 는 db 에서 테이블과 동일하게 사용할 수 있음\n",
    "- view 생성 매서드\n",
    "    - df.createOrReplaceTempView(view 이름)"
   ]
  },
  {
   "cell_type": "code",
   "execution_count": 10,
   "id": "ddca07bd-7b18-4de3-b3ac-8c27473eaea0",
   "metadata": {},
   "outputs": [],
   "source": [
    "df.createOrReplaceTempView('stocks') # stocks view 사용가능 상태"
   ]
  },
  {
   "cell_type": "markdown",
   "id": "ffb36a05",
   "metadata": {},
   "source": [
    "3. view stocks를 사용하여 stocks view의 모든 컬럼을 추출하시오\n",
    "- sql: select ~ from view 이름 ~ where 조건\n",
    "- spark sql 사용\n",
    "    - spark.sql('sql 쿼리문') # 지연연산"
   ]
  },
  {
   "cell_type": "code",
   "execution_count": 12,
   "id": "308f3c41-c051-4057-b00b-75e8f6533b9a",
   "metadata": {},
   "outputs": [
    {
     "name": "stdout",
     "output_type": "stream",
     "text": [
      "+-------+------+---------+------+--------+\n",
      "|   name|ticker|  country| price|currency|\n",
      "+-------+------+---------+------+--------+\n",
      "| Google| GOOGL|      USA|  2984|     USD|\n",
      "|Netflix|  NFLX|      USA|   645|     USD|\n",
      "| Amazon|  AMZN|      USA|  3518|     USD|\n",
      "|  Tesla|  TSLA|      USA|  1222|     USD|\n",
      "|Tencent|  0700|Hong Kong|   483|     HKD|\n",
      "| Toyota|  7203|    Japan|  2006|     JPY|\n",
      "|Samsung|005930|    Korea| 70600|     KRW|\n",
      "|  Kakao|035720|    Korea|125000|     KRW|\n",
      "+-------+------+---------+------+--------+\n",
      "\n"
     ]
    }
   ],
   "source": [
    "spark.sql('''\n",
    "    select * from stocks\n",
    "''') # 지연 연산\n",
    "\n",
    "spark.sql('''\n",
    "    select * from stocks\n",
    "''').show()"
   ]
  },
  {
   "cell_type": "markdown",
   "id": "c3385426",
   "metadata": {},
   "source": [
    "4. stocks view에서 country가 Korea인 data만 추출하시오\n",
    "- 조건이 있는 문제\n",
    "- where 문을 사용한다."
   ]
  },
  {
   "cell_type": "code",
   "execution_count": 14,
   "id": "2f9ccb1d-53fe-4704-8149-cb6f5eba5767",
   "metadata": {},
   "outputs": [
    {
     "name": "stdout",
     "output_type": "stream",
     "text": [
      "+-------+------+-------+------+--------+\n",
      "|   name|ticker|country| price|currency|\n",
      "+-------+------+-------+------+--------+\n",
      "|Samsung|005930|  Korea| 70600|     KRW|\n",
      "|  Kakao|035720|  Korea|125000|     KRW|\n",
      "+-------+------+-------+------+--------+\n",
      "\n"
     ]
    }
   ],
   "source": [
    "spark.sql(''' \n",
    "    select * from stocks where country = 'Korea'\n",
    "''') # 지연 연산\n",
    "\n",
    "spark.sql(''' \n",
    "    select * from stocks where country = 'Korea'\n",
    "''').show()"
   ]
  },
  {
   "cell_type": "markdown",
   "id": "e819365e",
   "metadata": {},
   "source": [
    "5. df에서 country가 Korea인 data를 추출하시오\n",
    "- df.method 의 조건 관련 함수는 filter, where\n",
    "- filter(col('컬럼명'))/ df.컬럼명/ 조건의 문자열)"
   ]
  },
  {
   "cell_type": "code",
   "execution_count": 13,
   "id": "60c98e02-7899-4ef3-85f2-a74237976b39",
   "metadata": {},
   "outputs": [
    {
     "name": "stdout",
     "output_type": "stream",
     "text": [
      "+-------+------+-------+------+--------+\n",
      "|   name|ticker|country| price|currency|\n",
      "+-------+------+-------+------+--------+\n",
      "|Samsung|005930|  Korea| 70600|     KRW|\n",
      "|  Kakao|035720|  Korea|125000|     KRW|\n",
      "+-------+------+-------+------+--------+\n",
      "\n"
     ]
    }
   ],
   "source": [
    "df.select('*')\\\n",
    "    .filter(df.country == 'Korea').show()"
   ]
  },
  {
   "cell_type": "markdown",
   "id": "59ba4ef4",
   "metadata": {},
   "source": [
    "6. stocks view에서 price 갸 2000 초과하고 country가  USA인 데이터의 `name`과 `price`를 출력하시오"
   ]
  },
  {
   "cell_type": "code",
   "execution_count": 17,
   "id": "0ef56d25-0ea3-471e-a174-6786012e2d18",
   "metadata": {},
   "outputs": [
    {
     "name": "stdout",
     "output_type": "stream",
     "text": [
      "+------+-----+\n",
      "|  name|price|\n",
      "+------+-----+\n",
      "|Google| 2984|\n",
      "|Amazon| 3518|\n",
      "+------+-----+\n",
      "\n"
     ]
    }
   ],
   "source": [
    "spark.sql(''' \n",
    "    select name, price from stocks \n",
    "    where (country = 'USA') and (price > 2000)\n",
    "''').show()"
   ]
  },
  {
   "cell_type": "code",
   "execution_count": 18,
   "id": "59a53c4a-e81b-41f2-a7ba-4d1e0642cddb",
   "metadata": {},
   "outputs": [
    {
     "name": "stdout",
     "output_type": "stream",
     "text": [
      "+------+-----+\n",
      "|  name|price|\n",
      "+------+-----+\n",
      "|Google| 2984|\n",
      "|Amazon| 3518|\n",
      "+------+-----+\n",
      "\n"
     ]
    }
   ],
   "source": [
    "# 7. df에서 price 가 2000 초과하고 country가  USA인 데이터의 name과 price를 출력하시오\n",
    "df.select('name', 'price')\\\n",
    "    .filter((df.country == 'USA') & (df.price > 2000)).show()"
   ]
  },
  {
   "cell_type": "code",
   "execution_count": 19,
   "id": "86ef499a-38a7-41e3-8898-4ac558a3b2bf",
   "metadata": {},
   "outputs": [],
   "source": [
    "# 8. sotocks view에서 country가 U로 시작하는 데이터의 name과 price를 추출하시오"
   ]
  },
  {
   "cell_type": "code",
   "execution_count": 21,
   "id": "d750a0d2-ec24-49c5-a947-8c93d5b3c0fd",
   "metadata": {},
   "outputs": [
    {
     "name": "stdout",
     "output_type": "stream",
     "text": [
      "+-------+-----+\n",
      "|   name|price|\n",
      "+-------+-----+\n",
      "| Google| 2984|\n",
      "|Netflix|  645|\n",
      "| Amazon| 3518|\n",
      "|  Tesla| 1222|\n",
      "+-------+-----+\n",
      "\n"
     ]
    }
   ],
   "source": [
    "spark.sql('select name, price from stocks where country like \"U%\"').show()"
   ]
  },
  {
   "cell_type": "code",
   "execution_count": 22,
   "id": "4bd6bfd1-a74b-49d2-a296-5d6bf0e3023c",
   "metadata": {},
   "outputs": [],
   "source": [
    "# 9. df에서 country가 U로 시작하는 데이터의 name과 price를 추출하시오"
   ]
  },
  {
   "cell_type": "code",
   "execution_count": 27,
   "id": "0d4423a6-fcbc-41ec-ba0d-65285a23d8a4",
   "metadata": {},
   "outputs": [
    {
     "name": "stdout",
     "output_type": "stream",
     "text": [
      "+-------+-----+\n",
      "|   name|price|\n",
      "+-------+-----+\n",
      "| Google| 2984|\n",
      "|Netflix|  645|\n",
      "| Amazon| 3518|\n",
      "|  Tesla| 1222|\n",
      "+-------+-----+\n",
      "\n"
     ]
    }
   ],
   "source": [
    "df.select('name', 'price')\\\n",
    "    .filter(df.country.startswith('U')).show()"
   ]
  },
  {
   "cell_type": "code",
   "execution_count": 24,
   "id": "481abdd9-92a2-4f82-9616-b7cbe3802641",
   "metadata": {},
   "outputs": [],
   "source": [
    "# 10. stocks view에서 countr가 'U'로 시작하고 이름에 'e'가 포함되지 않은 데이터의 name과 price를 추출하시오."
   ]
  },
  {
   "cell_type": "code",
   "execution_count": 25,
   "id": "a673f5ae-7306-4bb7-abaa-fe55b0f65509",
   "metadata": {},
   "outputs": [
    {
     "name": "stdout",
     "output_type": "stream",
     "text": [
      "+------+-----+\n",
      "|  name|price|\n",
      "+------+-----+\n",
      "|Amazon| 3518|\n",
      "+------+-----+\n",
      "\n"
     ]
    }
   ],
   "source": [
    "spark.sql('select name, price from stocks where country like \"U%\" and name not like \"%e%\"').show()"
   ]
  },
  {
   "cell_type": "markdown",
   "id": "c617f4f6",
   "metadata": {},
   "source": [
    "11. df에서 countr가 'U'로 시작하고 이름에 'e'가 포함되지 않은 데이터의 name과 price를 추출하시오.\n",
    "- df 의 not 연산자 : ~"
   ]
  },
  {
   "cell_type": "code",
   "execution_count": 26,
   "id": "dec54625-5a52-4916-af61-127547271ada",
   "metadata": {},
   "outputs": [
    {
     "name": "stdout",
     "output_type": "stream",
     "text": [
      "+-------+-----+\n",
      "|   name|price|\n",
      "+-------+-----+\n",
      "| Google| 2984|\n",
      "|Netflix|  645|\n",
      "| Amazon| 3518|\n",
      "|  Tesla| 1222|\n",
      "+-------+-----+\n",
      "\n"
     ]
    }
   ],
   "source": [
    "df.select('name', 'price')\\\n",
    "    .filter((df.country.startswith('U')) & (~df.country.like('%e%'))).show()"
   ]
  },
  {
   "cell_type": "markdown",
   "id": "b96fc1f2",
   "metadata": {},
   "source": [
    "12. stocks view에서 price가 1000~10000인 데이터를 추출하시오\n",
    "- between min and max\n",
    "- min > x and x < max "
   ]
  },
  {
   "cell_type": "code",
   "execution_count": 30,
   "id": "48dd443d-fc9f-4502-aaae-1dc4e92aad0d",
   "metadata": {},
   "outputs": [
    {
     "name": "stdout",
     "output_type": "stream",
     "text": [
      "+------+------+-------+-----+--------+\n",
      "|  name|ticker|country|price|currency|\n",
      "+------+------+-------+-----+--------+\n",
      "|Google| GOOGL|    USA| 2984|     USD|\n",
      "|Amazon|  AMZN|    USA| 3518|     USD|\n",
      "| Tesla|  TSLA|    USA| 1222|     USD|\n",
      "|Toyota|  7203|  Japan| 2006|     JPY|\n",
      "+------+------+-------+-----+--------+\n",
      "\n"
     ]
    }
   ],
   "source": [
    "spark.sql('select * from stocks where price between 1000 and 10000').show()"
   ]
  },
  {
   "cell_type": "code",
   "execution_count": null,
   "id": "81eb7d36-8332-431e-9321-6074bc85a1e2",
   "metadata": {},
   "outputs": [],
   "source": []
  }
 ],
 "metadata": {
  "kernelspec": {
   "display_name": "Python 3 (ipykernel)",
   "language": "python",
   "name": "python3"
  },
  "language_info": {
   "codemirror_mode": {
    "name": "ipython",
    "version": 3
   },
   "file_extension": ".py",
   "mimetype": "text/x-python",
   "name": "python",
   "nbconvert_exporter": "python",
   "pygments_lexer": "ipython3",
   "version": "3.7.10"
  }
 },
 "nbformat": 4,
 "nbformat_minor": 5
}
