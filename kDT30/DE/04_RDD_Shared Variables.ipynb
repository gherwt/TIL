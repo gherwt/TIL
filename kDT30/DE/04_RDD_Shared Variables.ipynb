{
 "cells": [
  {
   "cell_type": "code",
   "execution_count": 49,
   "id": "9e054fb7",
   "metadata": {},
   "outputs": [],
   "source": [
    "from IPython.core.interactiveshell import InteractiveShell\n",
    "InteractiveShell.ast_node_interactivity = \"all\""
   ]
  },
  {
   "cell_type": "markdown",
   "id": "c564ce46",
   "metadata": {},
   "source": [
    "# Shared Variables"
   ]
  },
  {
   "cell_type": "markdown",
   "id": "ab721049",
   "metadata": {},
   "source": [
    "- 모든 노드에서 사용하기 위한 공유변수\n",
    "- 특정 노드에서 값을 변경시키면 변경된 값이 모든 노드에게 전달되어야 한다.\n",
    "- 공유변수로 지정한 값은 모든 노드에 중복되어 캐시된다.\n",
    "\n",
    "\n",
    "- 반복적으로 사용해야하는 변수라면, \n",
    "  스파크의 노드는 네트워크를 통해 통신 하기 때문에 모든 노드에 중복 캐시하는 시스템적 비용보다  \n",
    "  네트워크 과정에서 발생하는 오버헤드 비용이 더 많이 발생하게 된다. (계속 반복적으로 많이 사용해야 하는 변수 이기 떄문이다.)\n",
    "  모든 노드에 중복 캐시하는 것이 더 좋을 수 있다는 의미이다.\n",
    "  공유에서 쓰겠다는 의미(저장해놓고 계속 사용)\n",
    "  컴퓨터에다가 캐쉬를 두고 (캐쉬라는 굉장히 빠른 메모리에다가 넣어놓고) 계속 사용하겠다.\n",
    "  물리적으로는 각 컴퓨터의 캐쉬 메모리에 올려두겠다는 의미이다."
   ]
  },
  {
   "cell_type": "markdown",
   "id": "fddb3590",
   "metadata": {},
   "source": [
    "## Broadcast Variables"
   ]
  },
  {
   "cell_type": "markdown",
   "id": "8b8f1695",
   "metadata": {},
   "source": [
    "- 각 노드에 공유되는 읽기 전용 변수"
   ]
  },
  {
   "cell_type": "code",
   "execution_count": 1,
   "id": "3b910ad9",
   "metadata": {},
   "outputs": [],
   "source": [
    "# 학생별 수업카테고리코드로 지정되어있는 값을 카테고리 전체이름으로 변경한다고 가정 해보자\n",
    "\n",
    "data = [(\"홍길동\",\"DE\"),\n",
    "    (\"이제동\",\"DS\"),\n",
    "    (\"김철수\",\"DE\"),\n",
    "    (\"변현재\",\"WD\")]\n",
    "\n",
    "code_desc = {\"DE\":\"Data Engineer\", \"DS\":\"Data Science\", \"WD\":\"Web Developer\"}\n",
    "\n",
    "student_rdd = sc.parellelize(data, 3)\n",
    "student_rdd.collect()"
   ]
  },
  {
   "cell_type": "code",
   "execution_count": 2,
   "id": "974ebf0c",
   "metadata": {},
   "outputs": [],
   "source": [
    "# student_rdd 는 key-value 에 해당하는 pair rdd 이다.\n",
    "# 약어(수업 카테고리 코드)로 된 수업 카테고리를 전체 카테고리명으로 변경하겠다.\n",
    "# student_rdd 의 key 는? 이름 - 즉, 변경할 카테고리 코드는 value 이다.\n",
    "# 즉 mapValues() 를 사용하면 된다. - value 를 넘겨 받아서 넘어온 value와 code_desc 의 key 와 매칭 후에 해당되는 key 의 값을 가지고 온다.\n",
    "students_rdd.mapValues(lambda e : code_desc[e]).collect()"
   ]
  },
  {
   "cell_type": "markdown",
   "id": "fcbf31fb",
   "metadata": {},
   "source": [
    "# Broadcast_variables 사용하기\n",
    "- spark session 활용: 현재 수업 환경 spark 라는 객체변수로 제공\n",
    "- spark session.SparkContext.broadcast(읽기 전용 공유변수도 사용할 값이나 변수)"
   ]
  },
  {
   "cell_type": "code",
   "execution_count": null,
   "id": "88b72134",
   "metadata": {},
   "outputs": [],
   "source": [
    "# Broadcast_variables 생성하기\n",
    "# broadcast 함수를 사용해 생성하는 시점에 이미 SparkContext에 등록이 되고 객체 변수도 반환하게 됨\n",
    "code_desc = {\"DE\":\"Data Engineer\", \"DS\":\"Data Science\", \"WD\":\"Web Developer\"}\n",
    "broadcast_S = spark.session.SparkContext.broadcast(code_desc)\n",
    "broadcast_S.value"
   ]
  },
  {
   "cell_type": "code",
   "execution_count": null,
   "id": "6163497a",
   "metadata": {},
   "outputs": [],
   "source": [
    "# 읽기전용 변수객체에 수정을 하면\n",
    "broadcast_S.value['DE'] = 'process'\n",
    "broadcast_S.value\n",
    "\n",
    "# 삭제를 하면 \n",
    "del(broadcast_S.value['DE'])\n",
    "broadcast_S.value"
   ]
  },
  {
   "cell_type": "markdown",
   "id": "30d27058",
   "metadata": {},
   "source": [
    "#### broadcast 객체 자체에는 변경이나 삭제가 반영이 되지만\n",
    "- sc에는 생성시점의 data가 그대로 유지가 된다. - 변경, 삭제가 전혀 반영되지 않는다. "
   ]
  },
  {
   "cell_type": "code",
   "execution_count": null,
   "id": "0ceef4ac",
   "metadata": {},
   "outputs": [],
   "source": [
    "student_rdd.mapValues(lambda e: broadcast_S[e]).collect()\n",
    "# 아무일도 발생하지 않았다. - 그대로 함수가 진행된다."
   ]
  },
  {
   "cell_type": "markdown",
   "id": "3957f291",
   "metadata": {},
   "source": [
    "## Accumulator"
   ]
  },
  {
   "cell_type": "markdown",
   "id": "2fcea8c2",
   "metadata": {},
   "source": [
    "- 각 노드에 공유되는 누산기 함수\n",
    "- 공유변수가 적용된 함수"
   ]
  },
  {
   "cell_type": "code",
   "execution_count": null,
   "id": "9177ba9b",
   "metadata": {
    "scrolled": true
   },
   "outputs": [],
   "source": [
    "accum = sc.accumulator(0) # 누산기 함수 객체 변수 생성\n",
    "rdd = spark.SparkContext.parallelize([1, 2, 3, 4, 5])\n",
    "rdd.foreach(lambda x : accum.add(x))\n",
    "print(accum.value)"
   ]
  },
  {
   "cell_type": "code",
   "execution_count": 3,
   "id": "54dc9064",
   "metadata": {},
   "outputs": [],
   "source": [
    "# # accumulator를 사용하지 않는다면?\n",
    "# a = 0\n",
    "\n",
    "# # 모든 노드에서 발생하는 데이터 횟수를 확인해보자\n",
    "# def change_cate(e):\n",
    "#      a = a + 1\n",
    "#      return broadcastStates.value[e]\n",
    "    \n",
    "# students_rdd.mapValues(lambda e : change_cate(e)).collect()\n",
    "\n",
    "# # 횟수 확인\n",
    "# # local variable 'a' referenced before assignment 발생\n",
    "# a\n",
    "\n",
    "\n"
   ]
  },
  {
   "cell_type": "code",
   "execution_count": 4,
   "id": "beaedc73",
   "metadata": {},
   "outputs": [],
   "source": [
    "\n",
    "\n",
    "# 모든 노드에서 발생하는 데이터 횟수를 확인해보자\n",
    "\n",
    "\n",
    "# 횟수 확인\n",
    "# local variable 'a' referenced before assignment 발생\n"
   ]
  }
 ],
 "metadata": {
  "kernelspec": {
   "display_name": "Python 3 (ipykernel)",
   "language": "python",
   "name": "python3"
  },
  "language_info": {
   "codemirror_mode": {
    "name": "ipython",
    "version": 3
   },
   "file_extension": ".py",
   "mimetype": "text/x-python",
   "name": "python",
   "nbconvert_exporter": "python",
   "pygments_lexer": "ipython3",
   "version": "3.10.10"
  }
 },
 "nbformat": 4,
 "nbformat_minor": 5
}
