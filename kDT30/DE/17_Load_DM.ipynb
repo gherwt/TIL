{
 "cells": [
  {
   "cell_type": "code",
   "execution_count": 76,
   "id": "324e44d3",
   "metadata": {},
   "outputs": [],
   "source": [
    "from IPython.core.interactiveshell import InteractiveShell\n",
    "InteractiveShell.ast_node_interactivity = \"all\""
   ]
  },
  {
   "cell_type": "markdown",
   "id": "c4ae5a76",
   "metadata": {},
   "source": [
    "# 데이터마트용 db 와 계정 생성\n",
    "\n",
    "- DB : etlmysqlDM\n",
    "- 계정 : bigDM@'%', 'bigDMl1234@'   "
   ]
  },
  {
   "cell_type": "code",
   "execution_count": 77,
   "id": "4d733b28",
   "metadata": {},
   "outputs": [],
   "source": [
    "from datetime import date, datetime\n",
    "from pyspark.sql.types import *\n",
    "from pyspark.sql.functions import *\n",
    "import datetime as dt\n",
    "import pandas as pd\n",
    "import matplotlib.pyplot as plt #그래프 패키지 모듈 등록\n",
    "%matplotlib inline "
   ]
  },
  {
   "cell_type": "code",
   "execution_count": 78,
   "id": "b5397e43",
   "metadata": {},
   "outputs": [],
   "source": [
    "import platform\n",
    "\n",
    "from matplotlib import font_manager, rc\n",
    "plt.rcParams['axes.unicode_minus'] = False\n",
    "\n",
    "if platform.system() == 'Darwin':  # 맥OS \n",
    "    rc('font', family='AppleGothic')\n",
    "elif platform.system() == 'Windows':  # 윈도우\n",
    "    path = \"c:/Windows/Fonts/malgun.ttf\"\n",
    "    font_name = font_manager.FontProperties(fname=path).get_name()\n",
    "    rc('font', family=font_name)\n",
    "else:\n",
    "    rc('font', family='D2Coding')"
   ]
  },
  {
   "cell_type": "code",
   "execution_count": 79,
   "id": "d808cd04",
   "metadata": {},
   "outputs": [],
   "source": [
    "# 기준일 생성 함수\n",
    "def cal_std_day(befor_day):   \n",
    "    x = dt.datetime.now() - dt.timedelta(befor_day)\n",
    "    year = x.year\n",
    "    month = x.month if x.month >= 10 else '0'+ str(x.month)\n",
    "    day = x.day if x.day >= 10 else '0'+ str(x.day)  \n",
    "    return str(year)+ '-' +str(month)+ '-' +str(day)"
   ]
  },
  {
   "cell_type": "markdown",
   "id": "e05c9e48",
   "metadata": {},
   "source": [
    "### Data Mart 의 data 이동\n",
    "- dw db(etlmysql) -> 처리프로그램 -> dm db(etlmysqlDM)"
   ]
  },
  {
   "cell_type": "markdown",
   "id": "f5a2120a",
   "metadata": {},
   "source": [
    "## DB 연결 정보\n",
    "- conf_dw : 데이터 추출\n",
    "- conf_dm : 데이터 저장(특별한 경우 dm db에서 data를 추출할 수도 있다)"
   ]
  },
  {
   "cell_type": "markdown",
   "id": "935050b6",
   "metadata": {},
   "source": [
    "### JDBC"
   ]
  },
  {
   "cell_type": "code",
   "execution_count": 5,
   "id": "a4d64efe",
   "metadata": {},
   "outputs": [],
   "source": [
    "conf_dw = {\n",
    "      'url':'jdbc:mysql://localhost:3306/etlmysql?characterEncoding=utf8&serverTimezone=Asia/Seoul'\n",
    "     ,'props':{\n",
    "      'user':'bigMysql',\n",
    "      'password':'bigMysql1234@'   \n",
    "      }\n",
    "}\n",
    "\n",
    "conf_dm = {\n",
    "      'url':'jdbc:mysql://localhost:3306/etlmysqlDM?characterEncoding=utf8&serverTimezone=Asia/Seoul'\n",
    "     ,'props':{\n",
    "      'user':'bigDM',\n",
    "      'password':'bigDMl1234@'   \n",
    "      }\n",
    "}\n"
   ]
  },
  {
   "cell_type": "code",
   "execution_count": 6,
   "id": "b14243f9",
   "metadata": {},
   "outputs": [],
   "source": [
    "# table 저장/ 반환 관련된 함수를 구성함\n",
    "# config : db 연결정보\n",
    "# spark.read.jdbc(): db에서 명시된 테이블을 반환받는 모듈\n",
    "def find_data(config, table_name):\n",
    "    return spark.read.jdbc(url=config['url'], table = table_name, properties = config['props'])\n",
    "\n",
    "def save_data(config, df, table_name):\n",
    "    return df.write.jdbc(url=config['url'], table = table_name, mode = 'append', properties = config['props'])"
   ]
  },
  {
   "cell_type": "markdown",
   "id": "a8d85933",
   "metadata": {},
   "source": [
    "## Load DataMart"
   ]
  },
  {
   "cell_type": "markdown",
   "id": "2549a93a",
   "metadata": {},
   "source": [
    "### 1. 지역별 단위면적(km)당 인구수와 코로나 확진자 수 데이터 저장"
   ]
  },
  {
   "cell_type": "markdown",
   "id": "5131332d-00f8-45cb-9244-a6fc47fd6312",
   "metadata": {},
   "source": [
    "- base data load\n",
    "    - 지역별 인구와 면적 data : dw db(etlmysql)에 LOC table 로 저장되어 있다.\n",
    "    - 코로나 확진자 data : dw db(etlmysql)에 CORONA_PATIENTS table 로 저장되어 있다."
   ]
  },
  {
   "cell_type": "code",
   "execution_count": 7,
   "id": "b03e1992",
   "metadata": {},
   "outputs": [],
   "source": [
    "popu = find_data(conf_dw, 'LOC')\n",
    "patients = find_data(conf_dw, 'CORONA_PATIENTS') "
   ]
  },
  {
   "cell_type": "code",
   "execution_count": 8,
   "id": "19898a7e-3e67-46ba-bcb5-3526e4ec6864",
   "metadata": {},
   "outputs": [
    {
     "data": {
      "text/plain": [
       "['LOC', 'DEATH_CNT', 'DEF_CNT', 'LOC_OCC_CNT', 'QUR_RATE', 'STD_DAY']"
      ]
     },
     "execution_count": 8,
     "metadata": {},
     "output_type": "execute_result"
    },
    {
     "data": {
      "text/plain": [
       "pyspark.sql.dataframe.DataFrame"
      ]
     },
     "execution_count": 8,
     "metadata": {},
     "output_type": "execute_result"
    },
    {
     "data": {
      "text/plain": [
       "['LOC', 'AREA', 'POPULATION']"
      ]
     },
     "execution_count": 8,
     "metadata": {},
     "output_type": "execute_result"
    }
   ],
   "source": [
    "patients.columns\n",
    "type(popu) # DF 형태\n",
    "popu.columns"
   ]
  },
  {
   "cell_type": "markdown",
   "id": "9f5f7443",
   "metadata": {},
   "source": [
    "- dw db에 저장되는 data는 자주 갱신이 가능\n",
    "- 정규화가 필요\n",
    "    - df 생성시 db table 정규화 감안해서 생성해야 한다.\n",
    "    - 기본키에 대한 컬럼 생성이 필요\n",
    "    - 기본키\n",
    "        - 컬럼 내에서 값이 유니크해야함\n",
    "        - null 값 허용하지 않는다.\n",
    "        - 기본키는 증가 가능한 고유 id 를 주로 사용한다.\n",
    "    - 기본키(고유id) 생성하기 위한 모듈을 사용\n",
    "        - spark 데이터 프레임의 StatFunction 패키지 함수 중 monotonically_increasing_id 사용"
   ]
  },
  {
   "cell_type": "code",
   "execution_count": 9,
   "id": "293c5ff9",
   "metadata": {},
   "outputs": [
    {
     "data": {
      "text/plain": [
       "['LOC', 'DEATH_CNT', 'DEF_CNT', 'LOC_OCC_CNT', 'QUR_RATE', 'STD_DAY']"
      ]
     },
     "execution_count": 9,
     "metadata": {},
     "output_type": "execute_result"
    }
   ],
   "source": [
    "['LOC', 'DEATH_CNT', 'DEF_CNT', 'LOC_OCC_CNT', 'QUR_RATE', 'STD_DAY']\n",
    "# 지역   누적사망자수  누적 발생수  지역발생수     만명당 발생률  기준일자"
   ]
  },
  {
   "cell_type": "code",
   "execution_count": 10,
   "id": "819f5ecb",
   "metadata": {},
   "outputs": [
    {
     "data": {
      "text/plain": [
       "17"
      ]
     },
     "execution_count": 10,
     "metadata": {},
     "output_type": "execute_result"
    },
    {
     "data": {
      "text/plain": [
       "544"
      ]
     },
     "execution_count": 10,
     "metadata": {},
     "output_type": "execute_result"
    }
   ],
   "source": [
    "## 면적과 인구 data\n",
    "popu.count()\n",
    "patients.count()"
   ]
  },
  {
   "cell_type": "code",
   "execution_count": 11,
   "id": "ce7c0d88",
   "metadata": {
    "scrolled": true
   },
   "outputs": [
    {
     "data": {
      "text/plain": [
       "[Row(LOC='충북', AREA='7407 ', POPULATION='1633472 ', DEATH_CNT='921', DEF_CNT='855269', LOC_OCC_CNT='1685', QUR_RATE='53540', STD_DAY='2022-12-02'),\n",
       " Row(LOC='충북', AREA='7407 ', POPULATION='1633472 ', DEATH_CNT='966', DEF_CNT='908476', LOC_OCC_CNT='2372', QUR_RATE='56871', STD_DAY='2022-12-29'),\n",
       " Row(LOC='충북', AREA='7407 ', POPULATION='1633472 ', DEATH_CNT='942', DEF_CNT='884139', LOC_OCC_CNT='2177', QUR_RATE='55348', STD_DAY='2022-12-17'),\n",
       " Row(LOC='충북', AREA='7407 ', POPULATION='1633472 ', DEATH_CNT='962', DEF_CNT='900403', LOC_OCC_CNT='1827', QUR_RATE='56366', STD_DAY='2022-12-25'),\n",
       " Row(LOC='충북', AREA='7407 ', POPULATION='1633472 ', DEATH_CNT='938', DEF_CNT='879966', LOC_OCC_CNT='2078', QUR_RATE='55086', STD_DAY='2022-12-15'),\n",
       " Row(LOC='충북', AREA='7407 ', POPULATION='1633472 ', DEATH_CNT='919', DEF_CNT='853584', LOC_OCC_CNT='1819', QUR_RATE='53435', STD_DAY='2022-12-01'),\n",
       " Row(LOC='충북', AREA='7407 ', POPULATION='1633472 ', DEATH_CNT='945', DEF_CNT='885942', LOC_OCC_CNT='1803', QUR_RATE='55461', STD_DAY='2022-12-18'),\n",
       " Row(LOC='충북', AREA='7407 ', POPULATION='1633472 ', DEATH_CNT='932', DEF_CNT='870091', LOC_OCC_CNT='2070', QUR_RATE='54468', STD_DAY='2022-12-10'),\n",
       " Row(LOC='충북', AREA='7407 ', POPULATION='1633472 ', DEATH_CNT='950', DEF_CNT='892327', LOC_OCC_CNT='3041', QUR_RATE='55860', STD_DAY='2022-12-21'),\n",
       " Row(LOC='충북', AREA='7407 ', POPULATION='1633472 ', DEATH_CNT='928', DEF_CNT='866128', LOC_OCC_CNT='2175', QUR_RATE='54220', STD_DAY='2022-12-08'),\n",
       " Row(LOC='충북', AREA='7407 ', POPULATION='1633472 ', DEATH_CNT='930', DEF_CNT='868027', LOC_OCC_CNT='1899', QUR_RATE='54339', STD_DAY='2022-12-09'),\n",
       " Row(LOC='충북', AREA='7407 ', POPULATION='1633472 ', DEATH_CNT='932', DEF_CNT='875153', LOC_OCC_CNT='2313', QUR_RATE='54785', STD_DAY='2022-12-13'),\n",
       " Row(LOC='충북', AREA='7407 ', POPULATION='1633472 ', DEATH_CNT='963', DEF_CNT='906103', LOC_OCC_CNT='2755', QUR_RATE='56723', STD_DAY='2022-12-28'),\n",
       " Row(LOC='충북', AREA='7407 ', POPULATION='1633472 ', DEATH_CNT='948', DEF_CNT='889286', LOC_OCC_CNT='2301', QUR_RATE='55670', STD_DAY='2022-12-20'),\n",
       " Row(LOC='충북', AREA='7407 ', POPULATION='1633472 ', DEATH_CNT='924', DEF_CNT='861415', LOC_OCC_CNT='2056', QUR_RATE='53925', STD_DAY='2022-12-06'),\n",
       " Row(LOC='충북', AREA='7407 ', POPULATION='1633472 ', DEATH_CNT='926', DEF_CNT='863953', LOC_OCC_CNT='2537', QUR_RATE='54084', STD_DAY='2022-12-07'),\n",
       " Row(LOC='충북', AREA='7407 ', POPULATION='1633472 ', DEATH_CNT='957', DEF_CNT='898575', LOC_OCC_CNT='2018', QUR_RATE='56251', STD_DAY='2022-12-24'),\n",
       " Row(LOC='충북', AREA='7407 ', POPULATION='1633472 ', DEATH_CNT='934', DEF_CNT='877887', LOC_OCC_CNT='2732', QUR_RATE='54956', STD_DAY='2022-12-14'),\n",
       " Row(LOC='충북', AREA='7407 ', POPULATION='1633472 ', DEATH_CNT='967', DEF_CNT='910483', LOC_OCC_CNT='2006', QUR_RATE='56997', STD_DAY='2022-12-30'),\n",
       " Row(LOC='충북', AREA='7407 ', POPULATION='1633472 ', DEATH_CNT='953', DEF_CNT='896558', LOC_OCC_CNT='1936', QUR_RATE='56125', STD_DAY='2022-12-23')]"
      ]
     },
     "execution_count": 11,
     "metadata": {},
     "output_type": "execute_result"
    }
   ],
   "source": [
    "# 면적 인구 데이터와 코로나 현황 데이터를 결합(join)\n",
    "popu.join(patients, on = 'LOC').tail(20) # df의 마지막 20행을 row 객체 형태로 추출하기"
   ]
  },
  {
   "cell_type": "code",
   "execution_count": 12,
   "id": "d1764f31",
   "metadata": {
    "scrolled": true
   },
   "outputs": [
    {
     "name": "stdout",
     "output_type": "stream",
     "text": [
      "+----+------------+--------+----------+\n",
      "| LOC|popu_density|QUR_RATE|   STD_DAY|\n",
      "+----+------------+--------+----------+\n",
      "|경남|         321|   47784|2022-11-21|\n",
      "|대전|        2722|   53355|2022-11-21|\n",
      "|광주|        2920|   53758|2022-11-21|\n",
      "|강원|          93|   51433|2022-11-21|\n",
      "|부산|        4411|   46594|2022-11-21|\n",
      "|경기|        1366|   52912|2022-11-21|\n",
      "|울산|        1072|   50498|2022-11-21|\n",
      "|인천|        2831|   52164|2022-11-21|\n",
      "|전남|         152|   47423|2022-11-21|\n",
      "|전북|         226|   50078|2022-11-21|\n",
      "|제주|         378|   51069|2022-11-21|\n",
      "|충남|         265|   50511|2022-11-21|\n",
      "|충북|         221|   52303|2022-11-21|\n",
      "|서울|       16093|   54630|2022-11-21|\n",
      "|대구|        2733|   48691|2022-11-21|\n",
      "|세종|         811|   56400|2022-11-21|\n",
      "|경북|         141|   46329|2022-11-21|\n",
      "|부산|        4411|   47583|2022-12-01|\n",
      "|서울|       16093|   55820|2022-12-01|\n",
      "|전남|         152|   48291|2022-12-01|\n",
      "+----+------------+--------+----------+\n",
      "only showing top 20 rows\n",
      "\n"
     ]
    }
   ],
   "source": [
    "## 면적대비 인구수와 코로나 현황\n",
    "pop_patients = popu.join(patients, on = 'LOC')\\\n",
    "                    .select('LOC',\n",
    "                           ceil(col('POPULATION')/col('AREA')).alias('popu_density'),\n",
    "                            'QUR_RATE', 'STD_DAY')\\\n",
    "                    .orderBy('STD_DAY')\n",
    "pop_patients.show()"
   ]
  },
  {
   "cell_type": "code",
   "execution_count": 13,
   "id": "6d3e50f4",
   "metadata": {},
   "outputs": [
    {
     "data": {
      "text/plain": [
       "[Row(LOC='광주', popu_density=2920, QUR_RATE='53758', STD_DAY='2022-11-21'),\n",
       " Row(LOC='서울', popu_density=16093, QUR_RATE='54630', STD_DAY='2022-11-21'),\n",
       " Row(LOC='대구', popu_density=2733, QUR_RATE='48691', STD_DAY='2022-11-21'),\n",
       " Row(LOC='경기', popu_density=1366, QUR_RATE='52912', STD_DAY='2022-11-21'),\n",
       " Row(LOC='대전', popu_density=2722, QUR_RATE='53355', STD_DAY='2022-11-21')]"
      ]
     },
     "execution_count": 13,
     "metadata": {},
     "output_type": "execute_result"
    },
    {
     "data": {
      "text/plain": [
       "[Row(LOC='전남', popu_density=152, QUR_RATE='51698', STD_DAY='2022-12-31'),\n",
       " Row(LOC='전북', popu_density=226, QUR_RATE='54446', STD_DAY='2022-12-31'),\n",
       " Row(LOC='제주', popu_density=378, QUR_RATE='54075', STD_DAY='2022-12-31'),\n",
       " Row(LOC='충남', popu_density=265, QUR_RATE='55389', STD_DAY='2022-12-31'),\n",
       " Row(LOC='충북', popu_density=221, QUR_RATE='57114', STD_DAY='2022-12-31')]"
      ]
     },
     "execution_count": 13,
     "metadata": {},
     "output_type": "execute_result"
    }
   ],
   "source": [
    "pop_patients.head(5)\n",
    "pop_patients.tail(5)"
   ]
  },
  {
   "cell_type": "code",
   "execution_count": 14,
   "id": "a389f254",
   "metadata": {},
   "outputs": [
    {
     "name": "stdout",
     "output_type": "stream",
     "text": [
      "+----+------------+--------+----------+------+\n",
      "| LOC|popu_density|QUR_RATE|   STD_DAY|CP_IDX|\n",
      "+----+------------+--------+----------+------+\n",
      "|강원|          93|   51433|2022-11-21|     0|\n",
      "|경기|        1366|   52912|2022-11-21|     1|\n",
      "|경남|         321|   47784|2022-11-21|     2|\n",
      "|경북|         141|   46329|2022-11-21|     3|\n",
      "|광주|        2920|   53758|2022-11-21|     4|\n",
      "|대구|        2733|   48691|2022-11-21|     5|\n",
      "|대전|        2722|   53355|2022-11-21|     6|\n",
      "|부산|        4411|   46594|2022-11-21|     7|\n",
      "|서울|       16093|   54630|2022-11-21|     8|\n",
      "|세종|         811|   56400|2022-11-21|     9|\n",
      "|울산|        1072|   50498|2022-11-21|    10|\n",
      "|인천|        2831|   52164|2022-11-21|    11|\n",
      "|전남|         152|   47423|2022-11-21|    12|\n",
      "|전북|         226|   50078|2022-11-21|    13|\n",
      "|제주|         378|   51069|2022-11-21|    14|\n",
      "|충남|         265|   50511|2022-11-21|    15|\n",
      "|충북|         221|   52303|2022-11-21|    16|\n",
      "|강원|          93|   52575|2022-12-01|    17|\n",
      "|경기|        1366|   54097|2022-12-01|    18|\n",
      "|경남|         321|   48740|2022-12-01|    19|\n",
      "+----+------------+--------+----------+------+\n",
      "only showing top 20 rows\n",
      "\n"
     ]
    }
   ],
   "source": [
    "# 각 행별로 고유 인덱스 컬럼 추가\n",
    "pop_patients = pop_patients .withColumn('CP_IDX', monotonically_increasing_id())\n",
    "pop_patients.show()"
   ]
  },
  {
   "cell_type": "code",
   "execution_count": 15,
   "id": "29edaeb0",
   "metadata": {},
   "outputs": [
    {
     "ename": "Py4JJavaError",
     "evalue": "An error occurred while calling o65.jdbc.\n: java.sql.SQLException: Access denied for user 'bigDM'@'localhost' (using password: YES)\n\tat com.mysql.cj.jdbc.exceptions.SQLError.createSQLException(SQLError.java:129)\n\tat com.mysql.cj.jdbc.exceptions.SQLExceptionsMapping.translateException(SQLExceptionsMapping.java:122)\n\tat com.mysql.cj.jdbc.ConnectionImpl.createNewIO(ConnectionImpl.java:828)\n\tat com.mysql.cj.jdbc.ConnectionImpl.<init>(ConnectionImpl.java:448)\n\tat com.mysql.cj.jdbc.ConnectionImpl.getInstance(ConnectionImpl.java:241)\n\tat com.mysql.cj.jdbc.NonRegisteringDriver.connect(NonRegisteringDriver.java:198)\n\tat org.apache.spark.sql.execution.datasources.jdbc.connection.BasicConnectionProvider.getConnection(BasicConnectionProvider.scala:49)\n\tat org.apache.spark.sql.execution.datasources.jdbc.connection.ConnectionProvider$.create(ConnectionProvider.scala:77)\n\tat org.apache.spark.sql.execution.datasources.jdbc.JdbcUtils$.$anonfun$createConnectionFactory$1(JdbcUtils.scala:64)\n\tat org.apache.spark.sql.execution.datasources.jdbc.JdbcRelationProvider.createRelation(JdbcRelationProvider.scala:49)\n\tat org.apache.spark.sql.execution.datasources.SaveIntoDataSourceCommand.run(SaveIntoDataSourceCommand.scala:45)\n\tat org.apache.spark.sql.execution.command.ExecutedCommandExec.sideEffectResult$lzycompute(commands.scala:75)\n\tat org.apache.spark.sql.execution.command.ExecutedCommandExec.sideEffectResult(commands.scala:73)\n\tat org.apache.spark.sql.execution.command.ExecutedCommandExec.executeCollect(commands.scala:84)\n\tat org.apache.spark.sql.execution.QueryExecution$$anonfun$eagerlyExecuteCommands$1.$anonfun$applyOrElse$1(QueryExecution.scala:97)\n\tat org.apache.spark.sql.execution.SQLExecution$.$anonfun$withNewExecutionId$5(SQLExecution.scala:103)\n\tat org.apache.spark.sql.execution.SQLExecution$.withSQLConfPropagated(SQLExecution.scala:163)\n\tat org.apache.spark.sql.execution.SQLExecution$.$anonfun$withNewExecutionId$1(SQLExecution.scala:90)\n\tat org.apache.spark.sql.SparkSession.withActive(SparkSession.scala:775)\n\tat org.apache.spark.sql.execution.SQLExecution$.withNewExecutionId(SQLExecution.scala:64)\n\tat org.apache.spark.sql.execution.QueryExecution$$anonfun$eagerlyExecuteCommands$1.applyOrElse(QueryExecution.scala:97)\n\tat org.apache.spark.sql.execution.QueryExecution$$anonfun$eagerlyExecuteCommands$1.applyOrElse(QueryExecution.scala:93)\n\tat org.apache.spark.sql.catalyst.trees.TreeNode.$anonfun$transformDownWithPruning$1(TreeNode.scala:481)\n\tat org.apache.spark.sql.catalyst.trees.CurrentOrigin$.withOrigin(TreeNode.scala:82)\n\tat org.apache.spark.sql.catalyst.trees.TreeNode.transformDownWithPruning(TreeNode.scala:481)\n\tat org.apache.spark.sql.catalyst.plans.logical.LogicalPlan.org$apache$spark$sql$catalyst$plans$logical$AnalysisHelper$$super$transformDownWithPruning(LogicalPlan.scala:30)\n\tat org.apache.spark.sql.catalyst.plans.logical.AnalysisHelper.transformDownWithPruning(AnalysisHelper.scala:267)\n\tat org.apache.spark.sql.catalyst.plans.logical.AnalysisHelper.transformDownWithPruning$(AnalysisHelper.scala:263)\n\tat org.apache.spark.sql.catalyst.plans.logical.LogicalPlan.transformDownWithPruning(LogicalPlan.scala:30)\n\tat org.apache.spark.sql.catalyst.plans.logical.LogicalPlan.transformDownWithPruning(LogicalPlan.scala:30)\n\tat org.apache.spark.sql.catalyst.trees.TreeNode.transformDown(TreeNode.scala:457)\n\tat org.apache.spark.sql.execution.QueryExecution.eagerlyExecuteCommands(QueryExecution.scala:93)\n\tat org.apache.spark.sql.execution.QueryExecution.commandExecuted$lzycompute(QueryExecution.scala:80)\n\tat org.apache.spark.sql.execution.QueryExecution.commandExecuted(QueryExecution.scala:78)\n\tat org.apache.spark.sql.execution.QueryExecution.assertCommandExecuted(QueryExecution.scala:115)\n\tat org.apache.spark.sql.DataFrameWriter.runCommand(DataFrameWriter.scala:848)\n\tat org.apache.spark.sql.DataFrameWriter.saveToV1Source(DataFrameWriter.scala:382)\n\tat org.apache.spark.sql.DataFrameWriter.saveInternal(DataFrameWriter.scala:355)\n\tat org.apache.spark.sql.DataFrameWriter.save(DataFrameWriter.scala:247)\n\tat org.apache.spark.sql.DataFrameWriter.jdbc(DataFrameWriter.scala:745)\n\tat java.base/jdk.internal.reflect.NativeMethodAccessorImpl.invoke0(Native Method)\n\tat java.base/jdk.internal.reflect.NativeMethodAccessorImpl.invoke(NativeMethodAccessorImpl.java:62)\n\tat java.base/jdk.internal.reflect.DelegatingMethodAccessorImpl.invoke(DelegatingMethodAccessorImpl.java:43)\n\tat java.base/java.lang.reflect.Method.invoke(Method.java:566)\n\tat py4j.reflection.MethodInvoker.invoke(MethodInvoker.java:244)\n\tat py4j.reflection.ReflectionEngine.invoke(ReflectionEngine.java:357)\n\tat py4j.Gateway.invoke(Gateway.java:282)\n\tat py4j.commands.AbstractCommand.invokeMethod(AbstractCommand.java:132)\n\tat py4j.commands.CallCommand.execute(CallCommand.java:79)\n\tat py4j.ClientServerConnection.waitForCommands(ClientServerConnection.java:182)\n\tat py4j.ClientServerConnection.run(ClientServerConnection.java:106)\n\tat java.base/java.lang.Thread.run(Thread.java:829)\n",
     "output_type": "error",
     "traceback": [
      "\u001b[0;31m---------------------------------------------------------------------------\u001b[0m",
      "\u001b[0;31mPy4JJavaError\u001b[0m                             Traceback (most recent call last)",
      "\u001b[0;32m<ipython-input-15-05fb61c75839>\u001b[0m in \u001b[0;36m<module>\u001b[0;34m\u001b[0m\n\u001b[1;32m      1\u001b[0m \u001b[0;31m# DM DB에 저장 - 테이블에 레코드가 insert 문\u001b[0m\u001b[0;34m\u001b[0m\u001b[0;34m\u001b[0m\u001b[0;34m\u001b[0m\u001b[0m\n\u001b[0;32m----> 2\u001b[0;31m \u001b[0msave_data\u001b[0m\u001b[0;34m(\u001b[0m\u001b[0mconf_dm\u001b[0m\u001b[0;34m,\u001b[0m \u001b[0mpop_patients\u001b[0m\u001b[0;34m,\u001b[0m\u001b[0;34m'CO_POPU_DENSITY'\u001b[0m\u001b[0;34m)\u001b[0m\u001b[0;34m\u001b[0m\u001b[0;34m\u001b[0m\u001b[0m\n\u001b[0m",
      "\u001b[0;32m<ipython-input-6-501e13bc9cda>\u001b[0m in \u001b[0;36msave_data\u001b[0;34m(config, df, table_name)\u001b[0m\n\u001b[1;32m      6\u001b[0m \u001b[0;34m\u001b[0m\u001b[0m\n\u001b[1;32m      7\u001b[0m \u001b[0;32mdef\u001b[0m \u001b[0msave_data\u001b[0m\u001b[0;34m(\u001b[0m\u001b[0mconfig\u001b[0m\u001b[0;34m,\u001b[0m \u001b[0mdf\u001b[0m\u001b[0;34m,\u001b[0m \u001b[0mtable_name\u001b[0m\u001b[0;34m)\u001b[0m\u001b[0;34m:\u001b[0m\u001b[0;34m\u001b[0m\u001b[0;34m\u001b[0m\u001b[0m\n\u001b[0;32m----> 8\u001b[0;31m     \u001b[0;32mreturn\u001b[0m \u001b[0mdf\u001b[0m\u001b[0;34m.\u001b[0m\u001b[0mwrite\u001b[0m\u001b[0;34m.\u001b[0m\u001b[0mjdbc\u001b[0m\u001b[0;34m(\u001b[0m\u001b[0murl\u001b[0m\u001b[0;34m=\u001b[0m\u001b[0mconfig\u001b[0m\u001b[0;34m[\u001b[0m\u001b[0;34m'url'\u001b[0m\u001b[0;34m]\u001b[0m\u001b[0;34m,\u001b[0m \u001b[0mtable\u001b[0m \u001b[0;34m=\u001b[0m \u001b[0mtable_name\u001b[0m\u001b[0;34m,\u001b[0m \u001b[0mmode\u001b[0m \u001b[0;34m=\u001b[0m \u001b[0;34m'append'\u001b[0m\u001b[0;34m,\u001b[0m \u001b[0mproperties\u001b[0m \u001b[0;34m=\u001b[0m \u001b[0mconfig\u001b[0m\u001b[0;34m[\u001b[0m\u001b[0;34m'props'\u001b[0m\u001b[0;34m]\u001b[0m\u001b[0;34m)\u001b[0m\u001b[0;34m\u001b[0m\u001b[0;34m\u001b[0m\u001b[0m\n\u001b[0m",
      "\u001b[0;32m~/spark/python/pyspark/sql/readwriter.py\u001b[0m in \u001b[0;36mjdbc\u001b[0;34m(self, url, table, mode, properties)\u001b[0m\n\u001b[1;32m   1036\u001b[0m         \u001b[0;32mfor\u001b[0m \u001b[0mk\u001b[0m \u001b[0;32min\u001b[0m \u001b[0mproperties\u001b[0m\u001b[0;34m:\u001b[0m\u001b[0;34m\u001b[0m\u001b[0;34m\u001b[0m\u001b[0m\n\u001b[1;32m   1037\u001b[0m             \u001b[0mjprop\u001b[0m\u001b[0;34m.\u001b[0m\u001b[0msetProperty\u001b[0m\u001b[0;34m(\u001b[0m\u001b[0mk\u001b[0m\u001b[0;34m,\u001b[0m \u001b[0mproperties\u001b[0m\u001b[0;34m[\u001b[0m\u001b[0mk\u001b[0m\u001b[0;34m]\u001b[0m\u001b[0;34m)\u001b[0m\u001b[0;34m\u001b[0m\u001b[0;34m\u001b[0m\u001b[0m\n\u001b[0;32m-> 1038\u001b[0;31m         \u001b[0mself\u001b[0m\u001b[0;34m.\u001b[0m\u001b[0mmode\u001b[0m\u001b[0;34m(\u001b[0m\u001b[0mmode\u001b[0m\u001b[0;34m)\u001b[0m\u001b[0;34m.\u001b[0m\u001b[0m_jwrite\u001b[0m\u001b[0;34m.\u001b[0m\u001b[0mjdbc\u001b[0m\u001b[0;34m(\u001b[0m\u001b[0murl\u001b[0m\u001b[0;34m,\u001b[0m \u001b[0mtable\u001b[0m\u001b[0;34m,\u001b[0m \u001b[0mjprop\u001b[0m\u001b[0;34m)\u001b[0m\u001b[0;34m\u001b[0m\u001b[0;34m\u001b[0m\u001b[0m\n\u001b[0m\u001b[1;32m   1039\u001b[0m \u001b[0;34m\u001b[0m\u001b[0m\n\u001b[1;32m   1040\u001b[0m \u001b[0;34m\u001b[0m\u001b[0m\n",
      "\u001b[0;32m~/spark/python/lib/py4j-0.10.9.5-src.zip/py4j/java_gateway.py\u001b[0m in \u001b[0;36m__call__\u001b[0;34m(self, *args)\u001b[0m\n\u001b[1;32m   1320\u001b[0m         \u001b[0manswer\u001b[0m \u001b[0;34m=\u001b[0m \u001b[0mself\u001b[0m\u001b[0;34m.\u001b[0m\u001b[0mgateway_client\u001b[0m\u001b[0;34m.\u001b[0m\u001b[0msend_command\u001b[0m\u001b[0;34m(\u001b[0m\u001b[0mcommand\u001b[0m\u001b[0;34m)\u001b[0m\u001b[0;34m\u001b[0m\u001b[0;34m\u001b[0m\u001b[0m\n\u001b[1;32m   1321\u001b[0m         return_value = get_return_value(\n\u001b[0;32m-> 1322\u001b[0;31m             answer, self.gateway_client, self.target_id, self.name)\n\u001b[0m\u001b[1;32m   1323\u001b[0m \u001b[0;34m\u001b[0m\u001b[0m\n\u001b[1;32m   1324\u001b[0m         \u001b[0;32mfor\u001b[0m \u001b[0mtemp_arg\u001b[0m \u001b[0;32min\u001b[0m \u001b[0mtemp_args\u001b[0m\u001b[0;34m:\u001b[0m\u001b[0;34m\u001b[0m\u001b[0;34m\u001b[0m\u001b[0m\n",
      "\u001b[0;32m~/spark/python/pyspark/sql/utils.py\u001b[0m in \u001b[0;36mdeco\u001b[0;34m(*a, **kw)\u001b[0m\n\u001b[1;32m    109\u001b[0m     \u001b[0;32mdef\u001b[0m \u001b[0mdeco\u001b[0m\u001b[0;34m(\u001b[0m\u001b[0;34m*\u001b[0m\u001b[0ma\u001b[0m\u001b[0;34m,\u001b[0m \u001b[0;34m**\u001b[0m\u001b[0mkw\u001b[0m\u001b[0;34m)\u001b[0m\u001b[0;34m:\u001b[0m\u001b[0;34m\u001b[0m\u001b[0;34m\u001b[0m\u001b[0m\n\u001b[1;32m    110\u001b[0m         \u001b[0;32mtry\u001b[0m\u001b[0;34m:\u001b[0m\u001b[0;34m\u001b[0m\u001b[0;34m\u001b[0m\u001b[0m\n\u001b[0;32m--> 111\u001b[0;31m             \u001b[0;32mreturn\u001b[0m \u001b[0mf\u001b[0m\u001b[0;34m(\u001b[0m\u001b[0;34m*\u001b[0m\u001b[0ma\u001b[0m\u001b[0;34m,\u001b[0m \u001b[0;34m**\u001b[0m\u001b[0mkw\u001b[0m\u001b[0;34m)\u001b[0m\u001b[0;34m\u001b[0m\u001b[0;34m\u001b[0m\u001b[0m\n\u001b[0m\u001b[1;32m    112\u001b[0m         \u001b[0;32mexcept\u001b[0m \u001b[0mpy4j\u001b[0m\u001b[0;34m.\u001b[0m\u001b[0mprotocol\u001b[0m\u001b[0;34m.\u001b[0m\u001b[0mPy4JJavaError\u001b[0m \u001b[0;32mas\u001b[0m \u001b[0me\u001b[0m\u001b[0;34m:\u001b[0m\u001b[0;34m\u001b[0m\u001b[0;34m\u001b[0m\u001b[0m\n\u001b[1;32m    113\u001b[0m             \u001b[0mconverted\u001b[0m \u001b[0;34m=\u001b[0m \u001b[0mconvert_exception\u001b[0m\u001b[0;34m(\u001b[0m\u001b[0me\u001b[0m\u001b[0;34m.\u001b[0m\u001b[0mjava_exception\u001b[0m\u001b[0;34m)\u001b[0m\u001b[0;34m\u001b[0m\u001b[0;34m\u001b[0m\u001b[0m\n",
      "\u001b[0;32m~/spark/python/lib/py4j-0.10.9.5-src.zip/py4j/protocol.py\u001b[0m in \u001b[0;36mget_return_value\u001b[0;34m(answer, gateway_client, target_id, name)\u001b[0m\n\u001b[1;32m    326\u001b[0m                 raise Py4JJavaError(\n\u001b[1;32m    327\u001b[0m                     \u001b[0;34m\"An error occurred while calling {0}{1}{2}.\\n\"\u001b[0m\u001b[0;34m.\u001b[0m\u001b[0;34m\u001b[0m\u001b[0;34m\u001b[0m\u001b[0m\n\u001b[0;32m--> 328\u001b[0;31m                     format(target_id, \".\", name), value)\n\u001b[0m\u001b[1;32m    329\u001b[0m             \u001b[0;32melse\u001b[0m\u001b[0;34m:\u001b[0m\u001b[0;34m\u001b[0m\u001b[0;34m\u001b[0m\u001b[0m\n\u001b[1;32m    330\u001b[0m                 raise Py4JError(\n",
      "\u001b[0;31mPy4JJavaError\u001b[0m: An error occurred while calling o65.jdbc.\n: java.sql.SQLException: Access denied for user 'bigDM'@'localhost' (using password: YES)\n\tat com.mysql.cj.jdbc.exceptions.SQLError.createSQLException(SQLError.java:129)\n\tat com.mysql.cj.jdbc.exceptions.SQLExceptionsMapping.translateException(SQLExceptionsMapping.java:122)\n\tat com.mysql.cj.jdbc.ConnectionImpl.createNewIO(ConnectionImpl.java:828)\n\tat com.mysql.cj.jdbc.ConnectionImpl.<init>(ConnectionImpl.java:448)\n\tat com.mysql.cj.jdbc.ConnectionImpl.getInstance(ConnectionImpl.java:241)\n\tat com.mysql.cj.jdbc.NonRegisteringDriver.connect(NonRegisteringDriver.java:198)\n\tat org.apache.spark.sql.execution.datasources.jdbc.connection.BasicConnectionProvider.getConnection(BasicConnectionProvider.scala:49)\n\tat org.apache.spark.sql.execution.datasources.jdbc.connection.ConnectionProvider$.create(ConnectionProvider.scala:77)\n\tat org.apache.spark.sql.execution.datasources.jdbc.JdbcUtils$.$anonfun$createConnectionFactory$1(JdbcUtils.scala:64)\n\tat org.apache.spark.sql.execution.datasources.jdbc.JdbcRelationProvider.createRelation(JdbcRelationProvider.scala:49)\n\tat org.apache.spark.sql.execution.datasources.SaveIntoDataSourceCommand.run(SaveIntoDataSourceCommand.scala:45)\n\tat org.apache.spark.sql.execution.command.ExecutedCommandExec.sideEffectResult$lzycompute(commands.scala:75)\n\tat org.apache.spark.sql.execution.command.ExecutedCommandExec.sideEffectResult(commands.scala:73)\n\tat org.apache.spark.sql.execution.command.ExecutedCommandExec.executeCollect(commands.scala:84)\n\tat org.apache.spark.sql.execution.QueryExecution$$anonfun$eagerlyExecuteCommands$1.$anonfun$applyOrElse$1(QueryExecution.scala:97)\n\tat org.apache.spark.sql.execution.SQLExecution$.$anonfun$withNewExecutionId$5(SQLExecution.scala:103)\n\tat org.apache.spark.sql.execution.SQLExecution$.withSQLConfPropagated(SQLExecution.scala:163)\n\tat org.apache.spark.sql.execution.SQLExecution$.$anonfun$withNewExecutionId$1(SQLExecution.scala:90)\n\tat org.apache.spark.sql.SparkSession.withActive(SparkSession.scala:775)\n\tat org.apache.spark.sql.execution.SQLExecution$.withNewExecutionId(SQLExecution.scala:64)\n\tat org.apache.spark.sql.execution.QueryExecution$$anonfun$eagerlyExecuteCommands$1.applyOrElse(QueryExecution.scala:97)\n\tat org.apache.spark.sql.execution.QueryExecution$$anonfun$eagerlyExecuteCommands$1.applyOrElse(QueryExecution.scala:93)\n\tat org.apache.spark.sql.catalyst.trees.TreeNode.$anonfun$transformDownWithPruning$1(TreeNode.scala:481)\n\tat org.apache.spark.sql.catalyst.trees.CurrentOrigin$.withOrigin(TreeNode.scala:82)\n\tat org.apache.spark.sql.catalyst.trees.TreeNode.transformDownWithPruning(TreeNode.scala:481)\n\tat org.apache.spark.sql.catalyst.plans.logical.LogicalPlan.org$apache$spark$sql$catalyst$plans$logical$AnalysisHelper$$super$transformDownWithPruning(LogicalPlan.scala:30)\n\tat org.apache.spark.sql.catalyst.plans.logical.AnalysisHelper.transformDownWithPruning(AnalysisHelper.scala:267)\n\tat org.apache.spark.sql.catalyst.plans.logical.AnalysisHelper.transformDownWithPruning$(AnalysisHelper.scala:263)\n\tat org.apache.spark.sql.catalyst.plans.logical.LogicalPlan.transformDownWithPruning(LogicalPlan.scala:30)\n\tat org.apache.spark.sql.catalyst.plans.logical.LogicalPlan.transformDownWithPruning(LogicalPlan.scala:30)\n\tat org.apache.spark.sql.catalyst.trees.TreeNode.transformDown(TreeNode.scala:457)\n\tat org.apache.spark.sql.execution.QueryExecution.eagerlyExecuteCommands(QueryExecution.scala:93)\n\tat org.apache.spark.sql.execution.QueryExecution.commandExecuted$lzycompute(QueryExecution.scala:80)\n\tat org.apache.spark.sql.execution.QueryExecution.commandExecuted(QueryExecution.scala:78)\n\tat org.apache.spark.sql.execution.QueryExecution.assertCommandExecuted(QueryExecution.scala:115)\n\tat org.apache.spark.sql.DataFrameWriter.runCommand(DataFrameWriter.scala:848)\n\tat org.apache.spark.sql.DataFrameWriter.saveToV1Source(DataFrameWriter.scala:382)\n\tat org.apache.spark.sql.DataFrameWriter.saveInternal(DataFrameWriter.scala:355)\n\tat org.apache.spark.sql.DataFrameWriter.save(DataFrameWriter.scala:247)\n\tat org.apache.spark.sql.DataFrameWriter.jdbc(DataFrameWriter.scala:745)\n\tat java.base/jdk.internal.reflect.NativeMethodAccessorImpl.invoke0(Native Method)\n\tat java.base/jdk.internal.reflect.NativeMethodAccessorImpl.invoke(NativeMethodAccessorImpl.java:62)\n\tat java.base/jdk.internal.reflect.DelegatingMethodAccessorImpl.invoke(DelegatingMethodAccessorImpl.java:43)\n\tat java.base/java.lang.reflect.Method.invoke(Method.java:566)\n\tat py4j.reflection.MethodInvoker.invoke(MethodInvoker.java:244)\n\tat py4j.reflection.ReflectionEngine.invoke(ReflectionEngine.java:357)\n\tat py4j.Gateway.invoke(Gateway.java:282)\n\tat py4j.commands.AbstractCommand.invokeMethod(AbstractCommand.java:132)\n\tat py4j.commands.CallCommand.execute(CallCommand.java:79)\n\tat py4j.ClientServerConnection.waitForCommands(ClientServerConnection.java:182)\n\tat py4j.ClientServerConnection.run(ClientServerConnection.java:106)\n\tat java.base/java.lang.Thread.run(Thread.java:829)\n"
     ]
    }
   ],
   "source": [
    "# DM DB에 저장 - 테이블에 레코드가 insert 문\n",
    "save_data(conf_dm, pop_patients,'CO_POPU_DENSITY')"
   ]
  },
  {
   "cell_type": "markdown",
   "id": "e6b9a490",
   "metadata": {},
   "source": [
    "### 2.  백신접종 완료자와 코로나 확진자 수 데이터 저장\n",
    "- 인구 10만명 당 접종 완료비율\n",
    "    - 3차 접종 완료자를 기준으로"
   ]
  },
  {
   "cell_type": "code",
   "execution_count": 17,
   "id": "3c1637d0",
   "metadata": {
    "scrolled": true
   },
   "outputs": [
    {
     "name": "stdout",
     "output_type": "stream",
     "text": [
      "+----+----------+----+---------+\n",
      "| LOC|   STD_DAY|V_TH|    V_CNT|\n",
      "+----+----------+----+---------+\n",
      "|제주|2022-12-27|  v2| 585437.0|\n",
      "|제주|2022-12-27|  v1|   591058|\n",
      "|제주|2022-12-27|  v3| 439106.0|\n",
      "|서울|2022-12-27|  v2|8257768.0|\n",
      "|서울|2022-12-27|  v1|  8335298|\n",
      "|서울|2022-12-27|  v3|6076429.0|\n",
      "|부산|2022-12-27|  v2|2851362.0|\n",
      "|부산|2022-12-27|  v1|  2879900|\n",
      "|부산|2022-12-27|  v3|2140773.0|\n",
      "|대구|2022-12-27|  v2|1995783.0|\n",
      "|대구|2022-12-27|  v1|  2018604|\n",
      "|대구|2022-12-27|  v3|1405163.0|\n",
      "|광주|2022-12-27|  v2|1250568.0|\n",
      "|광주|2022-12-27|  v1|  1261981|\n",
      "|광주|2022-12-27|  v3| 968947.0|\n",
      "|인천|2022-12-27|  v2|2550081.0|\n",
      "|인천|2022-12-27|  v1|  2574233|\n",
      "|인천|2022-12-27|  v3|1915266.0|\n",
      "|대전|2022-12-27|  v2|1233376.0|\n",
      "|대전|2022-12-27|  v1|  1245473|\n",
      "+----+----------+----+---------+\n",
      "only showing top 20 rows\n",
      "\n"
     ]
    }
   ],
   "source": [
    "# 백신 data 추출\n",
    "vaccine = find_data(conf_dw, 'CORONA_VACCINE')\n",
    "vaccine.show()"
   ]
  },
  {
   "cell_type": "code",
   "execution_count": 21,
   "id": "19862d93",
   "metadata": {},
   "outputs": [
    {
     "name": "stdout",
     "output_type": "stream",
     "text": [
      "root\n",
      " |-- LOC: string (nullable = true)\n",
      " |-- STD_DAY: string (nullable = true)\n",
      " |-- V_TH: string (nullable = true)\n",
      " |-- V_CNT: string (nullable = true)\n",
      "\n",
      "root\n",
      " |-- LOC: string (nullable = true)\n",
      " |-- STD_DAY: string (nullable = true)\n",
      " |-- V_TH: string (nullable = true)\n",
      " |-- V_CNT: integer (nullable = true)\n",
      "\n"
     ]
    }
   ],
   "source": [
    "# vaccine data로 가공 data 생성, 연산필드가 수치형이어야함 - V_CNT 열이 문자열이므로 형 변환\n",
    "vaccine.printSchema()\n",
    "vaccine =  vaccine\\\n",
    "            .withColumn('V_CNT', vaccine['V_CNT'].cast(IntegerType()))\n",
    "\n",
    "vaccine.printSchema()"
   ]
  },
  {
   "cell_type": "code",
   "execution_count": 22,
   "id": "828648d1",
   "metadata": {},
   "outputs": [
    {
     "name": "stderr",
     "output_type": "stream",
     "text": [
      "WARNING:root:'PYARROW_IGNORE_TIMEZONE' environment variable was not set. It is required to set this environment variable to '1' in both driver and executor sides if you use pyarrow>=2.0.0. pandas-on-Spark will set it for you but it does not work if there is a Spark context already launched.\n"
     ]
    }
   ],
   "source": [
    "### Long 형 df => wide 형 df\n",
    "\n",
    "### pivot 사용 : pandas df 로 변환\n",
    "pd_vaccine = vaccine.to_pandas_on_spark()"
   ]
  },
  {
   "cell_type": "code",
   "execution_count": 37,
   "id": "73af6a14",
   "metadata": {
    "scrolled": true
   },
   "outputs": [
    {
     "data": {
      "text/html": [
       "<div>\n",
       "<style scoped>\n",
       "    .dataframe tbody tr th:only-of-type {\n",
       "        vertical-align: middle;\n",
       "    }\n",
       "\n",
       "    .dataframe tbody tr th {\n",
       "        vertical-align: top;\n",
       "    }\n",
       "\n",
       "    .dataframe thead th {\n",
       "        text-align: right;\n",
       "    }\n",
       "</style>\n",
       "<table border=\"1\" class=\"dataframe\">\n",
       "  <thead>\n",
       "    <tr style=\"text-align: right;\">\n",
       "      <th></th>\n",
       "      <th>V_TH</th>\n",
       "      <th>v1</th>\n",
       "      <th>v2</th>\n",
       "      <th>v3</th>\n",
       "    </tr>\n",
       "    <tr>\n",
       "      <th>LOC</th>\n",
       "      <th>STD_DAY</th>\n",
       "      <th></th>\n",
       "      <th></th>\n",
       "      <th></th>\n",
       "    </tr>\n",
       "  </thead>\n",
       "  <tbody>\n",
       "    <tr>\n",
       "      <th>인천</th>\n",
       "      <th>2022-12-27</th>\n",
       "      <td>2574233.0</td>\n",
       "      <td>2550081.0</td>\n",
       "      <td>1915266.0</td>\n",
       "    </tr>\n",
       "    <tr>\n",
       "      <th>제주</th>\n",
       "      <th>2022-12-27</th>\n",
       "      <td>591058.0</td>\n",
       "      <td>585437.0</td>\n",
       "      <td>439106.0</td>\n",
       "    </tr>\n",
       "    <tr>\n",
       "      <th>부산</th>\n",
       "      <th>2022-12-27</th>\n",
       "      <td>2879900.0</td>\n",
       "      <td>2851362.0</td>\n",
       "      <td>2140773.0</td>\n",
       "    </tr>\n",
       "    <tr>\n",
       "      <th>대전</th>\n",
       "      <th>2022-12-27</th>\n",
       "      <td>1245473.0</td>\n",
       "      <td>1233376.0</td>\n",
       "      <td>909102.0</td>\n",
       "    </tr>\n",
       "    <tr>\n",
       "      <th>광주</th>\n",
       "      <th>2022-12-27</th>\n",
       "      <td>1261981.0</td>\n",
       "      <td>1250568.0</td>\n",
       "      <td>968947.0</td>\n",
       "    </tr>\n",
       "    <tr>\n",
       "      <th>울산</th>\n",
       "      <th>2022-12-27</th>\n",
       "      <td>968160.0</td>\n",
       "      <td>958920.0</td>\n",
       "      <td>720521.0</td>\n",
       "    </tr>\n",
       "    <tr>\n",
       "      <th>경기</th>\n",
       "      <th>2022-12-27</th>\n",
       "      <td>11837174.0</td>\n",
       "      <td>11723258.0</td>\n",
       "      <td>8707827.0</td>\n",
       "    </tr>\n",
       "    <tr>\n",
       "      <th>경북</th>\n",
       "      <th>2022-12-27</th>\n",
       "      <td>2293225.0</td>\n",
       "      <td>2269593.0</td>\n",
       "      <td>1727188.0</td>\n",
       "    </tr>\n",
       "    <tr>\n",
       "      <th>서울</th>\n",
       "      <th>2022-12-27</th>\n",
       "      <td>8335298.0</td>\n",
       "      <td>8257768.0</td>\n",
       "      <td>6076429.0</td>\n",
       "    </tr>\n",
       "    <tr>\n",
       "      <th>대구</th>\n",
       "      <th>2022-12-27</th>\n",
       "      <td>2018604.0</td>\n",
       "      <td>1995783.0</td>\n",
       "      <td>1405163.0</td>\n",
       "    </tr>\n",
       "    <tr>\n",
       "      <th>강원</th>\n",
       "      <th>2022-12-27</th>\n",
       "      <td>1352085.0</td>\n",
       "      <td>1340870.0</td>\n",
       "      <td>1065143.0</td>\n",
       "    </tr>\n",
       "    <tr>\n",
       "      <th>세종</th>\n",
       "      <th>2022-12-27</th>\n",
       "      <td>300568.0</td>\n",
       "      <td>296859.0</td>\n",
       "      <td>211095.0</td>\n",
       "    </tr>\n",
       "    <tr>\n",
       "      <th>충북</th>\n",
       "      <th>2022-12-27</th>\n",
       "      <td>1430877.0</td>\n",
       "      <td>1418444.0</td>\n",
       "      <td>1108508.0</td>\n",
       "    </tr>\n",
       "    <tr>\n",
       "      <th>충남</th>\n",
       "      <th>2022-12-27</th>\n",
       "      <td>1902008.0</td>\n",
       "      <td>1884584.0</td>\n",
       "      <td>1479736.0</td>\n",
       "    </tr>\n",
       "    <tr>\n",
       "      <th>경남</th>\n",
       "      <th>2022-12-27</th>\n",
       "      <td>2882823.0</td>\n",
       "      <td>2853755.0</td>\n",
       "      <td>2145652.0</td>\n",
       "    </tr>\n",
       "    <tr>\n",
       "      <th>전남</th>\n",
       "      <th>2022-12-27</th>\n",
       "      <td>1655633.0</td>\n",
       "      <td>1641348.0</td>\n",
       "      <td>1365245.0</td>\n",
       "    </tr>\n",
       "    <tr>\n",
       "      <th>전북</th>\n",
       "      <th>2022-12-27</th>\n",
       "      <td>1593950.0</td>\n",
       "      <td>1581091.0</td>\n",
       "      <td>1285767.0</td>\n",
       "    </tr>\n",
       "  </tbody>\n",
       "</table>\n",
       "</div>"
      ],
      "text/plain": [
       "V_TH                    v1          v2         v3\n",
       "LOC STD_DAY                                      \n",
       "인천  2022-12-27   2574233.0   2550081.0  1915266.0\n",
       "제주  2022-12-27    591058.0    585437.0   439106.0\n",
       "부산  2022-12-27   2879900.0   2851362.0  2140773.0\n",
       "대전  2022-12-27   1245473.0   1233376.0   909102.0\n",
       "광주  2022-12-27   1261981.0   1250568.0   968947.0\n",
       "울산  2022-12-27    968160.0    958920.0   720521.0\n",
       "경기  2022-12-27  11837174.0  11723258.0  8707827.0\n",
       "경북  2022-12-27   2293225.0   2269593.0  1727188.0\n",
       "서울  2022-12-27   8335298.0   8257768.0  6076429.0\n",
       "대구  2022-12-27   2018604.0   1995783.0  1405163.0\n",
       "강원  2022-12-27   1352085.0   1340870.0  1065143.0\n",
       "세종  2022-12-27    300568.0    296859.0   211095.0\n",
       "충북  2022-12-27   1430877.0   1418444.0  1108508.0\n",
       "충남  2022-12-27   1902008.0   1884584.0  1479736.0\n",
       "경남  2022-12-27   2882823.0   2853755.0  2145652.0\n",
       "전남  2022-12-27   1655633.0   1641348.0  1365245.0\n",
       "전북  2022-12-27   1593950.0   1581091.0  1285767.0"
      ]
     },
     "execution_count": 37,
     "metadata": {},
     "output_type": "execute_result"
    },
    {
     "ename": "KeyError",
     "evalue": "'Level unknown must be same as name (__none__)'",
     "output_type": "error",
     "traceback": [
      "\u001b[0;31m---------------------------------------------------------------------------\u001b[0m",
      "\u001b[0;31mValueError\u001b[0m                                Traceback (most recent call last)",
      "\u001b[0;32m~/spark/python/pyspark/pandas/frame.py\u001b[0m in \u001b[0;36mreset_index\u001b[0;34m(self, level, drop, inplace, col_level, col_fill)\u001b[0m\n\u001b[1;32m   3837\u001b[0m                     \u001b[0;32mtry\u001b[0m\u001b[0;34m:\u001b[0m\u001b[0;34m\u001b[0m\u001b[0;34m\u001b[0m\u001b[0m\n\u001b[0;32m-> 3838\u001b[0;31m                         \u001b[0mi\u001b[0m \u001b[0;34m=\u001b[0m \u001b[0mself\u001b[0m\u001b[0;34m.\u001b[0m\u001b[0m_internal\u001b[0m\u001b[0;34m.\u001b[0m\u001b[0mindex_names\u001b[0m\u001b[0;34m.\u001b[0m\u001b[0mindex\u001b[0m\u001b[0;34m(\u001b[0m\u001b[0ml\u001b[0m\u001b[0;34m)\u001b[0m\u001b[0;34m\u001b[0m\u001b[0;34m\u001b[0m\u001b[0m\n\u001b[0m\u001b[1;32m   3839\u001b[0m                         \u001b[0midx\u001b[0m\u001b[0;34m.\u001b[0m\u001b[0mappend\u001b[0m\u001b[0;34m(\u001b[0m\u001b[0mi\u001b[0m\u001b[0;34m)\u001b[0m\u001b[0;34m\u001b[0m\u001b[0;34m\u001b[0m\u001b[0m\n",
      "\u001b[0;31mValueError\u001b[0m: ('V_TH',) is not in list",
      "\nDuring handling of the above exception, another exception occurred:\n",
      "\u001b[0;31mKeyError\u001b[0m                                  Traceback (most recent call last)",
      "\u001b[0;32m<ipython-input-37-6b0e747df83f>\u001b[0m in \u001b[0;36m<module>\u001b[0;34m\u001b[0m\n\u001b[1;32m      1\u001b[0m \u001b[0mpd_vaccine\u001b[0m\u001b[0;34m.\u001b[0m\u001b[0mpivot_table\u001b[0m\u001b[0;34m(\u001b[0m\u001b[0mindex\u001b[0m \u001b[0;34m=\u001b[0m \u001b[0;34m[\u001b[0m\u001b[0;34m'LOC'\u001b[0m\u001b[0;34m,\u001b[0m \u001b[0;34m'STD_DAY'\u001b[0m\u001b[0;34m]\u001b[0m\u001b[0;34m,\u001b[0m \u001b[0mcolumns\u001b[0m \u001b[0;34m=\u001b[0m \u001b[0;34m'V_TH'\u001b[0m\u001b[0;34m,\u001b[0m \u001b[0mvalues\u001b[0m \u001b[0;34m=\u001b[0m \u001b[0;34m'V_CNT'\u001b[0m\u001b[0;34m)\u001b[0m\u001b[0;34m\u001b[0m\u001b[0;34m\u001b[0m\u001b[0m\n\u001b[0;32m----> 2\u001b[0;31m \u001b[0mpd_vaccine\u001b[0m \u001b[0;34m=\u001b[0m \u001b[0mpd_vaccine\u001b[0m\u001b[0;34m.\u001b[0m\u001b[0mreset_index\u001b[0m\u001b[0;34m(\u001b[0m\u001b[0;34m'V_TH'\u001b[0m\u001b[0;34m)\u001b[0m\u001b[0;34m\u001b[0m\u001b[0;34m\u001b[0m\u001b[0m\n\u001b[0m",
      "\u001b[0;32m~/spark/python/pyspark/pandas/frame.py\u001b[0m in \u001b[0;36mreset_index\u001b[0;34m(self, level, drop, inplace, col_level, col_fill)\u001b[0m\n\u001b[1;32m   3844\u001b[0m                             raise KeyError(\n\u001b[1;32m   3845\u001b[0m                                 \"Level unknown must be same as name ({})\".format(\n\u001b[0;32m-> 3846\u001b[0;31m                                     \u001b[0mname_like_string\u001b[0m\u001b[0;34m(\u001b[0m\u001b[0mself\u001b[0m\u001b[0;34m.\u001b[0m\u001b[0m_internal\u001b[0m\u001b[0;34m.\u001b[0m\u001b[0mindex_names\u001b[0m\u001b[0;34m[\u001b[0m\u001b[0;36m0\u001b[0m\u001b[0;34m]\u001b[0m\u001b[0;34m)\u001b[0m\u001b[0;34m\u001b[0m\u001b[0;34m\u001b[0m\u001b[0m\n\u001b[0m\u001b[1;32m   3847\u001b[0m                                 )\n\u001b[1;32m   3848\u001b[0m                             )\n",
      "\u001b[0;31mKeyError\u001b[0m: 'Level unknown must be same as name (__none__)'"
     ]
    }
   ],
   "source": [
    "pd_vaccine.pivot_table(index = ['LOC', 'STD_DAY'], columns = 'V_TH', values = 'V_CNT')\n",
    "pd_vaccine = pd_vaccine.reset_index()"
   ]
  },
  {
   "cell_type": "code",
   "execution_count": 38,
   "id": "7de0f8b6",
   "metadata": {},
   "outputs": [
    {
     "data": {
      "text/html": [
       "<div>\n",
       "<style scoped>\n",
       "    .dataframe tbody tr th:only-of-type {\n",
       "        vertical-align: middle;\n",
       "    }\n",
       "\n",
       "    .dataframe tbody tr th {\n",
       "        vertical-align: top;\n",
       "    }\n",
       "\n",
       "    .dataframe thead th {\n",
       "        text-align: right;\n",
       "    }\n",
       "</style>\n",
       "<table border=\"1\" class=\"dataframe\">\n",
       "  <thead>\n",
       "    <tr style=\"text-align: right;\">\n",
       "      <th></th>\n",
       "      <th>level_0</th>\n",
       "      <th>index</th>\n",
       "      <th>LOC</th>\n",
       "      <th>STD_DAY</th>\n",
       "      <th>V_TH</th>\n",
       "      <th>V_CNT</th>\n",
       "    </tr>\n",
       "  </thead>\n",
       "  <tbody>\n",
       "    <tr>\n",
       "      <th>0</th>\n",
       "      <td>0</td>\n",
       "      <td>0</td>\n",
       "      <td>제주</td>\n",
       "      <td>2022-12-27</td>\n",
       "      <td>v2</td>\n",
       "      <td>585437</td>\n",
       "    </tr>\n",
       "    <tr>\n",
       "      <th>1</th>\n",
       "      <td>1</td>\n",
       "      <td>1</td>\n",
       "      <td>제주</td>\n",
       "      <td>2022-12-27</td>\n",
       "      <td>v1</td>\n",
       "      <td>591058</td>\n",
       "    </tr>\n",
       "    <tr>\n",
       "      <th>2</th>\n",
       "      <td>2</td>\n",
       "      <td>2</td>\n",
       "      <td>제주</td>\n",
       "      <td>2022-12-27</td>\n",
       "      <td>v3</td>\n",
       "      <td>439106</td>\n",
       "    </tr>\n",
       "    <tr>\n",
       "      <th>3</th>\n",
       "      <td>3</td>\n",
       "      <td>3</td>\n",
       "      <td>서울</td>\n",
       "      <td>2022-12-27</td>\n",
       "      <td>v2</td>\n",
       "      <td>8257768</td>\n",
       "    </tr>\n",
       "    <tr>\n",
       "      <th>4</th>\n",
       "      <td>4</td>\n",
       "      <td>4</td>\n",
       "      <td>서울</td>\n",
       "      <td>2022-12-27</td>\n",
       "      <td>v1</td>\n",
       "      <td>8335298</td>\n",
       "    </tr>\n",
       "  </tbody>\n",
       "</table>\n",
       "</div>"
      ],
      "text/plain": [
       "   level_0  index LOC     STD_DAY V_TH    V_CNT\n",
       "0        0      0  제주  2022-12-27   v2   585437\n",
       "1        1      1  제주  2022-12-27   v1   591058\n",
       "2        2      2  제주  2022-12-27   v3   439106\n",
       "3        3      3  서울  2022-12-27   v2  8257768\n",
       "4        4      4  서울  2022-12-27   v1  8335298"
      ]
     },
     "execution_count": 38,
     "metadata": {},
     "output_type": "execute_result"
    }
   ],
   "source": [
    "pd_vaccine.head()"
   ]
  },
  {
   "cell_type": "code",
   "execution_count": 39,
   "id": "6762ab59",
   "metadata": {},
   "outputs": [
    {
     "name": "stdout",
     "output_type": "stream",
     "text": [
      "+-------+-----+----+----------+----+------+\n",
      "|level_0|index| LOC|   STD_DAY|V_TH| V_CNT|\n",
      "+-------+-----+----+----------+----+------+\n",
      "|      0|    0|제주|2022-12-27|  v2|585437|\n",
      "|      1|    1|제주|2022-12-27|  v1|591058|\n",
      "|      2|    2|제주|2022-12-27|  v3|439106|\n",
      "+-------+-----+----+----------+----+------+\n",
      "only showing top 3 rows\n",
      "\n"
     ]
    }
   ],
   "source": [
    "# spark df로 변환\n",
    "vaccine = pd_vaccine.to_spark()\n",
    "vaccine.show(3)"
   ]
  },
  {
   "cell_type": "code",
   "execution_count": 35,
   "id": "514f5e86",
   "metadata": {},
   "outputs": [],
   "source": [
    "# 지역별 인구 10만명당 백신 접종률 계산\n",
    "# 인구 data 필요\n",
    "popu = find_data(conf_dw, 'LOC')\n",
    "\n",
    "# 코로나 현황 data 필요하다\n",
    "patients = find_data(conf_dw, 'CORONA_PATIENTS')"
   ]
  },
  {
   "cell_type": "code",
   "execution_count": 36,
   "id": "ababbb10",
   "metadata": {
    "scrolled": true
   },
   "outputs": [
    {
     "ename": "AnalysisException",
     "evalue": "cannot resolve 'V3' given input columns: [AREA, LOC, POPULATION, STD_DAY, V_CNT, V_TH, index, level_0];\n'Project [LOC#790, STD_DAY#791, CEIL((('V3 / POPULATION#926) * 100000)) AS Third_RATE#950]\n+- Project [LOC#790, level_0#788L, index#789L, STD_DAY#791, V_TH#792, V_CNT#793, AREA#925, POPULATION#926]\n   +- Join Inner, (LOC#790 = LOC#924)\n      :- Project [level_0#788L, index#789L, LOC#790, STD_DAY#791, V_TH#792, V_CNT#793]\n      :  +- Project [__index_level_0__#801L, level_0#788L, index#789L, LOC#790, STD_DAY#791, V_TH#792, V_CNT#793, monotonically_increasing_id() AS __natural_order__#811L]\n      :     +- Project [__index_level_0__#801L, level_0#788L, index#789L, LOC#790, STD_DAY#791, V_TH#792, V_CNT#793]\n      :        +- Project [level_0#788L, index#789L, LOC#790, STD_DAY#791, V_TH#792, V_CNT#793, _w0#802L, _we0#803, (cast(_we0#803 as bigint) - cast(1 as bigint)) AS __index_level_0__#801L]\n      :           +- Window [row_number() windowspecdefinition(_w0#802L ASC NULLS FIRST, specifiedwindowframe(RowFrame, unboundedpreceding$(), currentrow$())) AS _we0#803], [_w0#802L ASC NULLS FIRST]\n      :              +- Project [level_0#788L, index#789L, LOC#790, STD_DAY#791, V_TH#792, V_CNT#793, monotonically_increasing_id() AS _w0#802L]\n      :                 +- Project [__index_level_0__#566L AS level_0#788L, index#555L AS index#789L, LOC#556 AS LOC#790, STD_DAY#557 AS STD_DAY#791, V_TH#558 AS V_TH#792, V_CNT#559 AS V_CNT#793]\n      :                    +- Project [__index_level_0__#566L, index#555L, LOC#556, STD_DAY#557, V_TH#558, V_CNT#559, monotonically_increasing_id() AS __natural_order__#575L]\n      :                       +- Project [__index_level_0__#566L, index#555L, LOC#556, STD_DAY#557, V_TH#558, V_CNT#559]\n      :                          +- Project [index#555L, LOC#556, STD_DAY#557, V_TH#558, V_CNT#559, _w0#567L, _we0#568, (cast(_we0#568 as bigint) - cast(1 as bigint)) AS __index_level_0__#566L]\n      :                             +- Window [row_number() windowspecdefinition(_w0#567L ASC NULLS FIRST, specifiedwindowframe(RowFrame, unboundedpreceding$(), currentrow$())) AS _we0#568], [_w0#567L ASC NULLS FIRST]\n      :                                +- Project [index#555L, LOC#556, STD_DAY#557, V_TH#558, V_CNT#559, monotonically_increasing_id() AS _w0#567L]\n      :                                   +- Project [__index_level_0__#151L AS index#555L, LOC#120 AS LOC#556, STD_DAY#121 AS STD_DAY#557, V_TH#122 AS V_TH#558, V_CNT#145 AS V_CNT#559]\n      :                                      +- Project [__index_level_0__#151L, LOC#120, STD_DAY#121, V_TH#122, V_CNT#145, monotonically_increasing_id() AS __natural_order__#159L]\n      :                                         +- Project [__index_level_0__#151L, LOC#120, STD_DAY#121, V_TH#122, V_CNT#145]\n      :                                            +- Project [LOC#120, STD_DAY#121, V_TH#122, V_CNT#145, _w0#152L, _we0#153, (cast(_we0#153 as bigint) - cast(1 as bigint)) AS __index_level_0__#151L]\n      :                                               +- Window [row_number() windowspecdefinition(_w0#152L ASC NULLS FIRST, specifiedwindowframe(RowFrame, unboundedpreceding$(), currentrow$())) AS _we0#153], [_w0#152L ASC NULLS FIRST]\n      :                                                  +- Project [LOC#120, STD_DAY#121, V_TH#122, V_CNT#145, monotonically_increasing_id() AS _w0#152L]\n      :                                                     +- Project [LOC#120, STD_DAY#121, V_TH#122, cast(V_CNT#123 as int) AS V_CNT#145]\n      :                                                        +- Relation [LOC#120,STD_DAY#121,V_TH#122,V_CNT#123] JDBCRelation(CORONA_VACCINE) [numPartitions=1]\n      +- Relation [LOC#924,AREA#925,POPULATION#926] JDBCRelation(LOC) [numPartitions=1]\n",
     "output_type": "error",
     "traceback": [
      "\u001b[0;31m---------------------------------------------------------------------------\u001b[0m",
      "\u001b[0;31mAnalysisException\u001b[0m                         Traceback (most recent call last)",
      "\u001b[0;32m<ipython-input-36-96c5f079a1d4>\u001b[0m in \u001b[0;36m<module>\u001b[0;34m\u001b[0m\n\u001b[1;32m      3\u001b[0m                     .select('LOC',\n\u001b[1;32m      4\u001b[0m                            \u001b[0;34m'STD_DAY'\u001b[0m\u001b[0;34m,\u001b[0m\u001b[0;34m\u001b[0m\u001b[0;34m\u001b[0m\u001b[0m\n\u001b[0;32m----> 5\u001b[0;31m                            ceil(col('V3')/col('POPULATION') * 100000).alias('Third_RATE'))\n\u001b[0m",
      "\u001b[0;32m~/spark/python/pyspark/sql/dataframe.py\u001b[0m in \u001b[0;36mselect\u001b[0;34m(self, *cols)\u001b[0m\n\u001b[1;32m   1683\u001b[0m         \u001b[0;34m[\u001b[0m\u001b[0mRow\u001b[0m\u001b[0;34m(\u001b[0m\u001b[0mname\u001b[0m\u001b[0;34m=\u001b[0m\u001b[0;34m'Alice'\u001b[0m\u001b[0;34m,\u001b[0m \u001b[0mage\u001b[0m\u001b[0;34m=\u001b[0m\u001b[0;36m12\u001b[0m\u001b[0;34m)\u001b[0m\u001b[0;34m,\u001b[0m \u001b[0mRow\u001b[0m\u001b[0;34m(\u001b[0m\u001b[0mname\u001b[0m\u001b[0;34m=\u001b[0m\u001b[0;34m'Bob'\u001b[0m\u001b[0;34m,\u001b[0m \u001b[0mage\u001b[0m\u001b[0;34m=\u001b[0m\u001b[0;36m15\u001b[0m\u001b[0;34m)\u001b[0m\u001b[0;34m]\u001b[0m\u001b[0;34m\u001b[0m\u001b[0;34m\u001b[0m\u001b[0m\n\u001b[1;32m   1684\u001b[0m         \"\"\"\n\u001b[0;32m-> 1685\u001b[0;31m         \u001b[0mjdf\u001b[0m \u001b[0;34m=\u001b[0m \u001b[0mself\u001b[0m\u001b[0;34m.\u001b[0m\u001b[0m_jdf\u001b[0m\u001b[0;34m.\u001b[0m\u001b[0mselect\u001b[0m\u001b[0;34m(\u001b[0m\u001b[0mself\u001b[0m\u001b[0;34m.\u001b[0m\u001b[0m_jcols\u001b[0m\u001b[0;34m(\u001b[0m\u001b[0;34m*\u001b[0m\u001b[0mcols\u001b[0m\u001b[0;34m)\u001b[0m\u001b[0;34m)\u001b[0m\u001b[0;34m\u001b[0m\u001b[0;34m\u001b[0m\u001b[0m\n\u001b[0m\u001b[1;32m   1686\u001b[0m         \u001b[0;32mreturn\u001b[0m \u001b[0mDataFrame\u001b[0m\u001b[0;34m(\u001b[0m\u001b[0mjdf\u001b[0m\u001b[0;34m,\u001b[0m \u001b[0mself\u001b[0m\u001b[0;34m.\u001b[0m\u001b[0msql_ctx\u001b[0m\u001b[0;34m)\u001b[0m\u001b[0;34m\u001b[0m\u001b[0;34m\u001b[0m\u001b[0m\n\u001b[1;32m   1687\u001b[0m \u001b[0;34m\u001b[0m\u001b[0m\n",
      "\u001b[0;32m~/spark/python/lib/py4j-0.10.9.5-src.zip/py4j/java_gateway.py\u001b[0m in \u001b[0;36m__call__\u001b[0;34m(self, *args)\u001b[0m\n\u001b[1;32m   1320\u001b[0m         \u001b[0manswer\u001b[0m \u001b[0;34m=\u001b[0m \u001b[0mself\u001b[0m\u001b[0;34m.\u001b[0m\u001b[0mgateway_client\u001b[0m\u001b[0;34m.\u001b[0m\u001b[0msend_command\u001b[0m\u001b[0;34m(\u001b[0m\u001b[0mcommand\u001b[0m\u001b[0;34m)\u001b[0m\u001b[0;34m\u001b[0m\u001b[0;34m\u001b[0m\u001b[0m\n\u001b[1;32m   1321\u001b[0m         return_value = get_return_value(\n\u001b[0;32m-> 1322\u001b[0;31m             answer, self.gateway_client, self.target_id, self.name)\n\u001b[0m\u001b[1;32m   1323\u001b[0m \u001b[0;34m\u001b[0m\u001b[0m\n\u001b[1;32m   1324\u001b[0m         \u001b[0;32mfor\u001b[0m \u001b[0mtemp_arg\u001b[0m \u001b[0;32min\u001b[0m \u001b[0mtemp_args\u001b[0m\u001b[0;34m:\u001b[0m\u001b[0;34m\u001b[0m\u001b[0;34m\u001b[0m\u001b[0m\n",
      "\u001b[0;32m~/spark/python/pyspark/sql/utils.py\u001b[0m in \u001b[0;36mdeco\u001b[0;34m(*a, **kw)\u001b[0m\n\u001b[1;32m    115\u001b[0m                 \u001b[0;31m# Hide where the exception came from that shows a non-Pythonic\u001b[0m\u001b[0;34m\u001b[0m\u001b[0;34m\u001b[0m\u001b[0;34m\u001b[0m\u001b[0m\n\u001b[1;32m    116\u001b[0m                 \u001b[0;31m# JVM exception message.\u001b[0m\u001b[0;34m\u001b[0m\u001b[0;34m\u001b[0m\u001b[0;34m\u001b[0m\u001b[0m\n\u001b[0;32m--> 117\u001b[0;31m                 \u001b[0;32mraise\u001b[0m \u001b[0mconverted\u001b[0m \u001b[0;32mfrom\u001b[0m \u001b[0;32mNone\u001b[0m\u001b[0;34m\u001b[0m\u001b[0;34m\u001b[0m\u001b[0m\n\u001b[0m\u001b[1;32m    118\u001b[0m             \u001b[0;32melse\u001b[0m\u001b[0;34m:\u001b[0m\u001b[0;34m\u001b[0m\u001b[0;34m\u001b[0m\u001b[0m\n\u001b[1;32m    119\u001b[0m                 \u001b[0;32mraise\u001b[0m\u001b[0;34m\u001b[0m\u001b[0;34m\u001b[0m\u001b[0m\n",
      "\u001b[0;31mAnalysisException\u001b[0m: cannot resolve 'V3' given input columns: [AREA, LOC, POPULATION, STD_DAY, V_CNT, V_TH, index, level_0];\n'Project [LOC#790, STD_DAY#791, CEIL((('V3 / POPULATION#926) * 100000)) AS Third_RATE#950]\n+- Project [LOC#790, level_0#788L, index#789L, STD_DAY#791, V_TH#792, V_CNT#793, AREA#925, POPULATION#926]\n   +- Join Inner, (LOC#790 = LOC#924)\n      :- Project [level_0#788L, index#789L, LOC#790, STD_DAY#791, V_TH#792, V_CNT#793]\n      :  +- Project [__index_level_0__#801L, level_0#788L, index#789L, LOC#790, STD_DAY#791, V_TH#792, V_CNT#793, monotonically_increasing_id() AS __natural_order__#811L]\n      :     +- Project [__index_level_0__#801L, level_0#788L, index#789L, LOC#790, STD_DAY#791, V_TH#792, V_CNT#793]\n      :        +- Project [level_0#788L, index#789L, LOC#790, STD_DAY#791, V_TH#792, V_CNT#793, _w0#802L, _we0#803, (cast(_we0#803 as bigint) - cast(1 as bigint)) AS __index_level_0__#801L]\n      :           +- Window [row_number() windowspecdefinition(_w0#802L ASC NULLS FIRST, specifiedwindowframe(RowFrame, unboundedpreceding$(), currentrow$())) AS _we0#803], [_w0#802L ASC NULLS FIRST]\n      :              +- Project [level_0#788L, index#789L, LOC#790, STD_DAY#791, V_TH#792, V_CNT#793, monotonically_increasing_id() AS _w0#802L]\n      :                 +- Project [__index_level_0__#566L AS level_0#788L, index#555L AS index#789L, LOC#556 AS LOC#790, STD_DAY#557 AS STD_DAY#791, V_TH#558 AS V_TH#792, V_CNT#559 AS V_CNT#793]\n      :                    +- Project [__index_level_0__#566L, index#555L, LOC#556, STD_DAY#557, V_TH#558, V_CNT#559, monotonically_increasing_id() AS __natural_order__#575L]\n      :                       +- Project [__index_level_0__#566L, index#555L, LOC#556, STD_DAY#557, V_TH#558, V_CNT#559]\n      :                          +- Project [index#555L, LOC#556, STD_DAY#557, V_TH#558, V_CNT#559, _w0#567L, _we0#568, (cast(_we0#568 as bigint) - cast(1 as bigint)) AS __index_level_0__#566L]\n      :                             +- Window [row_number() windowspecdefinition(_w0#567L ASC NULLS FIRST, specifiedwindowframe(RowFrame, unboundedpreceding$(), currentrow$())) AS _we0#568], [_w0#567L ASC NULLS FIRST]\n      :                                +- Project [index#555L, LOC#556, STD_DAY#557, V_TH#558, V_CNT#559, monotonically_increasing_id() AS _w0#567L]\n      :                                   +- Project [__index_level_0__#151L AS index#555L, LOC#120 AS LOC#556, STD_DAY#121 AS STD_DAY#557, V_TH#122 AS V_TH#558, V_CNT#145 AS V_CNT#559]\n      :                                      +- Project [__index_level_0__#151L, LOC#120, STD_DAY#121, V_TH#122, V_CNT#145, monotonically_increasing_id() AS __natural_order__#159L]\n      :                                         +- Project [__index_level_0__#151L, LOC#120, STD_DAY#121, V_TH#122, V_CNT#145]\n      :                                            +- Project [LOC#120, STD_DAY#121, V_TH#122, V_CNT#145, _w0#152L, _we0#153, (cast(_we0#153 as bigint) - cast(1 as bigint)) AS __index_level_0__#151L]\n      :                                               +- Window [row_number() windowspecdefinition(_w0#152L ASC NULLS FIRST, specifiedwindowframe(RowFrame, unboundedpreceding$(), currentrow$())) AS _we0#153], [_w0#152L ASC NULLS FIRST]\n      :                                                  +- Project [LOC#120, STD_DAY#121, V_TH#122, V_CNT#145, monotonically_increasing_id() AS _w0#152L]\n      :                                                     +- Project [LOC#120, STD_DAY#121, V_TH#122, cast(V_CNT#123 as int) AS V_CNT#145]\n      :                                                        +- Relation [LOC#120,STD_DAY#121,V_TH#122,V_CNT#123] JDBCRelation(CORONA_VACCINE) [numPartitions=1]\n      +- Relation [LOC#924,AREA#925,POPULATION#926] JDBCRelation(LOC) [numPartitions=1]\n"
     ]
    }
   ],
   "source": [
    "# 인구 10만명당 백신 접종률 계산 - 3차 접종자를 기준으로\n",
    "vac_rate = vaccine.join(popu, on = 'LOC')\\\n",
    "                    .select('LOC',\n",
    "                           'STD_DAY',\n",
    "                           ceil(col('V3')/col('POPULATION') * 100000).alias('Third_RATE'))"
   ]
  },
  {
   "cell_type": "code",
   "execution_count": null,
   "id": "550bb18b",
   "metadata": {},
   "outputs": [],
   "source": [
    "vac_rate.show(1)"
   ]
  },
  {
   "cell_type": "code",
   "execution_count": null,
   "id": "bebf3080",
   "metadata": {},
   "outputs": [],
   "source": [
    "# 백신 접종 데이터와 코로나 현황 데이터 결합 후 필요한 컬럼만 추출\n",
    "co_vaccine =  vac_rate.join(patients, on = ['LOC', 'STD_DAY'])\\\n",
    "                        .select('LOC', 'STD_DAY', 'Third_RATE', 'QUR_RATE')"
   ]
  },
  {
   "cell_type": "code",
   "execution_count": null,
   "id": "4a1699e1",
   "metadata": {},
   "outputs": [],
   "source": [
    "# 기준키로 사용할 컬럼 생성\n",
    "co_vaccine = co_vaccine.withColumn('CV_IDX', monotonically_increasing_id())"
   ]
  },
  {
   "cell_type": "code",
   "execution_count": null,
   "id": "a85d27dd",
   "metadata": {},
   "outputs": [],
   "source": [
    "co_vaccine.show(5)"
   ]
  },
  {
   "cell_type": "code",
   "execution_count": null,
   "id": "83dc3466",
   "metadata": {},
   "outputs": [],
   "source": [
    "save_data(conf_dm, co_vaccine, 'CO_VACCINE_THIRD')"
   ]
  },
  {
   "cell_type": "markdown",
   "id": "3209c1f4",
   "metadata": {},
   "source": [
    "### 3. 다중이용시설과 코로나 확진자 수의 상관관계\n",
    "- 다중 이용시설 data : dw db에 LOC_PFACILITY_CNT 테이블에 저장\n",
    "    - 인구 10만명당 다중 이용 시설의 수\n",
    "- 코로나 현황 data"
   ]
  },
  {
   "cell_type": "code",
   "execution_count": 40,
   "id": "fe77abcb",
   "metadata": {},
   "outputs": [],
   "source": [
    "facil = find_data(conf_dw, 'LOC_FACILITY_CNT') \n",
    "patients = find_data(conf_dw, 'CORONA_PATIENTS') \n",
    "popu = find_data(conf_dw, 'LOC')"
   ]
  },
  {
   "cell_type": "code",
   "execution_count": 41,
   "id": "9fb3288a",
   "metadata": {},
   "outputs": [
    {
     "name": "stdout",
     "output_type": "stream",
     "text": [
      "+----+-------+\n",
      "| LOC|FAC_CNT|\n",
      "+----+-------+\n",
      "|경북|    944|\n",
      "|대전|    767|\n",
      "|전북|    759|\n",
      "|충북|    617|\n",
      "|울산|    431|\n",
      "+----+-------+\n",
      "only showing top 5 rows\n",
      "\n"
     ]
    }
   ],
   "source": [
    "facil.show(5)"
   ]
  },
  {
   "cell_type": "code",
   "execution_count": 47,
   "id": "c9e8692a",
   "metadata": {},
   "outputs": [
    {
     "name": "stdout",
     "output_type": "stream",
     "text": [
      "+----+--------+\n",
      "| LOC|FAC_POPU|\n",
      "+----+--------+\n",
      "|강원|      38|\n",
      "|경기|      46|\n",
      "|경남|      41|\n",
      "|경북|      36|\n",
      "|광주|      51|\n",
      "+----+--------+\n",
      "only showing top 5 rows\n",
      "\n"
     ]
    }
   ],
   "source": [
    "fac_popu = popu.join(facil, on = 'LOC')\\\n",
    "            .select('LOC', ceil(facil.FAC_CNT/popu.POPULATION*100000).alias('FAC_POPU'))\n",
    "fac_popu.show(5)"
   ]
  },
  {
   "cell_type": "code",
   "execution_count": 48,
   "id": "075f230c",
   "metadata": {},
   "outputs": [],
   "source": [
    "co_facil = patients.join(fac_popu, on = 'LOC')\\\n",
    "                    .select('LOC', 'FAC_POPU', 'QUR_RATE', 'STD_DAY')\n",
    "# idx 컬럼추가\n",
    "co_facil =  co_facil.withColumn('CF_IDX', monotonically_increasing_id())"
   ]
  },
  {
   "cell_type": "code",
   "execution_count": 50,
   "id": "4fe434db",
   "metadata": {
    "scrolled": true
   },
   "outputs": [
    {
     "name": "stdout",
     "output_type": "stream",
     "text": [
      "+----+--------+--------+----------+------+\n",
      "| LOC|FAC_POPU|QUR_RATE|   STD_DAY|CF_IDX|\n",
      "+----+--------+--------+----------+------+\n",
      "|경북|      36|   46329|2022-11-21|     0|\n",
      "|경북|      36|   47480|2022-12-02|     1|\n",
      "|경북|      36|   49862|2022-12-25|     2|\n",
      "|경북|      36|   49165|2022-12-19|     3|\n",
      "|경북|      36|   48426|2022-12-12|     4|\n",
      "|경북|      36|   48904|2022-12-16|     5|\n",
      "|경북|      36|   47578|2022-12-03|     6|\n",
      "|경북|      36|   50017|2022-12-27|     7|\n",
      "|경북|      36|   49010|2022-12-17|     8|\n",
      "|경북|      36|   50287|2022-12-29|     9|\n",
      "|경북|      36|   48377|2022-12-11|    10|\n",
      "|경북|      36|   50511|2022-12-31|    11|\n",
      "|경북|      36|   49544|2022-12-22|    12|\n",
      "|경북|      36|   47712|2022-12-05|    13|\n",
      "|경북|      36|   49913|2022-12-26|    14|\n",
      "|경북|      36|   47668|2022-12-04|    15|\n",
      "|경북|      36|   47955|2022-12-07|    16|\n",
      "|경북|      36|   48274|2022-12-10|    17|\n",
      "|경북|      36|   49113|2022-12-18|    18|\n",
      "|경북|      36|   47381|2022-12-01|    19|\n",
      "+----+--------+--------+----------+------+\n",
      "only showing top 20 rows\n",
      "\n"
     ]
    }
   ],
   "source": [
    "co_facil.show()"
   ]
  },
  {
   "cell_type": "code",
   "execution_count": null,
   "id": "6f3a0661",
   "metadata": {},
   "outputs": [],
   "source": [
    "save_data(conf_dm, co_facil, 'CO_FACILITY')"
   ]
  },
  {
   "cell_type": "code",
   "execution_count": null,
   "id": "9b006c13",
   "metadata": {},
   "outputs": [],
   "source": []
  },
  {
   "cell_type": "markdown",
   "id": "a0849960",
   "metadata": {},
   "source": [
    "### 4. 요일별 코로나 확진자 수를 구해보자\n",
    "- 코로나 현황 data\n",
    "    - 기준일을 요일로 변환: 요일별 글부으로 생성 신규확진자 수 합산"
   ]
  },
  {
   "cell_type": "code",
   "execution_count": 82,
   "id": "f4f41e18-1071-4073-a7a4-956b084e54c1",
   "metadata": {},
   "outputs": [],
   "source": [
    "patients = find_data(conf_dw, 'CORONA_PATIENTS')"
   ]
  },
  {
   "cell_type": "code",
   "execution_count": 83,
   "id": "ab16f2b8",
   "metadata": {},
   "outputs": [
    {
     "name": "stdout",
     "output_type": "stream",
     "text": [
      "+----+---------+-------+-----------+--------+----------+-----------+\n",
      "| LOC|DEATH_CNT|DEF_CNT|LOC_OCC_CNT|QUR_RATE|   STD_DAY|DAY_OF_WEEK|\n",
      "+----+---------+-------+-----------+--------+----------+-----------+\n",
      "|대전|      840| 796356|       1667|   54836|2022-12-03|          7|\n",
      "|강원|     1187| 834387|       1857|   54234|2022-12-16|          6|\n",
      "|경기|     7745|7508144|       8015|   55348|2022-12-12|          2|\n",
      "|대전|      885| 848620|       1745|   58435|2022-12-31|          7|\n",
      "|전남|      791| 903908|        982|   49318|2022-12-12|          2|\n",
      "|광주|      743| 797569|        817|   55325|2022-12-05|          2|\n",
      "|충남|     1383|1100702|       1918|   51938|2022-12-04|          1|\n",
      "|광주|      759| 823273|       2104|   57108|2022-12-17|          7|\n",
      "|인천|     1693|1630099|       4053|   55288|2022-12-17|          7|\n",
      "|강원|     1210| 849583|       1261|   55222|2022-12-25|          1|\n",
      "|인천|     1737|1669280|       5699|   56617|2022-12-27|          3|\n",
      "|경기|     7906|7757826|      16439|   57188|2022-12-25|          1|\n",
      "|대전|      882| 845070|       1990|   58190|2022-12-29|          5|\n",
      "|서울|     5902|5416646|       9602|   56961|2022-12-11|          1|\n",
      "|충북|      932| 872028|       1937|   54590|2022-12-11|          1|\n",
      "|울산|      481| 596529|       1403|   53186|2022-12-17|          7|\n",
      "|경남|     1676|1671628|       4302|   50439|2022-12-17|          7|\n",
      "|강원|     1220| 856549|       1870|   55675|2022-12-29|          5|\n",
      "|세종|       50| 230222|        464|   61905|2022-12-31|          7|\n",
      "|충남|     1424|1139406|       1105|   53764|2022-12-19|          2|\n",
      "+----+---------+-------+-----------+--------+----------+-----------+\n",
      "only showing top 20 rows\n",
      "\n"
     ]
    }
   ],
   "source": [
    "# 기준일을 요일로 변환 : dayofweek()\n",
    "week_p = patients.withColumn('DAY_OF_WEEK', dayofweek(col('STD_DAY')))\n",
    "week_p.show()"
   ]
  },
  {
   "cell_type": "code",
   "execution_count": 84,
   "id": "b809bbfe",
   "metadata": {
    "scrolled": true
   },
   "outputs": [],
   "source": [
    "week_p = week_p.groupby(week_p.DAY_OF_WEEK).agg(sum(col('LOC_OCC_CNT')).alias('patients'))"
   ]
  },
  {
   "cell_type": "code",
   "execution_count": 85,
   "id": "0df48e7d",
   "metadata": {},
   "outputs": [
    {
     "name": "stdout",
     "output_type": "stream",
     "text": [
      "+-----------+--------+\n",
      "|DAY_OF_WEEK|patients|\n",
      "+-----------+--------+\n",
      "|        MON|217923.0|\n",
      "|        SAT|315699.0|\n",
      "|        WED|339332.0|\n",
      "|        FRI|339383.0|\n",
      "|        THR|334716.0|\n",
      "|        SUN|311539.0|\n",
      "|        TUE|123733.0|\n",
      "+-----------+--------+\n",
      "\n"
     ]
    }
   ],
   "source": [
    "week_p = week_p.withColumn('DAY_OF_WEEK', when(week_p.DAY_OF_WEEK == 1, 'MON')\n",
    "                                        .when(week_p.DAY_OF_WEEK == 2, 'TUE')\n",
    "                                        .when(week_p.DAY_OF_WEEK == 3, 'WED')\n",
    "                                        .when(week_p.DAY_OF_WEEK == 4, 'THR')\n",
    "                                        .when(week_p.DAY_OF_WEEK == 5, 'FRI')\n",
    "                                        .when(week_p.DAY_OF_WEEK == 6, 'SAT')\n",
    "                                        .when(week_p.DAY_OF_WEEK == 7, 'SUN')\n",
    "                          )\n",
    "week_p.show()"
   ]
  },
  {
   "cell_type": "code",
   "execution_count": 86,
   "id": "99e17b79",
   "metadata": {
    "scrolled": true
   },
   "outputs": [
    {
     "data": {
      "text/html": [
       "<div>\n",
       "<style scoped>\n",
       "    .dataframe tbody tr th:only-of-type {\n",
       "        vertical-align: middle;\n",
       "    }\n",
       "\n",
       "    .dataframe tbody tr th {\n",
       "        vertical-align: top;\n",
       "    }\n",
       "\n",
       "    .dataframe thead th {\n",
       "        text-align: right;\n",
       "    }\n",
       "</style>\n",
       "<table border=\"1\" class=\"dataframe\">\n",
       "  <thead>\n",
       "    <tr style=\"text-align: right;\">\n",
       "      <th>DAY_OF_WEEK</th>\n",
       "      <th>FRI</th>\n",
       "      <th>MON</th>\n",
       "      <th>SAT</th>\n",
       "      <th>SUN</th>\n",
       "      <th>THR</th>\n",
       "      <th>TUE</th>\n",
       "      <th>WED</th>\n",
       "    </tr>\n",
       "  </thead>\n",
       "  <tbody>\n",
       "    <tr>\n",
       "      <th>patients</th>\n",
       "      <td>339383.0</td>\n",
       "      <td>217923.0</td>\n",
       "      <td>315699.0</td>\n",
       "      <td>311539.0</td>\n",
       "      <td>334716.0</td>\n",
       "      <td>123733.0</td>\n",
       "      <td>339332.0</td>\n",
       "    </tr>\n",
       "  </tbody>\n",
       "</table>\n",
       "</div>"
      ],
      "text/plain": [
       "DAY_OF_WEEK       FRI       MON       SAT       SUN       THR       TUE       WED\n",
       "patients     339383.0  217923.0  315699.0  311539.0  334716.0  123733.0  339332.0"
      ]
     },
     "execution_count": 86,
     "metadata": {},
     "output_type": "execute_result"
    }
   ],
   "source": [
    "pd_p = week_p.to_pandas_on_spark()\n",
    "pd_p = pd_p.pivot_table(columns = 'DAY_OF_WEEK', values = 'patients')\n",
    "pd_p"
   ]
  },
  {
   "cell_type": "code",
   "execution_count": 88,
   "id": "82bb79c7",
   "metadata": {},
   "outputs": [],
   "source": [
    "pd_p = pd_p.reset_index()"
   ]
  },
  {
   "cell_type": "code",
   "execution_count": 93,
   "id": "8a39586b",
   "metadata": {},
   "outputs": [],
   "source": [
    "week_p = pd_p.to_spark()\n",
    "# week_p.withColumn('STD_DAY', current_date().cast('string')).show()\n",
    "week_p = week_p.withColumn('STD_DAY', lit('2022-12-31'))"
   ]
  },
  {
   "cell_type": "code",
   "execution_count": null,
   "id": "4d448916",
   "metadata": {},
   "outputs": [],
   "source": [
    "save_data(conf_dm, week_p, 'CO_WEEKDAY')"
   ]
  },
  {
   "cell_type": "code",
   "execution_count": null,
   "id": "28d1e37c",
   "metadata": {},
   "outputs": [],
   "source": []
  },
  {
   "cell_type": "code",
   "execution_count": null,
   "id": "5c20b243",
   "metadata": {},
   "outputs": [],
   "source": []
  },
  {
   "cell_type": "code",
   "execution_count": null,
   "id": "992bbe8a",
   "metadata": {},
   "outputs": [],
   "source": []
  }
 ],
 "metadata": {
  "kernelspec": {
   "display_name": "Python 3 (ipykernel)",
   "language": "python",
   "name": "python3"
  },
  "language_info": {
   "codemirror_mode": {
    "name": "ipython",
    "version": 3
   },
   "file_extension": ".py",
   "mimetype": "text/x-python",
   "name": "python",
   "nbconvert_exporter": "python",
   "pygments_lexer": "ipython3",
   "version": "3.7.10"
  },
  "vscode": {
   "interpreter": {
    "hash": "377b85fccf01b1fe6a959144825e6c17ac3718c2615da119d71a1f46ada91329"
   }
  }
 },
 "nbformat": 4,
 "nbformat_minor": 5
}
