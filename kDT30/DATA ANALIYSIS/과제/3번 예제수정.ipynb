{
 "cells": [
  {
   "cell_type": "markdown",
   "id": "bdf5ca42-cb14-4636-96d2-77cb8f0bba5c",
   "metadata": {},
   "source": [
    "### 강남구의 읍면동별 중국집 분포도(전체인허가/정상영업/폐업 각각에 대해 시각화)\n",
    "    - 치킨집 -> 중국집\n",
    "    - 서대문구 -> 강남구 "
   ]
  },
  {
   "cell_type": "code",
   "execution_count": 62,
   "id": "70d379a2-2db4-4cf9-8919-0a3df0a7caa6",
   "metadata": {},
   "outputs": [],
   "source": [
    "import pandas as pd\n",
    "import numpy as np\n",
    "import squarify\n",
    "import matplotlib.pyplot as plt\n",
    "import numpy as np"
   ]
  },
  {
   "cell_type": "code",
   "execution_count": 3,
   "id": "0a91e89a-121c-4818-8233-4da25250ba98",
   "metadata": {},
   "outputs": [],
   "source": [
    "from IPython.core.interactiveshell import InteractiveShell\n",
    "InteractiveShell.ast_node_interactivity=\"all\""
   ]
  },
  {
   "cell_type": "code",
   "execution_count": 4,
   "id": "a494da5c-9397-45fd-8456-f7ac15ed35bc",
   "metadata": {},
   "outputs": [],
   "source": [
    "# 한글 문제\n",
    "# matplotlit의 기본 폰트에서 한글 지원되지 않기 때문에\n",
    "# matplotlib의 폰트 변경 필요\n",
    "import platform\n",
    "\n",
    "from matplotlib import font_manager, rc\n",
    "plt.rcParams['axes.unicode_minus'] = False\n",
    "\n",
    "if platform.system() == 'Darwin':  # 맥OS \n",
    "    rc('font', family='AppleGothic')\n",
    "elif platform.system() == 'Windows':  # 윈도우\n",
    "    path = \"c:/Windows/Fonts/malgun.ttf\"\n",
    "    font_name = font_manager.FontProperties(fname=path).get_name()\n",
    "    rc('font', family=font_name)\n",
    "else:\n",
    "    print('Unknown system...  sorry~~~')"
   ]
  },
  {
   "cell_type": "code",
   "execution_count": 5,
   "id": "2751d208-819f-40c2-9eb0-a629e6cfb737",
   "metadata": {},
   "outputs": [],
   "source": [
    "data = pd.read_csv('../data/서울특별시_일반음식점.csv', \n",
    "                  encoding = 'cp949',\n",
    "                  low_memory = False)"
   ]
  },
  {
   "cell_type": "code",
   "execution_count": 21,
   "id": "65077aea-89b2-418a-aaf0-e3235b7d51a2",
   "metadata": {},
   "outputs": [
    {
     "data": {
      "text/plain": [
       "{'중국식'}"
      ]
     },
     "execution_count": 21,
     "metadata": {},
     "output_type": "execute_result"
    }
   ],
   "source": [
    "set(data.위생업태명[data.위생업태명.str.contains('중국식', na = False)])"
   ]
  },
  {
   "cell_type": "code",
   "execution_count": 18,
   "id": "ce813eca-6139-4ab2-aba6-83be2dc396dd",
   "metadata": {},
   "outputs": [
    {
     "data": {
      "text/plain": [
       "{'영업/정상'}"
      ]
     },
     "execution_count": 18,
     "metadata": {},
     "output_type": "execute_result"
    }
   ],
   "source": [
    "set(data.영업상태명[data.영업상태명.str.contains('영업/정상', na = False)])"
   ]
  },
  {
   "cell_type": "code",
   "execution_count": 20,
   "id": "11099b71-fc62-4219-a34d-cc16841c4a79",
   "metadata": {},
   "outputs": [
    {
     "data": {
      "text/plain": [
       "{'폐업'}"
      ]
     },
     "execution_count": 20,
     "metadata": {},
     "output_type": "execute_result"
    }
   ],
   "source": [
    "set(data.영업상태명[data.영업상태명.str.contains('폐업', na = False)])"
   ]
  },
  {
   "cell_type": "code",
   "execution_count": 22,
   "id": "1bbe3371-7ae8-4df6-8c7d-2e83f3d3163a",
   "metadata": {},
   "outputs": [
    {
     "data": {
      "text/html": [
       "<div>\n",
       "<style scoped>\n",
       "    .dataframe tbody tr th:only-of-type {\n",
       "        vertical-align: middle;\n",
       "    }\n",
       "\n",
       "    .dataframe tbody tr th {\n",
       "        vertical-align: top;\n",
       "    }\n",
       "\n",
       "    .dataframe thead th {\n",
       "        text-align: right;\n",
       "    }\n",
       "</style>\n",
       "<table border=\"1\" class=\"dataframe\">\n",
       "  <thead>\n",
       "    <tr style=\"text-align: right;\">\n",
       "      <th></th>\n",
       "      <th>번호</th>\n",
       "      <th>개방서비스명</th>\n",
       "      <th>개방서비스아이디</th>\n",
       "      <th>개방자치단체코드</th>\n",
       "      <th>관리번호</th>\n",
       "      <th>인허가일자</th>\n",
       "      <th>인허가취소일자</th>\n",
       "      <th>영업상태구분코드</th>\n",
       "      <th>영업상태명</th>\n",
       "      <th>상세영업상태코드</th>\n",
       "      <th>...</th>\n",
       "      <th>공장생산직종업원수</th>\n",
       "      <th>건물소유구분명</th>\n",
       "      <th>보증액</th>\n",
       "      <th>월세액</th>\n",
       "      <th>다중이용업소여부</th>\n",
       "      <th>시설총규모</th>\n",
       "      <th>전통업소지정번호</th>\n",
       "      <th>전통업소주된음식</th>\n",
       "      <th>홈페이지</th>\n",
       "      <th>Unnamed: 47</th>\n",
       "    </tr>\n",
       "  </thead>\n",
       "  <tbody>\n",
       "    <tr>\n",
       "      <th>18</th>\n",
       "      <td>19</td>\n",
       "      <td>일반음식점</td>\n",
       "      <td>07_24_04_P</td>\n",
       "      <td>3070000</td>\n",
       "      <td>3070000-101-1985-02675</td>\n",
       "      <td>19850422</td>\n",
       "      <td>NaN</td>\n",
       "      <td>1</td>\n",
       "      <td>영업/정상</td>\n",
       "      <td>1</td>\n",
       "      <td>...</td>\n",
       "      <td>NaN</td>\n",
       "      <td>NaN</td>\n",
       "      <td>NaN</td>\n",
       "      <td>NaN</td>\n",
       "      <td>Y</td>\n",
       "      <td>202.34</td>\n",
       "      <td>NaN</td>\n",
       "      <td>NaN</td>\n",
       "      <td>NaN</td>\n",
       "      <td>NaN</td>\n",
       "    </tr>\n",
       "    <tr>\n",
       "      <th>24</th>\n",
       "      <td>25</td>\n",
       "      <td>일반음식점</td>\n",
       "      <td>07_24_04_P</td>\n",
       "      <td>3010000</td>\n",
       "      <td>3010000-101-1976-07071</td>\n",
       "      <td>19760116</td>\n",
       "      <td>NaN</td>\n",
       "      <td>1</td>\n",
       "      <td>영업/정상</td>\n",
       "      <td>1</td>\n",
       "      <td>...</td>\n",
       "      <td>NaN</td>\n",
       "      <td>NaN</td>\n",
       "      <td>NaN</td>\n",
       "      <td>NaN</td>\n",
       "      <td>N</td>\n",
       "      <td>87.34</td>\n",
       "      <td>NaN</td>\n",
       "      <td>NaN</td>\n",
       "      <td>NaN</td>\n",
       "      <td>NaN</td>\n",
       "    </tr>\n",
       "    <tr>\n",
       "      <th>31</th>\n",
       "      <td>32</td>\n",
       "      <td>일반음식점</td>\n",
       "      <td>07_24_04_P</td>\n",
       "      <td>3070000</td>\n",
       "      <td>3070000-101-1979-02653</td>\n",
       "      <td>19791107</td>\n",
       "      <td>NaN</td>\n",
       "      <td>1</td>\n",
       "      <td>영업/정상</td>\n",
       "      <td>1</td>\n",
       "      <td>...</td>\n",
       "      <td>NaN</td>\n",
       "      <td>NaN</td>\n",
       "      <td>NaN</td>\n",
       "      <td>NaN</td>\n",
       "      <td>N</td>\n",
       "      <td>33.00</td>\n",
       "      <td>NaN</td>\n",
       "      <td>NaN</td>\n",
       "      <td>NaN</td>\n",
       "      <td>NaN</td>\n",
       "    </tr>\n",
       "    <tr>\n",
       "      <th>34</th>\n",
       "      <td>35</td>\n",
       "      <td>일반음식점</td>\n",
       "      <td>07_24_04_P</td>\n",
       "      <td>3180000</td>\n",
       "      <td>3180000-101-1995-04082</td>\n",
       "      <td>19950213</td>\n",
       "      <td>NaN</td>\n",
       "      <td>1</td>\n",
       "      <td>영업/정상</td>\n",
       "      <td>1</td>\n",
       "      <td>...</td>\n",
       "      <td>0.0</td>\n",
       "      <td>NaN</td>\n",
       "      <td>0.0</td>\n",
       "      <td>0</td>\n",
       "      <td>N</td>\n",
       "      <td>46.24</td>\n",
       "      <td>NaN</td>\n",
       "      <td>NaN</td>\n",
       "      <td>NaN</td>\n",
       "      <td>NaN</td>\n",
       "    </tr>\n",
       "    <tr>\n",
       "      <th>133</th>\n",
       "      <td>134</td>\n",
       "      <td>일반음식점</td>\n",
       "      <td>07_24_04_P</td>\n",
       "      <td>3020000</td>\n",
       "      <td>3020000-101-1991-06929</td>\n",
       "      <td>19911115</td>\n",
       "      <td>NaN</td>\n",
       "      <td>1</td>\n",
       "      <td>영업/정상</td>\n",
       "      <td>1</td>\n",
       "      <td>...</td>\n",
       "      <td>NaN</td>\n",
       "      <td>NaN</td>\n",
       "      <td>NaN</td>\n",
       "      <td>NaN</td>\n",
       "      <td>N</td>\n",
       "      <td>40.18</td>\n",
       "      <td>NaN</td>\n",
       "      <td>NaN</td>\n",
       "      <td>NaN</td>\n",
       "      <td>NaN</td>\n",
       "    </tr>\n",
       "  </tbody>\n",
       "</table>\n",
       "<p>5 rows × 48 columns</p>\n",
       "</div>"
      ],
      "text/plain": [
       "      번호 개방서비스명    개방서비스아이디  개방자치단체코드                    관리번호     인허가일자  \\\n",
       "18    19  일반음식점  07_24_04_P   3070000  3070000-101-1985-02675  19850422   \n",
       "24    25  일반음식점  07_24_04_P   3010000  3010000-101-1976-07071  19760116   \n",
       "31    32  일반음식점  07_24_04_P   3070000  3070000-101-1979-02653  19791107   \n",
       "34    35  일반음식점  07_24_04_P   3180000  3180000-101-1995-04082  19950213   \n",
       "133  134  일반음식점  07_24_04_P   3020000  3020000-101-1991-06929  19911115   \n",
       "\n",
       "     인허가취소일자  영업상태구분코드  영업상태명  상세영업상태코드  ... 공장생산직종업원수  건물소유구분명  보증액  월세액  \\\n",
       "18       NaN         1  영업/정상         1  ...       NaN      NaN  NaN  NaN   \n",
       "24       NaN         1  영업/정상         1  ...       NaN      NaN  NaN  NaN   \n",
       "31       NaN         1  영업/정상         1  ...       NaN      NaN  NaN  NaN   \n",
       "34       NaN         1  영업/정상         1  ...       0.0      NaN  0.0    0   \n",
       "133      NaN         1  영업/정상         1  ...       NaN      NaN  NaN  NaN   \n",
       "\n",
       "     다중이용업소여부   시설총규모 전통업소지정번호  전통업소주된음식 홈페이지 Unnamed: 47  \n",
       "18          Y  202.34      NaN       NaN  NaN         NaN  \n",
       "24          N   87.34      NaN       NaN  NaN         NaN  \n",
       "31          N   33.00      NaN       NaN  NaN         NaN  \n",
       "34          N   46.24      NaN       NaN  NaN         NaN  \n",
       "133         N   40.18      NaN       NaN  NaN         NaN  \n",
       "\n",
       "[5 rows x 48 columns]"
      ]
     },
     "execution_count": 22,
     "metadata": {},
     "output_type": "execute_result"
    }
   ],
   "source": [
    "data.head()"
   ]
  },
  {
   "cell_type": "code",
   "execution_count": 25,
   "id": "b909ed84-ae46-49b2-acfa-95cc9772263f",
   "metadata": {},
   "outputs": [],
   "source": [
    "data = data[(data.위생업태명.isin(['중국식']))]"
   ]
  },
  {
   "cell_type": "code",
   "execution_count": 78,
   "id": "03b6b27b-b1df-4e2d-a9f4-6dfb8006e595",
   "metadata": {},
   "outputs": [],
   "source": [
    "data_fin = data[['소재지전체주소','위생업태명']]"
   ]
  },
  {
   "cell_type": "code",
   "execution_count": 79,
   "id": "a1f17bea-de7b-4335-abd5-6cf7faf02b6c",
   "metadata": {},
   "outputs": [
    {
     "data": {
      "text/plain": [
       "{'중국식'}"
      ]
     },
     "execution_count": 79,
     "metadata": {},
     "output_type": "execute_result"
    }
   ],
   "source": [
    "set(data_fin.위생업태명) "
   ]
  },
  {
   "cell_type": "code",
   "execution_count": 82,
   "id": "46bb4cab-7c68-4650-a898-c7710db0ccb4",
   "metadata": {},
   "outputs": [
    {
     "data": {
      "text/html": [
       "<div>\n",
       "<style scoped>\n",
       "    .dataframe tbody tr th:only-of-type {\n",
       "        vertical-align: middle;\n",
       "    }\n",
       "\n",
       "    .dataframe tbody tr th {\n",
       "        vertical-align: top;\n",
       "    }\n",
       "\n",
       "    .dataframe thead th {\n",
       "        text-align: right;\n",
       "    }\n",
       "</style>\n",
       "<table border=\"1\" class=\"dataframe\">\n",
       "  <thead>\n",
       "    <tr style=\"text-align: right;\">\n",
       "      <th></th>\n",
       "      <th>소재지전체주소</th>\n",
       "      <th>위생업태명</th>\n",
       "    </tr>\n",
       "  </thead>\n",
       "  <tbody>\n",
       "    <tr>\n",
       "      <th>18</th>\n",
       "      <td>서울특별시 성북구 안암동5가 134-35</td>\n",
       "      <td>중국식</td>\n",
       "    </tr>\n",
       "    <tr>\n",
       "      <th>24</th>\n",
       "      <td>서울특별시 중구 신당동 372-36번지 1층</td>\n",
       "      <td>중국식</td>\n",
       "    </tr>\n",
       "    <tr>\n",
       "      <th>31</th>\n",
       "      <td>서울특별시 성북구 장위동 66-108번지 1층</td>\n",
       "      <td>중국식</td>\n",
       "    </tr>\n",
       "  </tbody>\n",
       "</table>\n",
       "</div>"
      ],
      "text/plain": [
       "                      소재지전체주소 위생업태명\n",
       "18     서울특별시 성북구 안암동5가 134-35   중국식\n",
       "24   서울특별시 중구 신당동 372-36번지 1층   중국식\n",
       "31  서울특별시 성북구 장위동 66-108번지 1층   중국식"
      ]
     },
     "execution_count": 82,
     "metadata": {},
     "output_type": "execute_result"
    }
   ],
   "source": [
    "data_fin.head(3)"
   ]
  },
  {
   "cell_type": "code",
   "execution_count": 91,
   "id": "6ff2bc83-b83f-4187-9827-c387e44276d6",
   "metadata": {},
   "outputs": [
    {
     "data": {
      "text/html": [
       "<div>\n",
       "<style scoped>\n",
       "    .dataframe tbody tr th:only-of-type {\n",
       "        vertical-align: middle;\n",
       "    }\n",
       "\n",
       "    .dataframe tbody tr th {\n",
       "        vertical-align: top;\n",
       "    }\n",
       "\n",
       "    .dataframe thead th {\n",
       "        text-align: right;\n",
       "    }\n",
       "</style>\n",
       "<table border=\"1\" class=\"dataframe\">\n",
       "  <thead>\n",
       "    <tr style=\"text-align: right;\">\n",
       "      <th></th>\n",
       "      <th>소재지전체주소</th>\n",
       "      <th>위생업태명</th>\n",
       "    </tr>\n",
       "  </thead>\n",
       "  <tbody>\n",
       "    <tr>\n",
       "      <th>1036</th>\n",
       "      <td>서울특별시 강남구 대치동 897-8</td>\n",
       "      <td>중국식</td>\n",
       "    </tr>\n",
       "    <tr>\n",
       "      <th>1490</th>\n",
       "      <td>서울특별시 강남구 신사동 541-13번지</td>\n",
       "      <td>중국식</td>\n",
       "    </tr>\n",
       "    <tr>\n",
       "      <th>1999</th>\n",
       "      <td>서울특별시 강남구 논현동 58-2번지 마일스디오빌</td>\n",
       "      <td>중국식</td>\n",
       "    </tr>\n",
       "    <tr>\n",
       "      <th>2000</th>\n",
       "      <td>서울특별시 강남구 삼성동 159-8번지 파르나스타워</td>\n",
       "      <td>중국식</td>\n",
       "    </tr>\n",
       "    <tr>\n",
       "      <th>8612</th>\n",
       "      <td>서울특별시 강남구 대치동 894</td>\n",
       "      <td>중국식</td>\n",
       "    </tr>\n",
       "  </tbody>\n",
       "</table>\n",
       "</div>"
      ],
      "text/plain": [
       "                           소재지전체주소 위생업태명\n",
       "1036           서울특별시 강남구 대치동 897-8   중국식\n",
       "1490        서울특별시 강남구 신사동 541-13번지   중국식\n",
       "1999   서울특별시 강남구 논현동 58-2번지 마일스디오빌   중국식\n",
       "2000  서울특별시 강남구 삼성동 159-8번지 파르나스타워   중국식\n",
       "8612             서울특별시 강남구 대치동 894   중국식"
      ]
     },
     "execution_count": 91,
     "metadata": {},
     "output_type": "execute_result"
    }
   ],
   "source": [
    "res = data_fin.소재지전체주소.str.contains('강남구', na = False)\n",
    "data_gang = data_fin[res]\n",
    "data_gang.head()"
   ]
  },
  {
   "cell_type": "code",
   "execution_count": 96,
   "id": "1fc92b34-61b8-4c24-8a63-f4fbf32ecb50",
   "metadata": {},
   "outputs": [
    {
     "data": {
      "text/plain": [
       "1036      대치동 8\n",
       "1490      신사동 5\n",
       "1999      논현동 5\n",
       "2000      삼성동 1\n",
       "8612      대치동 8\n",
       "          ...  \n",
       "471988    도곡동 4\n",
       "472087    도곡동 4\n",
       "472563    역삼동 7\n",
       "472835    역삼동 8\n",
       "472848    논현동 1\n",
       "Name: 소재지전체주소, Length: 1177, dtype: object"
      ]
     },
     "execution_count": 96,
     "metadata": {},
     "output_type": "execute_result"
    }
   ],
   "source": [
    "addr = data_gang.소재지전체주소.str.slice(start = 10, stop = 15)\n",
    "addr"
   ]
  },
  {
   "cell_type": "code",
   "execution_count": 97,
   "id": "1731d6c1-3771-4ee1-aa19-3a443f6dc591",
   "metadata": {},
   "outputs": [],
   "source": [
    "i = 0\n",
    "addr_fin = pd.Series() # 빈 시리즈 생성\n",
    "for string in addr:\n",
    "    newstring = re.sub(r'[0-9]+','', string).replace(' ', '').replace('-', '')\n",
    "    addr_fin[i] = newstring\n",
    "    i += 1"
   ]
  },
  {
   "cell_type": "code",
   "execution_count": 98,
   "id": "fb035cbe-9112-4ee0-856b-c9ed985ff803",
   "metadata": {},
   "outputs": [
    {
     "data": {
      "text/plain": [
       "0       대치동\n",
       "1       신사동\n",
       "2       논현동\n",
       "3       삼성동\n",
       "4       대치동\n",
       "       ... \n",
       "1172    도곡동\n",
       "1173    도곡동\n",
       "1174    역삼동\n",
       "1175    역삼동\n",
       "1176    논현동\n",
       "Length: 1177, dtype: object"
      ]
     },
     "execution_count": 98,
     "metadata": {},
     "output_type": "execute_result"
    }
   ],
   "source": [
    "addr_fin"
   ]
  },
  {
   "cell_type": "code",
   "execution_count": 99,
   "id": "8b7022be-6088-44cd-9af9-c00ab2acfe9a",
   "metadata": {},
   "outputs": [
    {
     "data": {
      "text/plain": [
       "역삼동     280\n",
       "논현동     167\n",
       "대치동     159\n",
       "삼성동     153\n",
       "신사동     147\n",
       "청담동      69\n",
       "개포동      68\n",
       "도곡동      51\n",
       "압구정동     28\n",
       "일원동      28\n",
       "수서동      18\n",
       "세곡동       5\n",
       "자곡동       2\n",
       "율현동       1\n",
       "청담동산      1\n",
       "Name: count, dtype: int64"
      ]
     },
     "execution_count": 99,
     "metadata": {},
     "output_type": "execute_result"
    }
   ],
   "source": [
    "addr_fin.value_counts()"
   ]
  },
  {
   "cell_type": "code",
   "execution_count": 100,
   "id": "0d74d1b3-2141-403a-82a4-e984b0718897",
   "metadata": {},
   "outputs": [],
   "source": [
    "addr_fin =  addr_fin.str.replace('청담동산', '청담동')"
   ]
  },
  {
   "cell_type": "code",
   "execution_count": 101,
   "id": "3f908a73-b076-4beb-ae20-b04258f0e840",
   "metadata": {},
   "outputs": [
    {
     "data": {
      "text/plain": [
       "0       대치동\n",
       "1       신사동\n",
       "2       논현동\n",
       "3       삼성동\n",
       "4       대치동\n",
       "       ... \n",
       "1172    도곡동\n",
       "1173    도곡동\n",
       "1174    역삼동\n",
       "1175    역삼동\n",
       "1176    논현동\n",
       "Length: 1177, dtype: object"
      ]
     },
     "execution_count": 101,
     "metadata": {},
     "output_type": "execute_result"
    }
   ],
   "source": [
    "addr_fin"
   ]
  },
  {
   "cell_type": "code",
   "execution_count": 102,
   "id": "193f9053-e360-457d-8263-9010ce542cb1",
   "metadata": {},
   "outputs": [],
   "source": [
    "gang_cnt = addr_fin.value_counts()"
   ]
  },
  {
   "cell_type": "code",
   "execution_count": 103,
   "id": "8cf7ba8d-2dd5-406d-9220-e5ea2e5320d3",
   "metadata": {},
   "outputs": [
    {
     "data": {
      "text/plain": [
       "<Axes: >"
      ]
     },
     "execution_count": 103,
     "metadata": {},
     "output_type": "execute_result"
    },
    {
     "data": {
      "image/png": "[encoded data removed]",
      "text/plain": [
       "<Figure size 640x480 with 1 Axes>"
      ]
     },
     "metadata": {},
     "output_type": "display_data"
    }
   ],
   "source": [
    "squarify.plot(gang_cnt, label = gang_cnt.index)"
   ]
  },
  {
   "cell_type": "markdown",
   "id": "57b0564c-6601-4d4a-a4b2-97a6c95fe3c7",
   "metadata": {},
   "source": [
    "### 정상영업 중국 음식점 분포도"
   ]
  },
  {
   "cell_type": "code",
   "execution_count": 34,
   "id": "11aff7c9-d81a-44c0-9485-eb4dd6d88cc9",
   "metadata": {},
   "outputs": [],
   "source": [
    "data_open = data[(data.영업상태명 == '영업/정상') & (data.위생업태명.isin(['중국식']))]\n",
    "data_open = data_open[['소재지전체주소','위생업태명', '영업상태명']]"
   ]
  },
  {
   "cell_type": "code",
   "execution_count": 36,
   "id": "7894f878-3e27-467e-ae95-03d910ea4829",
   "metadata": {},
   "outputs": [
    {
     "data": {
      "text/html": [
       "<div>\n",
       "<style scoped>\n",
       "    .dataframe tbody tr th:only-of-type {\n",
       "        vertical-align: middle;\n",
       "    }\n",
       "\n",
       "    .dataframe tbody tr th {\n",
       "        vertical-align: top;\n",
       "    }\n",
       "\n",
       "    .dataframe thead th {\n",
       "        text-align: right;\n",
       "    }\n",
       "</style>\n",
       "<table border=\"1\" class=\"dataframe\">\n",
       "  <thead>\n",
       "    <tr style=\"text-align: right;\">\n",
       "      <th></th>\n",
       "      <th>소재지전체주소</th>\n",
       "      <th>위생업태명</th>\n",
       "      <th>영업상태명</th>\n",
       "    </tr>\n",
       "  </thead>\n",
       "  <tbody>\n",
       "    <tr>\n",
       "      <th>1036</th>\n",
       "      <td>서울특별시 강남구 대치동 897-8</td>\n",
       "      <td>중국식</td>\n",
       "      <td>영업/정상</td>\n",
       "    </tr>\n",
       "    <tr>\n",
       "      <th>1490</th>\n",
       "      <td>서울특별시 강남구 신사동 541-13번지</td>\n",
       "      <td>중국식</td>\n",
       "      <td>영업/정상</td>\n",
       "    </tr>\n",
       "    <tr>\n",
       "      <th>1999</th>\n",
       "      <td>서울특별시 강남구 논현동 58-2번지 마일스디오빌</td>\n",
       "      <td>중국식</td>\n",
       "      <td>영업/정상</td>\n",
       "    </tr>\n",
       "    <tr>\n",
       "      <th>2000</th>\n",
       "      <td>서울특별시 강남구 삼성동 159-8번지 파르나스타워</td>\n",
       "      <td>중국식</td>\n",
       "      <td>영업/정상</td>\n",
       "    </tr>\n",
       "    <tr>\n",
       "      <th>8612</th>\n",
       "      <td>서울특별시 강남구 대치동 894</td>\n",
       "      <td>중국식</td>\n",
       "      <td>영업/정상</td>\n",
       "    </tr>\n",
       "    <tr>\n",
       "      <th>...</th>\n",
       "      <td>...</td>\n",
       "      <td>...</td>\n",
       "      <td>...</td>\n",
       "    </tr>\n",
       "    <tr>\n",
       "      <th>121562</th>\n",
       "      <td>서울특별시 강남구 대치동 893 롯데캐슬아파트</td>\n",
       "      <td>중국식</td>\n",
       "      <td>영업/정상</td>\n",
       "    </tr>\n",
       "    <tr>\n",
       "      <th>121633</th>\n",
       "      <td>서울특별시 강남구 역삼동 704-53</td>\n",
       "      <td>중국식</td>\n",
       "      <td>영업/정상</td>\n",
       "    </tr>\n",
       "    <tr>\n",
       "      <th>121705</th>\n",
       "      <td>서울특별시 강남구 역삼동 673-26번지</td>\n",
       "      <td>중국식</td>\n",
       "      <td>영업/정상</td>\n",
       "    </tr>\n",
       "    <tr>\n",
       "      <th>121783</th>\n",
       "      <td>서울특별시 강남구 대치동 983-1 해암빌딩</td>\n",
       "      <td>중국식</td>\n",
       "      <td>영업/정상</td>\n",
       "    </tr>\n",
       "    <tr>\n",
       "      <th>123167</th>\n",
       "      <td>서울특별시 강남구 역삼동 825-24</td>\n",
       "      <td>중국식</td>\n",
       "      <td>영업/정상</td>\n",
       "    </tr>\n",
       "  </tbody>\n",
       "</table>\n",
       "<p>380 rows × 3 columns</p>\n",
       "</div>"
      ],
      "text/plain": [
       "                             소재지전체주소 위생업태명  영업상태명\n",
       "1036             서울특별시 강남구 대치동 897-8   중국식  영업/정상\n",
       "1490          서울특별시 강남구 신사동 541-13번지   중국식  영업/정상\n",
       "1999     서울특별시 강남구 논현동 58-2번지 마일스디오빌   중국식  영업/정상\n",
       "2000    서울특별시 강남구 삼성동 159-8번지 파르나스타워   중국식  영업/정상\n",
       "8612               서울특별시 강남구 대치동 894   중국식  영업/정상\n",
       "...                              ...   ...    ...\n",
       "121562     서울특별시 강남구 대치동 893 롯데캐슬아파트   중국식  영업/정상\n",
       "121633          서울특별시 강남구 역삼동 704-53   중국식  영업/정상\n",
       "121705        서울특별시 강남구 역삼동 673-26번지   중국식  영업/정상\n",
       "121783      서울특별시 강남구 대치동 983-1 해암빌딩   중국식  영업/정상\n",
       "123167          서울특별시 강남구 역삼동 825-24   중국식  영업/정상\n",
       "\n",
       "[380 rows x 3 columns]"
      ]
     },
     "execution_count": 36,
     "metadata": {},
     "output_type": "execute_result"
    }
   ],
   "source": [
    "res = data_open.소재지전체주소.str.contains('강남구', na = False)\n",
    "data_gang_open = data_open[res]\n",
    "data_gang_open"
   ]
  },
  {
   "cell_type": "code",
   "execution_count": 58,
   "id": "5150855a-92c7-41ff-8be7-c9d1f5b9043e",
   "metadata": {},
   "outputs": [
    {
     "data": {
      "text/plain": [
       "1036      대치동 897\n",
       "1490      신사동 541\n",
       "1999      논현동 58-\n",
       "2000      삼성동 159\n",
       "8612      대치동 894\n",
       "           ...   \n",
       "121562    대치동 893\n",
       "121633    역삼동 704\n",
       "121705    역삼동 673\n",
       "121783    대치동 983\n",
       "123167    역삼동 825\n",
       "Name: 소재지전체주소, Length: 380, dtype: object"
      ]
     },
     "execution_count": 58,
     "metadata": {},
     "output_type": "execute_result"
    }
   ],
   "source": [
    "addr = data_gang_open.소재지전체주소.str.slice(start = 10, stop = 17)\n",
    "addr"
   ]
  },
  {
   "cell_type": "code",
   "execution_count": 59,
   "id": "15bb738a-d9aa-4e4b-8991-d2f4e61ad102",
   "metadata": {},
   "outputs": [],
   "source": [
    "import re # 정규식 패키지\n",
    "# addr 변수에는 강남구 중국집 주소에서 동이름만 추출한 data가 저장\n",
    "# 숫자와 공백이 포함되어 있는 data가 있기 떄문에 숫자와 공백을 제거\n",
    "# 시리즈에 저장한다.\n",
    "i = 0\n",
    "addr_fin = pd.Series() # 빈 시리즈 생성\n",
    "for string in addr:\n",
    "    newstring = re.sub(r'[0-9]+','', string).replace(' ', '').replace('-', '')\n",
    "    addr_fin[i] = newstring\n",
    "    i += 1"
   ]
  },
  {
   "cell_type": "code",
   "execution_count": 60,
   "id": "b964a3f2-e296-49b1-80c8-c83fd725c7eb",
   "metadata": {},
   "outputs": [
    {
     "data": {
      "text/plain": [
       "0      대치동\n",
       "1      신사동\n",
       "2      논현동\n",
       "3      삼성동\n",
       "4      대치동\n",
       "      ... \n",
       "375    대치동\n",
       "376    역삼동\n",
       "377    역삼동\n",
       "378    대치동\n",
       "379    역삼동\n",
       "Length: 380, dtype: object"
      ]
     },
     "execution_count": 60,
     "metadata": {},
     "output_type": "execute_result"
    }
   ],
   "source": [
    "addr_fin"
   ]
  },
  {
   "cell_type": "code",
   "execution_count": 61,
   "id": "c6d7f0da-a18a-4593-b910-43fef58362f8",
   "metadata": {},
   "outputs": [
    {
     "data": {
      "text/plain": [
       "역삼동     104\n",
       "대치동      60\n",
       "논현동      54\n",
       "신사동      48\n",
       "삼성동      45\n",
       "도곡동      16\n",
       "청담동      16\n",
       "개포동      10\n",
       "일원동       8\n",
       "수서동       7\n",
       "압구정동      6\n",
       "자곡동       2\n",
       "개포동번      1\n",
       "율현동       1\n",
       "청담동삼      1\n",
       "세곡동       1\n",
       "Name: count, dtype: int64"
      ]
     },
     "execution_count": 61,
     "metadata": {},
     "output_type": "execute_result"
    }
   ],
   "source": [
    "open_fin = addr_fin.value_counts()\n",
    "open_fin"
   ]
  },
  {
   "cell_type": "code",
   "execution_count": 63,
   "id": "04ad3737-22ab-44ff-9f87-e458e5c50598",
   "metadata": {},
   "outputs": [
    {
     "data": {
      "text/plain": [
       "<Axes: >"
      ]
     },
     "execution_count": 63,
     "metadata": {},
     "output_type": "execute_result"
    },
    {
     "data": {
      "image/png": "[encoded data removed]",
      "text/plain": [
       "<Figure size 640x480 with 1 Axes>"
      ]
     },
     "metadata": {},
     "output_type": "display_data"
    }
   ],
   "source": [
    "squarify.plot(open_fin, label = open_fin.index)"
   ]
  },
  {
   "cell_type": "markdown",
   "id": "7652e595-d7f4-4f96-a095-89d872d9846f",
   "metadata": {},
   "source": [
    "### 강남구 중국음식점 폐업"
   ]
  },
  {
   "cell_type": "code",
   "execution_count": 64,
   "id": "aab47df8-9c9e-433c-824c-4281aac850b0",
   "metadata": {},
   "outputs": [],
   "source": [
    "data_close = data[(data.영업상태명 == '폐업') & (data.위생업태명.isin(['중국식']))]\n",
    "data_close  = data_close [['소재지전체주소','위생업태명', '영업상태명']]"
   ]
  },
  {
   "cell_type": "code",
   "execution_count": 104,
   "id": "9e91df6d-a81e-467d-a15e-10c97e02c935",
   "metadata": {},
   "outputs": [
    {
     "data": {
      "text/html": [
       "<div>\n",
       "<style scoped>\n",
       "    .dataframe tbody tr th:only-of-type {\n",
       "        vertical-align: middle;\n",
       "    }\n",
       "\n",
       "    .dataframe tbody tr th {\n",
       "        vertical-align: top;\n",
       "    }\n",
       "\n",
       "    .dataframe thead th {\n",
       "        text-align: right;\n",
       "    }\n",
       "</style>\n",
       "<table border=\"1\" class=\"dataframe\">\n",
       "  <thead>\n",
       "    <tr style=\"text-align: right;\">\n",
       "      <th></th>\n",
       "      <th>소재지전체주소</th>\n",
       "      <th>위생업태명</th>\n",
       "      <th>영업상태명</th>\n",
       "    </tr>\n",
       "  </thead>\n",
       "  <tbody>\n",
       "    <tr>\n",
       "      <th>124237</th>\n",
       "      <td>서울특별시 성북구 장위동 50-20번지 1층</td>\n",
       "      <td>중국식</td>\n",
       "      <td>폐업</td>\n",
       "    </tr>\n",
       "    <tr>\n",
       "      <th>124253</th>\n",
       "      <td>서울특별시 성북구 삼선동1가 13번지 복개지상 삼익아파트 104호</td>\n",
       "      <td>중국식</td>\n",
       "      <td>폐업</td>\n",
       "    </tr>\n",
       "    <tr>\n",
       "      <th>124303</th>\n",
       "      <td>서울특별시 서대문구 북아현동 130-11번지</td>\n",
       "      <td>중국식</td>\n",
       "      <td>폐업</td>\n",
       "    </tr>\n",
       "    <tr>\n",
       "      <th>124304</th>\n",
       "      <td>서울특별시 중구 무학동 12-1번지</td>\n",
       "      <td>중국식</td>\n",
       "      <td>폐업</td>\n",
       "    </tr>\n",
       "    <tr>\n",
       "      <th>124306</th>\n",
       "      <td>서울특별시 중구 남대문로4가 20-60번지</td>\n",
       "      <td>중국식</td>\n",
       "      <td>폐업</td>\n",
       "    </tr>\n",
       "  </tbody>\n",
       "</table>\n",
       "</div>"
      ],
      "text/plain": [
       "                                     소재지전체주소 위생업태명 영업상태명\n",
       "124237              서울특별시 성북구 장위동 50-20번지 1층   중국식    폐업\n",
       "124253  서울특별시 성북구 삼선동1가 13번지 복개지상 삼익아파트 104호   중국식    폐업\n",
       "124303              서울특별시 서대문구 북아현동 130-11번지   중국식    폐업\n",
       "124304                   서울특별시 중구 무학동 12-1번지   중국식    폐업\n",
       "124306               서울특별시 중구 남대문로4가 20-60번지   중국식    폐업"
      ]
     },
     "execution_count": 104,
     "metadata": {},
     "output_type": "execute_result"
    }
   ],
   "source": [
    "data_close.head()"
   ]
  },
  {
   "cell_type": "code",
   "execution_count": 83,
   "id": "63d67500-7f9e-43d4-9d0d-ff5bde99a7ec",
   "metadata": {},
   "outputs": [
    {
     "data": {
      "text/plain": [
       "{'중국식'}"
      ]
     },
     "execution_count": 83,
     "metadata": {},
     "output_type": "execute_result"
    }
   ],
   "source": [
    "set(data_fin.위생업태명)"
   ]
  },
  {
   "cell_type": "code",
   "execution_count": 65,
   "id": "2a2abdcb-9052-44d6-bd6e-c245be2d5370",
   "metadata": {},
   "outputs": [
    {
     "data": {
      "text/html": [
       "<div>\n",
       "<style scoped>\n",
       "    .dataframe tbody tr th:only-of-type {\n",
       "        vertical-align: middle;\n",
       "    }\n",
       "\n",
       "    .dataframe tbody tr th {\n",
       "        vertical-align: top;\n",
       "    }\n",
       "\n",
       "    .dataframe thead th {\n",
       "        text-align: right;\n",
       "    }\n",
       "</style>\n",
       "<table border=\"1\" class=\"dataframe\">\n",
       "  <thead>\n",
       "    <tr style=\"text-align: right;\">\n",
       "      <th></th>\n",
       "      <th>소재지전체주소</th>\n",
       "      <th>위생업태명</th>\n",
       "      <th>영업상태명</th>\n",
       "    </tr>\n",
       "  </thead>\n",
       "  <tbody>\n",
       "    <tr>\n",
       "      <th>126689</th>\n",
       "      <td>서울특별시 강남구 대치동 991-10번지</td>\n",
       "      <td>중국식</td>\n",
       "      <td>폐업</td>\n",
       "    </tr>\n",
       "    <tr>\n",
       "      <th>126814</th>\n",
       "      <td>서울특별시 강남구 역삼동 818-11</td>\n",
       "      <td>중국식</td>\n",
       "      <td>폐업</td>\n",
       "    </tr>\n",
       "    <tr>\n",
       "      <th>126820</th>\n",
       "      <td>서울특별시 강남구 역삼동 832-12번지</td>\n",
       "      <td>중국식</td>\n",
       "      <td>폐업</td>\n",
       "    </tr>\n",
       "    <tr>\n",
       "      <th>126896</th>\n",
       "      <td>서울특별시 강남구 역삼동 648-9번지</td>\n",
       "      <td>중국식</td>\n",
       "      <td>폐업</td>\n",
       "    </tr>\n",
       "    <tr>\n",
       "      <th>127114</th>\n",
       "      <td>서울특별시 강남구 역삼동 603-4</td>\n",
       "      <td>중국식</td>\n",
       "      <td>폐업</td>\n",
       "    </tr>\n",
       "    <tr>\n",
       "      <th>...</th>\n",
       "      <td>...</td>\n",
       "      <td>...</td>\n",
       "      <td>...</td>\n",
       "    </tr>\n",
       "    <tr>\n",
       "      <th>471988</th>\n",
       "      <td>서울특별시 강남구 도곡동 467-17 타워팰리스</td>\n",
       "      <td>중국식</td>\n",
       "      <td>폐업</td>\n",
       "    </tr>\n",
       "    <tr>\n",
       "      <th>472087</th>\n",
       "      <td>서울특별시 강남구 도곡동 417-12 지상2층</td>\n",
       "      <td>중국식</td>\n",
       "      <td>폐업</td>\n",
       "    </tr>\n",
       "    <tr>\n",
       "      <th>472563</th>\n",
       "      <td>서울특별시 강남구 역삼동 736-41 지엠씨 타워</td>\n",
       "      <td>중국식</td>\n",
       "      <td>폐업</td>\n",
       "    </tr>\n",
       "    <tr>\n",
       "      <th>472835</th>\n",
       "      <td>서울특별시 강남구 역삼동 836-69 MARK TOWER</td>\n",
       "      <td>중국식</td>\n",
       "      <td>폐업</td>\n",
       "    </tr>\n",
       "    <tr>\n",
       "      <th>472848</th>\n",
       "      <td>서울특별시 강남구 논현동 198-10</td>\n",
       "      <td>중국식</td>\n",
       "      <td>폐업</td>\n",
       "    </tr>\n",
       "  </tbody>\n",
       "</table>\n",
       "<p>797 rows × 3 columns</p>\n",
       "</div>"
      ],
      "text/plain": [
       "                                소재지전체주소 위생업태명 영업상태명\n",
       "126689           서울특별시 강남구 대치동 991-10번지   중국식    폐업\n",
       "126814             서울특별시 강남구 역삼동 818-11   중국식    폐업\n",
       "126820           서울특별시 강남구 역삼동 832-12번지   중국식    폐업\n",
       "126896            서울특별시 강남구 역삼동 648-9번지   중국식    폐업\n",
       "127114              서울특별시 강남구 역삼동 603-4   중국식    폐업\n",
       "...                                 ...   ...   ...\n",
       "471988       서울특별시 강남구 도곡동 467-17 타워팰리스   중국식    폐업\n",
       "472087        서울특별시 강남구 도곡동 417-12 지상2층   중국식    폐업\n",
       "472563      서울특별시 강남구 역삼동 736-41 지엠씨 타워   중국식    폐업\n",
       "472835  서울특별시 강남구 역삼동 836-69 MARK TOWER   중국식    폐업\n",
       "472848             서울특별시 강남구 논현동 198-10   중국식    폐업\n",
       "\n",
       "[797 rows x 3 columns]"
      ]
     },
     "execution_count": 65,
     "metadata": {},
     "output_type": "execute_result"
    }
   ],
   "source": [
    "res = data_close.소재지전체주소.str.contains('강남구', na = False)\n",
    "data_gang_close = data_close[res]\n",
    "data_gang_close"
   ]
  },
  {
   "cell_type": "code",
   "execution_count": 66,
   "id": "1902acfb-dcac-4233-9073-b4ad6656bb1d",
   "metadata": {},
   "outputs": [
    {
     "data": {
      "text/plain": [
       "126689    대치동 991\n",
       "126814    역삼동 818\n",
       "126820    역삼동 832\n",
       "126896    역삼동 648\n",
       "127114    역삼동 603\n",
       "           ...   \n",
       "471988    도곡동 467\n",
       "472087    도곡동 417\n",
       "472563    역삼동 736\n",
       "472835    역삼동 836\n",
       "472848    논현동 198\n",
       "Name: 소재지전체주소, Length: 797, dtype: object"
      ]
     },
     "execution_count": 66,
     "metadata": {},
     "output_type": "execute_result"
    }
   ],
   "source": [
    "addr = data_gang_close.소재지전체주소.str.slice(start = 10, stop = 17)\n",
    "addr"
   ]
  },
  {
   "cell_type": "code",
   "execution_count": 69,
   "id": "8531cdb2-d459-4a53-af7c-e87a42f023ab",
   "metadata": {},
   "outputs": [],
   "source": [
    "import re # 정규식 패키지\n",
    "# addr 변수에는 강남구 중국집 주소에서 동이름만 추출한 data가 저장\n",
    "# 숫자와 공백이 포함되어 있는 data가 있기 떄문에 숫자와 공백을 제거\n",
    "# 시리즈에 저장한다.\n",
    "i = 0\n",
    "addr_fin = pd.Series() # 빈 시리즈 생성\n",
    "for string in addr:\n",
    "    newstring = re.sub(r'[0-9]+','', string).replace(' ', '').replace('-', '')\n",
    "    addr_fin[i] = newstring\n",
    "    i += 1"
   ]
  },
  {
   "cell_type": "code",
   "execution_count": 70,
   "id": "79ddc979-e835-4108-bd00-82689aa72cfd",
   "metadata": {},
   "outputs": [
    {
     "data": {
      "text/plain": [
       "0      대치동\n",
       "1      역삼동\n",
       "2      역삼동\n",
       "3      역삼동\n",
       "4      역삼동\n",
       "      ... \n",
       "792    도곡동\n",
       "793    도곡동\n",
       "794    역삼동\n",
       "795    역삼동\n",
       "796    논현동\n",
       "Length: 797, dtype: object"
      ]
     },
     "execution_count": 70,
     "metadata": {},
     "output_type": "execute_result"
    }
   ],
   "source": [
    "addr_fin"
   ]
  },
  {
   "cell_type": "code",
   "execution_count": 73,
   "id": "70c3372e-7534-430d-bcce-5f522887afe3",
   "metadata": {},
   "outputs": [
    {
     "data": {
      "text/plain": [
       "역삼동      176\n",
       "논현동      112\n",
       "삼성동      107\n",
       "대치동       99\n",
       "신사동       99\n",
       "청담동       51\n",
       "개포동       48\n",
       "도곡동       35\n",
       "압구정동      22\n",
       "일원동       20\n",
       "수서동       11\n",
       "개포동번지      8\n",
       "세곡동        4\n",
       "청담동번지      1\n",
       "삼성동번       1\n",
       "논현동번       1\n",
       "개포동번       1\n",
       "청담동산       1\n",
       "Name: count, dtype: int64"
      ]
     },
     "execution_count": 73,
     "metadata": {},
     "output_type": "execute_result"
    }
   ],
   "source": [
    "close_fin = addr_fin.value_counts()\n",
    "close_fin"
   ]
  },
  {
   "cell_type": "code",
   "execution_count": 74,
   "id": "c3475d6f-7352-4db2-a494-8342f8c3a4f9",
   "metadata": {},
   "outputs": [
    {
     "data": {
      "text/plain": [
       "<Axes: >"
      ]
     },
     "execution_count": 74,
     "metadata": {},
     "output_type": "execute_result"
    },
    {
     "data": {
      "image/png": "[encoded data removed]",
      "text/plain": [
       "<Figure size 640x480 with 1 Axes>"
      ]
     },
     "metadata": {},
     "output_type": "display_data"
    }
   ],
   "source": [
    "squarify.plot(close_fin, label = close_fin.index)"
   ]
  },
  {
   "cell_type": "code",
   "execution_count": null,
   "id": "56994551-d78b-4939-a046-49895ea76a6a",
   "metadata": {},
   "outputs": [],
   "source": []
  },
  {
   "cell_type": "code",
   "execution_count": null,
   "id": "168c0cb0-6e07-471e-9281-a094a582ef5b",
   "metadata": {},
   "outputs": [],
   "source": []
  },
  {
   "cell_type": "code",
   "execution_count": null,
   "id": "aed2d4f9-ead5-4dea-90f2-7145fc5e68ed",
   "metadata": {},
   "outputs": [],
   "source": []
  }
 ],
 "metadata": {
  "kernelspec": {
   "display_name": "Python 3 (ipykernel)",
   "language": "python",
   "name": "python3"
  },
  "language_info": {
   "codemirror_mode": {
    "name": "ipython",
    "version": 3
   },
   "file_extension": ".py",
   "mimetype": "text/x-python",
   "name": "python",
   "nbconvert_exporter": "python",
   "pygments_lexer": "ipython3",
   "version": "3.10.10"
  }
 },
 "nbformat": 4,
 "nbformat_minor": 5
}
