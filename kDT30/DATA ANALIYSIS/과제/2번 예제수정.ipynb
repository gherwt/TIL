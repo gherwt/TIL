{
 "cells": [
  {
   "cell_type": "code",
   "execution_count": 1,
   "id": "426a4d1d-ba3e-42db-880e-5793435145fd",
   "metadata": {},
   "outputs": [],
   "source": [
    "import pandas as pd\n",
    "import numpy as np\n",
    "import matplotlib.pyplot as plt\n",
    "from pandas import Series, DataFrame\n",
    "import squarify \n",
    "%matplotlib inline"
   ]
  },
  {
   "cell_type": "code",
   "execution_count": 2,
   "id": "065c0949-06e2-41c2-a2c9-fdb0df5e3106",
   "metadata": {},
   "outputs": [],
   "source": [
    "import platform\n",
    "\n",
    "from matplotlib import font_manager, rc\n",
    "plt.rcParams['axes.unicode_minus'] = False\n",
    "\n",
    "if platform.system() == 'Darwin':  # 맥OS \n",
    "    rc('font', family='AppleGothic')\n",
    "elif platform.system() == 'Windows':  # 윈도우\n",
    "    path = \"c:/Windows/Fonts/malgun.ttf\"\n",
    "    font_name = font_manager.FontProperties(fname=path).get_name()\n",
    "    rc('font', family=font_name)\n",
    "else:\n",
    "    print('Unknown system...  sorry~~~')"
   ]
  },
  {
   "cell_type": "code",
   "execution_count": 4,
   "id": "dc727b1f-3f0e-4912-a741-a2e7d7555d62",
   "metadata": {},
   "outputs": [],
   "source": [
    "data = pd.read_csv('../data/서울특별시_일반음식점.csv', \n",
    "                  encoding = 'cp949',\n",
    "                  low_memory = False)"
   ]
  },
  {
   "cell_type": "markdown",
   "id": "28c6a5ca-de27-4907-890d-85cd4d706122",
   "metadata": {},
   "source": [
    "### - 영업상태가 폐업인 업장의 자치구별 분포도(업종 일반음식점인 업장)\n",
    "    - 폐업이 얼마나 되는지 음식점의 폐업율을 확인"
   ]
  },
  {
   "cell_type": "code",
   "execution_count": 8,
   "id": "68665626-aa1a-452d-b906-6c5a8e5d7b07",
   "metadata": {},
   "outputs": [],
   "source": [
    "data_fin = data[data.영업상태명.isin(['폐업'])]"
   ]
  },
  {
   "cell_type": "code",
   "execution_count": 14,
   "id": "785a5db8-720b-40c5-9b69-6636d8bbab44",
   "metadata": {},
   "outputs": [
    {
     "data": {
      "text/plain": [
       "{'폐업'}"
      ]
     },
     "execution_count": 14,
     "metadata": {},
     "output_type": "execute_result"
    }
   ],
   "source": [
    "set(data.영업상태명[data.영업상태명.str.contains('폐업', na = False)])"
   ]
  },
  {
   "cell_type": "code",
   "execution_count": 11,
   "id": "5b0d2996-e19c-427e-bca0-44ab7126ae82",
   "metadata": {},
   "outputs": [
    {
     "data": {
      "text/html": [
       "<div>\n",
       "<style scoped>\n",
       "    .dataframe tbody tr th:only-of-type {\n",
       "        vertical-align: middle;\n",
       "    }\n",
       "\n",
       "    .dataframe tbody tr th {\n",
       "        vertical-align: top;\n",
       "    }\n",
       "\n",
       "    .dataframe thead th {\n",
       "        text-align: right;\n",
       "    }\n",
       "</style>\n",
       "<table border=\"1\" class=\"dataframe\">\n",
       "  <thead>\n",
       "    <tr style=\"text-align: right;\">\n",
       "      <th></th>\n",
       "      <th>번호</th>\n",
       "      <th>개방서비스명</th>\n",
       "      <th>개방서비스아이디</th>\n",
       "      <th>개방자치단체코드</th>\n",
       "      <th>관리번호</th>\n",
       "      <th>인허가일자</th>\n",
       "      <th>인허가취소일자</th>\n",
       "      <th>영업상태구분코드</th>\n",
       "      <th>영업상태명</th>\n",
       "      <th>상세영업상태코드</th>\n",
       "      <th>...</th>\n",
       "      <th>공장생산직종업원수</th>\n",
       "      <th>건물소유구분명</th>\n",
       "      <th>보증액</th>\n",
       "      <th>월세액</th>\n",
       "      <th>다중이용업소여부</th>\n",
       "      <th>시설총규모</th>\n",
       "      <th>전통업소지정번호</th>\n",
       "      <th>전통업소주된음식</th>\n",
       "      <th>홈페이지</th>\n",
       "      <th>Unnamed: 47</th>\n",
       "    </tr>\n",
       "  </thead>\n",
       "  <tbody>\n",
       "    <tr>\n",
       "      <th>124208</th>\n",
       "      <td>124209</td>\n",
       "      <td>일반음식점</td>\n",
       "      <td>07_24_04_P</td>\n",
       "      <td>3220000</td>\n",
       "      <td>3220000-101-2020-00852</td>\n",
       "      <td>20200803</td>\n",
       "      <td>NaN</td>\n",
       "      <td>3</td>\n",
       "      <td>폐업</td>\n",
       "      <td>2</td>\n",
       "      <td>...</td>\n",
       "      <td>0.0</td>\n",
       "      <td>NaN</td>\n",
       "      <td>0.0</td>\n",
       "      <td>0</td>\n",
       "      <td>N</td>\n",
       "      <td>13.81</td>\n",
       "      <td>NaN</td>\n",
       "      <td>NaN</td>\n",
       "      <td>NaN</td>\n",
       "      <td>NaN</td>\n",
       "    </tr>\n",
       "    <tr>\n",
       "      <th>124209</th>\n",
       "      <td>124210</td>\n",
       "      <td>일반음식점</td>\n",
       "      <td>07_24_04_P</td>\n",
       "      <td>3220000</td>\n",
       "      <td>3220000-101-2020-00854</td>\n",
       "      <td>20200803</td>\n",
       "      <td>NaN</td>\n",
       "      <td>3</td>\n",
       "      <td>폐업</td>\n",
       "      <td>2</td>\n",
       "      <td>...</td>\n",
       "      <td>0.0</td>\n",
       "      <td>NaN</td>\n",
       "      <td>0.0</td>\n",
       "      <td>0</td>\n",
       "      <td>Y</td>\n",
       "      <td>141.00</td>\n",
       "      <td>NaN</td>\n",
       "      <td>NaN</td>\n",
       "      <td>NaN</td>\n",
       "      <td>NaN</td>\n",
       "    </tr>\n",
       "    <tr>\n",
       "      <th>124210</th>\n",
       "      <td>124211</td>\n",
       "      <td>일반음식점</td>\n",
       "      <td>07_24_04_P</td>\n",
       "      <td>3040000</td>\n",
       "      <td>3040000-101-2020-00274</td>\n",
       "      <td>20200803</td>\n",
       "      <td>NaN</td>\n",
       "      <td>3</td>\n",
       "      <td>폐업</td>\n",
       "      <td>2</td>\n",
       "      <td>...</td>\n",
       "      <td>0.0</td>\n",
       "      <td>NaN</td>\n",
       "      <td>0.0</td>\n",
       "      <td>0</td>\n",
       "      <td>N</td>\n",
       "      <td>87.30</td>\n",
       "      <td>NaN</td>\n",
       "      <td>NaN</td>\n",
       "      <td>NaN</td>\n",
       "      <td>NaN</td>\n",
       "    </tr>\n",
       "  </tbody>\n",
       "</table>\n",
       "<p>3 rows × 48 columns</p>\n",
       "</div>"
      ],
      "text/plain": [
       "            번호 개방서비스명    개방서비스아이디  개방자치단체코드                    관리번호     인허가일자  \\\n",
       "124208  124209  일반음식점  07_24_04_P   3220000  3220000-101-2020-00852  20200803   \n",
       "124209  124210  일반음식점  07_24_04_P   3220000  3220000-101-2020-00854  20200803   \n",
       "124210  124211  일반음식점  07_24_04_P   3040000  3040000-101-2020-00274  20200803   \n",
       "\n",
       "        인허가취소일자  영업상태구분코드 영업상태명  상세영업상태코드  ... 공장생산직종업원수  건물소유구분명  보증액  월세액  \\\n",
       "124208      NaN         3    폐업         2  ...       0.0      NaN  0.0    0   \n",
       "124209      NaN         3    폐업         2  ...       0.0      NaN  0.0    0   \n",
       "124210      NaN         3    폐업         2  ...       0.0      NaN  0.0    0   \n",
       "\n",
       "        다중이용업소여부   시설총규모 전통업소지정번호  전통업소주된음식 홈페이지 Unnamed: 47  \n",
       "124208         N   13.81      NaN       NaN  NaN         NaN  \n",
       "124209         Y  141.00      NaN       NaN  NaN         NaN  \n",
       "124210         N   87.30      NaN       NaN  NaN         NaN  \n",
       "\n",
       "[3 rows x 48 columns]"
      ]
     },
     "execution_count": 11,
     "metadata": {},
     "output_type": "execute_result"
    }
   ],
   "source": [
    "data_fin.head(3set(data.소재지전체주소.values))"
   ]
  },
  {
   "cell_type": "code",
   "execution_count": 15,
   "id": "9ec87be1-71a8-4335-af6c-2af72284075c",
   "metadata": {},
   "outputs": [
    {
     "data": {
      "text/plain": [
       "124208                    [서울특별시, 강남구, 삼성동, 157-18]\n",
       "124209                       [서울특별시, 강남구, 논현동, 8-9]\n",
       "124210                    [서울특별시, 광진구, 중곡동, 118-34]\n",
       "124211         [서울특별시, 광진구, 구의동, 591-22, 강변리버빌101호]\n",
       "124212             [서울특별시, 강남구, 압구정동, 429, 현대백화점본점]\n",
       "                            ...                    \n",
       "472910                    [서울특별시, 강남구, 역삼동, 799-18]\n",
       "472911               [서울특별시, 강남구, 역삼동, 668-9, 해석빌딩]\n",
       "472912                [서울특별시, 강남구, 논현동, 108, 논현웰스톤]\n",
       "472913    [서울특별시, 강서구, 마곡동, 798-6, 류마타워Ⅱ, 3층, 310호]\n",
       "472914                    [서울특별시, 마포구, 망원동, 435-34]\n",
       "Name: 소재지전체주소, Length: 348707, dtype: object"
      ]
     },
     "execution_count": 15,
     "metadata": {},
     "output_type": "execute_result"
    }
   ],
   "source": [
    "res = data_fin.소재지전체주소.str.split(' ')\n",
    "res"
   ]
  },
  {
   "cell_type": "code",
   "execution_count": 64,
   "id": "0715321c-9ba2-4795-b8e3-bbd54a4c791c",
   "metadata": {},
   "outputs": [],
   "source": [
    "fin_t = []\n",
    "for idx in res.index :\n",
    "    try:\n",
    "        fin_t.append(res.loc[idx][1])\n",
    "    except:\n",
    "        pass\n",
    "# TypeError: 'float' object is not subscriptable -> 결측치가 있어서, null data가 있기 때문에 발생하는 오류"
   ]
  },
  {
   "cell_type": "code",
   "execution_count": 65,
   "id": "4eb7592b-3a69-4b2d-9c22-0356ce8c43b7",
   "metadata": {},
   "outputs": [
    {
     "data": {
      "text/plain": [
       "강남구     31816\n",
       "송파구     19763\n",
       "서초구     18940\n",
       "영등포구    17467\n",
       "강동구     17006\n",
       "마포구     16997\n",
       "동대문구    15648\n",
       "관악구     15599\n",
       "강서구     14219\n",
       "구로구     13624\n",
       "중구      13480\n",
       "양천구     12947\n",
       "서대문구    12535\n",
       "성북구     12288\n",
       "중랑구     12236\n",
       "강북구     11914\n",
       "은평구     11855\n",
       "광진구     11792\n",
       "종로구     11587\n",
       "노원구     10731\n",
       "동작구      9868\n",
       "금천구      9311\n",
       "용산구      9186\n",
       "성동구      9099\n",
       "도봉구      8640\n",
       "성남시         2\n",
       "고양시         2\n",
       "제주시         1\n",
       "수영구         1\n",
       "Name: count, dtype: int64"
      ]
     },
     "execution_count": 65,
     "metadata": {},
     "output_type": "execute_result"
    }
   ],
   "source": [
    "fin_s = pd.Series(fin_t)\n",
    "fin_s.value_counts()"
   ]
  },
  {
   "cell_type": "code",
   "execution_count": 66,
   "id": "152f157d-6d49-49d3-9489-c8106d2e866a",
   "metadata": {},
   "outputs": [
    {
     "data": {
      "text/plain": [
       "Index([198856], dtype='int64')"
      ]
     },
     "execution_count": 66,
     "metadata": {},
     "output_type": "execute_result"
    }
   ],
   "source": [
    "fin_s[fin_s == '성남시'].index\n",
    "fin_s[fin_s == '고양시'].index\n",
    "fin_s[fin_s == '제주시'].index\n",
    "fin_s[fin_s == '수영구'].index"
   ]
  },
  {
   "cell_type": "code",
   "execution_count": 70,
   "id": "ddf75bee-9fea-40c4-becb-a657057bb157",
   "metadata": {},
   "outputs": [
    {
     "name": "stdout",
     "output_type": "stream",
     "text": [
      "강남구     31816\n",
      "송파구     19763\n",
      "서초구     18940\n",
      "영등포구    17467\n",
      "강동구     17006\n",
      "마포구     16997\n",
      "동대문구    15648\n",
      "관악구     15599\n",
      "강서구     14219\n",
      "구로구     13624\n",
      "중구      13480\n",
      "양천구     12947\n",
      "서대문구    12535\n",
      "성북구     12288\n",
      "중랑구     12236\n",
      "강북구     11914\n",
      "은평구     11855\n",
      "광진구     11792\n",
      "종로구     11587\n",
      "노원구     10731\n",
      "동작구      9868\n",
      "금천구      9311\n",
      "용산구      9186\n",
      "성동구      9099\n",
      "도봉구      8640\n",
      "Name: count, dtype: int64\n"
     ]
    }
   ],
   "source": [
    "exclude_cities = ['성남시', '고양시', '제주시', '수영구']\n",
    "fin = fin_s[~fin_s.isin(exclude_cities)].value_counts() # isin 일치하는 요소의 확인 / ~ 속하지 않는 값을 선택하기 위함이다.\n",
    "print(fin)"
   ]
  },
  {
   "cell_type": "code",
   "execution_count": 71,
   "id": "b69e6b0a-ff0e-4a15-8223-34fb112fe80c",
   "metadata": {},
   "outputs": [
    {
     "data": {
      "text/plain": [
       "<Axes: >"
      ]
     },
     "execution_count": 71,
     "metadata": {},
     "output_type": "execute_result"
    },
    {
     "data": {
      "image/png": "[encoded data removed]",
      "text/plain": [
       "<Figure size 640x480 with 1 Axes>"
      ]
     },
     "metadata": {},
     "output_type": "display_data"
    }
   ],
   "source": [
    "squarify.plot(fin, label = fin.index)"
   ]
  },
  {
   "cell_type": "code",
   "execution_count": null,
   "id": "0e3748ed-b911-48c7-9cf3-0adb96fcfdc0",
   "metadata": {},
   "outputs": [],
   "source": []
  },
  {
   "cell_type": "code",
   "execution_count": null,
   "id": "a426e17e-3eef-496b-af06-0dac508d0a5b",
   "metadata": {},
   "outputs": [],
   "source": []
  },
  {
   "cell_type": "code",
   "execution_count": null,
   "id": "63d0a9a7-e4fb-4127-b5f3-d3ce482706ae",
   "metadata": {},
   "outputs": [],
   "source": []
  },
  {
   "cell_type": "code",
   "execution_count": null,
   "id": "1612a3f2-eb1a-4378-b379-286c89a8a95d",
   "metadata": {},
   "outputs": [],
   "source": []
  },
  {
   "cell_type": "code",
   "execution_count": null,
   "id": "5aab6d8a-926a-43f3-8bfb-72d9fb2f7241",
   "metadata": {},
   "outputs": [],
   "source": []
  }
 ],
 "metadata": {
  "kernelspec": {
   "display_name": "Python 3 (ipykernel)",
   "language": "python",
   "name": "python3"
  },
  "language_info": {
   "codemirror_mode": {
    "name": "ipython",
    "version": 3
   },
   "file_extension": ".py",
   "mimetype": "text/x-python",
   "name": "python",
   "nbconvert_exporter": "python",
   "pygments_lexer": "ipython3",
   "version": "3.10.10"
  }
 },
 "nbformat": 4,
 "nbformat_minor": 5
}
