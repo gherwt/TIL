{
 "cells": [
  {
   "cell_type": "markdown",
   "id": "bdf5ca42-cb14-4636-96d2-77cb8f0bba5c",
   "metadata": {},
   "source": [
    "### 연습\n",
    "- 정상영업/폐업 상관없이 현 시점(파일기준) 치킨집의 인허가 분포도(25개 자치구별)\n",
    "    - 동x\n",
    "- 영업상태가 폐업인 업장의 자치구별 분포도(업종 일반음식점인 업장)\n",
    "    - 폐업이 얼마나 되는지\n",
    "- 강남구의 읍면동별 중국집 분포도(전체인허가/정상영업/폐업 각각에 대해 시각화)\n",
    "    - 치킨집 -> 중국집\n",
    "    - 서대문구 -> 강남구 "
   ]
  },
  {
   "cell_type": "code",
   "execution_count": 28,
   "id": "70d379a2-2db4-4cf9-8919-0a3df0a7caa6",
   "metadata": {},
   "outputs": [],
   "source": [
    "import pandas as pd\n",
    "import numpy as np\n",
    "import matplotlib.pyplot as plt\n",
    "import numpy as np"
   ]
  },
  {
   "cell_type": "code",
   "execution_count": 29,
   "id": "0a91e89a-121c-4818-8233-4da25250ba98",
   "metadata": {},
   "outputs": [],
   "source": [
    "from IPython.core.interactiveshell import InteractiveShell\n",
    "InteractiveShell.ast_node_interactivity=\"all\""
   ]
  },
  {
   "cell_type": "code",
   "execution_count": 30,
   "id": "a494da5c-9397-45fd-8456-f7ac15ed35bc",
   "metadata": {},
   "outputs": [],
   "source": [
    "# 한글 문제\n",
    "# matplotlit의 기본 폰트에서 한글 지원되지 않기 때문에\n",
    "# matplotlib의 폰트 변경 필요\n",
    "import platform\n",
    "\n",
    "from matplotlib import font_manager, rc\n",
    "plt.rcParams['axes.unicode_minus'] = False\n",
    "\n",
    "if platform.system() == 'Darwin':  # 맥OS \n",
    "    rc('font', family='AppleGothic')\n",
    "elif platform.system() == 'Windows':  # 윈도우\n",
    "    path = \"c:/Windows/Fonts/malgun.ttf\"\n",
    "    font_name = font_manager.FontProperties(fname=path).get_name()\n",
    "    rc('font', family=font_name)\n",
    "else:\n",
    "    print('Unknown system...  sorry~~~')"
   ]
  },
  {
   "cell_type": "code",
   "execution_count": 32,
   "id": "2751d208-819f-40c2-9eb0-a629e6cfb737",
   "metadata": {},
   "outputs": [],
   "source": [
    "data = pd.read_csv('./data/서울특별시_일반음식점.csv', \n",
    "                  encoding = 'cp949',\n",
    "                  low_memory = False)"
   ]
  },
  {
   "cell_type": "code",
   "execution_count": 33,
   "id": "6a879b1a-1dc9-41b6-a65b-c6bb6eb91af2",
   "metadata": {},
   "outputs": [
    {
     "data": {
      "text/plain": [
       "0         영업/정상\n",
       "1         영업/정상\n",
       "2         영업/정상\n",
       "3         영업/정상\n",
       "4         영업/정상\n",
       "          ...  \n",
       "472910       폐업\n",
       "472911       폐업\n",
       "472912       폐업\n",
       "472913       폐업\n",
       "472914       폐업\n",
       "Name: 영업상태명, Length: 472915, dtype: object"
      ]
     },
     "execution_count": 33,
     "metadata": {},
     "output_type": "execute_result"
    },
    {
     "data": {
      "text/plain": [
       "0         한식\n",
       "1         한식\n",
       "2         한식\n",
       "3         한식\n",
       "4         일식\n",
       "          ..\n",
       "472910    한식\n",
       "472911    한식\n",
       "472912    기타\n",
       "472913    한식\n",
       "472914    기타\n",
       "Name: 업태구분명, Length: 472915, dtype: object"
      ]
     },
     "execution_count": 33,
     "metadata": {},
     "output_type": "execute_result"
    }
   ],
   "source": [
    "data.영업상태명\n",
    "data.업태구분명"
   ]
  },
  {
   "cell_type": "code",
   "execution_count": 34,
   "id": "ce813eca-6139-4ab2-aba6-83be2dc396dd",
   "metadata": {},
   "outputs": [
    {
     "data": {
      "text/plain": [
       "{'중국식'}"
      ]
     },
     "execution_count": 34,
     "metadata": {},
     "output_type": "execute_result"
    }
   ],
   "source": [
    "set(data.위생업태명[data.위생업태명.str.contains('중국식', na = False)])"
   ]
  },
  {
   "cell_type": "code",
   "execution_count": 35,
   "id": "702d7fbc-7da5-4b2c-82d1-809f39d38be1",
   "metadata": {},
   "outputs": [
    {
     "data": {
      "text/plain": [
       "{'영업/정상', '폐업'}"
      ]
     },
     "execution_count": 35,
     "metadata": {},
     "output_type": "execute_result"
    }
   ],
   "source": [
    "set(data.영업상태명)"
   ]
  },
  {
   "cell_type": "code",
   "execution_count": 98,
   "id": "b909ed84-ae46-49b2-acfa-95cc9772263f",
   "metadata": {},
   "outputs": [],
   "source": [
    "data_fin = data[(data.위생업태명.isin(['중국식']))]"
   ]
  },
  {
   "cell_type": "code",
   "execution_count": 99,
   "id": "03b6b27b-b1df-4e2d-a9f4-6dfb8006e595",
   "metadata": {},
   "outputs": [],
   "source": [
    "data_fin = data_fin[['소재지전체주소','위생업태명', '영업상태명']]"
   ]
  },
  {
   "cell_type": "code",
   "execution_count": 101,
   "id": "11aff7c9-d81a-44c0-9485-eb4dd6d88cc9",
   "metadata": {},
   "outputs": [],
   "source": [
    "data_open = data[(data.영업상태명 == '영업/정상') & (data.위생업태명.isin(['중국식']))]\n",
    "data_open = data_open[['소재지전체주소','위생업태명', '영업상태명']]"
   ]
  },
  {
   "cell_type": "code",
   "execution_count": 102,
   "id": "aab47df8-9c9e-433c-824c-4281aac850b0",
   "metadata": {},
   "outputs": [],
   "source": [
    "data_close = data[(data.영업상태명 == '폐업') & (data.위생업태명.isin(['중국식']))]\n",
    "data_close  = data_close [['소재지전체주소','위생업태명', '영업상태명']]"
   ]
  },
  {
   "cell_type": "code",
   "execution_count": 103,
   "id": "1bbe3371-7ae8-4df6-8c7d-2e83f3d3163a",
   "metadata": {},
   "outputs": [
    {
     "data": {
      "text/html": [
       "<div>\n",
       "<style scoped>\n",
       "    .dataframe tbody tr th:only-of-type {\n",
       "        vertical-align: middle;\n",
       "    }\n",
       "\n",
       "    .dataframe tbody tr th {\n",
       "        vertical-align: top;\n",
       "    }\n",
       "\n",
       "    .dataframe thead th {\n",
       "        text-align: right;\n",
       "    }\n",
       "</style>\n",
       "<table border=\"1\" class=\"dataframe\">\n",
       "  <thead>\n",
       "    <tr style=\"text-align: right;\">\n",
       "      <th></th>\n",
       "      <th>소재지전체주소</th>\n",
       "      <th>위생업태명</th>\n",
       "      <th>영업상태명</th>\n",
       "    </tr>\n",
       "  </thead>\n",
       "  <tbody>\n",
       "    <tr>\n",
       "      <th>18</th>\n",
       "      <td>서울특별시 성북구 안암동5가 134-35</td>\n",
       "      <td>중국식</td>\n",
       "      <td>영업/정상</td>\n",
       "    </tr>\n",
       "    <tr>\n",
       "      <th>24</th>\n",
       "      <td>서울특별시 중구 신당동 372-36번지 1층</td>\n",
       "      <td>중국식</td>\n",
       "      <td>영업/정상</td>\n",
       "    </tr>\n",
       "    <tr>\n",
       "      <th>31</th>\n",
       "      <td>서울특별시 성북구 장위동 66-108번지 1층</td>\n",
       "      <td>중국식</td>\n",
       "      <td>영업/정상</td>\n",
       "    </tr>\n",
       "    <tr>\n",
       "      <th>34</th>\n",
       "      <td>서울특별시 영등포구 대림동 683-2</td>\n",
       "      <td>중국식</td>\n",
       "      <td>영업/정상</td>\n",
       "    </tr>\n",
       "    <tr>\n",
       "      <th>133</th>\n",
       "      <td>서울특별시 용산구 원효로2가 61-3번지 (지상1층)</td>\n",
       "      <td>중국식</td>\n",
       "      <td>영업/정상</td>\n",
       "    </tr>\n",
       "  </tbody>\n",
       "</table>\n",
       "</div>"
      ],
      "text/plain": [
       "                           소재지전체주소 위생업태명  영업상태명\n",
       "18          서울특별시 성북구 안암동5가 134-35   중국식  영업/정상\n",
       "24        서울특별시 중구 신당동 372-36번지 1층   중국식  영업/정상\n",
       "31       서울특별시 성북구 장위동 66-108번지 1층   중국식  영업/정상\n",
       "34            서울특별시 영등포구 대림동 683-2   중국식  영업/정상\n",
       "133  서울특별시 용산구 원효로2가 61-3번지 (지상1층)   중국식  영업/정상"
      ]
     },
     "execution_count": 103,
     "metadata": {},
     "output_type": "execute_result"
    }
   ],
   "source": [
    "data_fin.head()"
   ]
  },
  {
   "cell_type": "code",
   "execution_count": 105,
   "id": "d99d8c56-95d3-46e6-b33c-582ea4cf56ea",
   "metadata": {},
   "outputs": [
    {
     "data": {
      "text/html": [
       "<div>\n",
       "<style scoped>\n",
       "    .dataframe tbody tr th:only-of-type {\n",
       "        vertical-align: middle;\n",
       "    }\n",
       "\n",
       "    .dataframe tbody tr th {\n",
       "        vertical-align: top;\n",
       "    }\n",
       "\n",
       "    .dataframe thead th {\n",
       "        text-align: right;\n",
       "    }\n",
       "</style>\n",
       "<table border=\"1\" class=\"dataframe\">\n",
       "  <thead>\n",
       "    <tr style=\"text-align: right;\">\n",
       "      <th></th>\n",
       "      <th>소재지전체주소</th>\n",
       "      <th>위생업태명</th>\n",
       "      <th>영업상태명</th>\n",
       "    </tr>\n",
       "  </thead>\n",
       "  <tbody>\n",
       "    <tr>\n",
       "      <th>18</th>\n",
       "      <td>서울특별시 성북구 안암동5가 134-35</td>\n",
       "      <td>중국식</td>\n",
       "      <td>영업/정상</td>\n",
       "    </tr>\n",
       "    <tr>\n",
       "      <th>24</th>\n",
       "      <td>서울특별시 중구 신당동 372-36번지 1층</td>\n",
       "      <td>중국식</td>\n",
       "      <td>영업/정상</td>\n",
       "    </tr>\n",
       "    <tr>\n",
       "      <th>31</th>\n",
       "      <td>서울특별시 성북구 장위동 66-108번지 1층</td>\n",
       "      <td>중국식</td>\n",
       "      <td>영업/정상</td>\n",
       "    </tr>\n",
       "    <tr>\n",
       "      <th>34</th>\n",
       "      <td>서울특별시 영등포구 대림동 683-2</td>\n",
       "      <td>중국식</td>\n",
       "      <td>영업/정상</td>\n",
       "    </tr>\n",
       "    <tr>\n",
       "      <th>133</th>\n",
       "      <td>서울특별시 용산구 원효로2가 61-3번지 (지상1층)</td>\n",
       "      <td>중국식</td>\n",
       "      <td>영업/정상</td>\n",
       "    </tr>\n",
       "  </tbody>\n",
       "</table>\n",
       "</div>"
      ],
      "text/plain": [
       "                           소재지전체주소 위생업태명  영업상태명\n",
       "18          서울특별시 성북구 안암동5가 134-35   중국식  영업/정상\n",
       "24        서울특별시 중구 신당동 372-36번지 1층   중국식  영업/정상\n",
       "31       서울특별시 성북구 장위동 66-108번지 1층   중국식  영업/정상\n",
       "34            서울특별시 영등포구 대림동 683-2   중국식  영업/정상\n",
       "133  서울특별시 용산구 원효로2가 61-3번지 (지상1층)   중국식  영업/정상"
      ]
     },
     "execution_count": 105,
     "metadata": {},
     "output_type": "execute_result"
    }
   ],
   "source": [
    "data_open.head()"
   ]
  },
  {
   "cell_type": "code",
   "execution_count": 104,
   "id": "9e91df6d-a81e-467d-a15e-10c97e02c935",
   "metadata": {},
   "outputs": [
    {
     "data": {
      "text/html": [
       "<div>\n",
       "<style scoped>\n",
       "    .dataframe tbody tr th:only-of-type {\n",
       "        vertical-align: middle;\n",
       "    }\n",
       "\n",
       "    .dataframe tbody tr th {\n",
       "        vertical-align: top;\n",
       "    }\n",
       "\n",
       "    .dataframe thead th {\n",
       "        text-align: right;\n",
       "    }\n",
       "</style>\n",
       "<table border=\"1\" class=\"dataframe\">\n",
       "  <thead>\n",
       "    <tr style=\"text-align: right;\">\n",
       "      <th></th>\n",
       "      <th>소재지전체주소</th>\n",
       "      <th>위생업태명</th>\n",
       "      <th>영업상태명</th>\n",
       "    </tr>\n",
       "  </thead>\n",
       "  <tbody>\n",
       "    <tr>\n",
       "      <th>124237</th>\n",
       "      <td>서울특별시 성북구 장위동 50-20번지 1층</td>\n",
       "      <td>중국식</td>\n",
       "      <td>폐업</td>\n",
       "    </tr>\n",
       "    <tr>\n",
       "      <th>124253</th>\n",
       "      <td>서울특별시 성북구 삼선동1가 13번지 복개지상 삼익아파트 104호</td>\n",
       "      <td>중국식</td>\n",
       "      <td>폐업</td>\n",
       "    </tr>\n",
       "    <tr>\n",
       "      <th>124303</th>\n",
       "      <td>서울특별시 서대문구 북아현동 130-11번지</td>\n",
       "      <td>중국식</td>\n",
       "      <td>폐업</td>\n",
       "    </tr>\n",
       "    <tr>\n",
       "      <th>124304</th>\n",
       "      <td>서울특별시 중구 무학동 12-1번지</td>\n",
       "      <td>중국식</td>\n",
       "      <td>폐업</td>\n",
       "    </tr>\n",
       "    <tr>\n",
       "      <th>124306</th>\n",
       "      <td>서울특별시 중구 남대문로4가 20-60번지</td>\n",
       "      <td>중국식</td>\n",
       "      <td>폐업</td>\n",
       "    </tr>\n",
       "  </tbody>\n",
       "</table>\n",
       "</div>"
      ],
      "text/plain": [
       "                                     소재지전체주소 위생업태명 영업상태명\n",
       "124237              서울특별시 성북구 장위동 50-20번지 1층   중국식    폐업\n",
       "124253  서울특별시 성북구 삼선동1가 13번지 복개지상 삼익아파트 104호   중국식    폐업\n",
       "124303              서울특별시 서대문구 북아현동 130-11번지   중국식    폐업\n",
       "124304                   서울특별시 중구 무학동 12-1번지   중국식    폐업\n",
       "124306               서울특별시 중구 남대문로4가 20-60번지   중국식    폐업"
      ]
     },
     "execution_count": 104,
     "metadata": {},
     "output_type": "execute_result"
    }
   ],
   "source": [
    "data_close.head()"
   ]
  },
  {
   "cell_type": "code",
   "execution_count": 83,
   "id": "63d67500-7f9e-43d4-9d0d-ff5bde99a7ec",
   "metadata": {},
   "outputs": [
    {
     "data": {
      "text/plain": [
       "{'중국식'}"
      ]
     },
     "execution_count": 83,
     "metadata": {},
     "output_type": "execute_result"
    }
   ],
   "source": [
    "set(data_fin.위생업태명)"
   ]
  },
  {
   "cell_type": "code",
   "execution_count": 111,
   "id": "2a2abdcb-9052-44d6-bd6e-c245be2d5370",
   "metadata": {},
   "outputs": [],
   "source": [
    "res = data_fin.소재지전체주소.str.contains('강남구', na = False)\n",
    "res1 = data_open.소재지전체주소.str.contains('강남구', na = False)\n",
    "res2 = data_close.소재지전체주소.str.contains('강남구', na = False)"
   ]
  },
  {
   "cell_type": "code",
   "execution_count": 113,
   "id": "1902acfb-dcac-4233-9073-b4ad6656bb1d",
   "metadata": {},
   "outputs": [],
   "source": [
    "data_gang = data_fin[res]\n",
    "data_gang_open = data_open[res1]\n",
    "data_gang_open = data_close[res2]"
   ]
  },
  {
   "cell_type": "code",
   "execution_count": 114,
   "id": "8531cdb2-d459-4a53-af7c-e87a42f023ab",
   "metadata": {},
   "outputs": [
    {
     "data": {
      "text/html": [
       "<div>\n",
       "<style scoped>\n",
       "    .dataframe tbody tr th:only-of-type {\n",
       "        vertical-align: middle;\n",
       "    }\n",
       "\n",
       "    .dataframe tbody tr th {\n",
       "        vertical-align: top;\n",
       "    }\n",
       "\n",
       "    .dataframe thead th {\n",
       "        text-align: right;\n",
       "    }\n",
       "</style>\n",
       "<table border=\"1\" class=\"dataframe\">\n",
       "  <thead>\n",
       "    <tr style=\"text-align: right;\">\n",
       "      <th></th>\n",
       "      <th>소재지전체주소</th>\n",
       "      <th>위생업태명</th>\n",
       "      <th>영업상태명</th>\n",
       "    </tr>\n",
       "  </thead>\n",
       "  <tbody>\n",
       "    <tr>\n",
       "      <th>1036</th>\n",
       "      <td>서울특별시 강남구 대치동 897-8</td>\n",
       "      <td>중국식</td>\n",
       "      <td>영업/정상</td>\n",
       "    </tr>\n",
       "    <tr>\n",
       "      <th>1490</th>\n",
       "      <td>서울특별시 강남구 신사동 541-13번지</td>\n",
       "      <td>중국식</td>\n",
       "      <td>영업/정상</td>\n",
       "    </tr>\n",
       "    <tr>\n",
       "      <th>1999</th>\n",
       "      <td>서울특별시 강남구 논현동 58-2번지 마일스디오빌</td>\n",
       "      <td>중국식</td>\n",
       "      <td>영업/정상</td>\n",
       "    </tr>\n",
       "    <tr>\n",
       "      <th>2000</th>\n",
       "      <td>서울특별시 강남구 삼성동 159-8번지 파르나스타워</td>\n",
       "      <td>중국식</td>\n",
       "      <td>영업/정상</td>\n",
       "    </tr>\n",
       "    <tr>\n",
       "      <th>8612</th>\n",
       "      <td>서울특별시 강남구 대치동 894</td>\n",
       "      <td>중국식</td>\n",
       "      <td>영업/정상</td>\n",
       "    </tr>\n",
       "  </tbody>\n",
       "</table>\n",
       "</div>"
      ],
      "text/plain": [
       "                           소재지전체주소 위생업태명  영업상태명\n",
       "1036           서울특별시 강남구 대치동 897-8   중국식  영업/정상\n",
       "1490        서울특별시 강남구 신사동 541-13번지   중국식  영업/정상\n",
       "1999   서울특별시 강남구 논현동 58-2번지 마일스디오빌   중국식  영업/정상\n",
       "2000  서울특별시 강남구 삼성동 159-8번지 파르나스타워   중국식  영업/정상\n",
       "8612             서울특별시 강남구 대치동 894   중국식  영업/정상"
      ]
     },
     "execution_count": 114,
     "metadata": {},
     "output_type": "execute_result"
    }
   ],
   "source": [
    "data_gang.head()"
   ]
  },
  {
   "cell_type": "code",
   "execution_count": 140,
   "id": "4c32ca5b-139b-45fc-8848-de42b2dc15b0",
   "metadata": {},
   "outputs": [],
   "source": [
    "addr = data_gang.소재지전체주소.str.slice(start = 10, stop = 15)\n",
    "addr_open = data_gang_open.소재지전체주소.str.slice(start = 10, stop = 15)\n",
    "addr_close = data_gang_open.소재지전체주소.str.slice(start = 10, stop = 15)"
   ]
  },
  {
   "cell_type": "code",
   "execution_count": 141,
   "id": "0bc911c4-b7fb-4473-8fb6-077b457e149e",
   "metadata": {},
   "outputs": [],
   "source": [
    "import re "
   ]
  },
  {
   "cell_type": "code",
   "execution_count": 150,
   "id": "b84cd2d1-87af-49c1-a562-69628c673389",
   "metadata": {},
   "outputs": [],
   "source": [
    "i = 0\n",
    "addr_fin = pd.Series() # 빈 시리즈 생성\n",
    "for string in addr:\n",
    "    newstring = re.sub(r'[0-9]+','', string).replace(' ', '')\n",
    "    addr_fin[i] = newstring\n",
    "    i += 1"
   ]
  },
  {
   "cell_type": "code",
   "execution_count": 151,
   "id": "c5685dd2-3aa9-41fe-92ab-401bd23981b2",
   "metadata": {},
   "outputs": [],
   "source": [
    "i = 0\n",
    "addr_open_fin = pd.Series() # 빈 시리즈 생성\n",
    "for string in addr_open:\n",
    "    newstring = re.sub(r'[0-9]+','', string).replace(' ', '')\n",
    "    addr_open_fin[i] = newstring\n",
    "    i += 1"
   ]
  },
  {
   "cell_type": "code",
   "execution_count": 152,
   "id": "cb2a13bb-1009-4a49-b0d5-742f708a9561",
   "metadata": {},
   "outputs": [],
   "source": [
    "i = 0\n",
    "addr_close_fin = pd.Series() # 빈 시리즈 생성\n",
    "for string in addr_close:\n",
    "    newstring = re.sub(r'[0-9]+','', string).replace(' ', '')\n",
    "    addr_close_fin[i] = newstring\n",
    "    i += 1"
   ]
  },
  {
   "cell_type": "code",
   "execution_count": 153,
   "id": "5b8a9d15-cab4-4875-bb93-acabbe7ae458",
   "metadata": {},
   "outputs": [
    {
     "data": {
      "text/plain": [
       "0       대치동\n",
       "1       신사동\n",
       "2       논현동\n",
       "3       삼성동\n",
       "4       대치동\n",
       "       ... \n",
       "1172    도곡동\n",
       "1173    도곡동\n",
       "1174    역삼동\n",
       "1175    역삼동\n",
       "1176    논현동\n",
       "Length: 1177, dtype: object"
      ]
     },
     "execution_count": 153,
     "metadata": {},
     "output_type": "execute_result"
    }
   ],
   "source": [
    "addr_fin"
   ]
  },
  {
   "cell_type": "code",
   "execution_count": 155,
   "id": "7752124c-8e43-45d7-bb06-8e9d5e607950",
   "metadata": {
    "scrolled": true
   },
   "outputs": [
    {
     "data": {
      "text/plain": [
       "역삼동     280\n",
       "논현동     167\n",
       "대치동     159\n",
       "삼성동     153\n",
       "신사동     147\n",
       "청담동      69\n",
       "개포동      68\n",
       "도곡동      51\n",
       "압구정동     28\n",
       "일원동      28\n",
       "수서동      18\n",
       "세곡동       5\n",
       "자곡동       2\n",
       "율현동       1\n",
       "청담동산      1\n",
       "Name: count, dtype: int64"
      ]
     },
     "execution_count": 155,
     "metadata": {},
     "output_type": "execute_result"
    },
    {
     "data": {
      "text/plain": [
       "역삼동     176\n",
       "논현동     113\n",
       "삼성동     108\n",
       "대치동      99\n",
       "신사동      99\n",
       "개포동      57\n",
       "청담동      52\n",
       "도곡동      35\n",
       "압구정동     22\n",
       "일원동      20\n",
       "수서동      11\n",
       "세곡동       4\n",
       "청담동산      1\n",
       "Name: count, dtype: int64"
      ]
     },
     "execution_count": 155,
     "metadata": {},
     "output_type": "execute_result"
    },
    {
     "data": {
      "text/plain": [
       "역삼동     176\n",
       "논현동     113\n",
       "삼성동     108\n",
       "대치동      99\n",
       "신사동      99\n",
       "개포동      57\n",
       "청담동      52\n",
       "도곡동      35\n",
       "압구정동     22\n",
       "일원동      20\n",
       "수서동      11\n",
       "세곡동       4\n",
       "청담동산      1\n",
       "Name: count, dtype: int64"
      ]
     },
     "execution_count": 155,
     "metadata": {},
     "output_type": "execute_result"
    }
   ],
   "source": [
    "addr_fin.value_counts()\n",
    "addr_open_fin.value_counts()\n",
    "addr_close_fin.value_counts()"
   ]
  },
  {
   "cell_type": "code",
   "execution_count": 145,
   "id": "52074671-eee1-4bf5-8dd1-3b3670833d6d",
   "metadata": {},
   "outputs": [],
   "source": [
    "addr_fin = addr_fin.str.replace('-', '').str.replace('논현동번', '논현동')\n",
    "addr_fin = addr_fin.str.replace('산', '').str.replace('청담동산', '청담동')"
   ]
  },
  {
   "cell_type": "code",
   "execution_count": 156,
   "id": "d32a7dc1-183b-4f70-be78-d899d116af05",
   "metadata": {},
   "outputs": [],
   "source": [
    "addr_open_fin = addr_open_fin.str.replace('-', '').str.replace('논현동번', '논현동')\n",
    "addr_open_fin = addr_open_fin.str.replace('산', '').str.replace('청담동산', '청담동')"
   ]
  },
  {
   "cell_type": "code",
   "execution_count": 157,
   "id": "79ddc979-e835-4108-bd00-82689aa72cfd",
   "metadata": {},
   "outputs": [],
   "source": [
    "addr_close_fin = addr_close_fin.str.replace('-', '').str.replace('논현동번', '논현동')\n",
    "addr_close_fin = addr_close_fin.str.replace('산', '').str.replace('청담동산', '청담동')"
   ]
  },
  {
   "cell_type": "code",
   "execution_count": 158,
   "id": "7014c8cb-998b-41c6-b12f-e8fe0784054a",
   "metadata": {},
   "outputs": [
    {
     "data": {
      "text/plain": [
       "0       대치동\n",
       "1       신사동\n",
       "2       논현동\n",
       "3       삼성동\n",
       "4       대치동\n",
       "       ... \n",
       "1172    도곡동\n",
       "1173    도곡동\n",
       "1174    역삼동\n",
       "1175    역삼동\n",
       "1176    논현동\n",
       "Length: 1177, dtype: object"
      ]
     },
     "execution_count": 158,
     "metadata": {},
     "output_type": "execute_result"
    }
   ],
   "source": [
    "addr_fin "
   ]
  },
  {
   "cell_type": "code",
   "execution_count": 159,
   "id": "1af15d1e-16db-41a8-9a9f-530308246d06",
   "metadata": {},
   "outputs": [],
   "source": [
    "cnt = addr_fin.value_counts() "
   ]
  },
  {
   "cell_type": "code",
   "execution_count": 161,
   "id": "9991162d-3a23-43e6-b7fc-4f1d0c1cd2bb",
   "metadata": {},
   "outputs": [],
   "source": [
    "cnt_open = addr_open_fin.value_counts() "
   ]
  },
  {
   "cell_type": "code",
   "execution_count": 162,
   "id": "52acf503-59ad-40ab-a26c-ca9f3c9c8978",
   "metadata": {},
   "outputs": [],
   "source": [
    "cnt_close = addr_close_fin.value_counts() "
   ]
  },
  {
   "cell_type": "code",
   "execution_count": 160,
   "id": "2385deac-9b8c-438f-aa0b-3f8d83d5d758",
   "metadata": {},
   "outputs": [],
   "source": [
    "import squarify"
   ]
  },
  {
   "cell_type": "code",
   "execution_count": 149,
   "id": "7a289ed9-e496-4ca0-894d-cc54660b8869",
   "metadata": {},
   "outputs": [
    {
     "data": {
      "text/plain": [
       "<Axes: >"
      ]
     },
     "execution_count": 149,
     "metadata": {},
     "output_type": "execute_result"
    },
    {
     "data": {
      "image/png": "[encoded data removed]",
      "text/plain": [
       "<Figure size 640x480 with 1 Axes>"
      ]
     },
     "metadata": {},
     "output_type": "display_data"
    }
   ],
   "source": [
    "squarify.plot(cnt, label = cnt.index)"
   ]
  },
  {
   "cell_type": "code",
   "execution_count": 163,
   "id": "cd7eec8c-397a-477e-9cb7-3128664d455c",
   "metadata": {},
   "outputs": [
    {
     "data": {
      "text/plain": [
       "<Axes: >"
      ]
     },
     "execution_count": 163,
     "metadata": {},
     "output_type": "execute_result"
    },
    {
     "data": {
      "image/png": "[encoded data removed]",
      "text/plain": [
       "<Figure size 640x480 with 1 Axes>"
      ]
     },
     "metadata": {},
     "output_type": "display_data"
    }
   ],
   "source": [
    "squarify.plot(cnt_open, label = cnt_open.index)"
   ]
  },
  {
   "cell_type": "code",
   "execution_count": 164,
   "id": "e17ee548-1912-4bf9-a6f4-acbbbcad36ed",
   "metadata": {},
   "outputs": [
    {
     "data": {
      "text/plain": [
       "<Axes: >"
      ]
     },
     "execution_count": 164,
     "metadata": {},
     "output_type": "execute_result"
    },
    {
     "data": {
      "image/png": "[encoded data removed]",
      "text/plain": [
       "<Figure size 640x480 with 1 Axes>"
      ]
     },
     "metadata": {},
     "output_type": "display_data"
    }
   ],
   "source": [
    "squarify.plot(cnt_close, label = cnt_close.index)"
   ]
  },
  {
   "cell_type": "code",
   "execution_count": null,
   "id": "70c3372e-7534-430d-bcce-5f522887afe3",
   "metadata": {},
   "outputs": [],
   "source": []
  }
 ],
 "metadata": {
  "kernelspec": {
   "display_name": "Python 3 (ipykernel)",
   "language": "python",
   "name": "python3"
  },
  "language_info": {
   "codemirror_mode": {
    "name": "ipython",
    "version": 3
   },
   "file_extension": ".py",
   "mimetype": "text/x-python",
   "name": "python",
   "nbconvert_exporter": "python",
   "pygments_lexer": "ipython3",
   "version": "3.10.10"
  }
 },
 "nbformat": 4,
 "nbformat_minor": 5
}
