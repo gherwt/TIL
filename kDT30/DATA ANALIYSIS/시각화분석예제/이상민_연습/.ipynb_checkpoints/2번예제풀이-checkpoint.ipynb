{
 "cells": [
  {
   "cell_type": "code",
   "execution_count": 93,
   "id": "426a4d1d-ba3e-42db-880e-5793435145fd",
   "metadata": {},
   "outputs": [],
   "source": [
    "import pandas as pd\n",
    "import numpy as np\n",
    "import matplotlib.pyplot as plt\n",
    "from pandas import Series, DataFrame\n",
    "import squarify \n",
    "%matplotlib inline"
   ]
  },
  {
   "cell_type": "code",
   "execution_count": 94,
   "id": "065c0949-06e2-41c2-a2c9-fdb0df5e3106",
   "metadata": {},
   "outputs": [],
   "source": [
    "import platform\n",
    "\n",
    "from matplotlib import font_manager, rc\n",
    "plt.rcParams['axes.unicode_minus'] = False\n",
    "\n",
    "if platform.system() == 'Darwin':  # 맥OS \n",
    "    rc('font', family='AppleGothic')\n",
    "elif platform.system() == 'Windows':  # 윈도우\n",
    "    path = \"c:/Windows/Fonts/malgun.ttf\"\n",
    "    font_name = font_manager.FontProperties(fname=path).get_name()\n",
    "    rc('font', family=font_name)\n",
    "else:\n",
    "    print('Unknown system...  sorry~~~')"
   ]
  },
  {
   "cell_type": "code",
   "execution_count": 95,
   "id": "dc727b1f-3f0e-4912-a741-a2e7d7555d62",
   "metadata": {},
   "outputs": [],
   "source": [
    "data = pd.read_csv('./data/서울특별시_일반음식점.csv', \n",
    "                  encoding = 'cp949',\n",
    "                  low_memory = False)"
   ]
  },
  {
   "cell_type": "code",
   "execution_count": 98,
   "id": "eeb01d76-52c1-4c9b-8dc6-3b0c6e798aea",
   "metadata": {},
   "outputs": [
    {
     "data": {
      "text/plain": [
       "{'폐업'}"
      ]
     },
     "execution_count": 98,
     "metadata": {},
     "output_type": "execute_result"
    }
   ],
   "source": [
    "set(data.영업상태명[data.영업상태명.str.contains('폐업', na = False)])"
   ]
  },
  {
   "cell_type": "code",
   "execution_count": 99,
   "id": "68665626-aa1a-452d-b906-6c5a8e5d7b07",
   "metadata": {},
   "outputs": [],
   "source": [
    "data_fin = data[(data.영업상태명 == '폐업')]"
   ]
  },
  {
   "cell_type": "code",
   "execution_count": 100,
   "id": "df829f65-637e-4599-b59a-f57625707a7e",
   "metadata": {},
   "outputs": [],
   "source": [
    "data_fin = data_fin[['소재지전체주소','위생업태명']]"
   ]
  },
  {
   "cell_type": "code",
   "execution_count": 101,
   "id": "5b0d2996-e19c-427e-bca0-44ab7126ae82",
   "metadata": {},
   "outputs": [
    {
     "data": {
      "text/html": [
       "<div>\n",
       "<style scoped>\n",
       "    .dataframe tbody tr th:only-of-type {\n",
       "        vertical-align: middle;\n",
       "    }\n",
       "\n",
       "    .dataframe tbody tr th {\n",
       "        vertical-align: top;\n",
       "    }\n",
       "\n",
       "    .dataframe thead th {\n",
       "        text-align: right;\n",
       "    }\n",
       "</style>\n",
       "<table border=\"1\" class=\"dataframe\">\n",
       "  <thead>\n",
       "    <tr style=\"text-align: right;\">\n",
       "      <th></th>\n",
       "      <th>소재지전체주소</th>\n",
       "      <th>위생업태명</th>\n",
       "    </tr>\n",
       "  </thead>\n",
       "  <tbody>\n",
       "    <tr>\n",
       "      <th>124208</th>\n",
       "      <td>서울특별시 강남구 삼성동 157-18</td>\n",
       "      <td>경양식</td>\n",
       "    </tr>\n",
       "    <tr>\n",
       "      <th>124209</th>\n",
       "      <td>서울특별시 강남구 논현동 8-9</td>\n",
       "      <td>경양식</td>\n",
       "    </tr>\n",
       "    <tr>\n",
       "      <th>124210</th>\n",
       "      <td>서울특별시 광진구 중곡동 118-34</td>\n",
       "      <td>한식</td>\n",
       "    </tr>\n",
       "    <tr>\n",
       "      <th>124211</th>\n",
       "      <td>서울특별시 광진구 구의동 591-22 강변리버빌101호</td>\n",
       "      <td>기타</td>\n",
       "    </tr>\n",
       "    <tr>\n",
       "      <th>124212</th>\n",
       "      <td>서울특별시 강남구 압구정동 429 현대백화점본점</td>\n",
       "      <td>한식</td>\n",
       "    </tr>\n",
       "  </tbody>\n",
       "</table>\n",
       "</div>"
      ],
      "text/plain": [
       "                               소재지전체주소 위생업태명\n",
       "124208            서울특별시 강남구 삼성동 157-18   경양식\n",
       "124209               서울특별시 강남구 논현동 8-9   경양식\n",
       "124210            서울특별시 광진구 중곡동 118-34    한식\n",
       "124211  서울특별시 광진구 구의동 591-22 강변리버빌101호    기타\n",
       "124212      서울특별시 강남구 압구정동 429 현대백화점본점    한식"
      ]
     },
     "execution_count": 101,
     "metadata": {},
     "output_type": "execute_result"
    }
   ],
   "source": [
    "data_fin.head()"
   ]
  },
  {
   "cell_type": "code",
   "execution_count": 108,
   "id": "9ec87be1-71a8-4335-af6c-2af72284075c",
   "metadata": {},
   "outputs": [
    {
     "data": {
      "text/html": [
       "<div>\n",
       "<style scoped>\n",
       "    .dataframe tbody tr th:only-of-type {\n",
       "        vertical-align: middle;\n",
       "    }\n",
       "\n",
       "    .dataframe tbody tr th {\n",
       "        vertical-align: top;\n",
       "    }\n",
       "\n",
       "    .dataframe thead th {\n",
       "        text-align: right;\n",
       "    }\n",
       "</style>\n",
       "<table border=\"1\" class=\"dataframe\">\n",
       "  <thead>\n",
       "    <tr style=\"text-align: right;\">\n",
       "      <th></th>\n",
       "      <th>소재지전체주소</th>\n",
       "      <th>위생업태명</th>\n",
       "    </tr>\n",
       "  </thead>\n",
       "  <tbody>\n",
       "    <tr>\n",
       "      <th>124208</th>\n",
       "      <td>서울특별시 강남구 삼성동 157-18</td>\n",
       "      <td>경양식</td>\n",
       "    </tr>\n",
       "    <tr>\n",
       "      <th>124209</th>\n",
       "      <td>서울특별시 강남구 논현동 8-9</td>\n",
       "      <td>경양식</td>\n",
       "    </tr>\n",
       "    <tr>\n",
       "      <th>124210</th>\n",
       "      <td>서울특별시 광진구 중곡동 118-34</td>\n",
       "      <td>한식</td>\n",
       "    </tr>\n",
       "    <tr>\n",
       "      <th>124211</th>\n",
       "      <td>서울특별시 광진구 구의동 591-22 강변리버빌101호</td>\n",
       "      <td>기타</td>\n",
       "    </tr>\n",
       "    <tr>\n",
       "      <th>124212</th>\n",
       "      <td>서울특별시 강남구 압구정동 429 현대백화점본점</td>\n",
       "      <td>한식</td>\n",
       "    </tr>\n",
       "  </tbody>\n",
       "</table>\n",
       "</div>"
      ],
      "text/plain": [
       "                               소재지전체주소 위생업태명\n",
       "124208            서울특별시 강남구 삼성동 157-18   경양식\n",
       "124209               서울특별시 강남구 논현동 8-9   경양식\n",
       "124210            서울특별시 광진구 중곡동 118-34    한식\n",
       "124211  서울특별시 광진구 구의동 591-22 강변리버빌101호    기타\n",
       "124212      서울특별시 강남구 압구정동 429 현대백화점본점    한식"
      ]
     },
     "execution_count": 108,
     "metadata": {},
     "output_type": "execute_result"
    }
   ],
   "source": [
    "res = data_fin.소재지전체주소.str.contains('서울특별시', na = False)\n",
    "data_seo = data_fin[res]\n",
    "data_seo.head()"
   ]
  },
  {
   "cell_type": "code",
   "execution_count": 109,
   "id": "785a5db8-720b-40c5-9b69-6636d8bbab44",
   "metadata": {},
   "outputs": [],
   "source": [
    "addr = data_fin.소재지전체주소.str.slice(start = 6, stop = 9)"
   ]
  },
  {
   "cell_type": "code",
   "execution_count": 110,
   "id": "0715321c-9ba2-4795-b8e3-bbd54a4c791c",
   "metadata": {},
   "outputs": [
    {
     "data": {
      "text/plain": [
       "124208    강남구\n",
       "124209    강남구\n",
       "124210    광진구\n",
       "124211    광진구\n",
       "124212    강남구\n",
       "         ... \n",
       "472910    강남구\n",
       "472911    강남구\n",
       "472912    강남구\n",
       "472913    강서구\n",
       "472914    마포구\n",
       "Name: 소재지전체주소, Length: 348707, dtype: object"
      ]
     },
     "execution_count": 110,
     "metadata": {},
     "output_type": "execute_result"
    }
   ],
   "source": [
    "addr"
   ]
  },
  {
   "cell_type": "code",
   "execution_count": 111,
   "id": "4eb7592b-3a69-4b2d-9c22-0356ce8c43b7",
   "metadata": {},
   "outputs": [],
   "source": [
    "restraunt_cnt = addr.value_counts()"
   ]
  },
  {
   "cell_type": "code",
   "execution_count": 112,
   "id": "152f157d-6d49-49d3-9489-c8106d2e866a",
   "metadata": {},
   "outputs": [
    {
     "data": {
      "text/plain": [
       "소재지전체주소\n",
       "강남구    31816\n",
       "송파구    19763\n",
       "서초구    18940\n",
       "영등포    17467\n",
       "강동구    17006\n",
       "마포구    16997\n",
       "동대문    15648\n",
       "관악구    15599\n",
       "강서구    14219\n",
       "구로구    13624\n",
       "중구     13480\n",
       "양천구    12947\n",
       "서대문    12535\n",
       "성북구    12288\n",
       "중랑구    12236\n",
       "강북구    11914\n",
       "은평구    11855\n",
       "광진구    11792\n",
       "종로구    11587\n",
       "노원구    10731\n",
       "동작구     9868\n",
       "금천구     9311\n",
       "용산구     9186\n",
       "성동구     9099\n",
       "도봉구     8640\n",
       "시 일        2\n",
       "도 제        1\n",
       "시 수        1\n",
       "시 분        1\n",
       "수영구        1\n",
       "Name: count, dtype: int64"
      ]
     },
     "execution_count": 112,
     "metadata": {},
     "output_type": "execute_result"
    }
   ],
   "source": [
    "restraunt_cnt"
   ]
  },
  {
   "cell_type": "code",
   "execution_count": 113,
   "id": "b69e6b0a-ff0e-4a15-8223-34fb112fe80c",
   "metadata": {},
   "outputs": [
    {
     "data": {
      "text/plain": [
       "<Axes: >"
      ]
     },
     "execution_count": 113,
     "metadata": {},
     "output_type": "execute_result"
    },
    {
     "data": {
      "image/png": "[encoded data removed]",
      "text/plain": [
       "<Figure size 640x480 with 1 Axes>"
      ]
     },
     "metadata": {},
     "output_type": "display_data"
    }
   ],
   "source": [
    "squarify.plot(restraunt_cnt, label = restraunt_cnt.index)"
   ]
  },
  {
   "cell_type": "code",
   "execution_count": null,
   "id": "0e3748ed-b911-48c7-9cf3-0adb96fcfdc0",
   "metadata": {},
   "outputs": [],
   "source": []
  },
  {
   "cell_type": "code",
   "execution_count": null,
   "id": "a426e17e-3eef-496b-af06-0dac508d0a5b",
   "metadata": {},
   "outputs": [],
   "source": []
  },
  {
   "cell_type": "code",
   "execution_count": null,
   "id": "63d0a9a7-e4fb-4127-b5f3-d3ce482706ae",
   "metadata": {},
   "outputs": [],
   "source": []
  },
  {
   "cell_type": "code",
   "execution_count": null,
   "id": "1612a3f2-eb1a-4378-b379-286c89a8a95d",
   "metadata": {},
   "outputs": [],
   "source": []
  },
  {
   "cell_type": "code",
   "execution_count": null,
   "id": "5aab6d8a-926a-43f3-8bfb-72d9fb2f7241",
   "metadata": {},
   "outputs": [],
   "source": []
  }
 ],
 "metadata": {
  "kernelspec": {
   "display_name": "Python 3 (ipykernel)",
   "language": "python",
   "name": "python3"
  },
  "language_info": {
   "codemirror_mode": {
    "name": "ipython",
    "version": 3
   },
   "file_extension": ".py",
   "mimetype": "text/x-python",
   "name": "python",
   "nbconvert_exporter": "python",
   "pygments_lexer": "ipython3",
   "version": "3.10.10"
  }
 },
 "nbformat": 4,
 "nbformat_minor": 5
}
