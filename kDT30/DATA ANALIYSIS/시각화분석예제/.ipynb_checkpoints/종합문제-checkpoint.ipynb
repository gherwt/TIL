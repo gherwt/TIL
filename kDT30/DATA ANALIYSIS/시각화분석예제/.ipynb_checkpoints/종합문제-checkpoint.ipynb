{
 "cells": [
  {
   "cell_type": "code",
   "execution_count": 15,
   "id": "0b61ba3e-15ab-4ea4-a2f2-855ae884201c",
   "metadata": {},
   "outputs": [],
   "source": [
    "# 관련 모듈 import 하기\n",
    "import pandas as pd\n",
    "import numpy as np"
   ]
  },
  {
   "cell_type": "code",
   "execution_count": 14,
   "id": "0d0e52f0-60fb-478c-b48b-841c86072625",
   "metadata": {},
   "outputs": [],
   "source": [
    "import matplotlib.pyplot as plt #그래프 패키지 모듈 등록\n",
    "%matplotlib inline \n",
    "#그래프는 show()함수를 통해서 독립창에서 실행되는 것이 원칙\n",
    "#그래프를 콘솔에서 바로 작도되록 하는 설정"
   ]
  },
  {
   "cell_type": "code",
   "execution_count": 13,
   "id": "640490b1-a7c0-4368-a1e2-0d6342da4108",
   "metadata": {},
   "outputs": [],
   "source": [
    "# 한글 문제\n",
    "# matplotlit의 기본 폰트에서 한글 지원되지 않기 때문에\n",
    "# matplotlib의 폰트 변경 필요\n",
    "import platform\n",
    "\n",
    "from matplotlib import font_manager, rc\n",
    "plt.rcParams['axes.unicode_minus'] = False\n",
    "\n",
    "if platform.system() == 'Darwin':  # 맥OS \n",
    "    rc('font', family='AppleGothic')\n",
    "elif platform.system() == 'Windows':  # 윈도우\n",
    "    path = \"c:/Windows/Fonts/malgun.ttf\"\n",
    "    font_name = font_manager.FontProperties(fname=path).get_name()\n",
    "    rc('font', family=font_name)\n",
    "else:\n",
    "    print('Unknown system...  sorry~~~')"
   ]
  },
  {
   "cell_type": "code",
   "execution_count": 16,
   "id": "cf16897e-16e6-4123-a439-4ad7db0893cf",
   "metadata": {},
   "outputs": [],
   "source": [
    "# 콘솔에서 모든 출력 허용하기\n",
    "from IPython.core.interactiveshell import InteractiveShell\n",
    "InteractiveShell.ast_node_interactivity=\"all\""
   ]
  },
  {
   "cell_type": "code",
   "execution_count": 17,
   "id": "250f9366-1dbd-4b8a-89d4-4a2e0dfa9e5e",
   "metadata": {},
   "outputs": [],
   "source": [
    "# 판다스 데이터프레임(DataFrame)을 출력할 때, 최대 출력할 수 있는 컬럼을 100개로 \n",
    "# 데이터를 분석할 때 출력해서 확인하기 편함\n",
    "pd.options.display.max_columns = 100"
   ]
  },
  {
   "cell_type": "code",
   "execution_count": 32,
   "id": "4b913426-20cb-492b-8b12-8c492f8d45b4",
   "metadata": {},
   "outputs": [],
   "source": [
    "raw_data = pd.read_csv('./data/차주정보.csv', encoding='cp949', low_memory = False)"
   ]
  },
  {
   "cell_type": "markdown",
   "id": "96ad8309-42e4-45c7-866b-cdf9d1a5890d",
   "metadata": {},
   "source": [
    "1. raw_data 변수에 할당된 데이터의 행렬 사이즈를 출력하시오\n",
    "    - 출력은 (row, column) 으로 표시됩니다"
   ]
  },
  {
   "cell_type": "code",
   "execution_count": 22,
   "id": "6e58b45e-0414-45ae-8986-80f75e6c7d44",
   "metadata": {},
   "outputs": [
    {
     "data": {
      "text/plain": [
       "(50, 4)"
      ]
     },
     "execution_count": 22,
     "metadata": {},
     "output_type": "execute_result"
    }
   ],
   "source": [
    "raw_data.shape"
   ]
  },
  {
   "cell_type": "markdown",
   "id": "c6257d3f-9d44-47b6-b366-aa9d4982d021",
   "metadata": {},
   "source": [
    "2. raw_data의 처음과 마지막 5행씩을 출력하시오"
   ]
  },
  {
   "cell_type": "code",
   "execution_count": 23,
   "id": "e1542709-0b00-48b2-8efd-f8b3d9dcf55b",
   "metadata": {},
   "outputs": [
    {
     "data": {
      "text/html": [
       "<div>\n",
       "<style scoped>\n",
       "    .dataframe tbody tr th:only-of-type {\n",
       "        vertical-align: middle;\n",
       "    }\n",
       "\n",
       "    .dataframe tbody tr th {\n",
       "        vertical-align: top;\n",
       "    }\n",
       "\n",
       "    .dataframe thead th {\n",
       "        text-align: right;\n",
       "    }\n",
       "</style>\n",
       "<table border=\"1\" class=\"dataframe\">\n",
       "  <thead>\n",
       "    <tr style=\"text-align: right;\">\n",
       "      <th></th>\n",
       "      <th>strd_yymm</th>\n",
       "      <th>deto_id</th>\n",
       "      <th>bth_yr</th>\n",
       "      <th>sex_cd</th>\n",
       "    </tr>\n",
       "  </thead>\n",
       "  <tbody>\n",
       "    <tr>\n",
       "      <th>0</th>\n",
       "      <td>202010</td>\n",
       "      <td>X0010254691714933659</td>\n",
       "      <td>1990</td>\n",
       "      <td>1</td>\n",
       "    </tr>\n",
       "    <tr>\n",
       "      <th>1</th>\n",
       "      <td>202010</td>\n",
       "      <td>X0013455316779233219</td>\n",
       "      <td>1954</td>\n",
       "      <td>2</td>\n",
       "    </tr>\n",
       "    <tr>\n",
       "      <th>2</th>\n",
       "      <td>202010</td>\n",
       "      <td>X0019385710745765957</td>\n",
       "      <td>1977</td>\n",
       "      <td>1</td>\n",
       "    </tr>\n",
       "    <tr>\n",
       "      <th>3</th>\n",
       "      <td>202010</td>\n",
       "      <td>X0019442830801994941</td>\n",
       "      <td>1992</td>\n",
       "      <td>1</td>\n",
       "    </tr>\n",
       "    <tr>\n",
       "      <th>4</th>\n",
       "      <td>202010</td>\n",
       "      <td>X0032015350750301834</td>\n",
       "      <td>1968</td>\n",
       "      <td>1</td>\n",
       "    </tr>\n",
       "  </tbody>\n",
       "</table>\n",
       "</div>"
      ],
      "text/plain": [
       "   strd_yymm               deto_id  bth_yr  sex_cd\n",
       "0     202010  X0010254691714933659    1990       1\n",
       "1     202010  X0013455316779233219    1954       2\n",
       "2     202010  X0019385710745765957    1977       1\n",
       "3     202010  X0019442830801994941    1992       1\n",
       "4     202010  X0032015350750301834    1968       1"
      ]
     },
     "execution_count": 23,
     "metadata": {},
     "output_type": "execute_result"
    },
    {
     "data": {
      "text/html": [
       "<div>\n",
       "<style scoped>\n",
       "    .dataframe tbody tr th:only-of-type {\n",
       "        vertical-align: middle;\n",
       "    }\n",
       "\n",
       "    .dataframe tbody tr th {\n",
       "        vertical-align: top;\n",
       "    }\n",
       "\n",
       "    .dataframe thead th {\n",
       "        text-align: right;\n",
       "    }\n",
       "</style>\n",
       "<table border=\"1\" class=\"dataframe\">\n",
       "  <thead>\n",
       "    <tr style=\"text-align: right;\">\n",
       "      <th></th>\n",
       "      <th>strd_yymm</th>\n",
       "      <th>deto_id</th>\n",
       "      <th>bth_yr</th>\n",
       "      <th>sex_cd</th>\n",
       "    </tr>\n",
       "  </thead>\n",
       "  <tbody>\n",
       "    <tr>\n",
       "      <th>45</th>\n",
       "      <td>202010</td>\n",
       "      <td>X0456268139651732219</td>\n",
       "      <td>1950</td>\n",
       "      <td>2</td>\n",
       "    </tr>\n",
       "    <tr>\n",
       "      <th>46</th>\n",
       "      <td>202010</td>\n",
       "      <td>X0471166329698944221</td>\n",
       "      <td>1956</td>\n",
       "      <td>1</td>\n",
       "    </tr>\n",
       "    <tr>\n",
       "      <th>47</th>\n",
       "      <td>202010</td>\n",
       "      <td>X0472554518406992051</td>\n",
       "      <td>1982</td>\n",
       "      <td>2</td>\n",
       "    </tr>\n",
       "    <tr>\n",
       "      <th>48</th>\n",
       "      <td>202010</td>\n",
       "      <td>X0473756250702972881</td>\n",
       "      <td>1958</td>\n",
       "      <td>2</td>\n",
       "    </tr>\n",
       "    <tr>\n",
       "      <th>49</th>\n",
       "      <td>202010</td>\n",
       "      <td>X0474444465014724107</td>\n",
       "      <td>1967</td>\n",
       "      <td>1</td>\n",
       "    </tr>\n",
       "  </tbody>\n",
       "</table>\n",
       "</div>"
      ],
      "text/plain": [
       "    strd_yymm               deto_id  bth_yr  sex_cd\n",
       "45     202010  X0456268139651732219    1950       2\n",
       "46     202010  X0471166329698944221    1956       1\n",
       "47     202010  X0472554518406992051    1982       2\n",
       "48     202010  X0473756250702972881    1958       2\n",
       "49     202010  X0474444465014724107    1967       1"
      ]
     },
     "execution_count": 23,
     "metadata": {},
     "output_type": "execute_result"
    }
   ],
   "source": [
    "raw_data.head(5)\n",
    "raw_data.tail(5)"
   ]
  },
  {
   "cell_type": "code",
   "execution_count": 28,
   "id": "0a6395fa-4486-44f3-845d-bd24a8e9ff38",
   "metadata": {},
   "outputs": [
    {
     "name": "stdout",
     "output_type": "stream",
     "text": [
      "<class 'pandas.core.frame.DataFrame'>\n",
      "RangeIndex: 50 entries, 0 to 49\n",
      "Data columns (total 4 columns):\n",
      " #   Column     Non-Null Count  Dtype \n",
      "---  ------     --------------  ----- \n",
      " 0   strd_yymm  50 non-null     int64 \n",
      " 1   deto_id    50 non-null     object\n",
      " 2   bth_yr     50 non-null     int64 \n",
      " 3   sex_cd     50 non-null     int64 \n",
      "dtypes: int64(3), object(1)\n",
      "memory usage: 1.7+ KB\n"
     ]
    },
    {
     "data": {
      "text/plain": [
       "RangeIndex(start=0, stop=50, step=1)"
      ]
     },
     "execution_count": 28,
     "metadata": {},
     "output_type": "execute_result"
    },
    {
     "data": {
      "text/plain": [
       "Index(['strd_yymm', 'deto_id', 'bth_yr', 'sex_cd'], dtype='object')"
      ]
     },
     "execution_count": 28,
     "metadata": {},
     "output_type": "execute_result"
    }
   ],
   "source": [
    "raw_data.info()\n",
    "raw_data.index\n",
    "raw_data.columns"
   ]
  },
  {
   "cell_type": "code",
   "execution_count": 37,
   "id": "6f98a200-0efc-44e8-8aa5-f1b35718c3ca",
   "metadata": {},
   "outputs": [],
   "source": [
    "# 열 이름 변경 메서드 : df.rename(columns={'Before':'After'})\n",
    "# inplace = True -> 데이터를 저장하겠다는 것을 의미한다.\n",
    "# inplace = False -> 저장하지 않겠다는 것을 의미함.\n",
    "raw_data.rename(columns={'strd_yymm':'수집년월',\n",
    "                        'deto_id' : '사용자ID',\n",
    "                        'bth_yr' : '생년'}, inplace = True)"
   ]
  },
  {
   "cell_type": "code",
   "execution_count": 38,
   "id": "c121435e-0712-4309-b3cc-7c11942cd1cd",
   "metadata": {},
   "outputs": [
    {
     "data": {
      "text/html": [
       "<div>\n",
       "<style scoped>\n",
       "    .dataframe tbody tr th:only-of-type {\n",
       "        vertical-align: middle;\n",
       "    }\n",
       "\n",
       "    .dataframe tbody tr th {\n",
       "        vertical-align: top;\n",
       "    }\n",
       "\n",
       "    .dataframe thead th {\n",
       "        text-align: right;\n",
       "    }\n",
       "</style>\n",
       "<table border=\"1\" class=\"dataframe\">\n",
       "  <thead>\n",
       "    <tr style=\"text-align: right;\">\n",
       "      <th></th>\n",
       "      <th>수집년월</th>\n",
       "      <th>사용자ID</th>\n",
       "      <th>생년</th>\n",
       "      <th>sex_cd</th>\n",
       "    </tr>\n",
       "  </thead>\n",
       "  <tbody>\n",
       "    <tr>\n",
       "      <th>0</th>\n",
       "      <td>202010</td>\n",
       "      <td>X0010254691714933659</td>\n",
       "      <td>1990</td>\n",
       "      <td>1</td>\n",
       "    </tr>\n",
       "    <tr>\n",
       "      <th>1</th>\n",
       "      <td>202010</td>\n",
       "      <td>X0013455316779233219</td>\n",
       "      <td>1954</td>\n",
       "      <td>2</td>\n",
       "    </tr>\n",
       "  </tbody>\n",
       "</table>\n",
       "</div>"
      ],
      "text/plain": [
       "     수집년월                 사용자ID    생년  sex_cd\n",
       "0  202010  X0010254691714933659  1990       1\n",
       "1  202010  X0013455316779233219  1954       2"
      ]
     },
     "execution_count": 38,
     "metadata": {},
     "output_type": "execute_result"
    }
   ],
   "source": [
    "raw_data.head(2)"
   ]
  },
  {
   "cell_type": "markdown",
   "id": "550a4916-24a0-4b51-bfd3-558d61a30957",
   "metadata": {},
   "source": [
    "5. 3번에서 확인한 인덱스를 1부터 50 까지의 정수로 수정하고 데이터를 출력하여 확인하시오"
   ]
  },
  {
   "cell_type": "code",
   "execution_count": 59,
   "id": "326d130a-1abd-485e-8ab5-b157730962c8",
   "metadata": {},
   "outputs": [
    {
     "data": {
      "text/html": [
       "<div>\n",
       "<style scoped>\n",
       "    .dataframe tbody tr th:only-of-type {\n",
       "        vertical-align: middle;\n",
       "    }\n",
       "\n",
       "    .dataframe tbody tr th {\n",
       "        vertical-align: top;\n",
       "    }\n",
       "\n",
       "    .dataframe thead th {\n",
       "        text-align: right;\n",
       "    }\n",
       "</style>\n",
       "<table border=\"1\" class=\"dataframe\">\n",
       "  <thead>\n",
       "    <tr style=\"text-align: right;\">\n",
       "      <th></th>\n",
       "      <th>수집년월</th>\n",
       "      <th>사용자ID</th>\n",
       "      <th>생년</th>\n",
       "      <th>sex_cd</th>\n",
       "    </tr>\n",
       "  </thead>\n",
       "  <tbody>\n",
       "    <tr>\n",
       "      <th>1</th>\n",
       "      <td>202010</td>\n",
       "      <td>X0010254691714933659</td>\n",
       "      <td>1990</td>\n",
       "      <td>1</td>\n",
       "    </tr>\n",
       "    <tr>\n",
       "      <th>2</th>\n",
       "      <td>202010</td>\n",
       "      <td>X0013455316779233219</td>\n",
       "      <td>1954</td>\n",
       "      <td>2</td>\n",
       "    </tr>\n",
       "  </tbody>\n",
       "</table>\n",
       "</div>"
      ],
      "text/plain": [
       "     수집년월                 사용자ID    생년  sex_cd\n",
       "1  202010  X0010254691714933659  1990       1\n",
       "2  202010  X0013455316779233219  1954       2"
      ]
     },
     "execution_count": 59,
     "metadata": {},
     "output_type": "execute_result"
    },
    {
     "data": {
      "text/html": [
       "<div>\n",
       "<style scoped>\n",
       "    .dataframe tbody tr th:only-of-type {\n",
       "        vertical-align: middle;\n",
       "    }\n",
       "\n",
       "    .dataframe tbody tr th {\n",
       "        vertical-align: top;\n",
       "    }\n",
       "\n",
       "    .dataframe thead th {\n",
       "        text-align: right;\n",
       "    }\n",
       "</style>\n",
       "<table border=\"1\" class=\"dataframe\">\n",
       "  <thead>\n",
       "    <tr style=\"text-align: right;\">\n",
       "      <th></th>\n",
       "      <th>수집년월</th>\n",
       "      <th>사용자ID</th>\n",
       "      <th>생년</th>\n",
       "      <th>sex_cd</th>\n",
       "    </tr>\n",
       "  </thead>\n",
       "  <tbody>\n",
       "    <tr>\n",
       "      <th>49</th>\n",
       "      <td>202010</td>\n",
       "      <td>X0473756250702972881</td>\n",
       "      <td>1958</td>\n",
       "      <td>2</td>\n",
       "    </tr>\n",
       "    <tr>\n",
       "      <th>50</th>\n",
       "      <td>202010</td>\n",
       "      <td>X0474444465014724107</td>\n",
       "      <td>1967</td>\n",
       "      <td>1</td>\n",
       "    </tr>\n",
       "  </tbody>\n",
       "</table>\n",
       "</div>"
      ],
      "text/plain": [
       "      수집년월                 사용자ID    생년  sex_cd\n",
       "49  202010  X0473756250702972881  1958       2\n",
       "50  202010  X0474444465014724107  1967       1"
      ]
     },
     "execution_count": 59,
     "metadata": {},
     "output_type": "execute_result"
    }
   ],
   "source": [
    "# index 에 번호 할당해주기, 1부터 시작하기\n",
    "raw_data.index = range(1, 51)\n",
    "raw_data.head(2)\n",
    "raw_data.tail(2)"
   ]
  },
  {
   "cell_type": "markdown",
   "id": "ff679b0e-378f-4a55-b61e-c244e12e3605",
   "metadata": {},
   "source": [
    "6. 출생년도를 4개의 카테고리로 분류하여 연령대 필드를 생성하시오. \n",
    "- (청년(19에서 29세); 중년(30에서 49세); 장년(50에서 64세); 노년(65세 이상))\n",
    "- 2020년 나이를 기준으로 경계(bins)는 직접 설정 하시오"
   ]
  },
  {
   "cell_type": "code",
   "execution_count": 84,
   "id": "a6dbd0b4-5505-40d5-9faf-b87f249af436",
   "metadata": {},
   "outputs": [],
   "source": [
    "bins = [1991, 1971, 1956, 1955]\n",
    "연령대 = ['청년', '중년', '장년', '노년']\n",
    "\n",
    "raw_data['연령대'] = for bin in bins:\n",
    "                        if bin > raw_data['생년']"
   ]
  },
  {
   "cell_type": "code",
   "execution_count": 82,
   "id": "3429544a-a25e-4568-a8e5-f7eaab9aa872",
   "metadata": {},
   "outputs": [
    {
     "data": {
      "text/plain": [
       "1955"
      ]
     },
     "execution_count": 82,
     "metadata": {},
     "output_type": "execute_result"
    }
   ],
   "source": []
  },
  {
   "cell_type": "code",
   "execution_count": null,
   "id": "9a4da2c0-00b4-4f54-870f-b425d7cd5e92",
   "metadata": {},
   "outputs": [],
   "source": []
  },
  {
   "cell_type": "code",
   "execution_count": null,
   "id": "b560ff30-4ccd-421d-adb0-6044a440dca7",
   "metadata": {},
   "outputs": [],
   "source": []
  }
 ],
 "metadata": {
  "kernelspec": {
   "display_name": "Python 3 (ipykernel)",
   "language": "python",
   "name": "python3"
  },
  "language_info": {
   "codemirror_mode": {
    "name": "ipython",
    "version": 3
   },
   "file_extension": ".py",
   "mimetype": "text/x-python",
   "name": "python",
   "nbconvert_exporter": "python",
   "pygments_lexer": "ipython3",
   "version": "3.10.10"
  }
 },
 "nbformat": 4,
 "nbformat_minor": 5
}
