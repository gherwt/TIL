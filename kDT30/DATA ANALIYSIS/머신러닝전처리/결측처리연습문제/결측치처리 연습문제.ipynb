{
 "cells": [
  {
   "cell_type": "markdown",
   "id": "7b129e03",
   "metadata": {},
   "source": [
    "### 주어진 타이타닉 데이터를 확인하고 결측치가 있는 컬럼을 전처리 진행 하시오\n",
    "- 결측 삭제\n",
    "- 결측 대체\n",
    "- 위 두가지 방법을 활용하여 각 컬럼의 결측을 처리하고 진행 한 이유를 간단히 설명하시오."
   ]
  },
  {
   "cell_type": "code",
   "execution_count": 18,
   "id": "780fdf4f-0ae7-43fa-bc72-1d8509b69536",
   "metadata": {},
   "outputs": [],
   "source": [
    "import pandas as pd\n",
    "import numpy as np\n",
    "from scipy.spatial.distance import cdist\n",
    "from sklearn.cluster import DBSCAN\n",
    "from sklearn.model_selection import train_test_split\n",
    "import matplotlib.pyplot as plt\n",
    "from scipy import stats"
   ]
  },
  {
   "cell_type": "code",
   "execution_count": 19,
   "id": "e60d50c6-8d92-4b7a-8f0e-e340c668fe19",
   "metadata": {},
   "outputs": [],
   "source": [
    "titanic_df = pd.read_csv('./titanic_train.csv', encoding = 'cp949')"
   ]
  },
  {
   "cell_type": "code",
   "execution_count": 20,
   "id": "1df24a75-e979-4130-8bbb-2951cb94dcc9",
   "metadata": {},
   "outputs": [
    {
     "data": {
      "text/html": [
       "<div>\n",
       "<style scoped>\n",
       "    .dataframe tbody tr th:only-of-type {\n",
       "        vertical-align: middle;\n",
       "    }\n",
       "\n",
       "    .dataframe tbody tr th {\n",
       "        vertical-align: top;\n",
       "    }\n",
       "\n",
       "    .dataframe thead th {\n",
       "        text-align: right;\n",
       "    }\n",
       "</style>\n",
       "<table border=\"1\" class=\"dataframe\">\n",
       "  <thead>\n",
       "    <tr style=\"text-align: right;\">\n",
       "      <th></th>\n",
       "      <th>PassengerId</th>\n",
       "      <th>Survived</th>\n",
       "      <th>Pclass</th>\n",
       "      <th>Name</th>\n",
       "      <th>Sex</th>\n",
       "      <th>Age</th>\n",
       "      <th>SibSp</th>\n",
       "      <th>Parch</th>\n",
       "      <th>Ticket</th>\n",
       "      <th>Fare</th>\n",
       "      <th>Cabin</th>\n",
       "      <th>Embarked</th>\n",
       "    </tr>\n",
       "  </thead>\n",
       "  <tbody>\n",
       "    <tr>\n",
       "      <th>0</th>\n",
       "      <td>1</td>\n",
       "      <td>0</td>\n",
       "      <td>3</td>\n",
       "      <td>Braund, Mr. Owen Harris</td>\n",
       "      <td>male</td>\n",
       "      <td>22.0</td>\n",
       "      <td>1</td>\n",
       "      <td>0</td>\n",
       "      <td>A/5 21171</td>\n",
       "      <td>7.2500</td>\n",
       "      <td>NaN</td>\n",
       "      <td>S</td>\n",
       "    </tr>\n",
       "    <tr>\n",
       "      <th>1</th>\n",
       "      <td>2</td>\n",
       "      <td>1</td>\n",
       "      <td>1</td>\n",
       "      <td>Cumings, Mrs. John Bradley (Florence Briggs Th...</td>\n",
       "      <td>female</td>\n",
       "      <td>38.0</td>\n",
       "      <td>1</td>\n",
       "      <td>0</td>\n",
       "      <td>PC 17599</td>\n",
       "      <td>71.2833</td>\n",
       "      <td>C85</td>\n",
       "      <td>C</td>\n",
       "    </tr>\n",
       "    <tr>\n",
       "      <th>2</th>\n",
       "      <td>3</td>\n",
       "      <td>1</td>\n",
       "      <td>3</td>\n",
       "      <td>Heikkinen, Miss. Laina</td>\n",
       "      <td>female</td>\n",
       "      <td>26.0</td>\n",
       "      <td>0</td>\n",
       "      <td>0</td>\n",
       "      <td>STON/O2. 3101282</td>\n",
       "      <td>7.9250</td>\n",
       "      <td>NaN</td>\n",
       "      <td>S</td>\n",
       "    </tr>\n",
       "    <tr>\n",
       "      <th>3</th>\n",
       "      <td>4</td>\n",
       "      <td>1</td>\n",
       "      <td>1</td>\n",
       "      <td>Futrelle, Mrs. Jacques Heath (Lily May Peel)</td>\n",
       "      <td>female</td>\n",
       "      <td>35.0</td>\n",
       "      <td>1</td>\n",
       "      <td>0</td>\n",
       "      <td>113803</td>\n",
       "      <td>53.1000</td>\n",
       "      <td>C123</td>\n",
       "      <td>S</td>\n",
       "    </tr>\n",
       "    <tr>\n",
       "      <th>4</th>\n",
       "      <td>5</td>\n",
       "      <td>0</td>\n",
       "      <td>3</td>\n",
       "      <td>Allen, Mr. William Henry</td>\n",
       "      <td>male</td>\n",
       "      <td>35.0</td>\n",
       "      <td>0</td>\n",
       "      <td>0</td>\n",
       "      <td>373450</td>\n",
       "      <td>8.0500</td>\n",
       "      <td>NaN</td>\n",
       "      <td>S</td>\n",
       "    </tr>\n",
       "  </tbody>\n",
       "</table>\n",
       "</div>"
      ],
      "text/plain": [
       "   PassengerId  Survived  Pclass  \\\n",
       "0            1         0       3   \n",
       "1            2         1       1   \n",
       "2            3         1       3   \n",
       "3            4         1       1   \n",
       "4            5         0       3   \n",
       "\n",
       "                                                Name     Sex   Age  SibSp  \\\n",
       "0                            Braund, Mr. Owen Harris    male  22.0      1   \n",
       "1  Cumings, Mrs. John Bradley (Florence Briggs Th...  female  38.0      1   \n",
       "2                             Heikkinen, Miss. Laina  female  26.0      0   \n",
       "3       Futrelle, Mrs. Jacques Heath (Lily May Peel)  female  35.0      1   \n",
       "4                           Allen, Mr. William Henry    male  35.0      0   \n",
       "\n",
       "   Parch            Ticket     Fare Cabin Embarked  \n",
       "0      0         A/5 21171   7.2500   NaN        S  \n",
       "1      0          PC 17599  71.2833   C85        C  \n",
       "2      0  STON/O2. 3101282   7.9250   NaN        S  \n",
       "3      0            113803  53.1000  C123        S  \n",
       "4      0            373450   8.0500   NaN        S  "
      ]
     },
     "execution_count": 20,
     "metadata": {},
     "output_type": "execute_result"
    }
   ],
   "source": [
    "titanic_df.head(5)"
   ]
  },
  {
   "cell_type": "code",
   "execution_count": 21,
   "id": "a4e756ac-12bd-4439-a403-075b0d3c5917",
   "metadata": {},
   "outputs": [
    {
     "data": {
      "text/plain": [
       "(891, 12)"
      ]
     },
     "execution_count": 21,
     "metadata": {},
     "output_type": "execute_result"
    }
   ],
   "source": [
    "titanic_df.shape"
   ]
  },
  {
   "cell_type": "markdown",
   "id": "6dc7ac0c-dd40-4022-9592-c4cf9944e916",
   "metadata": {},
   "source": [
    "#### 컬럼별 결측 확인"
   ]
  },
  {
   "cell_type": "code",
   "execution_count": 22,
   "id": "4fbc2086-81e8-40da-87d0-0c4923c891d3",
   "metadata": {},
   "outputs": [
    {
     "data": {
      "text/plain": [
       "PassengerId      0\n",
       "Survived         0\n",
       "Pclass           0\n",
       "Name             0\n",
       "Sex              0\n",
       "Age            177\n",
       "SibSp            0\n",
       "Parch            0\n",
       "Ticket           0\n",
       "Fare             0\n",
       "Cabin          687\n",
       "Embarked         2\n",
       "dtype: int64"
      ]
     },
     "execution_count": 22,
     "metadata": {},
     "output_type": "execute_result"
    }
   ],
   "source": [
    "titanic_df.isnull().sum(axis = 0)"
   ]
  },
  {
   "cell_type": "markdown",
   "id": "d010582c-6370-4f10-ba97-2a2c6126b3b4",
   "metadata": {},
   "source": [
    "#### 결과를 보면 cabin, age 에서 결측치가 나타난다.\n",
    "####  결측이 있는 컬럼을 처리\n",
    "- 먼저 결측치가 나타난 Age 값은 상대적으로 승객 data에서 승객을 구별하는데 있어서 우선순위가 밀린다고 생각하였고\n",
    "    - Age 열을 삭제해주었다.\n",
    "    - Cabin 은 객실 번호로 승객들이 배의 ticket 을 구매했고 직접적으로 승객들을 확인할 수 있는 data 라 생각, NaN 값과 이웃하는 값이 같은 객실이라고 판단하고 결측치를 객실없음으로 대체했다."
   ]
  },
  {
   "cell_type": "code",
   "execution_count": 23,
   "id": "4045f1e3-66b7-48a2-8cfc-c3dce5c66a0c",
   "metadata": {},
   "outputs": [
    {
     "data": {
      "text/plain": [
       "(891, 11)"
      ]
     },
     "execution_count": 23,
     "metadata": {},
     "output_type": "execute_result"
    }
   ],
   "source": [
    "# age 열의 삭제\n",
    "titanic_df.drop('Age', axis = 1, inplace = True)\n",
    "titanic_df.shape"
   ]
  },
  {
   "cell_type": "code",
   "execution_count": 24,
   "id": "d2e43a65-fe0f-44d7-ab3c-dc5df8caf74a",
   "metadata": {
    "scrolled": true
   },
   "outputs": [
    {
     "data": {
      "text/plain": [
       "PassengerId      0\n",
       "Survived         0\n",
       "Pclass           0\n",
       "Name             0\n",
       "Sex              0\n",
       "SibSp            0\n",
       "Parch            0\n",
       "Ticket           0\n",
       "Fare             0\n",
       "Cabin          687\n",
       "Embarked         2\n",
       "dtype: int64"
      ]
     },
     "execution_count": 24,
     "metadata": {},
     "output_type": "execute_result"
    }
   ],
   "source": [
    "titanic_df.isnull().sum(axis = 0)"
   ]
  },
  {
   "cell_type": "code",
   "execution_count": 25,
   "id": "25884005-dc36-4517-b492-d97535cada66",
   "metadata": {},
   "outputs": [],
   "source": [
    "titanic_df = titanic_df.fillna('No_cabin')"
   ]
  },
  {
   "cell_type": "code",
   "execution_count": 26,
   "id": "2f07e252-de03-40c7-a624-95405bc6d153",
   "metadata": {},
   "outputs": [
    {
     "data": {
      "text/plain": [
       "PassengerId    0\n",
       "Survived       0\n",
       "Pclass         0\n",
       "Name           0\n",
       "Sex            0\n",
       "SibSp          0\n",
       "Parch          0\n",
       "Ticket         0\n",
       "Fare           0\n",
       "Cabin          0\n",
       "Embarked       0\n",
       "dtype: int64"
      ]
     },
     "execution_count": 26,
     "metadata": {},
     "output_type": "execute_result"
    }
   ],
   "source": [
    "titanic_df.isnull().sum(axis = 0)"
   ]
  },
  {
   "cell_type": "markdown",
   "id": "bf50695a-ee4a-41a3-b38f-4d744b7bb7e5",
   "metadata": {},
   "source": [
    "### 주어진 타이타닉 데이터를 확인하고 이상치가 있는 컬럼을 전처리 진행하시오\n",
    "\n",
    "- 이상치를 각 컬럼에서 찾아내고\n",
    "\n",
    "    - 이상치가 하나라도 있는 레코드를 삭제\n",
    "\n",
    "- 최종 학습데이터의 수를 확인"
   ]
  },
  {
   "cell_type": "code",
   "execution_count": 27,
   "id": "c13508b3-264c-4ed5-bdf4-cf2967d4c873",
   "metadata": {},
   "outputs": [
    {
     "data": {
      "text/plain": [
       "<function matplotlib.pyplot.show(close=None, block=None)>"
      ]
     },
     "execution_count": 27,
     "metadata": {},
     "output_type": "execute_result"
    },
    {
     "data": {
      "image/png": "[encoded data removed]",
      "text/plain": [
       "<Figure size 640x480 with 1 Axes>"
      ]
     },
     "metadata": {},
     "output_type": "display_data"
    }
   ],
   "source": [
    "fig, ax = plt.subplots()\n",
    "ax.boxplot(titanic_df['Fare'])\n",
    "plt.show"
   ]
  },
  {
   "cell_type": "code",
   "execution_count": 61,
   "id": "0577e1ea-b5c0-4ac3-8c21-f4cef25e58a1",
   "metadata": {},
   "outputs": [
    {
     "data": {
      "text/plain": [
       "{'whiskers': [<matplotlib.lines.Line2D at 0x24743ee2470>,\n",
       "  <matplotlib.lines.Line2D at 0x24743ee2710>],\n",
       " 'caps': [<matplotlib.lines.Line2D at 0x24743ee29b0>,\n",
       "  <matplotlib.lines.Line2D at 0x24743ee2c50>],\n",
       " 'boxes': [<matplotlib.lines.Line2D at 0x24743ee21d0>],\n",
       " 'medians': [<matplotlib.lines.Line2D at 0x24743e1af20>],\n",
       " 'fliers': [<matplotlib.lines.Line2D at 0x24743ee2bc0>],\n",
       " 'means': []}"
      ]
     },
     "execution_count": 61,
     "metadata": {},
     "output_type": "execute_result"
    },
    {
     "data": {
      "text/plain": [
       "<function matplotlib.pyplot.show(close=None, block=None)>"
      ]
     },
     "execution_count": 61,
     "metadata": {},
     "output_type": "execute_result"
    },
    {
     "data": {
      "image/png": "[encoded data removed]",
      "text/plain": [
       "<Figure size 640x480 with 1 Axes>"
      ]
     },
     "metadata": {},
     "output_type": "display_data"
    }
   ],
   "source": [
    "fig, ax = plt.subplots()\n",
    "ax.boxplot(titanic_df['SibSp'])\n",
    "plt.show   "
   ]
  },
  {
   "cell_type": "code",
   "execution_count": 29,
   "id": "488dab3e-729f-4b1b-ae12-febb5db996c0",
   "metadata": {},
   "outputs": [],
   "source": [
    "## IQR_rule을 계산하는 함수를 생성해서 사용\n",
    "\n",
    "# val_list로는 컬럼값을 전달(열벡터)\n",
    "def IQR_rule(val_list):\n",
    "    # IQR 계산\n",
    "    Q1 = np.quantile(val_list, 0.25)\n",
    "    Q3 = np.quantile(val_list, 0.75)\n",
    "    IQR = Q3 - Q1\n",
    "\n",
    "    # IQR rule의 위배여부를 표현하는 bool list 를 계산해서 반환\n",
    "    # 이상치의 조건 :  Q3 + 1.5 * IQR 초과하거나 Q1 - 1.5 * IQR 미만이거나\n",
    "    # Q3 + 1.5 * IQR > val_list / Q3 + 1.5 * IQR <= val_list 는 val_list가 상위 이상치 이하면 True,\n",
    "    # Q1 - 1.5 * IQR < val_list / Q1 - 1.5 * IQR >= val_list는 vla_list가 하위 이상치 이상이면 True\n",
    "    not_out_cond =  (Q3 + 1.5 * IQR > val_list) & (Q1 - 1.5 * IQR < val_list)\n",
    "    \n",
    "    # Q1, Q3, IQR 값은 저장해야 함\n",
    "    return not_out_cond"
   ]
  },
  {
   "cell_type": "code",
   "execution_count": 30,
   "id": "9b6f6b01-bc3e-454f-9769-830f894b0bba",
   "metadata": {},
   "outputs": [
    {
     "data": {
      "text/plain": [
       "0       True\n",
       "1      False\n",
       "2       True\n",
       "3       True\n",
       "4       True\n",
       "       ...  \n",
       "886     True\n",
       "887     True\n",
       "888     True\n",
       "889     True\n",
       "890     True\n",
       "Name: Fare, Length: 891, dtype: bool"
      ]
     },
     "execution_count": 30,
     "metadata": {},
     "output_type": "execute_result"
    }
   ],
   "source": [
    "tmp = IQR_rule(titanic_df['Fare'])\n",
    "tmp"
   ]
  },
  {
   "cell_type": "code",
   "execution_count": 31,
   "id": "ca0e3c23-df21-4dde-b566-95071a370934",
   "metadata": {},
   "outputs": [],
   "source": [
    "not_out_cond = IQR_rule(titanic_df['Fare'])\n",
    "filtered_data = titanic_df[not_out_cond]\n",
    "cleaned_titanic_df = pd.DataFrame(filtered_data)"
   ]
  },
  {
   "cell_type": "code",
   "execution_count": 32,
   "id": "050e6b3e-a72a-42b3-9bab-54746e386723",
   "metadata": {},
   "outputs": [],
   "source": [
    "not_out_cond = IQR_rule(titanic_df['SibSp'])\n",
    "filtered_data = titanic_df[not_out_cond]\n",
    "cleaned_titanic_df = pd.DataFrame(filtered_data)"
   ]
  },
  {
   "cell_type": "code",
   "execution_count": 33,
   "id": "c5763e77-508e-48cf-9448-ae3b017df67d",
   "metadata": {},
   "outputs": [
    {
     "name": "stdout",
     "output_type": "stream",
     "text": [
      "<class 'pandas.core.frame.DataFrame'>\n",
      "Index: 845 entries, 0 to 890\n",
      "Data columns (total 11 columns):\n",
      " #   Column       Non-Null Count  Dtype  \n",
      "---  ------       --------------  -----  \n",
      " 0   PassengerId  845 non-null    int64  \n",
      " 1   Survived     845 non-null    int64  \n",
      " 2   Pclass       845 non-null    int64  \n",
      " 3   Name         845 non-null    object \n",
      " 4   Sex          845 non-null    object \n",
      " 5   SibSp        845 non-null    int64  \n",
      " 6   Parch        845 non-null    int64  \n",
      " 7   Ticket       845 non-null    object \n",
      " 8   Fare         845 non-null    float64\n",
      " 9   Cabin        845 non-null    object \n",
      " 10  Embarked     845 non-null    object \n",
      "dtypes: float64(1), int64(5), object(5)\n",
      "memory usage: 79.2+ KB\n"
     ]
    }
   ],
   "source": [
    "cleaned_titanic_df.info()"
   ]
  },
  {
   "cell_type": "code",
   "execution_count": 34,
   "id": "9416edcd-5202-4be9-a429-d6d1400afd44",
   "metadata": {},
   "outputs": [
    {
     "data": {
      "text/plain": [
       "(845, 11)"
      ]
     },
     "execution_count": 34,
     "metadata": {},
     "output_type": "execute_result"
    }
   ],
   "source": [
    "cleaned_titanic_df.shape"
   ]
  },
  {
   "cell_type": "markdown",
   "id": "4d81f1bd-6dd1-4305-bc24-4076bcabe344",
   "metadata": {},
   "source": [
    "### 주어진 타이타닉 데이터를 확인하고 왜도가 있는 컬럼을 전처리 \n",
    "- 수치 데이터인 Fare, SibSp 에 왜도가 있을 것이라고 판단, 전처리를 실행하였다."
   ]
  },
  {
   "cell_type": "code",
   "execution_count": 35,
   "id": "023ee45c-2b6b-4b97-a98c-4791e65cc70b",
   "metadata": {},
   "outputs": [],
   "source": [
    "skewed_column = 'Fare'"
   ]
  },
  {
   "cell_type": "code",
   "execution_count": 36,
   "id": "25982b9c-eab3-435a-acab-ed8ec3db4564",
   "metadata": {},
   "outputs": [],
   "source": [
    "cleaned_titanic_df[skewed_column] = stats.boxcox(cleaned_titanic_df[skewed_column] + 1)[0]"
   ]
  },
  {
   "cell_type": "code",
   "execution_count": 37,
   "id": "aff1b894-5525-4d08-bbd5-6f3bbc92e4c1",
   "metadata": {},
   "outputs": [],
   "source": [
    "skewed_column = 'SibSp'"
   ]
  },
  {
   "cell_type": "code",
   "execution_count": 38,
   "id": "18e76b8c-262f-4ab9-b9f4-a46862312b1f",
   "metadata": {},
   "outputs": [],
   "source": [
    "cleaned_titanic_df[skewed_column] = stats.boxcox(cleaned_titanic_df[skewed_column] + 1)[0]"
   ]
  },
  {
   "cell_type": "code",
   "execution_count": 39,
   "id": "4a6cabf9-87e3-45f8-a28d-9c978d2a8665",
   "metadata": {},
   "outputs": [
    {
     "data": {
      "text/html": [
       "<div>\n",
       "<style scoped>\n",
       "    .dataframe tbody tr th:only-of-type {\n",
       "        vertical-align: middle;\n",
       "    }\n",
       "\n",
       "    .dataframe tbody tr th {\n",
       "        vertical-align: top;\n",
       "    }\n",
       "\n",
       "    .dataframe thead th {\n",
       "        text-align: right;\n",
       "    }\n",
       "</style>\n",
       "<table border=\"1\" class=\"dataframe\">\n",
       "  <thead>\n",
       "    <tr style=\"text-align: right;\">\n",
       "      <th></th>\n",
       "      <th>PassengerId</th>\n",
       "      <th>Survived</th>\n",
       "      <th>Pclass</th>\n",
       "      <th>Name</th>\n",
       "      <th>Sex</th>\n",
       "      <th>SibSp</th>\n",
       "      <th>Parch</th>\n",
       "      <th>Ticket</th>\n",
       "      <th>Fare</th>\n",
       "      <th>Cabin</th>\n",
       "      <th>Embarked</th>\n",
       "    </tr>\n",
       "  </thead>\n",
       "  <tbody>\n",
       "    <tr>\n",
       "      <th>0</th>\n",
       "      <td>1</td>\n",
       "      <td>0</td>\n",
       "      <td>3</td>\n",
       "      <td>Braund, Mr. Owen Harris</td>\n",
       "      <td>male</td>\n",
       "      <td>0.234034</td>\n",
       "      <td>0</td>\n",
       "      <td>A/5 21171</td>\n",
       "      <td>1.887947</td>\n",
       "      <td>No_cabin</td>\n",
       "      <td>S</td>\n",
       "    </tr>\n",
       "    <tr>\n",
       "      <th>1</th>\n",
       "      <td>2</td>\n",
       "      <td>1</td>\n",
       "      <td>1</td>\n",
       "      <td>Cumings, Mrs. John Bradley (Florence Briggs Th...</td>\n",
       "      <td>female</td>\n",
       "      <td>0.234034</td>\n",
       "      <td>0</td>\n",
       "      <td>PC 17599</td>\n",
       "      <td>3.430760</td>\n",
       "      <td>C85</td>\n",
       "      <td>C</td>\n",
       "    </tr>\n",
       "    <tr>\n",
       "      <th>2</th>\n",
       "      <td>3</td>\n",
       "      <td>1</td>\n",
       "      <td>3</td>\n",
       "      <td>Heikkinen, Miss. Laina</td>\n",
       "      <td>female</td>\n",
       "      <td>0.000000</td>\n",
       "      <td>0</td>\n",
       "      <td>STON/O2. 3101282</td>\n",
       "      <td>1.950363</td>\n",
       "      <td>No_cabin</td>\n",
       "      <td>S</td>\n",
       "    </tr>\n",
       "    <tr>\n",
       "      <th>3</th>\n",
       "      <td>4</td>\n",
       "      <td>1</td>\n",
       "      <td>1</td>\n",
       "      <td>Futrelle, Mrs. Jacques Heath (Lily May Peel)</td>\n",
       "      <td>female</td>\n",
       "      <td>0.234034</td>\n",
       "      <td>0</td>\n",
       "      <td>113803</td>\n",
       "      <td>3.245006</td>\n",
       "      <td>C123</td>\n",
       "      <td>S</td>\n",
       "    </tr>\n",
       "    <tr>\n",
       "      <th>4</th>\n",
       "      <td>5</td>\n",
       "      <td>0</td>\n",
       "      <td>3</td>\n",
       "      <td>Allen, Mr. William Henry</td>\n",
       "      <td>male</td>\n",
       "      <td>0.000000</td>\n",
       "      <td>0</td>\n",
       "      <td>373450</td>\n",
       "      <td>1.961346</td>\n",
       "      <td>No_cabin</td>\n",
       "      <td>S</td>\n",
       "    </tr>\n",
       "  </tbody>\n",
       "</table>\n",
       "</div>"
      ],
      "text/plain": [
       "   PassengerId  Survived  Pclass  \\\n",
       "0            1         0       3   \n",
       "1            2         1       1   \n",
       "2            3         1       3   \n",
       "3            4         1       1   \n",
       "4            5         0       3   \n",
       "\n",
       "                                                Name     Sex     SibSp  Parch  \\\n",
       "0                            Braund, Mr. Owen Harris    male  0.234034      0   \n",
       "1  Cumings, Mrs. John Bradley (Florence Briggs Th...  female  0.234034      0   \n",
       "2                             Heikkinen, Miss. Laina  female  0.000000      0   \n",
       "3       Futrelle, Mrs. Jacques Heath (Lily May Peel)  female  0.234034      0   \n",
       "4                           Allen, Mr. William Henry    male  0.000000      0   \n",
       "\n",
       "             Ticket      Fare     Cabin Embarked  \n",
       "0         A/5 21171  1.887947  No_cabin        S  \n",
       "1          PC 17599  3.430760       C85        C  \n",
       "2  STON/O2. 3101282  1.950363  No_cabin        S  \n",
       "3            113803  3.245006      C123        S  \n",
       "4            373450  1.961346  No_cabin        S  "
      ]
     },
     "execution_count": 39,
     "metadata": {},
     "output_type": "execute_result"
    }
   ],
   "source": [
    "cleaned_titanic_df.head()"
   ]
  },
  {
   "cell_type": "code",
   "execution_count": 40,
   "id": "5b1759ec-7954-47c2-9209-1b62c4ab437c",
   "metadata": {},
   "outputs": [
    {
     "data": {
      "text/plain": [
       "(845, 11)"
      ]
     },
     "execution_count": 40,
     "metadata": {},
     "output_type": "execute_result"
    }
   ],
   "source": [
    "cleaned_titanic_df.shape"
   ]
  }
 ],
 "metadata": {
  "kernelspec": {
   "display_name": "Python 3 (ipykernel)",
   "language": "python",
   "name": "python3"
  },
  "language_info": {
   "codemirror_mode": {
    "name": "ipython",
    "version": 3
   },
   "file_extension": ".py",
   "mimetype": "text/x-python",
   "name": "python",
   "nbconvert_exporter": "python",
   "pygments_lexer": "ipython3",
   "version": "3.10.10"
  }
 },
 "nbformat": 4,
 "nbformat_minor": 5
}
