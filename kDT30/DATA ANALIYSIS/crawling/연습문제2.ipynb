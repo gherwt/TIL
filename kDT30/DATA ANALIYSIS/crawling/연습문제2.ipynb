{
 "cells": [
  {
   "cell_type": "markdown",
   "id": "9a802d4d-e03d-419c-b919-71874d127e64",
   "metadata": {},
   "source": [
    "### 연습문제\n",
    "- 위쪽 코드에서 사용했던 네이버웹툰 챌린지 사이트에 대하여 크롤링 진행\n",
    "- 웹툰명, 작가이름, 별점을 스크래핑\n",
    "- 총 20페이지를 크롤링하고 스크래핑 진행\n",
    "- navercomic.csv 로 저장, 본인이름_동적수집.notebook file\n",
    "- 페이지 변환은 클릭 함수를 사용해서 진행"
   ]
  },
  {
   "cell_type": "code",
   "execution_count": 31,
   "id": "34eec163-cb96-4465-b0d3-731858fb7df1",
   "metadata": {},
   "outputs": [],
   "source": [
    "# 패키지 임포트\n",
    "import selenium\n",
    "from selenium import webdriver\n",
    "import pandas as pd\n",
    "import numpy as np\n",
    "from bs4 import BeautifulSoup\n",
    "from selenium.webdriver.common.by import By # 셀레니움 4.0부터 포함된 함수(필수)\n",
    "from selenium import webdriver\n",
    "from selenium.webdriver.chrome.service import Service\n",
    "from tqdm import tqdm_notebook\n",
    "import time"
   ]
  },
  {
   "cell_type": "code",
   "execution_count": 32,
   "id": "caceaf22-2dd4-4655-94c0-6d7673f1980b",
   "metadata": {},
   "outputs": [],
   "source": [
    "# 크롬 웹드라이버 생성함수\n",
    "def create_driver():\n",
    "    service = Service()\n",
    "    options = webdriver.ChromeOptions()\n",
    "    driver = webdriver.Chrome(service = service, options = options)\n",
    "    return driver"
   ]
  },
  {
   "cell_type": "code",
   "execution_count": 33,
   "id": "919d887d-20a1-4c18-b216-b01b560b60e0",
   "metadata": {},
   "outputs": [],
   "source": [
    "driver = create_driver()\n",
    "url = 'https://comic.naver.com/genre/bestChallenge.nhn'\n",
    "driver.get(url)"
   ]
  },
  {
   "cell_type": "markdown",
   "id": "b856a91b-62af-4119-8ee7-60fb0735af5c",
   "metadata": {},
   "source": [
    "- '//*[@id=\"content\"]/div[3]/button[1]'\n",
    "- '//*[@id=\"content\"]/div[3]/button[2]'\n",
    "- '//*[@id=\"content\"]/div[3]/button[3]'\n",
    "- '//*[@id=\"content\"]/div[3]/button[12]'\n",
    "  - 10페이지를 한번에 뛰어넘음\n",
    "-> 여기서 규칙을 찾는다."
   ]
  },
  {
   "cell_type": "markdown",
   "id": "2ec3b038-a851-4284-8172-8bd881dccf47",
   "metadata": {},
   "source": [
    "- 버튼 번호 1번은 클릭하지 않음\n",
    "- 버튼 번호 0번은 없음 : 버튼 번호 1 ~ 12\n",
    "- 버튼 번호 2번은 첫번째 for 문에서는 클릭을 함\n",
    "\n",
    "- 하지만 두번째 for문 부터는 클릭을 하지 않는다. 이유는 버튼 번호 12번이 버튼 번호 2번을 대신함\n",
    "- "
   ]
  },
  {
   "cell_type": "code",
   "execution_count": 35,
   "id": "f3e2ea62-5cbb-4a90-90ac-5ad68a896c79",
   "metadata": {},
   "outputs": [],
   "source": [
    "result = []\n",
    "\n",
    "k = 1 # 반복 핸들링 하는 변수\n",
    "j = -1 # 버튼번호를 정하는 변수\n",
    "\n",
    "for i in range(1, 40):\n",
    "    if j == 12:\n",
    "        k += 3\n",
    "    j = k % 13\n",
    "    k = k+1\n",
    "    if j == 1 or j ==0:\n",
    "        continue\n",
    "        \n",
    "    xpath = '//*[@id=\"content\"]/div[3]/button['+ str(j) + ']'\n",
    "    \n",
    "    btn_elem=driver.find_element(By.XPATH,xpath)\n",
    "    btn_elem.click()\n",
    "    time.sleep(2)\n",
    "    sel = '#content > div:nth-child(2) > ul > li > div'\n",
    "    elem = driver.find_elements(By.CSS_SELECTOR,sel)\n",
    "    for e in elem :\n",
    "        res = e.text.split('\\n')\n",
    "        try:\n",
    "            if len(res) == 7 :\n",
    "                result.append(pd.DataFrame({'제목':res[1],'작가':res[2],'별점':res[4],'조회수':res[6]},index=range(0,1)))\n",
    "            else :\n",
    "                result.append(pd.DataFrame({'제목':res[0],'작가':res[1],'별점':res[3],\n",
    "                                            '조회수':res[5]},index=range(0,1)))\n",
    "        except:\n",
    "            continue\n",
    "            \n",
    "    # print(k,'',j,'', xpath)"
   ]
  },
  {
   "cell_type": "code",
   "execution_count": 36,
   "id": "701e879c-e4bc-4496-90fd-cca630071bf7",
   "metadata": {},
   "outputs": [
    {
     "data": {
      "text/plain": [
       "1140"
      ]
     },
     "execution_count": 36,
     "metadata": {},
     "output_type": "execute_result"
    }
   ],
   "source": [
    "len(result)"
   ]
  },
  {
   "cell_type": "code",
   "execution_count": 38,
   "id": "7b0f9a18-7083-46a9-91e2-9d70ea098b4b",
   "metadata": {},
   "outputs": [],
   "source": [
    "pd.concat(result).reset_index(drop = True).to_csv('crawl_data/webtoon.csv')"
   ]
  },
  {
   "cell_type": "code",
   "execution_count": 40,
   "id": "f89f3707-4bf4-4f96-828f-16648135d5e9",
   "metadata": {},
   "outputs": [
    {
     "data": {
      "text/html": [
       "<div>\n",
       "<style scoped>\n",
       "    .dataframe tbody tr th:only-of-type {\n",
       "        vertical-align: middle;\n",
       "    }\n",
       "\n",
       "    .dataframe tbody tr th {\n",
       "        vertical-align: top;\n",
       "    }\n",
       "\n",
       "    .dataframe thead th {\n",
       "        text-align: right;\n",
       "    }\n",
       "</style>\n",
       "<table border=\"1\" class=\"dataframe\">\n",
       "  <thead>\n",
       "    <tr style=\"text-align: right;\">\n",
       "      <th></th>\n",
       "      <th>제목</th>\n",
       "      <th>작가</th>\n",
       "      <th>별점</th>\n",
       "      <th>조회수</th>\n",
       "    </tr>\n",
       "  </thead>\n",
       "  <tbody>\n",
       "    <tr>\n",
       "      <th>0</th>\n",
       "      <td>요정이다</td>\n",
       "      <td>stra****</td>\n",
       "      <td>8.83</td>\n",
       "      <td>1.4만</td>\n",
       "    </tr>\n",
       "    <tr>\n",
       "      <th>1</th>\n",
       "      <td>미미와 유미의 지구탐험기</td>\n",
       "      <td>라온제나</td>\n",
       "      <td>7.60</td>\n",
       "      <td>9,648</td>\n",
       "    </tr>\n",
       "    <tr>\n",
       "      <th>2</th>\n",
       "      <td>마피아게임에 어서오세요</td>\n",
       "      <td>함소빌</td>\n",
       "      <td>9.52</td>\n",
       "      <td>55만</td>\n",
       "    </tr>\n",
       "    <tr>\n",
       "      <th>3</th>\n",
       "      <td>언제나 반짝이는</td>\n",
       "      <td>주주</td>\n",
       "      <td>9.10</td>\n",
       "      <td>18만</td>\n",
       "    </tr>\n",
       "    <tr>\n",
       "      <th>4</th>\n",
       "      <td>런어웨이</td>\n",
       "      <td>하제</td>\n",
       "      <td>9.81</td>\n",
       "      <td>572만</td>\n",
       "    </tr>\n",
       "    <tr>\n",
       "      <th>...</th>\n",
       "      <td>...</td>\n",
       "      <td>...</td>\n",
       "      <td>...</td>\n",
       "      <td>...</td>\n",
       "    </tr>\n",
       "    <tr>\n",
       "      <th>1135</th>\n",
       "      <td>날 위해 연주해줘</td>\n",
       "      <td>백선</td>\n",
       "      <td>9.16</td>\n",
       "      <td>6,944</td>\n",
       "    </tr>\n",
       "    <tr>\n",
       "      <th>1136</th>\n",
       "      <td>방구석 해피</td>\n",
       "      <td>itsun</td>\n",
       "      <td>9.63</td>\n",
       "      <td>1.4만</td>\n",
       "    </tr>\n",
       "    <tr>\n",
       "      <th>1137</th>\n",
       "      <td>엉뚱한 연애!</td>\n",
       "      <td>나고</td>\n",
       "      <td>8.92</td>\n",
       "      <td>7,640</td>\n",
       "    </tr>\n",
       "    <tr>\n",
       "      <th>1138</th>\n",
       "      <td>순정 죽이기</td>\n",
       "      <td>이해나</td>\n",
       "      <td>8.79</td>\n",
       "      <td>5,209</td>\n",
       "    </tr>\n",
       "    <tr>\n",
       "      <th>1139</th>\n",
       "      <td>타임노래방</td>\n",
       "      <td>진수</td>\n",
       "      <td>9.26</td>\n",
       "      <td>1,967</td>\n",
       "    </tr>\n",
       "  </tbody>\n",
       "</table>\n",
       "<p>1140 rows × 4 columns</p>\n",
       "</div>"
      ],
      "text/plain": [
       "                 제목        작가    별점    조회수\n",
       "0              요정이다  stra****  8.83   1.4만\n",
       "1     미미와 유미의 지구탐험기      라온제나  7.60  9,648\n",
       "2      마피아게임에 어서오세요       함소빌  9.52    55만\n",
       "3          언제나 반짝이는        주주  9.10    18만\n",
       "4              런어웨이        하제  9.81   572만\n",
       "...             ...       ...   ...    ...\n",
       "1135      날 위해 연주해줘        백선  9.16  6,944\n",
       "1136         방구석 해피     itsun  9.63   1.4만\n",
       "1137        엉뚱한 연애!        나고  8.92  7,640\n",
       "1138         순정 죽이기       이해나  8.79  5,209\n",
       "1139          타임노래방        진수  9.26  1,967\n",
       "\n",
       "[1140 rows x 4 columns]"
      ]
     },
     "execution_count": 40,
     "metadata": {},
     "output_type": "execute_result"
    }
   ],
   "source": [
    "pd.read_csv('crawl_data/webtoon.csv', index_col = 0)"
   ]
  },
  {
   "cell_type": "code",
   "execution_count": 8,
   "id": "fa37b45d-58b5-4dbd-81fe-edbdd78512ed",
   "metadata": {},
   "outputs": [],
   "source": []
  },
  {
   "cell_type": "code",
   "execution_count": null,
   "id": "63e0d9d0-307a-4016-a76f-6d4a9af6e1d6",
   "metadata": {},
   "outputs": [],
   "source": []
  }
 ],
 "metadata": {
  "kernelspec": {
   "display_name": "Python 3 (ipykernel)",
   "language": "python",
   "name": "python3"
  },
  "language_info": {
   "codemirror_mode": {
    "name": "ipython",
    "version": 3
   },
   "file_extension": ".py",
   "mimetype": "text/x-python",
   "name": "python",
   "nbconvert_exporter": "python",
   "pygments_lexer": "ipython3",
   "version": "3.10.10"
  }
 },
 "nbformat": 4,
 "nbformat_minor": 5
}
