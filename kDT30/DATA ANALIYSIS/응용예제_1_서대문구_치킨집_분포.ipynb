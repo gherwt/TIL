{
 "cells": [
  {
   "cell_type": "markdown",
   "id": "62ccce9c-4942-4c10-8bb3-466d7fbac63a",
   "metadata": {},
   "source": [
    "## 서울시 자치구 서대문구에서 치킨집이 가장 많은 동은 어디인가?\n",
    "\n",
    "### 자료 출처\n",
    "- 데이터 다운로드 : LOCALDATA 웹사이트\n",
    "- https://www.localdata.kr/\n",
    "- 지방자치단체에서 인/허가한 업종별 데이터 제고\n",
    "- 문화, 체육, 관광, 식품 등 11가지 분야에 대한 데이터 제공\n",
    "- 회원 가입 절차를 별도로 거치지 않고도 공공데이터 다운로드"
   ]
  },
  {
   "cell_type": "code",
   "execution_count": 3,
   "id": "e93cbe98-da74-4e8a-b2c7-166579d40a6d",
   "metadata": {},
   "outputs": [],
   "source": [
    "import pandas as pd\n",
    "import numpy as np\n",
    "import matplotlib.pyplot as plt\n",
    "from pandas import Series, DataFrame\n",
    "%matplotlib inline"
   ]
  },
  {
   "cell_type": "code",
   "execution_count": 4,
   "id": "61e17bad-bb05-4cb7-870c-af40bed04f83",
   "metadata": {},
   "outputs": [],
   "source": [
    "# 한글 문제\n",
    "# matplotlit의 기본 폰트에서 한글 지원되지 않기 때문에\n",
    "# matplotlib의 폰트 변경 필요\n",
    "import platform\n",
    "\n",
    "from matplotlib import font_manager, rc\n",
    "plt.rcParams['axes.unicode_minus'] = False\n",
    "\n",
    "if platform.system() == 'Darwin':  # 맥OS \n",
    "    rc('font', family='AppleGothic')\n",
    "elif platform.system() == 'Windows':  # 윈도우\n",
    "    path = \"c:/Windows/Fonts/malgun.ttf\"\n",
    "    font_name = font_manager.FontProperties(fname=path).get_name()\n",
    "    rc('font', family=font_name)\n",
    "else:\n",
    "    print('Unknown system...  sorry~~~')"
   ]
  },
  {
   "cell_type": "code",
   "execution_count": 5,
   "id": "e8baf61a-8596-42b2-892b-9661e2ceefd7",
   "metadata": {},
   "outputs": [],
   "source": [
    "# 서울특별시_일반음식점.csv 사용\n",
    "# data = pd.read_csv('./data/서울특별시_일반음식점.csv')\n",
    "# UnicodeDecodeError - 인코딩에러: 한글이라는 글자의 문제\n",
    "# 'utf-8' codec can't decode byte 0xb9 in position 1: invalid start byte\n",
    "# 안코딩 방식의 변경이 필요하다."
   ]
  },
  {
   "cell_type": "code",
   "execution_count": 6,
   "id": "293dc19f-58bf-4c2e-a814-17b40daa38e6",
   "metadata": {},
   "outputs": [],
   "source": [
    "data = pd.read_csv('./data/서울특별시_일반음식점.csv', \n",
    "                  encoding = 'cp949',\n",
    "                  low_memory = False)"
   ]
  },
  {
   "cell_type": "code",
   "execution_count": 7,
   "id": "3b098dd6-144e-4a77-9d10-74d7380fab6e",
   "metadata": {},
   "outputs": [
    {
     "data": {
      "text/html": [
       "<div>\n",
       "<style scoped>\n",
       "    .dataframe tbody tr th:only-of-type {\n",
       "        vertical-align: middle;\n",
       "    }\n",
       "\n",
       "    .dataframe tbody tr th {\n",
       "        vertical-align: top;\n",
       "    }\n",
       "\n",
       "    .dataframe thead th {\n",
       "        text-align: right;\n",
       "    }\n",
       "</style>\n",
       "<table border=\"1\" class=\"dataframe\">\n",
       "  <thead>\n",
       "    <tr style=\"text-align: right;\">\n",
       "      <th></th>\n",
       "      <th>번호</th>\n",
       "      <th>개방서비스명</th>\n",
       "      <th>개방서비스아이디</th>\n",
       "      <th>개방자치단체코드</th>\n",
       "      <th>관리번호</th>\n",
       "      <th>인허가일자</th>\n",
       "      <th>인허가취소일자</th>\n",
       "      <th>영업상태구분코드</th>\n",
       "      <th>영업상태명</th>\n",
       "      <th>상세영업상태코드</th>\n",
       "      <th>...</th>\n",
       "      <th>공장생산직종업원수</th>\n",
       "      <th>건물소유구분명</th>\n",
       "      <th>보증액</th>\n",
       "      <th>월세액</th>\n",
       "      <th>다중이용업소여부</th>\n",
       "      <th>시설총규모</th>\n",
       "      <th>전통업소지정번호</th>\n",
       "      <th>전통업소주된음식</th>\n",
       "      <th>홈페이지</th>\n",
       "      <th>Unnamed: 47</th>\n",
       "    </tr>\n",
       "  </thead>\n",
       "  <tbody>\n",
       "    <tr>\n",
       "      <th>472913</th>\n",
       "      <td>472914</td>\n",
       "      <td>일반음식점</td>\n",
       "      <td>07_24_04_P</td>\n",
       "      <td>3150000</td>\n",
       "      <td>3150000-101-2021-00072</td>\n",
       "      <td>20210203</td>\n",
       "      <td>NaN</td>\n",
       "      <td>3</td>\n",
       "      <td>폐업</td>\n",
       "      <td>2</td>\n",
       "      <td>...</td>\n",
       "      <td>0.0</td>\n",
       "      <td>NaN</td>\n",
       "      <td>0.0</td>\n",
       "      <td>0</td>\n",
       "      <td>N</td>\n",
       "      <td>75.60</td>\n",
       "      <td>NaN</td>\n",
       "      <td>NaN</td>\n",
       "      <td>NaN</td>\n",
       "      <td>NaN</td>\n",
       "    </tr>\n",
       "    <tr>\n",
       "      <th>472914</th>\n",
       "      <td>472915</td>\n",
       "      <td>일반음식점</td>\n",
       "      <td>07_24_04_P</td>\n",
       "      <td>3130000</td>\n",
       "      <td>3130000-101-2020-01013</td>\n",
       "      <td>20201208</td>\n",
       "      <td>NaN</td>\n",
       "      <td>3</td>\n",
       "      <td>폐업</td>\n",
       "      <td>2</td>\n",
       "      <td>...</td>\n",
       "      <td>0.0</td>\n",
       "      <td>NaN</td>\n",
       "      <td>0.0</td>\n",
       "      <td>0</td>\n",
       "      <td>N</td>\n",
       "      <td>22.75</td>\n",
       "      <td>NaN</td>\n",
       "      <td>NaN</td>\n",
       "      <td>NaN</td>\n",
       "      <td>NaN</td>\n",
       "    </tr>\n",
       "  </tbody>\n",
       "</table>\n",
       "<p>2 rows × 48 columns</p>\n",
       "</div>"
      ],
      "text/plain": [
       "            번호 개방서비스명    개방서비스아이디  개방자치단체코드                    관리번호     인허가일자  \\\n",
       "472913  472914  일반음식점  07_24_04_P   3150000  3150000-101-2021-00072  20210203   \n",
       "472914  472915  일반음식점  07_24_04_P   3130000  3130000-101-2020-01013  20201208   \n",
       "\n",
       "        인허가취소일자  영업상태구분코드 영업상태명  상세영업상태코드  ... 공장생산직종업원수  건물소유구분명  보증액  월세액  \\\n",
       "472913      NaN         3    폐업         2  ...       0.0      NaN  0.0    0   \n",
       "472914      NaN         3    폐업         2  ...       0.0      NaN  0.0    0   \n",
       "\n",
       "        다중이용업소여부  시설총규모 전통업소지정번호  전통업소주된음식 홈페이지 Unnamed: 47  \n",
       "472913         N  75.60      NaN       NaN  NaN         NaN  \n",
       "472914         N  22.75      NaN       NaN  NaN         NaN  \n",
       "\n",
       "[2 rows x 48 columns]"
      ]
     },
     "execution_count": 7,
     "metadata": {},
     "output_type": "execute_result"
    }
   ],
   "source": [
    "# data 확인\n",
    "# head(위에서부터 보고 싶은 자료의 갯수)\n",
    "# tail(밑에서부터 보고 싶은 자료의 갯수)\n",
    "data.head(2)\n",
    "data.tail(2)"
   ]
  },
  {
   "cell_type": "code",
   "execution_count": 9,
   "id": "671c4d77-9c69-419d-b2c3-77832f76f783",
   "metadata": {},
   "outputs": [
    {
     "name": "stdout",
     "output_type": "stream",
     "text": [
      "<class 'pandas.core.frame.DataFrame'>\n",
      "RangeIndex: 472915 entries, 0 to 472914\n",
      "Data columns (total 48 columns):\n",
      " #   Column       Non-Null Count   Dtype  \n",
      "---  ------       --------------   -----  \n",
      " 0   번호           472915 non-null  int64  \n",
      " 1   개방서비스명       472915 non-null  object \n",
      " 2   개방서비스아이디     472915 non-null  object \n",
      " 3   개방자치단체코드     472915 non-null  int64  \n",
      " 4   관리번호         472915 non-null  object \n",
      " 5   인허가일자        472915 non-null  int64  \n",
      " 6   인허가취소일자      0 non-null       float64\n",
      " 7   영업상태구분코드     472915 non-null  int64  \n",
      " 8   영업상태명        472915 non-null  object \n",
      " 9   상세영업상태코드     472915 non-null  int64  \n",
      " 10  상세영업상태명      472915 non-null  object \n",
      " 11  폐업일자         348707 non-null  float64\n",
      " 12  휴업시작일자       0 non-null       float64\n",
      " 13  휴업종료일자       0 non-null       float64\n",
      " 14  재개업일자        0 non-null       float64\n",
      " 15  소재지전화        327325 non-null  object \n",
      " 16  소재지면적        439015 non-null  object \n",
      " 17  소재지우편번호      472670 non-null  float64\n",
      " 18  소재지전체주소      472678 non-null  object \n",
      " 19  도로명전체주소      223302 non-null  object \n",
      " 20  도로명우편번호      219658 non-null  float64\n",
      " 21  사업장명         472914 non-null  object \n",
      " 22  최종수정시점       472915 non-null  object \n",
      " 23  데이터갱신구분      472915 non-null  object \n",
      " 24  데이터갱신일자      472915 non-null  object \n",
      " 25  업태구분명        472894 non-null  object \n",
      " 26  좌표정보(x)      448086 non-null  float64\n",
      " 27  좌표정보(y)      448086 non-null  object \n",
      " 28  위생업태명        472887 non-null  object \n",
      " 29  남성종사자수       303104 non-null  float64\n",
      " 30  여성종사자수       305258 non-null  float64\n",
      " 31  영업장주변구분명     251574 non-null  object \n",
      " 32  등급구분명        241826 non-null  object \n",
      " 33  급수시설구분명      310208 non-null  object \n",
      " 34  총종업원수        45438 non-null   float64\n",
      " 35  본사종업원수       45531 non-null   float64\n",
      " 36  공장사무직종업원수    45530 non-null   float64\n",
      " 37  공장판매직종업원수    45530 non-null   float64\n",
      " 38  공장생산직종업원수    45530 non-null   float64\n",
      " 39  건물소유구분명      1 non-null       object \n",
      " 40  보증액          45531 non-null   float64\n",
      " 41  월세액          45532 non-null   object \n",
      " 42  다중이용업소여부     472908 non-null  object \n",
      " 43  시설총규모        472908 non-null  float64\n",
      " 44  전통업소지정번호     1729 non-null    object \n",
      " 45  전통업소주된음식     912 non-null     object \n",
      " 46  홈페이지         0 non-null       float64\n",
      " 47  Unnamed: 47  0 non-null       float64\n",
      "dtypes: float64(19), int64(5), object(24)\n",
      "memory usage: 173.2+ MB\n"
     ]
    }
   ],
   "source": [
    "# 데이터 개요(일반 정보) 확안\n",
    "# int - 수치, object - 문자형\n",
    "# 결측은 제거하거나 채워줘야함 -> 전처리 작업\n",
    "data.info()"
   ]
  },
  {
   "cell_type": "code",
   "execution_count": 15,
   "id": "ea53e866-2991-44a4-8251-882a14fd2955",
   "metadata": {},
   "outputs": [],
   "source": [
    "### 각 인/허가된 점포가 취급하는 품목이 무엇인지 -> 음식점 + 치킨집과 관련된 항복이 필요하다. (위생업태명, 업태구분)\n",
    "### 현재 영업중(영업상태)\n",
    "### 주소가 서대문구인지? (도로명 전체주소/소재지 전체주소)"
   ]
  },
  {
   "cell_type": "code",
   "execution_count": 10,
   "id": "87369747-261c-4ed9-a71c-280fa04ba8dc",
   "metadata": {},
   "outputs": [
    {
     "data": {
      "text/plain": [
       "0         한식\n",
       "1         한식\n",
       "2         한식\n",
       "3         한식\n",
       "4         일식\n",
       "          ..\n",
       "472910    한식\n",
       "472911    한식\n",
       "472912    기타\n",
       "472913    한식\n",
       "472914    기타\n",
       "Name: 업태구분명, Length: 472915, dtype: object"
      ]
     },
     "execution_count": 10,
     "metadata": {},
     "output_type": "execute_result"
    }
   ],
   "source": [
    "### 취급 품목\n",
    "data.위생업태명 # 상세구분\n",
    "data.업태구분명 # 위생업태명의 상위구분"
   ]
  },
  {
   "cell_type": "code",
   "execution_count": 11,
   "id": "d92106d2-0a40-4173-8213-4da4d0247e98",
   "metadata": {},
   "outputs": [
    {
     "data": {
      "text/plain": [
       "{nan,\n",
       " '간이주점',\n",
       " '감성주점',\n",
       " '경양식',\n",
       " '기타',\n",
       " '기타 휴게음식점',\n",
       " '김밥(도시락)',\n",
       " '까페',\n",
       " '냉면집',\n",
       " '다방',\n",
       " '라이브카페',\n",
       " '룸살롱',\n",
       " '복어취급',\n",
       " '분식',\n",
       " '뷔페식',\n",
       " '식육(숯불구이)',\n",
       " '식품등 수입판매업',\n",
       " '식품소분업',\n",
       " '외국음식전문점(인도,태국등)',\n",
       " '이동조리',\n",
       " '일반조리판매',\n",
       " '일식',\n",
       " '전통찻집',\n",
       " '정종/대포집/소주방',\n",
       " '제과점영업',\n",
       " '중국식',\n",
       " '출장조리',\n",
       " '커피숍',\n",
       " '키즈카페',\n",
       " '탕류(보신용)',\n",
       " '통닭(치킨)',\n",
       " '패밀리레스트랑',\n",
       " '패스트푸드',\n",
       " '한식',\n",
       " '호프/통닭',\n",
       " '횟집'}"
      ]
     },
     "execution_count": 11,
     "metadata": {},
     "output_type": "execute_result"
    }
   ],
   "source": [
    "# 현재 data의 위생업태 종류 확인 - 종복을 제거 한 후 한번씩만 표현\n",
    "# 파이썬 자료 구조 중 set : 중복을 허가하지 않는 집합자료형\n",
    "# 보통 중복 제거 후 data 확인 시 많이 사용\n",
    "set(data.위생업태명.values)\n",
    "# 치킨집에 해당하는 data만 뽑아 쓰기  '통닭(치킨)' 두 단어 중 하나늘 포함안 위생 업태명의 데이터만을 사용"
   ]
  },
  {
   "cell_type": "code",
   "execution_count": 12,
   "id": "12ca64c2-444e-4d7d-87f9-67c9fffe2798",
   "metadata": {},
   "outputs": [
    {
     "data": {
      "text/plain": [
       "0         False\n",
       "1         False\n",
       "2         False\n",
       "3         False\n",
       "4         False\n",
       "          ...  \n",
       "472910    False\n",
       "472911    False\n",
       "472912    False\n",
       "472913    False\n",
       "472914    False\n",
       "Name: 위생업태명, Length: 472915, dtype: bool"
      ]
     },
     "execution_count": 12,
     "metadata": {},
     "output_type": "execute_result"
    }
   ],
   "source": [
    "# 위생업태명에 통닭이나 치킨 문자열이 포함되어 있는지 확인\n",
    "# 문자열.contains(확인하려는 문자열1): 문자열 안에 문자열1이 포함되어 있는지의 여부를 확인\n",
    "data.위생업태명.str.contains('통닭|치킨', na = False)"
   ]
  },
  {
   "cell_type": "code",
   "execution_count": 13,
   "id": "6881eeaa-0249-4c4b-a542-37e4f07a5d5a",
   "metadata": {},
   "outputs": [
    {
     "data": {
      "text/plain": [
       "{'통닭(치킨)', '호프/통닭'}"
      ]
     },
     "execution_count": 13,
     "metadata": {},
     "output_type": "execute_result"
    }
   ],
   "source": [
    "# 조건 인덱싱을 사용 : 위생업태명 중 통닭/치킨이 포함된 업태명을 반환\n",
    "data.위생업태명[data.위생업태명.str.contains('통닭|치킨', na = False)]\n",
    "set(data.위생업태명[data.위생업태명.str.contains('통닭|치킨', na = False)])\n",
    "# 위생 업태명이 {'통닭(치킨)', '호프/통닭'} 인 업장 data 가 필요하다."
   ]
  },
  {
   "cell_type": "code",
   "execution_count": 14,
   "id": "12892b95-f428-4cad-87dc-c2a19be34601",
   "metadata": {},
   "outputs": [
    {
     "data": {
      "text/plain": [
       "{'영업/정상', '폐업'}"
      ]
     },
     "execution_count": 14,
     "metadata": {},
     "output_type": "execute_result"
    }
   ],
   "source": [
    "# 현재 영업중인 업장\n",
    "# '영업/정상' 인 경우인 data 가 필요하다.\n",
    "set(data.영업상태명)"
   ]
  },
  {
   "cell_type": "code",
   "execution_count": 15,
   "id": "1f4e0c09-c0fa-4d17-8450-55c55813d050",
   "metadata": {},
   "outputs": [],
   "source": [
    "# 영업 상태명이 영업/정상 이고 위생업태명이 '통닭(치킨)', '호프/통닭' 인 업장 data 추출한다."
   ]
  },
  {
   "cell_type": "code",
   "execution_count": 35,
   "id": "32804191-2dac-489b-a188-a0b983f0a748",
   "metadata": {},
   "outputs": [],
   "source": [
    "# 위 조건을 만족하는 조건식 생성\n",
    "# 시리즈.isin([데이터1, 데이터2, ......]) 을 활용\n",
    "# 시리즈 원소가 집합형자료(list 등)의 적오도 원소 1개와 일치하면 True를 반환해주는 함수\n",
    "# (data.영업상태명 == '영업/정상') & (data.위생업태명.isin(['통닭(치킨)', '호프/통닭'])"
   ]
  },
  {
   "cell_type": "code",
   "execution_count": 17,
   "id": "a0f0b5ec-1fee-4e6b-a3f6-33f48663f290",
   "metadata": {},
   "outputs": [],
   "source": [
    "# data_fin : 서울시에서 현재 영업 중인 치킨집 정보가 저장된 변수\n",
    "\n",
    "data_fin = data[(data.영업상태명 == '영업/정상') & (data.위생업태명.isin(['통닭(치킨)', '호프/통닭']))]"
   ]
  },
  {
   "cell_type": "code",
   "execution_count": 18,
   "id": "ef60ad5f-699f-4501-ba98-7cbd560c5e13",
   "metadata": {},
   "outputs": [
    {
     "name": "stdout",
     "output_type": "stream",
     "text": [
      "<class 'pandas.core.frame.DataFrame'>\n",
      "Index: 13110 entries, 30 to 124203\n",
      "Data columns (total 48 columns):\n",
      " #   Column       Non-Null Count  Dtype  \n",
      "---  ------       --------------  -----  \n",
      " 0   번호           13110 non-null  int64  \n",
      " 1   개방서비스명       13110 non-null  object \n",
      " 2   개방서비스아이디     13110 non-null  object \n",
      " 3   개방자치단체코드     13110 non-null  int64  \n",
      " 4   관리번호         13110 non-null  object \n",
      " 5   인허가일자        13110 non-null  int64  \n",
      " 6   인허가취소일자      0 non-null      float64\n",
      " 7   영업상태구분코드     13110 non-null  int64  \n",
      " 8   영업상태명        13110 non-null  object \n",
      " 9   상세영업상태코드     13110 non-null  int64  \n",
      " 10  상세영업상태명      13110 non-null  object \n",
      " 11  폐업일자         0 non-null      float64\n",
      " 12  휴업시작일자       0 non-null      float64\n",
      " 13  휴업종료일자       0 non-null      float64\n",
      " 14  재개업일자        0 non-null      float64\n",
      " 15  소재지전화        6536 non-null   object \n",
      " 16  소재지면적        12677 non-null  object \n",
      " 17  소재지우편번호      13103 non-null  float64\n",
      " 18  소재지전체주소      13103 non-null  object \n",
      " 19  도로명전체주소      12970 non-null  object \n",
      " 20  도로명우편번호      12884 non-null  float64\n",
      " 21  사업장명         13110 non-null  object \n",
      " 22  최종수정시점       13110 non-null  object \n",
      " 23  데이터갱신구분      13110 non-null  object \n",
      " 24  데이터갱신일자      13110 non-null  object \n",
      " 25  업태구분명        13110 non-null  object \n",
      " 26  좌표정보(x)      13020 non-null  float64\n",
      " 27  좌표정보(y)      13020 non-null  object \n",
      " 28  위생업태명        13110 non-null  object \n",
      " 29  남성종사자수       5733 non-null   float64\n",
      " 30  여성종사자수       5750 non-null   float64\n",
      " 31  영업장주변구분명     3363 non-null   object \n",
      " 32  등급구분명        3005 non-null   object \n",
      " 33  급수시설구분명      6287 non-null   object \n",
      " 34  총종업원수        1773 non-null   float64\n",
      " 35  본사종업원수       1777 non-null   float64\n",
      " 36  공장사무직종업원수    1777 non-null   float64\n",
      " 37  공장판매직종업원수    1777 non-null   float64\n",
      " 38  공장생산직종업원수    1777 non-null   float64\n",
      " 39  건물소유구분명      1 non-null      object \n",
      " 40  보증액          1777 non-null   float64\n",
      " 41  월세액          1777 non-null   object \n",
      " 42  다중이용업소여부     13110 non-null  object \n",
      " 43  시설총규모        13110 non-null  float64\n",
      " 44  전통업소지정번호     6 non-null      object \n",
      " 45  전통업소주된음식     2 non-null      object \n",
      " 46  홈페이지         0 non-null      float64\n",
      " 47  Unnamed: 47  0 non-null      float64\n",
      "dtypes: float64(19), int64(5), object(24)\n",
      "memory usage: 4.9+ MB\n"
     ]
    }
   ],
   "source": [
    "data_fin.info()\n",
    "# 서울시 전체 자치구의 현재 영업중인 치킨집의 수는 13110 개이다.\n",
    "# 이제 서대문구에 해당하는 치킨집의 정보만을 추출하면 된다."
   ]
  },
  {
   "cell_type": "code",
   "execution_count": 19,
   "id": "78cdc563-b242-44b5-a199-630d6f373e5d",
   "metadata": {},
   "outputs": [
    {
     "data": {
      "text/html": [
       "<div>\n",
       "<style scoped>\n",
       "    .dataframe tbody tr th:only-of-type {\n",
       "        vertical-align: middle;\n",
       "    }\n",
       "\n",
       "    .dataframe tbody tr th {\n",
       "        vertical-align: top;\n",
       "    }\n",
       "\n",
       "    .dataframe thead th {\n",
       "        text-align: right;\n",
       "    }\n",
       "</style>\n",
       "<table border=\"1\" class=\"dataframe\">\n",
       "  <thead>\n",
       "    <tr style=\"text-align: right;\">\n",
       "      <th></th>\n",
       "      <th>소재지전체주소</th>\n",
       "      <th>위생업태명</th>\n",
       "    </tr>\n",
       "  </thead>\n",
       "  <tbody>\n",
       "    <tr>\n",
       "      <th>30</th>\n",
       "      <td>서울특별시 은평구 갈현동 400-9번지 (지하1층)</td>\n",
       "      <td>호프/통닭</td>\n",
       "    </tr>\n",
       "    <tr>\n",
       "      <th>43</th>\n",
       "      <td>서울특별시 영등포구 양평동3가 101번지 현대아파트 상가내 1층 102호</td>\n",
       "      <td>호프/통닭</td>\n",
       "    </tr>\n",
       "    <tr>\n",
       "      <th>44</th>\n",
       "      <td>서울특별시 중구 필동2가 32-24번지 1층</td>\n",
       "      <td>호프/통닭</td>\n",
       "    </tr>\n",
       "    <tr>\n",
       "      <th>66</th>\n",
       "      <td>서울특별시 종로구 당주동 128-17번지 (지상1층)</td>\n",
       "      <td>호프/통닭</td>\n",
       "    </tr>\n",
       "    <tr>\n",
       "      <th>67</th>\n",
       "      <td>서울특별시 서초구 우면동 59번지 105호</td>\n",
       "      <td>호프/통닭</td>\n",
       "    </tr>\n",
       "  </tbody>\n",
       "</table>\n",
       "</div>"
      ],
      "text/plain": [
       "                                     소재지전체주소  위생업태명\n",
       "30              서울특별시 은평구 갈현동 400-9번지 (지하1층)  호프/통닭\n",
       "43  서울특별시 영등포구 양평동3가 101번지 현대아파트 상가내 1층 102호  호프/통닭\n",
       "44                  서울특별시 중구 필동2가 32-24번지 1층  호프/통닭\n",
       "66             서울특별시 종로구 당주동 128-17번지 (지상1층)  호프/통닭\n",
       "67                   서울특별시 서초구 우면동 59번지 105호  호프/통닭"
      ]
     },
     "execution_count": 19,
     "metadata": {},
     "output_type": "execute_result"
    }
   ],
   "source": [
    "# 서대문구 데이터만 필요\n",
    "data_fin = data_fin[['소재지전체주소','위생업태명']]\n",
    "data_fin.head()"
   ]
  },
  {
   "cell_type": "code",
   "execution_count": 20,
   "id": "ab814351-9542-422c-814f-878dc640535c",
   "metadata": {},
   "outputs": [
    {
     "data": {
      "text/plain": [
       "{'통닭(치킨)', '호프/통닭'}"
      ]
     },
     "execution_count": 20,
     "metadata": {},
     "output_type": "execute_result"
    }
   ],
   "source": [
    "# 위생업태명 유효성 검사\n",
    "set(data_fin.위생업태명)"
   ]
  },
  {
   "cell_type": "code",
   "execution_count": 21,
   "id": "93031872-e0ca-4124-92ea-1598b07437c6",
   "metadata": {},
   "outputs": [
    {
     "data": {
      "text/html": [
       "<div>\n",
       "<style scoped>\n",
       "    .dataframe tbody tr th:only-of-type {\n",
       "        vertical-align: middle;\n",
       "    }\n",
       "\n",
       "    .dataframe tbody tr th {\n",
       "        vertical-align: top;\n",
       "    }\n",
       "\n",
       "    .dataframe thead th {\n",
       "        text-align: right;\n",
       "    }\n",
       "</style>\n",
       "<table border=\"1\" class=\"dataframe\">\n",
       "  <thead>\n",
       "    <tr style=\"text-align: right;\">\n",
       "      <th></th>\n",
       "      <th>소재지전체주소</th>\n",
       "      <th>위생업태명</th>\n",
       "    </tr>\n",
       "  </thead>\n",
       "  <tbody>\n",
       "    <tr>\n",
       "      <th>178</th>\n",
       "      <td>서울특별시 서대문구 창천동 33-25번지</td>\n",
       "      <td>통닭(치킨)</td>\n",
       "    </tr>\n",
       "    <tr>\n",
       "      <th>698</th>\n",
       "      <td>서울특별시 서대문구 홍제동 459 현대종합상가</td>\n",
       "      <td>호프/통닭</td>\n",
       "    </tr>\n",
       "    <tr>\n",
       "      <th>724</th>\n",
       "      <td>서울특별시 서대문구 남가좌동 347-20번지</td>\n",
       "      <td>호프/통닭</td>\n",
       "    </tr>\n",
       "    <tr>\n",
       "      <th>1200</th>\n",
       "      <td>서울특별시 서대문구 연희동 131-1번지 사러가쇼핑</td>\n",
       "      <td>호프/통닭</td>\n",
       "    </tr>\n",
       "    <tr>\n",
       "      <th>1405</th>\n",
       "      <td>서울특별시 서대문구 창천동 52-14</td>\n",
       "      <td>호프/통닭</td>\n",
       "    </tr>\n",
       "  </tbody>\n",
       "</table>\n",
       "</div>"
      ],
      "text/plain": [
       "                           소재지전체주소   위생업태명\n",
       "178         서울특별시 서대문구 창천동 33-25번지  통닭(치킨)\n",
       "698      서울특별시 서대문구 홍제동 459 현대종합상가   호프/통닭\n",
       "724       서울특별시 서대문구 남가좌동 347-20번지   호프/통닭\n",
       "1200  서울특별시 서대문구 연희동 131-1번지 사러가쇼핑   호프/통닭\n",
       "1405          서울특별시 서대문구 창천동 52-14   호프/통닭"
      ]
     },
     "execution_count": 21,
     "metadata": {},
     "output_type": "execute_result"
    }
   ],
   "source": [
    "# 주소컬럼 이용 서대문구 data만 추출\n",
    "# 주소에 서대문구 문자열이 포함된 행만 추출\n",
    "res = data_fin.소재지전체주소.str.contains('서대문구', na = False)\n",
    "data_seo = data_fin[res]\n",
    "data_seo.head()"
   ]
  },
  {
   "cell_type": "code",
   "execution_count": 22,
   "id": "3b274c20-a300-401c-86b9-1ff8b6eab07a",
   "metadata": {},
   "outputs": [
    {
     "name": "stdout",
     "output_type": "stream",
     "text": [
      "<class 'pandas.core.frame.DataFrame'>\n",
      "Index: 400 entries, 178 to 124130\n",
      "Data columns (total 2 columns):\n",
      " #   Column   Non-Null Count  Dtype \n",
      "---  ------   --------------  ----- \n",
      " 0   소재지전체주소  400 non-null    object\n",
      " 1   위생업태명    400 non-null    object\n",
      "dtypes: object(2)\n",
      "memory usage: 9.4+ KB\n"
     ]
    }
   ],
   "source": [
    "# data_seo df 는 서대문구 치킨집의 주소 정보를 갖고 있는 df\n",
    "data_seo.info()"
   ]
  },
  {
   "cell_type": "markdown",
   "id": "84bc4002-6d50-4c2a-a01a-016baeb5ffdf",
   "metadata": {},
   "source": [
    "### 서대문구 각 동의 치킨집 수를 연산\n",
    "- 동 정보는 주소에 있음(주소는 규칙이 있음)\n",
    "    - 앞 5글자 : 광역시도\n",
    "    - 공백\n",
    "    - 4글자 : 자치구\n",
    "    - 공백\n",
    "    - 동이름\n",
    "- 서대문구 주소는 11 글자를 skip 하면 동정보가 나온다.\n",
    "- 동데이터는 5글자를 추출 후 불필요한 문자는 제거 후 사용(문자열 전처리)\n",
    "- 주소 문자열의 11번 index ~ 16번 index 위치까지 추춣\n",
    "- 문자열 함수 중 slice(start = 시작 index, stop = 끝 index + 1)"
   ]
  },
  {
   "cell_type": "code",
   "execution_count": 23,
   "id": "3c10adaf-7329-4b9d-a925-1dcfaef42de9",
   "metadata": {},
   "outputs": [
    {
     "data": {
      "text/plain": [
       "178       창천동 33\n",
       "698       홍제동 45\n",
       "724       남가좌동 3\n",
       "1200      연희동 13\n",
       "1405      창천동 52\n",
       "           ...  \n",
       "122500    남가좌동 3\n",
       "123490    홍제동 30\n",
       "123548    홍제동 96\n",
       "123724    북아현동 1\n",
       "124130    남가좌동 3\n",
       "Name: 소재지전체주소, Length: 400, dtype: object"
      ]
     },
     "execution_count": 23,
     "metadata": {},
     "output_type": "execute_result"
    }
   ],
   "source": [
    "addr = data_seo.소재지전체주소.str.slice(start = 11, stop = 17)\n",
    "addr"
   ]
  },
  {
   "cell_type": "markdown",
   "id": "9d06ee64-313f-4485-bcb9-6b6e040e64d2",
   "metadata": {},
   "source": [
    "- addr : 서대문구 치킨집의 동정보\n",
    "    - 동명 외에 더 많은 문자가 들어 있으므로 전처리\n",
    "    - 숫자, 공백을 제거해줘야한다. -> 정규식을 활용\n",
    "- 숫자 제거 : 정규식 활용\n",
    "  - 정규식 : 일련의 약속된 연산기호를 이용해서 문자열 안에서 필요한 문자만 추출하는 연산식\n",
    "  - 사용용도 : 형식문자 검증할 때 사용(email, url, 주민등록번호)"
   ]
  },
  {
   "cell_type": "code",
   "execution_count": 24,
   "id": "04ccaa1e-9f0a-44c7-b24a-e5b61d0350ff",
   "metadata": {},
   "outputs": [
    {
     "data": {
      "text/plain": [
       "'창천동'"
      ]
     },
     "execution_count": 24,
     "metadata": {},
     "output_type": "execute_result"
    }
   ],
   "source": [
    "import re # 정규식 패키지\n",
    "# re.sub(정규식, 대체문자, 원문자) : replace 와 같은 역할\n",
    "# 한 개의 원소(문자열 1개)에 대해서만 작업을 한다\n",
    "# 숫자를 의미하는 정규식 : [0-9]+ -> 0 ~ 9 사이의 문자가 1번이상 반복되는 패텀\\\n",
    "# 앞에 r을 붙여서 사용해야한다.\n",
    "re.sub(r'[0-9]+', '', '창천동 52').replace(' ','')"
   ]
  },
  {
   "cell_type": "code",
   "execution_count": 25,
   "id": "39702c1d-3cc4-4e96-ac3c-f81d5deb69d7",
   "metadata": {},
   "outputs": [],
   "source": [
    "# addr 변수에는 서대문구 치킨집 주소에서 동이름만 추출한 data가 저장\n",
    "# 숫자와 공백이 포함되어 있는 data가 있기 떄문에 숫자와 공백을 제거\n",
    "# 시리즈에 저장한다.\n",
    "i = 0\n",
    "addr_fin = pd.Series() # 빈 시리즈 생성\n",
    "for string in addr:\n",
    "    newstring = re.sub(r'[0-9]+','', string).replace(' ', '')\n",
    "    addr_fin[i] = newstring\n",
    "    i += 1"
   ]
  },
  {
   "cell_type": "code",
   "execution_count": 26,
   "id": "4d367826-bdb6-413f-bb8a-05cf28da57f2",
   "metadata": {},
   "outputs": [],
   "source": [
    "# 숫자와 공백이 제거된 서대문구 동 data\n",
    "# 서대문구의 치킨집의 주소 중 동명만 추출한 값을 저장한 변수"
   ]
  },
  {
   "cell_type": "code",
   "execution_count": 27,
   "id": "cc3fcbb9-b64d-4ffd-9f90-e7531f3de99c",
   "metadata": {},
   "outputs": [
    {
     "data": {
      "text/plain": [
       "0       창천동\n",
       "1       홍제동\n",
       "2      남가좌동\n",
       "3       연희동\n",
       "4       창천동\n",
       "       ... \n",
       "395    남가좌동\n",
       "396     홍제동\n",
       "397     홍제동\n",
       "398    북아현동\n",
       "399    남가좌동\n",
       "Length: 400, dtype: object"
      ]
     },
     "execution_count": 27,
     "metadata": {},
     "output_type": "execute_result"
    }
   ],
   "source": [
    "addr_fin"
   ]
  },
  {
   "cell_type": "code",
   "execution_count": 28,
   "id": "d74cb910-5ff7-4d87-89a8-a26718ed2322",
   "metadata": {},
   "outputs": [],
   "source": [
    "# 서대문구 각 동에 치킨집이 몇 개나 있는지를 확인\n",
    "# pd.series.value_counts()"
   ]
  },
  {
   "cell_type": "code",
   "execution_count": 29,
   "id": "a2d0dfce-db3b-4cbb-b689-33b9cdb59efc",
   "metadata": {},
   "outputs": [
    {
     "data": {
      "text/plain": [
       "창천동     87\n",
       "홍제동     48\n",
       "북가좌동    48\n",
       "남가좌동    47\n",
       "연희동     40\n",
       "홍은동     34\n",
       "충정로가    21\n",
       "북아현동    20\n",
       "대현동     15\n",
       "냉천동     10\n",
       "홍은동-     9\n",
       "미근동      6\n",
       "창천동-     4\n",
       "옥천동      2\n",
       "영천동      2\n",
       "천연동      2\n",
       "옥천동번     1\n",
       "대신동      1\n",
       "합동       1\n",
       "합동-      1\n",
       "연희동-     1\n",
       "Name: count, dtype: int64"
      ]
     },
     "execution_count": 29,
     "metadata": {},
     "output_type": "execute_result"
    }
   ],
   "source": [
    "addr_fin.value_counts()"
   ]
  },
  {
   "cell_type": "code",
   "execution_count": 30,
   "id": "435d4d67-89be-465d-8e13-fffde90c9082",
   "metadata": {},
   "outputs": [],
   "source": [
    "addr_fin =  addr_fin.str.replace('-', '').str.replace('옥천동번', '옥천동')"
   ]
  },
  {
   "cell_type": "code",
   "execution_count": 31,
   "id": "152d7bae-eca2-483b-82a6-5ced4f434a3c",
   "metadata": {},
   "outputs": [
    {
     "data": {
      "text/plain": [
       "창천동     91\n",
       "홍제동     48\n",
       "북가좌동    48\n",
       "남가좌동    47\n",
       "홍은동     43\n",
       "연희동     41\n",
       "충정로가    21\n",
       "북아현동    20\n",
       "대현동     15\n",
       "냉천동     10\n",
       "미근동      6\n",
       "옥천동      3\n",
       "영천동      2\n",
       "합동       2\n",
       "천연동      2\n",
       "대신동      1\n",
       "Name: count, dtype: int64"
      ]
     },
     "execution_count": 31,
     "metadata": {},
     "output_type": "execute_result"
    }
   ],
   "source": [
    "ck_cnt = addr_fin.value_counts()\n",
    "ck_cnt"
   ]
  },
  {
   "cell_type": "markdown",
   "id": "93f5b522-648a-4eb0-8ce0-74d4aab86cdf",
   "metadata": {},
   "source": [
    "### tree map 그래프를 활용한 시각화\n",
    "- heatmap 과 바슷한 그래프 : haetmap 이  data의 크기를 색상으로 규정하는 데 반해ㅑ\n",
    "- treemap은 사각형 내부 조각의 크기를 아용해서 data를 표현\n",
    "- python treeamp : squarifty 패키지 사용"
   ]
  },
  {
   "cell_type": "code",
   "execution_count": 32,
   "id": "538fcd43-0ef1-4cdb-be09-4770b5f5fee4",
   "metadata": {},
   "outputs": [],
   "source": [
    "import squarify # 트리맵 작도 패키지"
   ]
  },
  {
   "cell_type": "markdown",
   "id": "90cfd5a0-292d-433f-a38e-c1795644ee53",
   "metadata": {},
   "source": [
    "- squarify.plot(데이터, label =  표시할 라벨 data)"
   ]
  },
  {
   "cell_type": "code",
   "execution_count": 33,
   "id": "7bbf344e-0c58-4e39-af90-40c9247db2ae",
   "metadata": {},
   "outputs": [
    {
     "data": {
      "text/plain": [
       "Index(['창천동', '홍제동', '북가좌동', '남가좌동', '홍은동', '연희동', '충정로가', '북아현동', '대현동',\n",
       "       '냉천동', '미근동', '옥천동', '영천동', '합동', '천연동', '대신동'],\n",
       "      dtype='object')"
      ]
     },
     "execution_count": 33,
     "metadata": {},
     "output_type": "execute_result"
    }
   ],
   "source": [
    "ck_cnt.values\n",
    "ck_cnt.index"
   ]
  },
  {
   "cell_type": "code",
   "execution_count": 34,
   "id": "2468ec46-d1cc-4e92-954f-3ef11b3b7746",
   "metadata": {},
   "outputs": [
    {
     "data": {
      "text/plain": [
       "<Axes: >"
      ]
     },
     "execution_count": 34,
     "metadata": {},
     "output_type": "execute_result"
    },
    {
     "data": {
      "image/png": "[encoded data removed]",
      "text/plain": [
       "<Figure size 640x480 with 1 Axes>"
      ]
     },
     "metadata": {},
     "output_type": "display_data"
    }
   ],
   "source": [
    "squarify.plot(ck_cnt, label = ck_cnt.index)"
   ]
  },
  {
   "cell_type": "markdown",
   "id": "1b9c3644-2dc8-438d-af85-05d1626d0e42",
   "metadata": {},
   "source": [
    "### 연습\n",
    "- 정상영업/폐업 상관없이 현 시점(파일기준) 치킨집의 인허가 분포도(25개 자치구별)\n",
    "    - 동x\n",
    "- 영업상태가 폐업인 업장의 자치구별 분포도(업종 일반음식점인 업장)\n",
    "    - 폐업이 얼마나 되는지\n",
    "- 강남구의 읍면동별 중국집 분포도(전체인허가/정상영업/폐업 각각에 대해 시각화)\n",
    "    - 치킨집 -> 중국집\n",
    "    - 서대문구 -> 강남구 "
   ]
  },
  {
   "cell_type": "code",
   "execution_count": null,
   "id": "4927be43-41e1-4390-90be-b44ae4a69241",
   "metadata": {},
   "outputs": [],
   "source": []
  },
  {
   "cell_type": "code",
   "execution_count": null,
   "id": "8198e85c-c366-4b5e-8809-1bb8ade507ab",
   "metadata": {},
   "outputs": [],
   "source": []
  },
  {
   "cell_type": "code",
   "execution_count": null,
   "id": "5700646e-89e4-4228-a240-cd1885fedb32",
   "metadata": {},
   "outputs": [],
   "source": []
  },
  {
   "cell_type": "code",
   "execution_count": null,
   "id": "19952412-57f9-4294-9d4b-4998822ba6f5",
   "metadata": {},
   "outputs": [],
   "source": []
  },
  {
   "cell_type": "code",
   "execution_count": null,
   "id": "dfc62681-5b05-4b74-ac4d-e92ef3306723",
   "metadata": {},
   "outputs": [],
   "source": []
  }
 ],
 "metadata": {
  "kernelspec": {
   "display_name": "Python 3 (ipykernel)",
   "language": "python",
   "name": "python3"
  },
  "language_info": {
   "codemirror_mode": {
    "name": "ipython",
    "version": 3
   },
   "file_extension": ".py",
   "mimetype": "text/x-python",
   "name": "python",
   "nbconvert_exporter": "python",
   "pygments_lexer": "ipython3",
   "version": "3.10.10"
  }
 },
 "nbformat": 4,
 "nbformat_minor": 5
}
